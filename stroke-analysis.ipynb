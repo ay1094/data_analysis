{
 "cells": [
  {
   "cell_type": "code",
   "execution_count": 1,
   "id": "distant-conservative",
   "metadata": {
    "_cell_guid": "b1076dfc-b9ad-4769-8c92-a6c4dae69d19",
    "_uuid": "8f2839f25d086af736a60e9eeb907d3b93b6e0e5",
    "execution": {
     "iopub.execute_input": "2022-06-07T22:22:44.708352Z",
     "iopub.status.busy": "2022-06-07T22:22:44.706556Z",
     "iopub.status.idle": "2022-06-07T22:22:45.584208Z",
     "shell.execute_reply": "2022-06-07T22:22:45.584933Z",
     "shell.execute_reply.started": "2022-04-12T00:10:31.490537Z"
    },
    "papermill": {
     "duration": 0.916185,
     "end_time": "2022-06-07T22:22:45.585341",
     "exception": false,
     "start_time": "2022-06-07T22:22:44.669156",
     "status": "completed"
    },
    "tags": []
   },
   "outputs": [
    {
     "name": "stdout",
     "output_type": "stream",
     "text": [
      "/kaggle/input/stroke-prediction-dataset/healthcare-dataset-stroke-data.csv\n"
     ]
    }
   ],
   "source": [
    "# This Python 3 environment comes with many helpful analytics libraries installed\n",
    "# It is defined by the kaggle/python Docker image: https://github.com/kaggle/docker-python\n",
    "# For example, here's several helpful packages to load\n",
    "\n",
    "import numpy as np # linear algebra\n",
    "import pandas as pd # data processing, CSV file I/O (e.g. pd.read_csv)\n",
    "import seaborn as sns\n",
    "import matplotlib.pyplot as plt\n",
    "import warnings\n",
    "warnings.filterwarnings(\"ignore\")\n",
    "\n",
    "# Input data files are available in the read-only \"../input/\" directory\n",
    "# For example, running this (by clicking run or pressing Shift+Enter) will list all files under the input directory\n",
    "\n",
    "import os\n",
    "for dirname, _, filenames in os.walk('/kaggle/input'):\n",
    "    for filename in filenames:\n",
    "        print(os.path.join(dirname, filename))\n",
    "\n",
    "# You can write up to 20GB to the current directory (/kaggle/working/) that gets preserved as output when you create a version using \"Save & Run All\" \n",
    "# You can also write temporary files to /kaggle/temp/, but they won't be saved outside of the current session"
   ]
  },
  {
   "cell_type": "code",
   "execution_count": 2,
   "id": "toxic-value",
   "metadata": {
    "execution": {
     "iopub.execute_input": "2022-06-07T22:22:45.653201Z",
     "iopub.status.busy": "2022-06-07T22:22:45.652213Z",
     "iopub.status.idle": "2022-06-07T22:22:45.682664Z",
     "shell.execute_reply": "2022-06-07T22:22:45.683179Z",
     "shell.execute_reply.started": "2022-04-12T00:10:32.488094Z"
    },
    "papermill": {
     "duration": 0.065463,
     "end_time": "2022-06-07T22:22:45.683371",
     "exception": false,
     "start_time": "2022-06-07T22:22:45.617908",
     "status": "completed"
    },
    "tags": []
   },
   "outputs": [],
   "source": [
    "df=pd.read_csv(\"../input/stroke-prediction-dataset/healthcare-dataset-stroke-data.csv\")\n"
   ]
  },
  {
   "cell_type": "markdown",
   "id": "informal-filing",
   "metadata": {
    "papermill": {
     "duration": 0.032971,
     "end_time": "2022-06-07T22:22:45.749382",
     "exception": false,
     "start_time": "2022-06-07T22:22:45.716411",
     "status": "completed"
    },
    "tags": []
   },
   "source": [
    "## Columns\n",
    "<code style=\"fontsize:1\">id</code> unique identifier<br><br>\n",
    "<code style=\"fontsize:1\">gender</code> \"Male\", \"Female\" or \"Other\"  <br><br>\n",
    "<code style=\"fontsize:1\">age</code> age of the patient<br><br>\n",
    "<code style=\"fontsize:1\">hypertension</code> 0 if the patient doesn't have hypertension, 1 if the patient has hypertension<br>\n",
    "&nbsp;&nbsp;&nbsp;&nbsp;&nbsp;&nbsp;<font size=\"1\">high blood pressure</font><br><br>\n",
    "<code style=\"fontsize:1\">heart disease</code>: 0 if the patient doesn't have any heart diseases, 1 if the patient has a heart disease<br><br>\n",
    "<code style=\"fontsize:1\">ever_married</code> \"No\" or \"Yes\"<br><br>\n",
    "<code style=\"fontsize:1\">work_type</code> \"children\", \"Govt_jov\", \"Never_worked\", \"Private\" or \"Self-employed\"<br><br>\n",
    "<code style=\"fontsize:1\">Residence_type</code> \"Rural\" or \"Urban\"<br><br>\n",
    "<code style=\"fontsize:1\">avg_glucose_level</code> average glucose level in blood<br><br>\n",
    "<code style=\"fontsize:1\">bmi</code>: body mass index<br>\n",
    "&nbsp;&nbsp;&nbsp;&nbsp;&nbsp;&nbsp;<font size=\"1\">body mass/(body height)^2</font><br><br>\n",
    "<code style=\"fontsize:1\">smoking_status</code> \"formerly smoked\", \"never smoked\", \"smokes\" or \"Unknown\"<br><br>\n",
    "<code style=\"fontsize:1\">stroke</code> 1 if the patient had a stroke or 0 if not<br><br>"
   ]
  },
  {
   "cell_type": "code",
   "execution_count": 3,
   "id": "qualified-humor",
   "metadata": {
    "execution": {
     "iopub.execute_input": "2022-06-07T22:22:45.819352Z",
     "iopub.status.busy": "2022-06-07T22:22:45.818347Z",
     "iopub.status.idle": "2022-06-07T22:22:45.853378Z",
     "shell.execute_reply": "2022-06-07T22:22:45.854118Z",
     "shell.execute_reply.started": "2022-04-12T00:10:32.521783Z"
    },
    "papermill": {
     "duration": 0.07192,
     "end_time": "2022-06-07T22:22:45.854327",
     "exception": false,
     "start_time": "2022-06-07T22:22:45.782407",
     "status": "completed"
    },
    "tags": []
   },
   "outputs": [
    {
     "data": {
      "text/html": [
       "<div>\n",
       "<style scoped>\n",
       "    .dataframe tbody tr th:only-of-type {\n",
       "        vertical-align: middle;\n",
       "    }\n",
       "\n",
       "    .dataframe tbody tr th {\n",
       "        vertical-align: top;\n",
       "    }\n",
       "\n",
       "    .dataframe thead th {\n",
       "        text-align: right;\n",
       "    }\n",
       "</style>\n",
       "<table border=\"1\" class=\"dataframe\">\n",
       "  <thead>\n",
       "    <tr style=\"text-align: right;\">\n",
       "      <th></th>\n",
       "      <th>id</th>\n",
       "      <th>gender</th>\n",
       "      <th>age</th>\n",
       "      <th>hypertension</th>\n",
       "      <th>heart_disease</th>\n",
       "      <th>ever_married</th>\n",
       "      <th>work_type</th>\n",
       "      <th>Residence_type</th>\n",
       "      <th>avg_glucose_level</th>\n",
       "      <th>bmi</th>\n",
       "      <th>smoking_status</th>\n",
       "      <th>stroke</th>\n",
       "    </tr>\n",
       "  </thead>\n",
       "  <tbody>\n",
       "    <tr>\n",
       "      <th>0</th>\n",
       "      <td>9046</td>\n",
       "      <td>Male</td>\n",
       "      <td>67.0</td>\n",
       "      <td>0</td>\n",
       "      <td>1</td>\n",
       "      <td>Yes</td>\n",
       "      <td>Private</td>\n",
       "      <td>Urban</td>\n",
       "      <td>228.69</td>\n",
       "      <td>36.6</td>\n",
       "      <td>formerly smoked</td>\n",
       "      <td>1</td>\n",
       "    </tr>\n",
       "    <tr>\n",
       "      <th>1</th>\n",
       "      <td>51676</td>\n",
       "      <td>Female</td>\n",
       "      <td>61.0</td>\n",
       "      <td>0</td>\n",
       "      <td>0</td>\n",
       "      <td>Yes</td>\n",
       "      <td>Self-employed</td>\n",
       "      <td>Rural</td>\n",
       "      <td>202.21</td>\n",
       "      <td>NaN</td>\n",
       "      <td>never smoked</td>\n",
       "      <td>1</td>\n",
       "    </tr>\n",
       "    <tr>\n",
       "      <th>2</th>\n",
       "      <td>31112</td>\n",
       "      <td>Male</td>\n",
       "      <td>80.0</td>\n",
       "      <td>0</td>\n",
       "      <td>1</td>\n",
       "      <td>Yes</td>\n",
       "      <td>Private</td>\n",
       "      <td>Rural</td>\n",
       "      <td>105.92</td>\n",
       "      <td>32.5</td>\n",
       "      <td>never smoked</td>\n",
       "      <td>1</td>\n",
       "    </tr>\n",
       "    <tr>\n",
       "      <th>3</th>\n",
       "      <td>60182</td>\n",
       "      <td>Female</td>\n",
       "      <td>49.0</td>\n",
       "      <td>0</td>\n",
       "      <td>0</td>\n",
       "      <td>Yes</td>\n",
       "      <td>Private</td>\n",
       "      <td>Urban</td>\n",
       "      <td>171.23</td>\n",
       "      <td>34.4</td>\n",
       "      <td>smokes</td>\n",
       "      <td>1</td>\n",
       "    </tr>\n",
       "    <tr>\n",
       "      <th>4</th>\n",
       "      <td>1665</td>\n",
       "      <td>Female</td>\n",
       "      <td>79.0</td>\n",
       "      <td>1</td>\n",
       "      <td>0</td>\n",
       "      <td>Yes</td>\n",
       "      <td>Self-employed</td>\n",
       "      <td>Rural</td>\n",
       "      <td>174.12</td>\n",
       "      <td>24.0</td>\n",
       "      <td>never smoked</td>\n",
       "      <td>1</td>\n",
       "    </tr>\n",
       "  </tbody>\n",
       "</table>\n",
       "</div>"
      ],
      "text/plain": [
       "      id  gender   age  hypertension  heart_disease ever_married  \\\n",
       "0   9046    Male  67.0             0              1          Yes   \n",
       "1  51676  Female  61.0             0              0          Yes   \n",
       "2  31112    Male  80.0             0              1          Yes   \n",
       "3  60182  Female  49.0             0              0          Yes   \n",
       "4   1665  Female  79.0             1              0          Yes   \n",
       "\n",
       "       work_type Residence_type  avg_glucose_level   bmi   smoking_status  \\\n",
       "0        Private          Urban             228.69  36.6  formerly smoked   \n",
       "1  Self-employed          Rural             202.21   NaN     never smoked   \n",
       "2        Private          Rural             105.92  32.5     never smoked   \n",
       "3        Private          Urban             171.23  34.4           smokes   \n",
       "4  Self-employed          Rural             174.12  24.0     never smoked   \n",
       "\n",
       "   stroke  \n",
       "0       1  \n",
       "1       1  \n",
       "2       1  \n",
       "3       1  \n",
       "4       1  "
      ]
     },
     "execution_count": 3,
     "metadata": {},
     "output_type": "execute_result"
    }
   ],
   "source": [
    "df.head()"
   ]
  },
  {
   "cell_type": "code",
   "execution_count": 4,
   "id": "domestic-tampa",
   "metadata": {
    "execution": {
     "iopub.execute_input": "2022-06-07T22:22:45.923694Z",
     "iopub.status.busy": "2022-06-07T22:22:45.923006Z",
     "iopub.status.idle": "2022-06-07T22:22:45.962971Z",
     "shell.execute_reply": "2022-06-07T22:22:45.962413Z",
     "shell.execute_reply.started": "2022-04-12T00:10:32.5598Z"
    },
    "papermill": {
     "duration": 0.075395,
     "end_time": "2022-06-07T22:22:45.963121",
     "exception": false,
     "start_time": "2022-06-07T22:22:45.887726",
     "status": "completed"
    },
    "tags": []
   },
   "outputs": [
    {
     "data": {
      "text/html": [
       "<div>\n",
       "<style scoped>\n",
       "    .dataframe tbody tr th:only-of-type {\n",
       "        vertical-align: middle;\n",
       "    }\n",
       "\n",
       "    .dataframe tbody tr th {\n",
       "        vertical-align: top;\n",
       "    }\n",
       "\n",
       "    .dataframe thead th {\n",
       "        text-align: right;\n",
       "    }\n",
       "</style>\n",
       "<table border=\"1\" class=\"dataframe\">\n",
       "  <thead>\n",
       "    <tr style=\"text-align: right;\">\n",
       "      <th></th>\n",
       "      <th>id</th>\n",
       "      <th>age</th>\n",
       "      <th>hypertension</th>\n",
       "      <th>heart_disease</th>\n",
       "      <th>avg_glucose_level</th>\n",
       "      <th>bmi</th>\n",
       "      <th>stroke</th>\n",
       "    </tr>\n",
       "  </thead>\n",
       "  <tbody>\n",
       "    <tr>\n",
       "      <th>count</th>\n",
       "      <td>5110.000000</td>\n",
       "      <td>5110.000000</td>\n",
       "      <td>5110.000000</td>\n",
       "      <td>5110.000000</td>\n",
       "      <td>5110.000000</td>\n",
       "      <td>4909.000000</td>\n",
       "      <td>5110.000000</td>\n",
       "    </tr>\n",
       "    <tr>\n",
       "      <th>mean</th>\n",
       "      <td>36517.829354</td>\n",
       "      <td>43.226614</td>\n",
       "      <td>0.097456</td>\n",
       "      <td>0.054012</td>\n",
       "      <td>106.147677</td>\n",
       "      <td>28.893237</td>\n",
       "      <td>0.048728</td>\n",
       "    </tr>\n",
       "    <tr>\n",
       "      <th>std</th>\n",
       "      <td>21161.721625</td>\n",
       "      <td>22.612647</td>\n",
       "      <td>0.296607</td>\n",
       "      <td>0.226063</td>\n",
       "      <td>45.283560</td>\n",
       "      <td>7.854067</td>\n",
       "      <td>0.215320</td>\n",
       "    </tr>\n",
       "    <tr>\n",
       "      <th>min</th>\n",
       "      <td>67.000000</td>\n",
       "      <td>0.080000</td>\n",
       "      <td>0.000000</td>\n",
       "      <td>0.000000</td>\n",
       "      <td>55.120000</td>\n",
       "      <td>10.300000</td>\n",
       "      <td>0.000000</td>\n",
       "    </tr>\n",
       "    <tr>\n",
       "      <th>25%</th>\n",
       "      <td>17741.250000</td>\n",
       "      <td>25.000000</td>\n",
       "      <td>0.000000</td>\n",
       "      <td>0.000000</td>\n",
       "      <td>77.245000</td>\n",
       "      <td>23.500000</td>\n",
       "      <td>0.000000</td>\n",
       "    </tr>\n",
       "    <tr>\n",
       "      <th>50%</th>\n",
       "      <td>36932.000000</td>\n",
       "      <td>45.000000</td>\n",
       "      <td>0.000000</td>\n",
       "      <td>0.000000</td>\n",
       "      <td>91.885000</td>\n",
       "      <td>28.100000</td>\n",
       "      <td>0.000000</td>\n",
       "    </tr>\n",
       "    <tr>\n",
       "      <th>75%</th>\n",
       "      <td>54682.000000</td>\n",
       "      <td>61.000000</td>\n",
       "      <td>0.000000</td>\n",
       "      <td>0.000000</td>\n",
       "      <td>114.090000</td>\n",
       "      <td>33.100000</td>\n",
       "      <td>0.000000</td>\n",
       "    </tr>\n",
       "    <tr>\n",
       "      <th>max</th>\n",
       "      <td>72940.000000</td>\n",
       "      <td>82.000000</td>\n",
       "      <td>1.000000</td>\n",
       "      <td>1.000000</td>\n",
       "      <td>271.740000</td>\n",
       "      <td>97.600000</td>\n",
       "      <td>1.000000</td>\n",
       "    </tr>\n",
       "  </tbody>\n",
       "</table>\n",
       "</div>"
      ],
      "text/plain": [
       "                 id          age  hypertension  heart_disease  \\\n",
       "count   5110.000000  5110.000000   5110.000000    5110.000000   \n",
       "mean   36517.829354    43.226614      0.097456       0.054012   \n",
       "std    21161.721625    22.612647      0.296607       0.226063   \n",
       "min       67.000000     0.080000      0.000000       0.000000   \n",
       "25%    17741.250000    25.000000      0.000000       0.000000   \n",
       "50%    36932.000000    45.000000      0.000000       0.000000   \n",
       "75%    54682.000000    61.000000      0.000000       0.000000   \n",
       "max    72940.000000    82.000000      1.000000       1.000000   \n",
       "\n",
       "       avg_glucose_level          bmi       stroke  \n",
       "count        5110.000000  4909.000000  5110.000000  \n",
       "mean          106.147677    28.893237     0.048728  \n",
       "std            45.283560     7.854067     0.215320  \n",
       "min            55.120000    10.300000     0.000000  \n",
       "25%            77.245000    23.500000     0.000000  \n",
       "50%            91.885000    28.100000     0.000000  \n",
       "75%           114.090000    33.100000     0.000000  \n",
       "max           271.740000    97.600000     1.000000  "
      ]
     },
     "execution_count": 4,
     "metadata": {},
     "output_type": "execute_result"
    }
   ],
   "source": [
    "df.describe()"
   ]
  },
  {
   "cell_type": "markdown",
   "id": "younger-stanford",
   "metadata": {
    "papermill": {
     "duration": 0.033396,
     "end_time": "2022-06-07T22:22:46.029396",
     "exception": false,
     "start_time": "2022-06-07T22:22:45.996000",
     "status": "completed"
    },
    "tags": []
   },
   "source": [
    "Notes:\n",
    "1. There are 5110 people in this dataset\n",
    "2. Age variable is not an integer (should not be a problem)\n",
    "3. There are people in the dataset who are 0-1 years of age.\n",
    "    average age is 43 and standard deviation of age is 22. The age range is spread widely in this dataset \n",
    "4. BMI has some nan values. \n",
    "5. 4.87% of the respondents in the dataset have had a stroke (249 people)\n",
    "    A model that predicts 0 for stroke all the time will have 95% accuracy on this datset"
   ]
  },
  {
   "cell_type": "code",
   "execution_count": 5,
   "id": "emotional-utility",
   "metadata": {
    "execution": {
     "iopub.execute_input": "2022-06-07T22:22:46.103985Z",
     "iopub.status.busy": "2022-06-07T22:22:46.103243Z",
     "iopub.status.idle": "2022-06-07T22:22:46.109017Z",
     "shell.execute_reply": "2022-06-07T22:22:46.109608Z",
     "shell.execute_reply.started": "2022-04-12T00:10:32.604303Z"
    },
    "papermill": {
     "duration": 0.047343,
     "end_time": "2022-06-07T22:22:46.109783",
     "exception": false,
     "start_time": "2022-06-07T22:22:46.062440",
     "status": "completed"
    },
    "tags": []
   },
   "outputs": [
    {
     "data": {
      "text/plain": [
       "id                     0\n",
       "gender                 0\n",
       "age                    0\n",
       "hypertension           0\n",
       "heart_disease          0\n",
       "ever_married           0\n",
       "work_type              0\n",
       "Residence_type         0\n",
       "avg_glucose_level      0\n",
       "bmi                  201\n",
       "smoking_status         0\n",
       "stroke                 0\n",
       "dtype: int64"
      ]
     },
     "execution_count": 5,
     "metadata": {},
     "output_type": "execute_result"
    }
   ],
   "source": [
    "df.isnull().sum()"
   ]
  },
  {
   "cell_type": "markdown",
   "id": "special-pleasure",
   "metadata": {
    "papermill": {
     "duration": 0.033809,
     "end_time": "2022-06-07T22:22:46.176225",
     "exception": false,
     "start_time": "2022-06-07T22:22:46.142416",
     "status": "completed"
    },
    "tags": []
   },
   "source": [
    "Viewing data about stroke patients"
   ]
  },
  {
   "cell_type": "code",
   "execution_count": 6,
   "id": "purple-tumor",
   "metadata": {
    "execution": {
     "iopub.execute_input": "2022-06-07T22:22:46.246008Z",
     "iopub.status.busy": "2022-06-07T22:22:46.245361Z",
     "iopub.status.idle": "2022-06-07T22:22:46.296143Z",
     "shell.execute_reply": "2022-06-07T22:22:46.296649Z",
     "shell.execute_reply.started": "2022-04-12T00:10:32.619095Z"
    },
    "papermill": {
     "duration": 0.087075,
     "end_time": "2022-06-07T22:22:46.296836",
     "exception": false,
     "start_time": "2022-06-07T22:22:46.209761",
     "status": "completed"
    },
    "tags": []
   },
   "outputs": [
    {
     "data": {
      "text/html": [
       "<div>\n",
       "<style scoped>\n",
       "    .dataframe tbody tr th:only-of-type {\n",
       "        vertical-align: middle;\n",
       "    }\n",
       "\n",
       "    .dataframe tbody tr th {\n",
       "        vertical-align: top;\n",
       "    }\n",
       "\n",
       "    .dataframe thead th {\n",
       "        text-align: right;\n",
       "    }\n",
       "</style>\n",
       "<table border=\"1\" class=\"dataframe\">\n",
       "  <thead>\n",
       "    <tr style=\"text-align: right;\">\n",
       "      <th></th>\n",
       "      <th>id</th>\n",
       "      <th>age</th>\n",
       "      <th>hypertension</th>\n",
       "      <th>heart_disease</th>\n",
       "      <th>avg_glucose_level</th>\n",
       "      <th>bmi</th>\n",
       "      <th>stroke</th>\n",
       "    </tr>\n",
       "  </thead>\n",
       "  <tbody>\n",
       "    <tr>\n",
       "      <th>count</th>\n",
       "      <td>249.000000</td>\n",
       "      <td>249.000000</td>\n",
       "      <td>249.000000</td>\n",
       "      <td>249.000000</td>\n",
       "      <td>249.000000</td>\n",
       "      <td>209.000000</td>\n",
       "      <td>249.0</td>\n",
       "    </tr>\n",
       "    <tr>\n",
       "      <th>mean</th>\n",
       "      <td>37115.068273</td>\n",
       "      <td>67.728193</td>\n",
       "      <td>0.265060</td>\n",
       "      <td>0.188755</td>\n",
       "      <td>132.544739</td>\n",
       "      <td>30.471292</td>\n",
       "      <td>1.0</td>\n",
       "    </tr>\n",
       "    <tr>\n",
       "      <th>std</th>\n",
       "      <td>21993.344872</td>\n",
       "      <td>12.727419</td>\n",
       "      <td>0.442254</td>\n",
       "      <td>0.392102</td>\n",
       "      <td>61.921056</td>\n",
       "      <td>6.329452</td>\n",
       "      <td>0.0</td>\n",
       "    </tr>\n",
       "    <tr>\n",
       "      <th>min</th>\n",
       "      <td>210.000000</td>\n",
       "      <td>1.320000</td>\n",
       "      <td>0.000000</td>\n",
       "      <td>0.000000</td>\n",
       "      <td>56.110000</td>\n",
       "      <td>16.900000</td>\n",
       "      <td>1.0</td>\n",
       "    </tr>\n",
       "    <tr>\n",
       "      <th>25%</th>\n",
       "      <td>17013.000000</td>\n",
       "      <td>59.000000</td>\n",
       "      <td>0.000000</td>\n",
       "      <td>0.000000</td>\n",
       "      <td>79.790000</td>\n",
       "      <td>26.400000</td>\n",
       "      <td>1.0</td>\n",
       "    </tr>\n",
       "    <tr>\n",
       "      <th>50%</th>\n",
       "      <td>36706.000000</td>\n",
       "      <td>71.000000</td>\n",
       "      <td>0.000000</td>\n",
       "      <td>0.000000</td>\n",
       "      <td>105.220000</td>\n",
       "      <td>29.700000</td>\n",
       "      <td>1.0</td>\n",
       "    </tr>\n",
       "    <tr>\n",
       "      <th>75%</th>\n",
       "      <td>56669.000000</td>\n",
       "      <td>78.000000</td>\n",
       "      <td>1.000000</td>\n",
       "      <td>0.000000</td>\n",
       "      <td>196.710000</td>\n",
       "      <td>33.700000</td>\n",
       "      <td>1.0</td>\n",
       "    </tr>\n",
       "    <tr>\n",
       "      <th>max</th>\n",
       "      <td>72918.000000</td>\n",
       "      <td>82.000000</td>\n",
       "      <td>1.000000</td>\n",
       "      <td>1.000000</td>\n",
       "      <td>271.740000</td>\n",
       "      <td>56.600000</td>\n",
       "      <td>1.0</td>\n",
       "    </tr>\n",
       "  </tbody>\n",
       "</table>\n",
       "</div>"
      ],
      "text/plain": [
       "                 id         age  hypertension  heart_disease  \\\n",
       "count    249.000000  249.000000    249.000000     249.000000   \n",
       "mean   37115.068273   67.728193      0.265060       0.188755   \n",
       "std    21993.344872   12.727419      0.442254       0.392102   \n",
       "min      210.000000    1.320000      0.000000       0.000000   \n",
       "25%    17013.000000   59.000000      0.000000       0.000000   \n",
       "50%    36706.000000   71.000000      0.000000       0.000000   \n",
       "75%    56669.000000   78.000000      1.000000       0.000000   \n",
       "max    72918.000000   82.000000      1.000000       1.000000   \n",
       "\n",
       "       avg_glucose_level         bmi  stroke  \n",
       "count         249.000000  209.000000   249.0  \n",
       "mean          132.544739   30.471292     1.0  \n",
       "std            61.921056    6.329452     0.0  \n",
       "min            56.110000   16.900000     1.0  \n",
       "25%            79.790000   26.400000     1.0  \n",
       "50%           105.220000   29.700000     1.0  \n",
       "75%           196.710000   33.700000     1.0  \n",
       "max           271.740000   56.600000     1.0  "
      ]
     },
     "execution_count": 6,
     "metadata": {},
     "output_type": "execute_result"
    }
   ],
   "source": [
    "df[df['stroke']==1].describe()"
   ]
  },
  {
   "cell_type": "markdown",
   "id": "complex-insider",
   "metadata": {
    "papermill": {
     "duration": 0.032944,
     "end_time": "2022-06-07T22:22:46.362908",
     "exception": false,
     "start_time": "2022-06-07T22:22:46.329964",
     "status": "completed"
    },
    "tags": []
   },
   "source": [
    "Viewing data from non-stroke patients"
   ]
  },
  {
   "cell_type": "code",
   "execution_count": 7,
   "id": "actual-remark",
   "metadata": {
    "execution": {
     "iopub.execute_input": "2022-06-07T22:22:46.435673Z",
     "iopub.status.busy": "2022-06-07T22:22:46.434661Z",
     "iopub.status.idle": "2022-06-07T22:22:46.468749Z",
     "shell.execute_reply": "2022-06-07T22:22:46.469202Z",
     "shell.execute_reply.started": "2022-04-12T00:10:32.682571Z"
    },
    "papermill": {
     "duration": 0.0733,
     "end_time": "2022-06-07T22:22:46.469379",
     "exception": false,
     "start_time": "2022-06-07T22:22:46.396079",
     "status": "completed"
    },
    "tags": []
   },
   "outputs": [
    {
     "data": {
      "text/html": [
       "<div>\n",
       "<style scoped>\n",
       "    .dataframe tbody tr th:only-of-type {\n",
       "        vertical-align: middle;\n",
       "    }\n",
       "\n",
       "    .dataframe tbody tr th {\n",
       "        vertical-align: top;\n",
       "    }\n",
       "\n",
       "    .dataframe thead th {\n",
       "        text-align: right;\n",
       "    }\n",
       "</style>\n",
       "<table border=\"1\" class=\"dataframe\">\n",
       "  <thead>\n",
       "    <tr style=\"text-align: right;\">\n",
       "      <th></th>\n",
       "      <th>id</th>\n",
       "      <th>age</th>\n",
       "      <th>hypertension</th>\n",
       "      <th>heart_disease</th>\n",
       "      <th>avg_glucose_level</th>\n",
       "      <th>bmi</th>\n",
       "      <th>stroke</th>\n",
       "    </tr>\n",
       "  </thead>\n",
       "  <tbody>\n",
       "    <tr>\n",
       "      <th>count</th>\n",
       "      <td>4861.000000</td>\n",
       "      <td>4861.000000</td>\n",
       "      <td>4861.000000</td>\n",
       "      <td>4861.000000</td>\n",
       "      <td>4861.000000</td>\n",
       "      <td>4700.000000</td>\n",
       "      <td>4861.0</td>\n",
       "    </tr>\n",
       "    <tr>\n",
       "      <th>mean</th>\n",
       "      <td>36487.236371</td>\n",
       "      <td>41.971545</td>\n",
       "      <td>0.088871</td>\n",
       "      <td>0.047110</td>\n",
       "      <td>104.795513</td>\n",
       "      <td>28.823064</td>\n",
       "      <td>0.0</td>\n",
       "    </tr>\n",
       "    <tr>\n",
       "      <th>std</th>\n",
       "      <td>21120.133386</td>\n",
       "      <td>22.291940</td>\n",
       "      <td>0.284586</td>\n",
       "      <td>0.211895</td>\n",
       "      <td>43.846069</td>\n",
       "      <td>7.908287</td>\n",
       "      <td>0.0</td>\n",
       "    </tr>\n",
       "    <tr>\n",
       "      <th>min</th>\n",
       "      <td>67.000000</td>\n",
       "      <td>0.080000</td>\n",
       "      <td>0.000000</td>\n",
       "      <td>0.000000</td>\n",
       "      <td>55.120000</td>\n",
       "      <td>10.300000</td>\n",
       "      <td>0.0</td>\n",
       "    </tr>\n",
       "    <tr>\n",
       "      <th>25%</th>\n",
       "      <td>17762.000000</td>\n",
       "      <td>24.000000</td>\n",
       "      <td>0.000000</td>\n",
       "      <td>0.000000</td>\n",
       "      <td>77.120000</td>\n",
       "      <td>23.400000</td>\n",
       "      <td>0.0</td>\n",
       "    </tr>\n",
       "    <tr>\n",
       "      <th>50%</th>\n",
       "      <td>36958.000000</td>\n",
       "      <td>43.000000</td>\n",
       "      <td>0.000000</td>\n",
       "      <td>0.000000</td>\n",
       "      <td>91.470000</td>\n",
       "      <td>28.000000</td>\n",
       "      <td>0.0</td>\n",
       "    </tr>\n",
       "    <tr>\n",
       "      <th>75%</th>\n",
       "      <td>54497.000000</td>\n",
       "      <td>59.000000</td>\n",
       "      <td>0.000000</td>\n",
       "      <td>0.000000</td>\n",
       "      <td>112.830000</td>\n",
       "      <td>33.100000</td>\n",
       "      <td>0.0</td>\n",
       "    </tr>\n",
       "    <tr>\n",
       "      <th>max</th>\n",
       "      <td>72940.000000</td>\n",
       "      <td>82.000000</td>\n",
       "      <td>1.000000</td>\n",
       "      <td>1.000000</td>\n",
       "      <td>267.760000</td>\n",
       "      <td>97.600000</td>\n",
       "      <td>0.0</td>\n",
       "    </tr>\n",
       "  </tbody>\n",
       "</table>\n",
       "</div>"
      ],
      "text/plain": [
       "                 id          age  hypertension  heart_disease  \\\n",
       "count   4861.000000  4861.000000   4861.000000    4861.000000   \n",
       "mean   36487.236371    41.971545      0.088871       0.047110   \n",
       "std    21120.133386    22.291940      0.284586       0.211895   \n",
       "min       67.000000     0.080000      0.000000       0.000000   \n",
       "25%    17762.000000    24.000000      0.000000       0.000000   \n",
       "50%    36958.000000    43.000000      0.000000       0.000000   \n",
       "75%    54497.000000    59.000000      0.000000       0.000000   \n",
       "max    72940.000000    82.000000      1.000000       1.000000   \n",
       "\n",
       "       avg_glucose_level          bmi  stroke  \n",
       "count        4861.000000  4700.000000  4861.0  \n",
       "mean          104.795513    28.823064     0.0  \n",
       "std            43.846069     7.908287     0.0  \n",
       "min            55.120000    10.300000     0.0  \n",
       "25%            77.120000    23.400000     0.0  \n",
       "50%            91.470000    28.000000     0.0  \n",
       "75%           112.830000    33.100000     0.0  \n",
       "max           267.760000    97.600000     0.0  "
      ]
     },
     "execution_count": 7,
     "metadata": {},
     "output_type": "execute_result"
    }
   ],
   "source": [
    "df[df['stroke']==0].describe()"
   ]
  },
  {
   "cell_type": "markdown",
   "id": "acquired-aircraft",
   "metadata": {
    "papermill": {
     "duration": 0.033362,
     "end_time": "2022-06-07T22:22:46.536232",
     "exception": false,
     "start_time": "2022-06-07T22:22:46.502870",
     "status": "completed"
    },
    "tags": []
   },
   "source": [
    "Notes:\n",
    "1. Average age for stroke is significantly higher than average age in the dataset.\n",
    "    67 versus 43\n",
    "2. There is a 1 year old who has had a stroke.\n",
    "3. 26.5% of people who had a stroke have hypertension.\n",
    "4. 8.8% of people who have not had a stroke have hypertension.\n",
    "5. Stroke chances appear to increase with older individuals and individuals with hypertension.\n",
    "6. The same can be said for heart disease (4.7% for no stroke, 18.8% for stroke)"
   ]
  },
  {
   "cell_type": "markdown",
   "id": "severe-might",
   "metadata": {
    "papermill": {
     "duration": 0.033313,
     "end_time": "2022-06-07T22:22:46.603290",
     "exception": false,
     "start_time": "2022-06-07T22:22:46.569977",
     "status": "completed"
    },
    "tags": []
   },
   "source": [
    "Fill all the bmi NaN values with the average bmi grouped by stroke. This choice was made after viewing means and standard deviations in stroke groups. We could also have done this by median."
   ]
  },
  {
   "cell_type": "code",
   "execution_count": 8,
   "id": "selected-serial",
   "metadata": {
    "execution": {
     "iopub.execute_input": "2022-06-07T22:22:46.674314Z",
     "iopub.status.busy": "2022-06-07T22:22:46.673354Z",
     "iopub.status.idle": "2022-06-07T22:22:46.802355Z",
     "shell.execute_reply": "2022-06-07T22:22:46.801742Z",
     "shell.execute_reply.started": "2022-04-12T00:10:32.721676Z"
    },
    "papermill": {
     "duration": 0.165689,
     "end_time": "2022-06-07T22:22:46.802523",
     "exception": false,
     "start_time": "2022-06-07T22:22:46.636834",
     "status": "completed"
    },
    "tags": []
   },
   "outputs": [],
   "source": [
    "\n",
    "mean0 = df[df['stroke']==0].bmi.mean()\n",
    "mean1 = df[df['stroke']==1].bmi.mean()\n",
    "\n",
    "def fillbmi(x):\n",
    "    if x['bmi']!=x['bmi']:\n",
    "        if x['stroke']==0:\n",
    "            return mean0\n",
    "        return mean1\n",
    "    return x['bmi']\n",
    "\n",
    "\n",
    "df['bmi'] = df.apply(\n",
    "    lambda x: fillbmi(x),\n",
    "    axis=1\n",
    ")"
   ]
  },
  {
   "cell_type": "markdown",
   "id": "headed-property",
   "metadata": {
    "papermill": {
     "duration": 0.033633,
     "end_time": "2022-06-07T22:22:46.871277",
     "exception": false,
     "start_time": "2022-06-07T22:22:46.837644",
     "status": "completed"
    },
    "tags": []
   },
   "source": [
    "Countplots (bar charts) of categorical variables partitioned by stroke. Kept the y-axis the same across subplots for appropriate visual inspection."
   ]
  },
  {
   "cell_type": "code",
   "execution_count": 9,
   "id": "advisory-divorce",
   "metadata": {
    "execution": {
     "iopub.execute_input": "2022-06-07T22:22:46.951810Z",
     "iopub.status.busy": "2022-06-07T22:22:46.951121Z",
     "iopub.status.idle": "2022-06-07T22:22:48.187265Z",
     "shell.execute_reply": "2022-06-07T22:22:48.187800Z",
     "shell.execute_reply.started": "2022-04-12T00:10:32.871074Z"
    },
    "papermill": {
     "duration": 1.282985,
     "end_time": "2022-06-07T22:22:48.187985",
     "exception": false,
     "start_time": "2022-06-07T22:22:46.905000",
     "status": "completed"
    },
    "tags": []
   },
   "outputs": [
    {
     "data": {
      "image/png": "[encoded data removed]",
      "text/plain": [
       "<Figure size 1080x1080 with 7 Axes>"
      ]
     },
     "metadata": {
      "needs_background": "light"
     },
     "output_type": "display_data"
    }
   ],
   "source": [
    "fig, axs = plt.subplots(4,2, figsize=(15,15), sharey=True)\n",
    "\n",
    "axs[0,0].yaxis.set_ticks(np.arange(0,df.shape[0],500))\n",
    "sns.countplot(ax=axs[0,0],data=df,x='gender', hue='stroke')\n",
    "\n",
    "\n",
    "sns.countplot(ax=axs[0,1],data=df,x='hypertension', hue='stroke')\n",
    "axs[0,1].tick_params(labelleft=True)\n",
    "\n",
    "\n",
    "sns.countplot(ax=axs[1,0],data=df,x='heart_disease', hue='stroke')\n",
    "\n",
    "\n",
    "sns.countplot(ax=axs[1,1],data=df,x='ever_married', hue='stroke')\n",
    "axs[1,1].tick_params(labelleft=True)\n",
    "\n",
    "\n",
    "sns.countplot(ax=axs[2,0],data=df,x='work_type', hue='stroke')\n",
    "\n",
    "\n",
    "sns.countplot(ax=axs[2,1],data=df,x='smoking_status', hue='stroke')\n",
    "axs[2,1].tick_params(labelleft=True)\n",
    "\n",
    "sns.countplot(ax=axs[3,0],data=df,x='Residence_type', hue='stroke')\n",
    "axs[3,0].tick_params(labelleft=True)\n",
    "\n",
    "fig.delaxes(axs[3,1])\n",
    "\n",
    "plt.subplots_adjust(hspace=0.4)\n",
    "\n",
    "\n"
   ]
  },
  {
   "cell_type": "markdown",
   "id": "absent-privacy",
   "metadata": {
    "papermill": {
     "duration": 0.036042,
     "end_time": "2022-06-07T22:22:48.260276",
     "exception": false,
     "start_time": "2022-06-07T22:22:48.224234",
     "status": "completed"
    },
    "tags": []
   },
   "source": [
    "It appears gender is not a significant indicator of stroke, while heart disease and hypertension may be. Would be more confident in this assumption if there was more data on people with hypertension/heart disease. "
   ]
  },
  {
   "cell_type": "markdown",
   "id": "pleasant-leonard",
   "metadata": {
    "papermill": {
     "duration": 0.035482,
     "end_time": "2022-06-07T22:22:48.332325",
     "exception": false,
     "start_time": "2022-06-07T22:22:48.296843",
     "status": "completed"
    },
    "tags": []
   },
   "source": [
    "Histogram of continuous variables seprated by stroke"
   ]
  },
  {
   "cell_type": "code",
   "execution_count": 10,
   "id": "loose-macedonia",
   "metadata": {
    "execution": {
     "iopub.execute_input": "2022-06-07T22:22:48.428418Z",
     "iopub.status.busy": "2022-06-07T22:22:48.427640Z",
     "iopub.status.idle": "2022-06-07T22:22:49.102380Z",
     "shell.execute_reply": "2022-06-07T22:22:49.101853Z",
     "shell.execute_reply.started": "2022-04-12T00:10:34.276211Z"
    },
    "papermill": {
     "duration": 0.734618,
     "end_time": "2022-06-07T22:22:49.102544",
     "exception": false,
     "start_time": "2022-06-07T22:22:48.367926",
     "status": "completed"
    },
    "tags": []
   },
   "outputs": [
    {
     "data": {
      "image/png": "[encoded data removed]",
      "text/plain": [
       "<Figure size 1440x504 with 3 Axes>"
      ]
     },
     "metadata": {
      "needs_background": "light"
     },
     "output_type": "display_data"
    }
   ],
   "source": [
    "fig = plt.figure(figsize=(20,7))\n",
    "gs = fig.add_gridspec(2,2)\n",
    "ax0 = fig.add_subplot(gs[0,0])\n",
    "ax1 = fig.add_subplot(gs[0,1])\n",
    "ax2 = fig.add_subplot(gs[1,0])\n",
    "sns.histplot(ax=ax0,data=df,x='age',bins = 10, hue='stroke')\n",
    "sns.histplot(ax=ax1, data = df, x=\"avg_glucose_level\", bins=10, hue=\"stroke\", alpha = 0.5)\n",
    "sns.histplot(ax=ax2, data = df, x=\"bmi\", bins=10, hue=\"stroke\", alpha = 0.5)\n",
    "plt.subplots_adjust(wspace=1.0)"
   ]
  },
  {
   "cell_type": "markdown",
   "id": "forward-peripheral",
   "metadata": {
    "papermill": {
     "duration": 0.037916,
     "end_time": "2022-06-07T22:22:49.178182",
     "exception": false,
     "start_time": "2022-06-07T22:22:49.140266",
     "status": "completed"
    },
    "tags": []
   },
   "source": [
    "Goal: analyze distribution of age of stroke positives  (249)\n",
    "    create pie chart that shows distribution of age grouped in created buckets\n",
    "    ['<20', '20-40', '40-60', '60+']\n",
    "    \n",
    "    \n",
    "Results: 96.8% of stroke patients are over 40. There are 2 stroke patients under 20.\n",
    "\n",
    "source for code below:\n",
    "https://stackoverflow.com/questions/23577505/how-to-avoid-overlapping-of-labels-autopct-in-a-matplotlib-pie-chart"
   ]
  },
  {
   "cell_type": "code",
   "execution_count": 11,
   "id": "thermal-furniture",
   "metadata": {
    "execution": {
     "iopub.execute_input": "2022-06-07T22:22:49.256554Z",
     "iopub.status.busy": "2022-06-07T22:22:49.255832Z",
     "iopub.status.idle": "2022-06-07T22:22:49.416539Z",
     "shell.execute_reply": "2022-06-07T22:22:49.416001Z",
     "shell.execute_reply.started": "2022-04-12T00:10:34.974919Z"
    },
    "papermill": {
     "duration": 0.20076,
     "end_time": "2022-06-07T22:22:49.416687",
     "exception": false,
     "start_time": "2022-06-07T22:22:49.215927",
     "status": "completed"
    },
    "tags": []
   },
   "outputs": [
    {
     "data": {
      "text/plain": [
       "<matplotlib.legend.Legend at 0x7fbbd8423e10>"
      ]
     },
     "execution_count": 11,
     "metadata": {},
     "output_type": "execute_result"
    },
    {
     "data": {
      "image/png": "[encoded data removed]",
      "text/plain": [
       "<Figure size 432x432 with 1 Axes>"
      ]
     },
     "metadata": {},
     "output_type": "display_data"
    }
   ],
   "source": [
    "\n",
    "pielabel = ['<20', '20-40', '40-60', '60+']\n",
    "dfstroke = df[df['stroke']==1]\n",
    "u20 = dfstroke[dfstroke['age']<20].shape[0]\n",
    "u40 = dfstroke[(dfstroke['age']>=20) & (dfstroke['age']<=40)].shape[0]\n",
    "u60 = dfstroke[(dfstroke['age']>40) & (dfstroke['age']<=60)].shape[0]\n",
    "over = dfstroke[dfstroke['age']>60].shape[0]\n",
    "sizes = np.array([u20, u40, u60, over])\n",
    "fig1, ax1 = plt.subplots(figsize=(6,6))\n",
    "percent = 100.*sizes/sizes.sum()\n",
    "patches, texts = ax1.pie(sizes, labels = pielabel, labeldistance=1.05)\n",
    "\n",
    "\n",
    "l = ['{0} - {1:1.1f} %'.format(i,j) for i,j in zip(pielabel, percent)]\n",
    "patches, labels, dummy =  zip(*sorted(zip(patches, l, sizes),\n",
    "                                          key=lambda x: x[2],\n",
    "                                          reverse=True))\n",
    "\n",
    "plt.title('Age of stroke patients')\n",
    "\n",
    "plt.legend(patches, labels, loc='center left', title='Age', bbox_to_anchor=(-0.1, 1.),\n",
    "           fontsize=8)"
   ]
  },
  {
   "cell_type": "markdown",
   "id": "entire-ecuador",
   "metadata": {
    "papermill": {
     "duration": 0.037958,
     "end_time": "2022-06-07T22:22:49.492745",
     "exception": false,
     "start_time": "2022-06-07T22:22:49.454787",
     "status": "completed"
    },
    "tags": []
   },
   "source": [
    "Inspection of the 1 year old stroke patient"
   ]
  },
  {
   "cell_type": "code",
   "execution_count": 12,
   "id": "announced-sullivan",
   "metadata": {
    "execution": {
     "iopub.execute_input": "2022-06-07T22:22:49.586434Z",
     "iopub.status.busy": "2022-06-07T22:22:49.585537Z",
     "iopub.status.idle": "2022-06-07T22:22:49.589842Z",
     "shell.execute_reply": "2022-06-07T22:22:49.589209Z",
     "shell.execute_reply.started": "2022-04-12T00:10:35.142526Z"
    },
    "papermill": {
     "duration": 0.058741,
     "end_time": "2022-06-07T22:22:49.589981",
     "exception": false,
     "start_time": "2022-06-07T22:22:49.531240",
     "status": "completed"
    },
    "tags": []
   },
   "outputs": [
    {
     "data": {
      "text/html": [
       "<div>\n",
       "<style scoped>\n",
       "    .dataframe tbody tr th:only-of-type {\n",
       "        vertical-align: middle;\n",
       "    }\n",
       "\n",
       "    .dataframe tbody tr th {\n",
       "        vertical-align: top;\n",
       "    }\n",
       "\n",
       "    .dataframe thead th {\n",
       "        text-align: right;\n",
       "    }\n",
       "</style>\n",
       "<table border=\"1\" class=\"dataframe\">\n",
       "  <thead>\n",
       "    <tr style=\"text-align: right;\">\n",
       "      <th></th>\n",
       "      <th>id</th>\n",
       "      <th>gender</th>\n",
       "      <th>age</th>\n",
       "      <th>hypertension</th>\n",
       "      <th>heart_disease</th>\n",
       "      <th>ever_married</th>\n",
       "      <th>work_type</th>\n",
       "      <th>Residence_type</th>\n",
       "      <th>avg_glucose_level</th>\n",
       "      <th>bmi</th>\n",
       "      <th>smoking_status</th>\n",
       "      <th>stroke</th>\n",
       "    </tr>\n",
       "  </thead>\n",
       "  <tbody>\n",
       "    <tr>\n",
       "      <th>162</th>\n",
       "      <td>69768</td>\n",
       "      <td>Female</td>\n",
       "      <td>1.32</td>\n",
       "      <td>0</td>\n",
       "      <td>0</td>\n",
       "      <td>No</td>\n",
       "      <td>children</td>\n",
       "      <td>Urban</td>\n",
       "      <td>70.37</td>\n",
       "      <td>30.471292</td>\n",
       "      <td>Unknown</td>\n",
       "      <td>1</td>\n",
       "    </tr>\n",
       "  </tbody>\n",
       "</table>\n",
       "</div>"
      ],
      "text/plain": [
       "        id  gender   age  hypertension  heart_disease ever_married work_type  \\\n",
       "162  69768  Female  1.32             0              0           No  children   \n",
       "\n",
       "    Residence_type  avg_glucose_level        bmi smoking_status  stroke  \n",
       "162          Urban              70.37  30.471292        Unknown       1  "
      ]
     },
     "execution_count": 12,
     "metadata": {},
     "output_type": "execute_result"
    }
   ],
   "source": [
    "df[(df['stroke']==1) & (df['age']==1.32)]"
   ]
  },
  {
   "cell_type": "markdown",
   "id": "moderate-blues",
   "metadata": {
    "papermill": {
     "duration": 0.038375,
     "end_time": "2022-06-07T22:22:49.666705",
     "exception": false,
     "start_time": "2022-06-07T22:22:49.628330",
     "status": "completed"
    },
    "tags": []
   },
   "source": [
    "Correlation matrix of continuous variables"
   ]
  },
  {
   "cell_type": "code",
   "execution_count": 13,
   "id": "conventional-incidence",
   "metadata": {
    "execution": {
     "iopub.execute_input": "2022-06-07T22:22:49.777137Z",
     "iopub.status.busy": "2022-06-07T22:22:49.747149Z",
     "iopub.status.idle": "2022-06-07T22:22:49.987362Z",
     "shell.execute_reply": "2022-06-07T22:22:49.986827Z",
     "shell.execute_reply.started": "2022-04-12T00:10:35.163461Z"
    },
    "papermill": {
     "duration": 0.282508,
     "end_time": "2022-06-07T22:22:49.987539",
     "exception": false,
     "start_time": "2022-06-07T22:22:49.705031",
     "status": "completed"
    },
    "tags": []
   },
   "outputs": [
    {
     "data": {
      "image/png": "[encoded data removed]",
      "text/plain": [
       "<Figure size 360x360 with 2 Axes>"
      ]
     },
     "metadata": {
      "needs_background": "light"
     },
     "output_type": "display_data"
    }
   ],
   "source": [
    "categorical_columns = ['Residence_type','gender', 'hypertension', 'heart_disease', 'ever_married', 'work_type', 'smoking_status']\n",
    "continuous_columns = [c for c in df.columns if c not in categorical_columns]\n",
    "continuous_columns.remove('stroke')\n",
    "continuous_columns.remove('id')\n",
    "\n",
    "fig = plt.figure(figsize=(5,5))\n",
    "gs = fig.add_gridspec(1,1)\n",
    "gs.update(wspace=0.3, hspace=0.15)\n",
    "ax0 = fig.add_subplot(gs[0,0])\n",
    "\n",
    "df_correlation = df[continuous_columns].corr()\n",
    "sns.heatmap(df_correlation,fmt=\".1f\",annot=True,cmap='seismic')\n",
    "plt.show()"
   ]
  },
  {
   "cell_type": "markdown",
   "id": "valuable-warner",
   "metadata": {
    "papermill": {
     "duration": 0.03887,
     "end_time": "2022-06-07T22:22:50.066029",
     "exception": false,
     "start_time": "2022-06-07T22:22:50.027159",
     "status": "completed"
    },
    "tags": []
   },
   "source": [
    "The following is a t-test to determine two assumptions:\n",
    "1. Ho: Males have the same stroke percentage as females.\n",
    "2. Ho: Hypertension patients have the same stroke percentage as non-hypertension patients.\n",
    "\n",
    "Results: from p-values, conclude that stroke percentage of male and female is statistically insignificant while stroke percentage of hypertension and no hypertension is statistically significant. Reject Ho from 2. "
   ]
  },
  {
   "cell_type": "code",
   "execution_count": 14,
   "id": "recognized-graphics",
   "metadata": {
    "execution": {
     "iopub.execute_input": "2022-06-07T22:22:50.148781Z",
     "iopub.status.busy": "2022-06-07T22:22:50.147791Z",
     "iopub.status.idle": "2022-06-07T22:22:50.165558Z",
     "shell.execute_reply": "2022-06-07T22:22:50.164823Z",
     "shell.execute_reply.started": "2022-04-12T00:10:35.425796Z"
    },
    "papermill": {
     "duration": 0.059532,
     "end_time": "2022-06-07T22:22:50.165716",
     "exception": false,
     "start_time": "2022-06-07T22:22:50.106184",
     "status": "completed"
    },
    "tags": []
   },
   "outputs": [
    {
     "name": "stdout",
     "output_type": "stream",
     "text": [
      "0.5191685054545454\n",
      "3.673335722473369e-09\n"
     ]
    }
   ],
   "source": [
    "#test whether gender, hypertension are significant determinants of stroke\n",
    "#h0: proportion of males with stroke == proportion of females with stroke\n",
    "#h0: proportion of people with hypertension and stroke == proportion of people with no hypertenstion and stroke\n",
    "from scipy import stats\n",
    "_,p1 = stats.ttest_ind(df[df['gender']=='Male']['stroke'], df[df['gender']=='Female']['stroke'],equal_var=False)\n",
    "_,p2 = stats.ttest_ind(df[df['hypertension']==0]['stroke'], df[df['hypertension']==1]['stroke'],equal_var=False)\n",
    "print(p1)\n",
    "print(p2)\n"
   ]
  },
  {
   "cell_type": "markdown",
   "id": "rolled-profit",
   "metadata": {
    "papermill": {
     "duration": 0.039304,
     "end_time": "2022-06-07T22:22:50.246456",
     "exception": false,
     "start_time": "2022-06-07T22:22:50.207152",
     "status": "completed"
    },
    "tags": []
   },
   "source": [
    "Partition dataset into groups based on age. Analyze stroke/hypertension percentages among the groups. \n",
    "<br>\n",
    "[<40, 40-60,60-80, 80+] \n",
    "<br>\n",
    "<br>\n",
    "Results:  There are only 186 people over 80 in the dataset yet that group's stroke percentage is 21%. This is nearly 5x the overall stroke percentage in the dataset (4.8%). The overall hypertension dataset percentage is 9.7% and the over 80 hypertension % is 26.8%. The >80 population has high stroke rates, but are underrepresented in the dataset. 186/5110 = 3.6% of the data.\n"
   ]
  },
  {
   "cell_type": "code",
   "execution_count": 15,
   "id": "anonymous-universal",
   "metadata": {
    "execution": {
     "iopub.execute_input": "2022-06-07T22:22:50.333708Z",
     "iopub.status.busy": "2022-06-07T22:22:50.332913Z",
     "iopub.status.idle": "2022-06-07T22:22:50.467289Z",
     "shell.execute_reply": "2022-06-07T22:22:50.467860Z",
     "shell.execute_reply.started": "2022-04-12T00:10:35.446662Z"
    },
    "papermill": {
     "duration": 0.182206,
     "end_time": "2022-06-07T22:22:50.468069",
     "exception": false,
     "start_time": "2022-06-07T22:22:50.285863",
     "status": "completed"
    },
    "tags": []
   },
   "outputs": [
    {
     "data": {
      "text/html": [
       "<div>\n",
       "<style scoped>\n",
       "    .dataframe tbody tr th:only-of-type {\n",
       "        vertical-align: middle;\n",
       "    }\n",
       "\n",
       "    .dataframe tbody tr th {\n",
       "        vertical-align: top;\n",
       "    }\n",
       "\n",
       "    .dataframe thead tr th {\n",
       "        text-align: left;\n",
       "    }\n",
       "\n",
       "    .dataframe thead tr:last-of-type th {\n",
       "        text-align: right;\n",
       "    }\n",
       "</style>\n",
       "<table border=\"1\" class=\"dataframe\">\n",
       "  <thead>\n",
       "    <tr>\n",
       "      <th></th>\n",
       "      <th colspan=\"2\" halign=\"left\">stroke</th>\n",
       "      <th colspan=\"2\" halign=\"left\">hypertension</th>\n",
       "      <th>stroke_total_mean</th>\n",
       "      <th>hypertension_total_mean</th>\n",
       "    </tr>\n",
       "    <tr>\n",
       "      <th></th>\n",
       "      <th>count</th>\n",
       "      <th>mean</th>\n",
       "      <th>count</th>\n",
       "      <th>mean</th>\n",
       "      <th></th>\n",
       "      <th></th>\n",
       "    </tr>\n",
       "    <tr>\n",
       "      <th>age_group</th>\n",
       "      <th></th>\n",
       "      <th></th>\n",
       "      <th></th>\n",
       "      <th></th>\n",
       "      <th></th>\n",
       "      <th></th>\n",
       "    </tr>\n",
       "  </thead>\n",
       "  <tbody>\n",
       "    <tr>\n",
       "      <th>&lt;40</th>\n",
       "      <td>2170</td>\n",
       "      <td>0.003687</td>\n",
       "      <td>2170</td>\n",
       "      <td>0.017051</td>\n",
       "      <td>0.048728</td>\n",
       "      <td>0.097456</td>\n",
       "    </tr>\n",
       "    <tr>\n",
       "      <th>40-60</th>\n",
       "      <td>1564</td>\n",
       "      <td>0.038363</td>\n",
       "      <td>1564</td>\n",
       "      <td>0.105499</td>\n",
       "      <td>0.048728</td>\n",
       "      <td>0.097456</td>\n",
       "    </tr>\n",
       "    <tr>\n",
       "      <th>60-80</th>\n",
       "      <td>1190</td>\n",
       "      <td>0.118487</td>\n",
       "      <td>1190</td>\n",
       "      <td>0.206723</td>\n",
       "      <td>0.048728</td>\n",
       "      <td>0.097456</td>\n",
       "    </tr>\n",
       "    <tr>\n",
       "      <th>80+</th>\n",
       "      <td>186</td>\n",
       "      <td>0.215054</td>\n",
       "      <td>186</td>\n",
       "      <td>0.268817</td>\n",
       "      <td>0.048728</td>\n",
       "      <td>0.097456</td>\n",
       "    </tr>\n",
       "  </tbody>\n",
       "</table>\n",
       "</div>"
      ],
      "text/plain": [
       "          stroke           hypertension           stroke_total_mean  \\\n",
       "           count      mean        count      mean                     \n",
       "age_group                                                             \n",
       "<40         2170  0.003687         2170  0.017051          0.048728   \n",
       "40-60       1564  0.038363         1564  0.105499          0.048728   \n",
       "60-80       1190  0.118487         1190  0.206723          0.048728   \n",
       "80+          186  0.215054          186  0.268817          0.048728   \n",
       "\n",
       "          hypertension_total_mean  \n",
       "                                   \n",
       "age_group                          \n",
       "<40                      0.097456  \n",
       "40-60                    0.097456  \n",
       "60-80                    0.097456  \n",
       "80+                      0.097456  "
      ]
     },
     "execution_count": 15,
     "metadata": {},
     "output_type": "execute_result"
    }
   ],
   "source": [
    "def age_group(row):\n",
    "    if row['age']<40:\n",
    "        return '<40'\n",
    "    elif row['age']<60:\n",
    "        return '40-60'\n",
    "    elif row['age']<80:\n",
    "        return '60-80'\n",
    "    return '80+'\n",
    "\n",
    "df['age_group'] = df.apply(lambda x: age_group(x), axis=1)\n",
    "table = df.groupby('age_group').agg(['count', 'mean'])\n",
    "reduced_table = table[['stroke','hypertension']]\n",
    "x = df['stroke'].mean()\n",
    "reduced_table['stroke_total_mean'] = x\n",
    "reduced_table['hypertension_total_mean'] = df['hypertension'].mean()\n",
    "reduced_table = reduced_table.sort_values(by=('stroke','mean'))\n",
    "reduced_table"
   ]
  },
  {
   "cell_type": "markdown",
   "id": "satisfied-coverage",
   "metadata": {
    "papermill": {
     "duration": 0.041027,
     "end_time": "2022-06-07T22:22:50.549593",
     "exception": false,
     "start_time": "2022-06-07T22:22:50.508566",
     "status": "completed"
    },
    "tags": []
   },
   "source": [
    "\n"
   ]
  },
  {
   "cell_type": "markdown",
   "id": "complimentary-catalog",
   "metadata": {
    "papermill": {
     "duration": 0.040664,
     "end_time": "2022-06-07T22:22:50.631001",
     "exception": false,
     "start_time": "2022-06-07T22:22:50.590337",
     "status": "completed"
    },
    "tags": []
   },
   "source": [
    "Analyze source of hypertension: Notice that married people have high rates of hypertension, but that correlation may be due to age as seen in the box plot. (older patients are more likely to be married)"
   ]
  },
  {
   "cell_type": "code",
   "execution_count": 16,
   "id": "presidential-mobility",
   "metadata": {
    "execution": {
     "iopub.execute_input": "2022-06-07T22:22:50.714680Z",
     "iopub.status.busy": "2022-06-07T22:22:50.713966Z",
     "iopub.status.idle": "2022-06-07T22:22:50.822796Z",
     "shell.execute_reply": "2022-06-07T22:22:50.823345Z",
     "shell.execute_reply.started": "2022-04-12T00:10:35.607431Z"
    },
    "papermill": {
     "duration": 0.152245,
     "end_time": "2022-06-07T22:22:50.823540",
     "exception": false,
     "start_time": "2022-06-07T22:22:50.671295",
     "status": "completed"
    },
    "tags": []
   },
   "outputs": [
    {
     "data": {
      "text/plain": [
       "Text(0.5, 0, 'hypertension')"
      ]
     },
     "execution_count": 16,
     "metadata": {},
     "output_type": "execute_result"
    },
    {
     "data": {
      "image/png": "[encoded data removed]",
      "text/plain": [
       "<Figure size 432x288 with 1 Axes>"
      ]
     },
     "metadata": {
      "needs_background": "light"
     },
     "output_type": "display_data"
    }
   ],
   "source": [
    "\n",
    "married = df[(df['hypertension']==1) & (df['ever_married']==\"Yes\")].shape[0]\n",
    "notmarried = df[(df['hypertension']==1) &(df['ever_married']==\"No\")].shape[0]\n",
    "plt.bar([\"married\", \"not married\"], [married, notmarried], color=['blue', 'orange'])\n",
    "plt.ylabel(\"count\")\n",
    "plt.xlabel(\"hypertension\")\n",
    "\n"
   ]
  },
  {
   "cell_type": "code",
   "execution_count": 17,
   "id": "shared-concord",
   "metadata": {
    "execution": {
     "iopub.execute_input": "2022-06-07T22:22:50.908584Z",
     "iopub.status.busy": "2022-06-07T22:22:50.907922Z",
     "iopub.status.idle": "2022-06-07T22:22:51.042113Z",
     "shell.execute_reply": "2022-06-07T22:22:51.041429Z",
     "shell.execute_reply.started": "2022-04-12T00:10:35.730658Z"
    },
    "papermill": {
     "duration": 0.177599,
     "end_time": "2022-06-07T22:22:51.042260",
     "exception": false,
     "start_time": "2022-06-07T22:22:50.864661",
     "status": "completed"
    },
    "tags": []
   },
   "outputs": [
    {
     "data": {
      "text/plain": [
       "<AxesSubplot:xlabel='hypertension', ylabel='age'>"
      ]
     },
     "execution_count": 17,
     "metadata": {},
     "output_type": "execute_result"
    },
    {
     "data": {
      "image/png": "[encoded data removed]",
      "text/plain": [
       "<Figure size 432x288 with 1 Axes>"
      ]
     },
     "metadata": {
      "needs_background": "light"
     },
     "output_type": "display_data"
    }
   ],
   "source": [
    "sns.boxplot(data=df, x=\"hypertension\", y=\"age\")\n"
   ]
  },
  {
   "cell_type": "markdown",
   "id": "private-comment",
   "metadata": {
    "papermill": {
     "duration": 0.041795,
     "end_time": "2022-06-07T22:22:51.127550",
     "exception": false,
     "start_time": "2022-06-07T22:22:51.085755",
     "status": "completed"
    },
    "tags": []
   },
   "source": []
  },
  {
   "cell_type": "markdown",
   "id": "circular-nation",
   "metadata": {
    "papermill": {
     "duration": 0.04384,
     "end_time": "2022-06-07T22:22:51.213628",
     "exception": false,
     "start_time": "2022-06-07T22:22:51.169788",
     "status": "completed"
    },
    "tags": []
   },
   "source": [
    "Use Logistic Regression to predict stroke from the dataset\n",
    "  1. select variables to use for the model\n",
    "  2. add dummies to categorical variables\n",
    "  3. split the data into training and test\n",
    "  4. scale the continuous variables in the training set and use the scaling for test set\n",
    "  5. run the model\n",
    "  6. display and analyze confusion matrix\n",
    "  7. conclusion\n",
    "  \n",
    "  \n",
    "\n",
    " \n",
    "  \n"
   ]
  },
  {
   "cell_type": "code",
   "execution_count": 18,
   "id": "opponent-startup",
   "metadata": {
    "execution": {
     "iopub.execute_input": "2022-06-07T22:22:51.301688Z",
     "iopub.status.busy": "2022-06-07T22:22:51.300938Z",
     "iopub.status.idle": "2022-06-07T22:22:51.599378Z",
     "shell.execute_reply": "2022-06-07T22:22:51.598693Z",
     "shell.execute_reply.started": "2022-04-12T00:10:35.867225Z"
    },
    "papermill": {
     "duration": 0.343374,
     "end_time": "2022-06-07T22:22:51.599540",
     "exception": false,
     "start_time": "2022-06-07T22:22:51.256166",
     "status": "completed"
    },
    "tags": []
   },
   "outputs": [],
   "source": [
    "from sklearn.model_selection import train_test_split\n",
    "from sklearn import preprocessing\n",
    "from sklearn.linear_model import LogisticRegression\n",
    "from sklearn import metrics\n",
    "from sklearn.svm import SVC"
   ]
  },
  {
   "cell_type": "code",
   "execution_count": 19,
   "id": "exterior-motor",
   "metadata": {
    "execution": {
     "iopub.execute_input": "2022-06-07T22:22:51.691937Z",
     "iopub.status.busy": "2022-06-07T22:22:51.691243Z",
     "iopub.status.idle": "2022-06-07T22:22:51.730235Z",
     "shell.execute_reply": "2022-06-07T22:22:51.729665Z",
     "shell.execute_reply.started": "2022-04-12T00:10:36.235815Z"
    },
    "papermill": {
     "duration": 0.08853,
     "end_time": "2022-06-07T22:22:51.730381",
     "exception": false,
     "start_time": "2022-06-07T22:22:51.641851",
     "status": "completed"
    },
    "tags": []
   },
   "outputs": [
    {
     "name": "stdout",
     "output_type": "stream",
     "text": [
      "X_train:  (4088, 16)\n",
      "X_test:  (1022, 16)\n",
      "y_train:  (4088,)\n",
      "y_test:  (1022,)\n"
     ]
    }
   ],
   "source": [
    "df1 = df.copy()\n",
    "\n",
    "y = df1['stroke']\n",
    "\n",
    "df1 = df1[categorical_columns+continuous_columns]\n",
    "df1 = pd.get_dummies(df1, columns = categorical_columns, drop_first = True)\n",
    "\n",
    "X_train, X_test, y_train, y_test = train_test_split(df1,y, test_size = 0.2, random_state = 13)\n",
    "print(\"X_train: \", X_train.shape)\n",
    "print(\"X_test: \",X_test.shape)\n",
    "print(\"y_train: \",y_train.shape)\n",
    "print(\"y_test: \",y_test.shape)\n",
    "\n",
    "scaler = preprocessing.StandardScaler().fit(X_train[continuous_columns])\n",
    "X_train[continuous_columns] = scaler.transform(X_train[continuous_columns]) \n",
    "X_test[continuous_columns] = scaler.transform(X_test[continuous_columns]) \n",
    "\n"
   ]
  },
  {
   "cell_type": "code",
   "execution_count": 20,
   "id": "combined-peoples",
   "metadata": {
    "execution": {
     "iopub.execute_input": "2022-06-07T22:22:51.823895Z",
     "iopub.status.busy": "2022-06-07T22:22:51.823167Z",
     "iopub.status.idle": "2022-06-07T22:22:51.979379Z",
     "shell.execute_reply": "2022-06-07T22:22:51.980997Z",
     "shell.execute_reply.started": "2022-04-12T00:10:36.286183Z"
    },
    "papermill": {
     "duration": 0.208522,
     "end_time": "2022-06-07T22:22:51.981507",
     "exception": false,
     "start_time": "2022-06-07T22:22:51.772985",
     "status": "completed"
    },
    "tags": []
   },
   "outputs": [
    {
     "name": "stdout",
     "output_type": "stream",
     "text": [
      "test score: 0.9510763209393346\n",
      "train score: 0.9515655577299413\n"
     ]
    }
   ],
   "source": [
    "logisticRegr = LogisticRegression(penalty='none')\n",
    "logisticRegr.fit(X_train, y_train)\n",
    "\n",
    "predictions = logisticRegr.predict(X_test)\n",
    "\n",
    "score = logisticRegr.score(X_test, y_test)\n",
    "\n",
    "pred_train = logisticRegr.predict(X_train)\n",
    "train_score = logisticRegr.score(X_train, y_train)\n",
    "print(\"test score: {}\".format(score))\n",
    "print(\"train score: {}\".format(train_score))"
   ]
  },
  {
   "cell_type": "code",
   "execution_count": 21,
   "id": "charged-analyst",
   "metadata": {
    "execution": {
     "iopub.execute_input": "2022-06-07T22:22:52.125847Z",
     "iopub.status.busy": "2022-06-07T22:22:52.125083Z",
     "iopub.status.idle": "2022-06-07T22:22:52.138495Z",
     "shell.execute_reply": "2022-06-07T22:22:52.139086Z",
     "shell.execute_reply.started": "2022-04-12T00:10:36.41879Z"
    },
    "papermill": {
     "duration": 0.077586,
     "end_time": "2022-06-07T22:22:52.139279",
     "exception": false,
     "start_time": "2022-06-07T22:22:52.061693",
     "status": "completed"
    },
    "tags": []
   },
   "outputs": [
    {
     "name": "stdout",
     "output_type": "stream",
     "text": [
      "[[972   0]\n",
      " [ 50   0]]\n",
      "[[3889    0]\n",
      " [ 198    1]]\n"
     ]
    }
   ],
   "source": [
    "cm = metrics.confusion_matrix(y_test, predictions)\n",
    "cm_train = metrics.confusion_matrix(y_train, pred_train)\n",
    "print(cm)\n",
    "print(cm_train)"
   ]
  },
  {
   "cell_type": "markdown",
   "id": "hundred-mistress",
   "metadata": {
    "papermill": {
     "duration": 0.043853,
     "end_time": "2022-06-07T22:22:52.227157",
     "exception": false,
     "start_time": "2022-06-07T22:22:52.183304",
     "status": "completed"
    },
    "tags": []
   },
   "source": []
  },
  {
   "cell_type": "markdown",
   "id": "static-monte",
   "metadata": {
    "papermill": {
     "duration": 0.04259,
     "end_time": "2022-06-07T22:22:52.312797",
     "exception": false,
     "start_time": "2022-06-07T22:22:52.270207",
     "status": "completed"
    },
    "tags": []
   },
   "source": [
    "The outputs above are the confusion matrices for the test set and training set. The logistic regression model predicts all negatives (no stroke) in the test set and all but one negative in the training set despite there being 50 positive cases in the test set and 198 positive cases in the training set. \n",
    "<br>\n",
    "Test set:\n",
    "<br>\n",
    "The precision of the model: true positive/(true positive + false positive) = 0/0<br>\n",
    "The recall of the model: true positive/(true positive + false negative) = 0/50 =0\n",
    "\n",
    "In the case of a stroke, false negatives may be more harmful than false positives. Telling someone they did not have a stroke when they actually  did have one can lead to further unchecked health complications.\n",
    "\n",
    "Even though the model is accurate on 95% of predictions, it has no predictive power and 0% recall. This is because the logistic regression model (with no regularization) predicts all negative examples except for one in the training set.\n",
    "\n",
    "The article below provides useful information on confusion matrices, precision, and recall.\n",
    "\n",
    "https://towardsdatascience.com/accuracy-precision-recall-or-f1-331fb37c5cb9\n",
    "\n",
    "\n",
    "\n",
    "\n",
    "\n"
   ]
  },
  {
   "cell_type": "markdown",
   "id": "unique-maryland",
   "metadata": {
    "papermill": {
     "duration": 0.042658,
     "end_time": "2022-06-07T22:22:52.398497",
     "exception": false,
     "start_time": "2022-06-07T22:22:52.355839",
     "status": "completed"
    },
    "tags": []
   },
   "source": [
    "SVM (A more complex model that can learn non-linear relationships between the features and the stroke positive/negative)"
   ]
  },
  {
   "cell_type": "code",
   "execution_count": 22,
   "id": "incorporate-wales",
   "metadata": {
    "execution": {
     "iopub.execute_input": "2022-06-07T22:22:52.488391Z",
     "iopub.status.busy": "2022-06-07T22:22:52.487407Z",
     "iopub.status.idle": "2022-06-07T22:22:52.493408Z",
     "shell.execute_reply": "2022-06-07T22:22:52.494034Z",
     "shell.execute_reply.started": "2022-04-12T00:10:36.441014Z"
    },
    "papermill": {
     "duration": 0.05265,
     "end_time": "2022-06-07T22:22:52.494208",
     "exception": false,
     "start_time": "2022-06-07T22:22:52.441558",
     "status": "completed"
    },
    "tags": []
   },
   "outputs": [],
   "source": [
    "def display_cm(classifier, X_train, X_test, y_train, y_test):\n",
    "#     clf = SVC().fit(X_train,y_train)\n",
    "    clf = classifier.fit(X_train, y_train)\n",
    "    y_pred = clf.predict(X_test)\n",
    "    pred_trainsvm = clf.predict(X_train)\n",
    "    cmsvm = metrics.confusion_matrix(y_test, y_pred)\n",
    "    cm_trainsvm = metrics.confusion_matrix(y_train, pred_trainsvm)\n",
    "    s = \"SVM accuracy on \"+classifier.kernel +\" \"\n",
    "    print(s, clf.score(X_test, y_test))\n",
    "    print(cmsvm)\n",
    "    print(cm_trainsvm)"
   ]
  },
  {
   "cell_type": "code",
   "execution_count": 23,
   "id": "eight-address",
   "metadata": {
    "execution": {
     "iopub.execute_input": "2022-06-07T22:22:52.583324Z",
     "iopub.status.busy": "2022-06-07T22:22:52.582652Z",
     "iopub.status.idle": "2022-06-07T22:22:52.744078Z",
     "shell.execute_reply": "2022-06-07T22:22:52.743200Z",
     "shell.execute_reply.started": "2022-04-12T00:10:36.452434Z"
    },
    "papermill": {
     "duration": 0.207235,
     "end_time": "2022-06-07T22:22:52.744236",
     "exception": false,
     "start_time": "2022-06-07T22:22:52.537001",
     "status": "completed"
    },
    "tags": []
   },
   "outputs": [
    {
     "name": "stdout",
     "output_type": "stream",
     "text": [
      "SVM accuracy on linear  0.9510763209393346\n",
      "[[972   0]\n",
      " [ 50   0]]\n",
      "[[3889    0]\n",
      " [ 199    0]]\n"
     ]
    }
   ],
   "source": [
    "display_cm(SVC(kernel='linear'), X_train, X_test, y_train, y_test)"
   ]
  },
  {
   "cell_type": "code",
   "execution_count": 24,
   "id": "documentary-consultancy",
   "metadata": {
    "execution": {
     "iopub.execute_input": "2022-06-07T22:22:52.840586Z",
     "iopub.status.busy": "2022-06-07T22:22:52.839907Z",
     "iopub.status.idle": "2022-06-07T22:22:54.916375Z",
     "shell.execute_reply": "2022-06-07T22:22:54.917120Z",
     "shell.execute_reply.started": "2022-04-12T00:10:36.869589Z"
    },
    "papermill": {
     "duration": 2.127186,
     "end_time": "2022-06-07T22:22:54.917368",
     "exception": false,
     "start_time": "2022-06-07T22:22:52.790182",
     "status": "completed"
    },
    "tags": []
   },
   "outputs": [
    {
     "name": "stdout",
     "output_type": "stream",
     "text": [
      "SVM accuracy on rbf  0.8992172211350293\n",
      "[[913  59]\n",
      " [ 44   6]]\n",
      "[[3887    2]\n",
      " [  28  171]]\n"
     ]
    }
   ],
   "source": [
    "display_cm(SVC(C=5000), X_train, X_test, y_train, y_test)"
   ]
  },
  {
   "cell_type": "markdown",
   "id": "coupled-pride",
   "metadata": {
    "papermill": {
     "duration": 0.049561,
     "end_time": "2022-06-07T22:22:55.017474",
     "exception": false,
     "start_time": "2022-06-07T22:22:54.967913",
     "status": "completed"
    },
    "tags": []
   },
   "source": [
    "The SVM accuracy on an rbf kernel with very little regularization is 89.9%, which is less accurate than the previous models. However, this model has predictive power because it predicts 65 positives on the test set as opposed to 0 for the previous models. Furthermore, there is an improvement in Precision and Recall scores.<br>\n",
    "Precision: 6/65 = .09 <br>\n",
    "Recall: 6/44 = .13 <br>"
   ]
  },
  {
   "cell_type": "markdown",
   "id": "diagnostic-watson",
   "metadata": {
    "papermill": {
     "duration": 0.045729,
     "end_time": "2022-06-07T22:22:55.108971",
     "exception": false,
     "start_time": "2022-06-07T22:22:55.063242",
     "status": "completed"
    },
    "tags": []
   },
   "source": [
    "CONCLUSION: The dataset provides insight into stroke populations, namely the relation between stroke and age and stroke and hypertension. A next step would be to gather more relevant features that can explain stroke as well as more positive examples of stroke. Such features include (more) smoking information, diabetes and race/ethnicity of the individual, all of which are stroke factors according to the CDC\n",
    "<br><br>\n",
    "The fact that models predict mostly all negative samples is not indicative of the rarity of stroke occurrences.<br>\n",
    "According to the CDC, someone in the US has a stroke every 40 seconds, and every 4 minutes a person dies of a stroke.\n",
    "https://www.cdc.gov/stroke/facts.htm"
   ]
  }
 ],
 "metadata": {
  "kernelspec": {
   "display_name": "Python 3",
   "language": "python",
   "name": "python3"
  },
  "language_info": {
   "codemirror_mode": {
    "name": "ipython",
    "version": 3
   },
   "file_extension": ".py",
   "mimetype": "text/x-python",
   "name": "python",
   "nbconvert_exporter": "python",
   "pygments_lexer": "ipython3",
   "version": "3.7.10"
  },
  "papermill": {
   "default_parameters": {},
   "duration": 19.693192,
   "end_time": "2022-06-07T22:22:55.967139",
   "environment_variables": {},
   "exception": null,
   "input_path": "__notebook__.ipynb",
   "output_path": "__notebook__.ipynb",
   "parameters": {},
   "start_time": "2022-06-07T22:22:36.273947",
   "version": "2.3.3"
  }
 },
 "nbformat": 4,
 "nbformat_minor": 5
}
