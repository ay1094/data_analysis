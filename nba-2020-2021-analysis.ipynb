{
 "cells": [
  {
   "cell_type": "code",
   "execution_count": 1,
   "id": "17ebff63",
   "metadata": {
    "_cell_guid": "b1076dfc-b9ad-4769-8c92-a6c4dae69d19",
    "_uuid": "8f2839f25d086af736a60e9eeb907d3b93b6e0e5",
    "execution": {
     "iopub.execute_input": "2022-07-21T02:57:58.830512Z",
     "iopub.status.busy": "2022-07-21T02:57:58.829375Z",
     "iopub.status.idle": "2022-07-21T02:57:58.850200Z",
     "shell.execute_reply": "2022-07-21T02:57:58.849057Z"
    },
    "papermill": {
     "duration": 0.037204,
     "end_time": "2022-07-21T02:57:58.852885",
     "exception": false,
     "start_time": "2022-07-21T02:57:58.815681",
     "status": "completed"
    },
    "tags": []
   },
   "outputs": [
    {
     "name": "stdout",
     "output_type": "stream",
     "text": [
      "/kaggle/input/nba-basketball-player-statistics/player.csv\n",
      "/kaggle/input/nba-basketball-player-statistics/teams.csv\n",
      "/kaggle/input/nba-basketball-player-statistics/mvps.csv\n"
     ]
    }
   ],
   "source": [
    "# This Python 3 environment comes with many helpful analytics libraries installed\n",
    "# It is defined by the kaggle/python Docker image: https://github.com/kaggle/docker-python\n",
    "# For example, here's several helpful packages to load\n",
    "\n",
    "import numpy as np # linear algebra\n",
    "import pandas as pd # data processing, CSV file I/O (e.g. pd.read_csv)\n",
    "\n",
    "# Input data files are available in the read-only \"../input/\" directory\n",
    "# For example, running this (by clicking run or pressing Shift+Enter) will list all files under the input directory\n",
    "\n",
    "import os\n",
    "for dirname, _, filenames in os.walk('/kaggle/input'):\n",
    "    for filename in filenames:\n",
    "        print(os.path.join(dirname, filename))\n",
    "\n",
    "# You can write up to 20GB to the current directory (/kaggle/working/) that gets preserved as output when you create a version using \"Save & Run All\" \n",
    "# You can also write temporary files to /kaggle/temp/, but they won't be saved outside of the current session"
   ]
  },
  {
   "cell_type": "markdown",
   "id": "121b510c",
   "metadata": {
    "papermill": {
     "duration": 0.010239,
     "end_time": "2022-07-21T02:57:58.874339",
     "exception": false,
     "start_time": "2022-07-21T02:57:58.864100",
     "status": "completed"
    },
    "tags": []
   },
   "source": [
    "Questions for 2020-2021 season\n",
    "\n",
    "Individual\n",
    "1. Which players had the highest PPG for each position (PG, SG, SF, PF, C)?\n",
    "2. What is the relationship between AST and TOV for players with 24 + MP?\n",
    "3. Which players led the league in STOCKS (stl + blk)?\n",
    "4. How do age and PTS relate to each other?\n",
    "5. Which players led the league in opportunities created (FTA + ORB)?\n",
    "\n",
    "\n",
    "<br />\n",
    "\n",
    "\n",
    "\n",
    "\n",
    "\n",
    "\n",
    "Team\n",
    "1. What is the average age for each team of the players playing 20+ minutes per game?\n",
    "2. Which team had the most players average over 24 minutes per game?\n",
    "3. What is the average number of assists per game for each team?\n",
    "4. What is the Herfindahl Index for assists for each team?\n",
    "5. Of the top 3 scorers (total points) on each team, what percentage of team PPG did they contribute?\n",
    "\n",
    "\n",
    "<br />\n",
    "\n",
    "\n",
    "\n",
    "Deep Dive\n",
    "1. Are FT% and 3P% correlated?\n",
    "2. Group players based on PPG, REBS, ASTS, STL, BLK, FG% to find some pattern in players (use players who average 24+ mins/game) \n",
    "\n"
   ]
  },
  {
   "cell_type": "code",
   "execution_count": 2,
   "id": "44f84734",
   "metadata": {
    "execution": {
     "iopub.execute_input": "2022-07-21T02:57:58.896787Z",
     "iopub.status.busy": "2022-07-21T02:57:58.896378Z",
     "iopub.status.idle": "2022-07-21T02:58:00.527094Z",
     "shell.execute_reply": "2022-07-21T02:58:00.526062Z"
    },
    "papermill": {
     "duration": 1.64466,
     "end_time": "2022-07-21T02:58:00.529467",
     "exception": false,
     "start_time": "2022-07-21T02:57:58.884807",
     "status": "completed"
    },
    "tags": []
   },
   "outputs": [],
   "source": [
    "import plotly.express as px"
   ]
  },
  {
   "cell_type": "code",
   "execution_count": 3,
   "id": "219a5cb3",
   "metadata": {
    "execution": {
     "iopub.execute_input": "2022-07-21T02:58:00.552651Z",
     "iopub.status.busy": "2022-07-21T02:58:00.552240Z",
     "iopub.status.idle": "2022-07-21T02:58:00.751464Z",
     "shell.execute_reply": "2022-07-21T02:58:00.750476Z"
    },
    "papermill": {
     "duration": 0.213445,
     "end_time": "2022-07-21T02:58:00.753958",
     "exception": false,
     "start_time": "2022-07-21T02:58:00.540513",
     "status": "completed"
    },
    "tags": []
   },
   "outputs": [],
   "source": [
    "df = pd.read_csv('../input/nba-basketball-player-statistics/player.csv')\n",
    "df.columns\n",
    "df.drop(columns=['Unnamed: 0'], inplace = True)\n",
    "\n",
    "df = df[df[\"Year\"] == 2021]"
   ]
  },
  {
   "cell_type": "code",
   "execution_count": 4,
   "id": "dcf267cf",
   "metadata": {
    "execution": {
     "iopub.execute_input": "2022-07-21T02:58:00.776877Z",
     "iopub.status.busy": "2022-07-21T02:58:00.776429Z",
     "iopub.status.idle": "2022-07-21T02:58:00.826768Z",
     "shell.execute_reply": "2022-07-21T02:58:00.825811Z"
    },
    "papermill": {
     "duration": 0.064551,
     "end_time": "2022-07-21T02:58:00.829127",
     "exception": false,
     "start_time": "2022-07-21T02:58:00.764576",
     "status": "completed"
    },
    "tags": []
   },
   "outputs": [],
   "source": [
    "def update_position(position):\n",
    "    if \"-\" not in position:\n",
    "        return position\n",
    "    return position.split(\"-\")[0]\n",
    "df['position'] = df['Pos'].apply(lambda x: update_position(x))\n",
    "\n",
    "df = df[df['position'] != 'Pos']\n",
    "\n",
    "df.isnull().sum()\n",
    "\n",
    "def is_float(x):\n",
    "    try:\n",
    "        float(x)\n",
    "    except ValueError:\n",
    "        return False\n",
    "    return True\n",
    "\n",
    "def is_str(x):\n",
    "    try:\n",
    "        str(x)\n",
    "    except ValueError:\n",
    "        return False\n",
    "    return True\n",
    "\n",
    "def convert_to_numeric(df, col):\n",
    "    df = df[df[col].apply(lambda x: is_float(x))]\n",
    "    df[col] = df[col].astype(float)\n",
    "    return df\n",
    "\n",
    "def convert_to_string(df, col):\n",
    "    df = df[df[col].apply(lambda x: is_str(x))]\n",
    "    df[col] = df[col].astype(str)\n",
    "    return df\n",
    "\n",
    "\n",
    "\n",
    "\n",
    "#updating variable types\n",
    "\n",
    "df = convert_to_numeric(df, \"PTS\")\n",
    "df = convert_to_string(df, \"position\")\n",
    "df = convert_to_string(df, \"Player\")\n",
    "df = convert_to_numeric(df, \"MP\")\n",
    "df = convert_to_numeric(df, \"STL\")\n",
    "df = convert_to_numeric(df, \"BLK\")\n",
    "df = convert_to_numeric(df, \"Age\")\n",
    "df = convert_to_numeric(df, \"FTA\")\n",
    "df = convert_to_numeric(df, \"ORB\")\n",
    "df = convert_to_numeric(df, 'AST')\n",
    "df = convert_to_numeric(df, 'TOV')\n",
    "df = convert_to_string(df, \"Tm\")\n",
    "df = convert_to_numeric(df, \"G\")\n",
    "df = convert_to_numeric(df, \"FTA\")\n",
    "df = convert_to_numeric(df, \"FG%\")\n",
    "df = convert_to_numeric(df, \"TRB\")\n",
    "\n"
   ]
  },
  {
   "cell_type": "code",
   "execution_count": 5,
   "id": "7467461c",
   "metadata": {
    "execution": {
     "iopub.execute_input": "2022-07-21T02:58:00.851943Z",
     "iopub.status.busy": "2022-07-21T02:58:00.851507Z",
     "iopub.status.idle": "2022-07-21T02:58:00.858020Z",
     "shell.execute_reply": "2022-07-21T02:58:00.857106Z"
    },
    "papermill": {
     "duration": 0.020404,
     "end_time": "2022-07-21T02:58:00.860096",
     "exception": false,
     "start_time": "2022-07-21T02:58:00.839692",
     "status": "completed"
    },
    "tags": []
   },
   "outputs": [],
   "source": [
    "def top_players_pos_cat(df, cat):\n",
    "    positions = [\"PG\", \"SG\", \"SF\", \"PF\", \"C\"]\n",
    "    df = df.sort_values(by = cat, ascending = False)\n",
    "    #print(df.head(5))\n",
    "    to_return = pd.DataFrame(columns = df.columns)\n",
    "    for pos in positions:\n",
    "        #print(type(df[df['position'] == pos].iloc[[0]]))\n",
    "        to_return = to_return.append(df[df['position'] == pos].iloc[[0]])\n",
    "    return to_return\n",
    "        \n",
    "        "
   ]
  },
  {
   "cell_type": "markdown",
   "id": "6de56002",
   "metadata": {
    "papermill": {
     "duration": 0.010073,
     "end_time": "2022-07-21T02:58:00.880617",
     "exception": false,
     "start_time": "2022-07-21T02:58:00.870544",
     "status": "completed"
    },
    "tags": []
   },
   "source": [
    "<a id='another_cell'></a>"
   ]
  },
  {
   "cell_type": "markdown",
   "id": "3c4cd3ed",
   "metadata": {
    "papermill": {
     "duration": 0.010141,
     "end_time": "2022-07-21T02:58:00.901126",
     "exception": false,
     "start_time": "2022-07-21T02:58:00.890985",
     "status": "completed"
    },
    "tags": []
   },
   "source": [
    "Which players had the highest PPG for each position (PG, SG, SF, PF, C)?"
   ]
  },
  {
   "cell_type": "code",
   "execution_count": 6,
   "id": "7d1dc038",
   "metadata": {
    "execution": {
     "iopub.execute_input": "2022-07-21T02:58:00.923925Z",
     "iopub.status.busy": "2022-07-21T02:58:00.923291Z",
     "iopub.status.idle": "2022-07-21T02:58:00.950847Z",
     "shell.execute_reply": "2022-07-21T02:58:00.950044Z"
    },
    "papermill": {
     "duration": 0.041607,
     "end_time": "2022-07-21T02:58:00.953223",
     "exception": false,
     "start_time": "2022-07-21T02:58:00.911616",
     "status": "completed"
    },
    "tags": []
   },
   "outputs": [],
   "source": [
    "players_pts_positions = top_players_pos_cat(df, \"PTS\")"
   ]
  },
  {
   "cell_type": "code",
   "execution_count": 7,
   "id": "d046dc62",
   "metadata": {
    "execution": {
     "iopub.execute_input": "2022-07-21T02:58:00.977386Z",
     "iopub.status.busy": "2022-07-21T02:58:00.976785Z",
     "iopub.status.idle": "2022-07-21T02:58:02.050362Z",
     "shell.execute_reply": "2022-07-21T02:58:02.049475Z"
    },
    "papermill": {
     "duration": 1.08808,
     "end_time": "2022-07-21T02:58:02.052391",
     "exception": false,
     "start_time": "2022-07-21T02:58:00.964311",
     "status": "completed"
    },
    "tags": []
   },
   "outputs": [
    {
     "data": {
      "text/html": [
       "        <script type=\"text/javascript\">\n",
       "        window.PlotlyConfig = {MathJaxConfig: 'local'};\n",
       "        if (window.MathJax && window.MathJax.Hub && window.MathJax.Hub.Config) {window.MathJax.Hub.Config({SVG: {font: \"STIX-Web\"}});}\n",
       "        if (typeof require !== 'undefined') {\n",
       "        require.undef(\"plotly\");\n",
       "        requirejs.config({\n",
       "            paths: {\n",
       "                'plotly': ['https://cdn.plot.ly/plotly-2.12.1.min']\n",
       "            }\n",
       "        });\n",
       "        require(['plotly'], function(Plotly) {\n",
       "            window._Plotly = Plotly;\n",
       "        });\n",
       "        }\n",
       "        </script>\n",
       "        "
      ]
     },
     "metadata": {},
     "output_type": "display_data"
    },
    {
     "data": {
      "text/html": [
       "<div>                            <div id=\"ac57839f-6579-4604-89f5-4dfa0bf71c62\" class=\"plotly-graph-div\" style=\"height:525px; width:100%;\"></div>            <script type=\"text/javascript\">                require([\"plotly\"], function(Plotly) {                    window.PLOTLYENV=window.PLOTLYENV || {};                                    if (document.getElementById(\"ac57839f-6579-4604-89f5-4dfa0bf71c62\")) {                    Plotly.newPlot(                        \"ac57839f-6579-4604-89f5-4dfa0bf71c62\",                        [{\"alignmentgroup\":\"True\",\"hovertemplate\":\"position=PG<br>Player=%{x}<br>PTS=%{y}<extra></extra>\",\"legendgroup\":\"PG\",\"marker\":{\"color\":\"#636efa\",\"pattern\":{\"shape\":\"\"}},\"name\":\"PG\",\"offsetgroup\":\"PG\",\"orientation\":\"v\",\"showlegend\":true,\"textposition\":\"auto\",\"x\":[\"Stephen Curry\"],\"xaxis\":\"x\",\"y\":[32.0],\"yaxis\":\"y\",\"type\":\"bar\"},{\"alignmentgroup\":\"True\",\"hovertemplate\":\"position=SG<br>Player=%{x}<br>PTS=%{y}<extra></extra>\",\"legendgroup\":\"SG\",\"marker\":{\"color\":\"#EF553B\",\"pattern\":{\"shape\":\"\"}},\"name\":\"SG\",\"offsetgroup\":\"SG\",\"orientation\":\"v\",\"showlegend\":true,\"textposition\":\"auto\",\"x\":[\"Bradley Beal\"],\"xaxis\":\"x\",\"y\":[31.3],\"yaxis\":\"y\",\"type\":\"bar\"},{\"alignmentgroup\":\"True\",\"hovertemplate\":\"position=SF<br>Player=%{x}<br>PTS=%{y}<extra></extra>\",\"legendgroup\":\"SF\",\"marker\":{\"color\":\"#00cc96\",\"pattern\":{\"shape\":\"\"}},\"name\":\"SF\",\"offsetgroup\":\"SF\",\"orientation\":\"v\",\"showlegend\":true,\"textposition\":\"auto\",\"x\":[\"Jayson Tatum\"],\"xaxis\":\"x\",\"y\":[26.4],\"yaxis\":\"y\",\"type\":\"bar\"},{\"alignmentgroup\":\"True\",\"hovertemplate\":\"position=PF<br>Player=%{x}<br>PTS=%{y}<extra></extra>\",\"legendgroup\":\"PF\",\"marker\":{\"color\":\"#ab63fa\",\"pattern\":{\"shape\":\"\"}},\"name\":\"PF\",\"offsetgroup\":\"PF\",\"orientation\":\"v\",\"showlegend\":true,\"textposition\":\"auto\",\"x\":[\"Giannis Antetokounmpo\"],\"xaxis\":\"x\",\"y\":[28.1],\"yaxis\":\"y\",\"type\":\"bar\"},{\"alignmentgroup\":\"True\",\"hovertemplate\":\"position=C<br>Player=%{x}<br>PTS=%{y}<extra></extra>\",\"legendgroup\":\"C\",\"marker\":{\"color\":\"#FFA15A\",\"pattern\":{\"shape\":\"\"}},\"name\":\"C\",\"offsetgroup\":\"C\",\"orientation\":\"v\",\"showlegend\":true,\"textposition\":\"auto\",\"x\":[\"Joel Embiid\"],\"xaxis\":\"x\",\"y\":[28.5],\"yaxis\":\"y\",\"type\":\"bar\"}],                        {\"template\":{\"data\":{\"histogram2dcontour\":[{\"type\":\"histogram2dcontour\",\"colorbar\":{\"outlinewidth\":0,\"ticks\":\"\"},\"colorscale\":[[0.0,\"#0d0887\"],[0.1111111111111111,\"#46039f\"],[0.2222222222222222,\"#7201a8\"],[0.3333333333333333,\"#9c179e\"],[0.4444444444444444,\"#bd3786\"],[0.5555555555555556,\"#d8576b\"],[0.6666666666666666,\"#ed7953\"],[0.7777777777777778,\"#fb9f3a\"],[0.8888888888888888,\"#fdca26\"],[1.0,\"#f0f921\"]]}],\"choropleth\":[{\"type\":\"choropleth\",\"colorbar\":{\"outlinewidth\":0,\"ticks\":\"\"}}],\"histogram2d\":[{\"type\":\"histogram2d\",\"colorbar\":{\"outlinewidth\":0,\"ticks\":\"\"},\"colorscale\":[[0.0,\"#0d0887\"],[0.1111111111111111,\"#46039f\"],[0.2222222222222222,\"#7201a8\"],[0.3333333333333333,\"#9c179e\"],[0.4444444444444444,\"#bd3786\"],[0.5555555555555556,\"#d8576b\"],[0.6666666666666666,\"#ed7953\"],[0.7777777777777778,\"#fb9f3a\"],[0.8888888888888888,\"#fdca26\"],[1.0,\"#f0f921\"]]}],\"heatmap\":[{\"type\":\"heatmap\",\"colorbar\":{\"outlinewidth\":0,\"ticks\":\"\"},\"colorscale\":[[0.0,\"#0d0887\"],[0.1111111111111111,\"#46039f\"],[0.2222222222222222,\"#7201a8\"],[0.3333333333333333,\"#9c179e\"],[0.4444444444444444,\"#bd3786\"],[0.5555555555555556,\"#d8576b\"],[0.6666666666666666,\"#ed7953\"],[0.7777777777777778,\"#fb9f3a\"],[0.8888888888888888,\"#fdca26\"],[1.0,\"#f0f921\"]]}],\"heatmapgl\":[{\"type\":\"heatmapgl\",\"colorbar\":{\"outlinewidth\":0,\"ticks\":\"\"},\"colorscale\":[[0.0,\"#0d0887\"],[0.1111111111111111,\"#46039f\"],[0.2222222222222222,\"#7201a8\"],[0.3333333333333333,\"#9c179e\"],[0.4444444444444444,\"#bd3786\"],[0.5555555555555556,\"#d8576b\"],[0.6666666666666666,\"#ed7953\"],[0.7777777777777778,\"#fb9f3a\"],[0.8888888888888888,\"#fdca26\"],[1.0,\"#f0f921\"]]}],\"contourcarpet\":[{\"type\":\"contourcarpet\",\"colorbar\":{\"outlinewidth\":0,\"ticks\":\"\"}}],\"contour\":[{\"type\":\"contour\",\"colorbar\":{\"outlinewidth\":0,\"ticks\":\"\"},\"colorscale\":[[0.0,\"#0d0887\"],[0.1111111111111111,\"#46039f\"],[0.2222222222222222,\"#7201a8\"],[0.3333333333333333,\"#9c179e\"],[0.4444444444444444,\"#bd3786\"],[0.5555555555555556,\"#d8576b\"],[0.6666666666666666,\"#ed7953\"],[0.7777777777777778,\"#fb9f3a\"],[0.8888888888888888,\"#fdca26\"],[1.0,\"#f0f921\"]]}],\"surface\":[{\"type\":\"surface\",\"colorbar\":{\"outlinewidth\":0,\"ticks\":\"\"},\"colorscale\":[[0.0,\"#0d0887\"],[0.1111111111111111,\"#46039f\"],[0.2222222222222222,\"#7201a8\"],[0.3333333333333333,\"#9c179e\"],[0.4444444444444444,\"#bd3786\"],[0.5555555555555556,\"#d8576b\"],[0.6666666666666666,\"#ed7953\"],[0.7777777777777778,\"#fb9f3a\"],[0.8888888888888888,\"#fdca26\"],[1.0,\"#f0f921\"]]}],\"mesh3d\":[{\"type\":\"mesh3d\",\"colorbar\":{\"outlinewidth\":0,\"ticks\":\"\"}}],\"scatter\":[{\"fillpattern\":{\"fillmode\":\"overlay\",\"size\":10,\"solidity\":0.2},\"type\":\"scatter\"}],\"parcoords\":[{\"type\":\"parcoords\",\"line\":{\"colorbar\":{\"outlinewidth\":0,\"ticks\":\"\"}}}],\"scatterpolargl\":[{\"type\":\"scatterpolargl\",\"marker\":{\"colorbar\":{\"outlinewidth\":0,\"ticks\":\"\"}}}],\"bar\":[{\"error_x\":{\"color\":\"#2a3f5f\"},\"error_y\":{\"color\":\"#2a3f5f\"},\"marker\":{\"line\":{\"color\":\"#E5ECF6\",\"width\":0.5},\"pattern\":{\"fillmode\":\"overlay\",\"size\":10,\"solidity\":0.2}},\"type\":\"bar\"}],\"scattergeo\":[{\"type\":\"scattergeo\",\"marker\":{\"colorbar\":{\"outlinewidth\":0,\"ticks\":\"\"}}}],\"scatterpolar\":[{\"type\":\"scatterpolar\",\"marker\":{\"colorbar\":{\"outlinewidth\":0,\"ticks\":\"\"}}}],\"histogram\":[{\"marker\":{\"pattern\":{\"fillmode\":\"overlay\",\"size\":10,\"solidity\":0.2}},\"type\":\"histogram\"}],\"scattergl\":[{\"type\":\"scattergl\",\"marker\":{\"colorbar\":{\"outlinewidth\":0,\"ticks\":\"\"}}}],\"scatter3d\":[{\"type\":\"scatter3d\",\"line\":{\"colorbar\":{\"outlinewidth\":0,\"ticks\":\"\"}},\"marker\":{\"colorbar\":{\"outlinewidth\":0,\"ticks\":\"\"}}}],\"scattermapbox\":[{\"type\":\"scattermapbox\",\"marker\":{\"colorbar\":{\"outlinewidth\":0,\"ticks\":\"\"}}}],\"scatterternary\":[{\"type\":\"scatterternary\",\"marker\":{\"colorbar\":{\"outlinewidth\":0,\"ticks\":\"\"}}}],\"scattercarpet\":[{\"type\":\"scattercarpet\",\"marker\":{\"colorbar\":{\"outlinewidth\":0,\"ticks\":\"\"}}}],\"carpet\":[{\"aaxis\":{\"endlinecolor\":\"#2a3f5f\",\"gridcolor\":\"white\",\"linecolor\":\"white\",\"minorgridcolor\":\"white\",\"startlinecolor\":\"#2a3f5f\"},\"baxis\":{\"endlinecolor\":\"#2a3f5f\",\"gridcolor\":\"white\",\"linecolor\":\"white\",\"minorgridcolor\":\"white\",\"startlinecolor\":\"#2a3f5f\"},\"type\":\"carpet\"}],\"table\":[{\"cells\":{\"fill\":{\"color\":\"#EBF0F8\"},\"line\":{\"color\":\"white\"}},\"header\":{\"fill\":{\"color\":\"#C8D4E3\"},\"line\":{\"color\":\"white\"}},\"type\":\"table\"}],\"barpolar\":[{\"marker\":{\"line\":{\"color\":\"#E5ECF6\",\"width\":0.5},\"pattern\":{\"fillmode\":\"overlay\",\"size\":10,\"solidity\":0.2}},\"type\":\"barpolar\"}],\"pie\":[{\"automargin\":true,\"type\":\"pie\"}]},\"layout\":{\"autotypenumbers\":\"strict\",\"colorway\":[\"#636efa\",\"#EF553B\",\"#00cc96\",\"#ab63fa\",\"#FFA15A\",\"#19d3f3\",\"#FF6692\",\"#B6E880\",\"#FF97FF\",\"#FECB52\"],\"font\":{\"color\":\"#2a3f5f\"},\"hovermode\":\"closest\",\"hoverlabel\":{\"align\":\"left\"},\"paper_bgcolor\":\"white\",\"plot_bgcolor\":\"#E5ECF6\",\"polar\":{\"bgcolor\":\"#E5ECF6\",\"angularaxis\":{\"gridcolor\":\"white\",\"linecolor\":\"white\",\"ticks\":\"\"},\"radialaxis\":{\"gridcolor\":\"white\",\"linecolor\":\"white\",\"ticks\":\"\"}},\"ternary\":{\"bgcolor\":\"#E5ECF6\",\"aaxis\":{\"gridcolor\":\"white\",\"linecolor\":\"white\",\"ticks\":\"\"},\"baxis\":{\"gridcolor\":\"white\",\"linecolor\":\"white\",\"ticks\":\"\"},\"caxis\":{\"gridcolor\":\"white\",\"linecolor\":\"white\",\"ticks\":\"\"}},\"coloraxis\":{\"colorbar\":{\"outlinewidth\":0,\"ticks\":\"\"}},\"colorscale\":{\"sequential\":[[0.0,\"#0d0887\"],[0.1111111111111111,\"#46039f\"],[0.2222222222222222,\"#7201a8\"],[0.3333333333333333,\"#9c179e\"],[0.4444444444444444,\"#bd3786\"],[0.5555555555555556,\"#d8576b\"],[0.6666666666666666,\"#ed7953\"],[0.7777777777777778,\"#fb9f3a\"],[0.8888888888888888,\"#fdca26\"],[1.0,\"#f0f921\"]],\"sequentialminus\":[[0.0,\"#0d0887\"],[0.1111111111111111,\"#46039f\"],[0.2222222222222222,\"#7201a8\"],[0.3333333333333333,\"#9c179e\"],[0.4444444444444444,\"#bd3786\"],[0.5555555555555556,\"#d8576b\"],[0.6666666666666666,\"#ed7953\"],[0.7777777777777778,\"#fb9f3a\"],[0.8888888888888888,\"#fdca26\"],[1.0,\"#f0f921\"]],\"diverging\":[[0,\"#8e0152\"],[0.1,\"#c51b7d\"],[0.2,\"#de77ae\"],[0.3,\"#f1b6da\"],[0.4,\"#fde0ef\"],[0.5,\"#f7f7f7\"],[0.6,\"#e6f5d0\"],[0.7,\"#b8e186\"],[0.8,\"#7fbc41\"],[0.9,\"#4d9221\"],[1,\"#276419\"]]},\"xaxis\":{\"gridcolor\":\"white\",\"linecolor\":\"white\",\"ticks\":\"\",\"title\":{\"standoff\":15},\"zerolinecolor\":\"white\",\"automargin\":true,\"zerolinewidth\":2},\"yaxis\":{\"gridcolor\":\"white\",\"linecolor\":\"white\",\"ticks\":\"\",\"title\":{\"standoff\":15},\"zerolinecolor\":\"white\",\"automargin\":true,\"zerolinewidth\":2},\"scene\":{\"xaxis\":{\"backgroundcolor\":\"#E5ECF6\",\"gridcolor\":\"white\",\"linecolor\":\"white\",\"showbackground\":true,\"ticks\":\"\",\"zerolinecolor\":\"white\",\"gridwidth\":2},\"yaxis\":{\"backgroundcolor\":\"#E5ECF6\",\"gridcolor\":\"white\",\"linecolor\":\"white\",\"showbackground\":true,\"ticks\":\"\",\"zerolinecolor\":\"white\",\"gridwidth\":2},\"zaxis\":{\"backgroundcolor\":\"#E5ECF6\",\"gridcolor\":\"white\",\"linecolor\":\"white\",\"showbackground\":true,\"ticks\":\"\",\"zerolinecolor\":\"white\",\"gridwidth\":2}},\"shapedefaults\":{\"line\":{\"color\":\"#2a3f5f\"}},\"annotationdefaults\":{\"arrowcolor\":\"#2a3f5f\",\"arrowhead\":0,\"arrowwidth\":1},\"geo\":{\"bgcolor\":\"white\",\"landcolor\":\"#E5ECF6\",\"subunitcolor\":\"white\",\"showland\":true,\"showlakes\":true,\"lakecolor\":\"white\"},\"title\":{\"x\":0.05},\"mapbox\":{\"style\":\"light\"}}},\"xaxis\":{\"anchor\":\"y\",\"domain\":[0.0,1.0],\"title\":{\"text\":\"Player\"}},\"yaxis\":{\"anchor\":\"x\",\"domain\":[0.0,1.0],\"title\":{\"text\":\"PTS\"}},\"legend\":{\"title\":{\"text\":\"position\"},\"tracegroupgap\":0},\"title\":{\"text\":\"PPG Leaders by Position\"},\"barmode\":\"relative\"},                        {\"responsive\": true}                    ).then(function(){\n",
       "                            \n",
       "var gd = document.getElementById('ac57839f-6579-4604-89f5-4dfa0bf71c62');\n",
       "var x = new MutationObserver(function (mutations, observer) {{\n",
       "        var display = window.getComputedStyle(gd).display;\n",
       "        if (!display || display === 'none') {{\n",
       "            console.log([gd, 'removed!']);\n",
       "            Plotly.purge(gd);\n",
       "            observer.disconnect();\n",
       "        }}\n",
       "}});\n",
       "\n",
       "// Listen for the removal of the full notebook cells\n",
       "var notebookContainer = gd.closest('#notebook-container');\n",
       "if (notebookContainer) {{\n",
       "    x.observe(notebookContainer, {childList: true});\n",
       "}}\n",
       "\n",
       "// Listen for the clearing of the current output cell\n",
       "var outputEl = gd.closest('.output');\n",
       "if (outputEl) {{\n",
       "    x.observe(outputEl, {childList: true});\n",
       "}}\n",
       "\n",
       "                        })                };                });            </script>        </div>"
      ]
     },
     "metadata": {},
     "output_type": "display_data"
    }
   ],
   "source": [
    "fig = px.bar(players_pts_positions, x='Player', y='PTS', color=\"position\", title=\"PPG Leaders by Position\")\n",
    "fig.show()"
   ]
  },
  {
   "cell_type": "code",
   "execution_count": 8,
   "id": "01f70a85",
   "metadata": {
    "execution": {
     "iopub.execute_input": "2022-07-21T02:58:02.076883Z",
     "iopub.status.busy": "2022-07-21T02:58:02.076450Z",
     "iopub.status.idle": "2022-07-21T02:58:02.086855Z",
     "shell.execute_reply": "2022-07-21T02:58:02.085814Z"
    },
    "papermill": {
     "duration": 0.025154,
     "end_time": "2022-07-21T02:58:02.089142",
     "exception": false,
     "start_time": "2022-07-21T02:58:02.063988",
     "status": "completed"
    },
    "tags": []
   },
   "outputs": [],
   "source": [
    "asts_tos = convert_to_numeric(df, \"AST\")\n",
    "asts_tos = convert_to_numeric(asts_tos, \"TOV\")\n",
    "asts_tos = asts_tos[asts_tos['MP'] >= 24]\n"
   ]
  },
  {
   "cell_type": "code",
   "execution_count": 9,
   "id": "cf717687",
   "metadata": {
    "execution": {
     "iopub.execute_input": "2022-07-21T02:58:02.113495Z",
     "iopub.status.busy": "2022-07-21T02:58:02.112560Z",
     "iopub.status.idle": "2022-07-21T02:58:02.236880Z",
     "shell.execute_reply": "2022-07-21T02:58:02.235935Z"
    },
    "papermill": {
     "duration": 0.138878,
     "end_time": "2022-07-21T02:58:02.239324",
     "exception": false,
     "start_time": "2022-07-21T02:58:02.100446",
     "status": "completed"
    },
    "tags": []
   },
   "outputs": [
    {
     "data": {
      "text/html": [
       "<div>                            <div id=\"64c7a64d-b899-4b64-89a1-cc26f773b992\" class=\"plotly-graph-div\" style=\"height:525px; width:100%;\"></div>            <script type=\"text/javascript\">                require([\"plotly\"], function(Plotly) {                    window.PLOTLYENV=window.PLOTLYENV || {};                                    if (document.getElementById(\"64c7a64d-b899-4b64-89a1-cc26f773b992\")) {                    Plotly.newPlot(                        \"64c7a64d-b899-4b64-89a1-cc26f773b992\",                        [{\"customdata\":[[\"Steven Adams\"],[\"Bam Adebayo\"],[\"LaMarcus Aldridge\"],[\"LaMarcus Aldridge\"],[\"LaMarcus Aldridge\"],[\"Jarrett Allen\"],[\"Jarrett Allen\"],[\"Jarrett Allen\"],[\"Deandre Ayton\"],[\"Khem Birch\"],[\"Chris Boucher\"],[\"Thomas Bryant\"],[\"Clint Capela\"],[\"Wendell Carter Jr.\"],[\"Wendell Carter Jr.\"],[\"Wendell Carter Jr.\"],[\"Andre Drummond\"],[\"Andre Drummond\"],[\"Andre Drummond\"],[\"Joel Embiid\"],[\"Enes Freedom\"],[\"Rudy Gobert\"],[\"Jeff Green\"],[\"Richaun Holmes\"],[\"Al Horford\"],[\"Nikola Jokić\"],[\"Brook Lopez\"],[\"Nerlens Noel\"],[\"Kelly Olynyk\"],[\"Kelly Olynyk\"],[\"Mason Plumlee\"],[\"Jakob Poeltl\"],[\"Kristaps Porziņģis\"],[\"Mitchell Robinson\"],[\"Daniel Theis\"],[\"Daniel Theis\"],[\"Daniel Theis\"],[\"Karl-Anthony Towns\"],[\"Myles Turner\"],[\"Jonas Valančiūnas\"],[\"Nikola Vučević\"],[\"Nikola Vučević\"],[\"Nikola Vučević\"],[\"Moritz Wagner\"],[\"Christian Wood\"]],\"hovertemplate\":\"position=C<br>AST=%{x}<br>TOV=%{y}<br>Player=%{customdata[0]}<extra></extra>\",\"legendgroup\":\"C\",\"marker\":{\"color\":\"#636efa\",\"symbol\":\"circle\"},\"mode\":\"markers\",\"name\":\"C\",\"orientation\":\"v\",\"showlegend\":true,\"x\":[1.9,5.4,1.9,1.7,2.6,1.7,1.7,1.7,1.4,1.9,1.1,1.5,0.8,1.9,2.2,1.6,2.0,2.6,1.4,2.8,1.2,1.3,1.6,1.7,3.4,8.3,0.7,0.7,2.9,2.1,3.6,1.9,1.6,0.5,1.7,1.6,1.8,4.5,1.0,1.8,3.8,3.8,3.9,1.1,1.7],\"xaxis\":\"x\",\"y\":[1.3,2.6,1.0,1.0,1.4,1.6,1.8,1.5,1.5,1.1,0.8,1.1,1.2,1.4,1.5,1.3,2.7,3.2,2.0,3.1,1.1,1.7,0.8,1.2,1.0,3.1,0.9,1.0,1.8,1.3,1.9,1.2,1.2,0.8,1.0,1.0,1.1,3.2,1.4,1.6,1.8,1.9,1.7,1.2,2.0],\"yaxis\":\"y\",\"type\":\"scatter\"},{\"customdata\":[[\"Grayson Allen\"],[\"Dwayne Bacon\"],[\"RJ Barrett\"],[\"Bradley Beal\"],[\"Malik Beasley\"],[\"Eric Bledsoe\"],[\"Bogdan Bogdanović\"],[\"Devin Booker\"],[\"Armoni Brooks\"],[\"Jaylen Brown\"],[\"Sterling Brown\"],[\"Elijah Bryant\"],[\"Alec Burks\"],[\"Kentavious Caldwell-Pope\"],[\"Michael Carter-Williams\"],[\"Jordan Clarkson\"],[\"Seth Curry\"],[\"Donte DiVincenzo\"],[\"Luguentz Dort\"],[\"Anthony Edwards\"],[\"Evan Fournier\"],[\"Shai Gilgeous-Alexander\"],[\"Eric Gordon\"],[\"R.J. Hampton\"],[\"Tim Hardaway Jr.\"],[\"James Harden\"],[\"Gary Harris\"],[\"Gary Harris\"],[\"Gary Harris\"],[\"Tyler Herro\"],[\"Buddy Hield\"],[\"Justin Holiday\"],[\"Kevin Huerter\"],[\"Josh Jackson\"],[\"Zach LaVine\"],[\"Caris LeVert\"],[\"Caris LeVert\"],[\"Caris LeVert\"],[\"CJ McCollum\"],[\"Isaac Okoro\"],[\"Victor Oladipo\"],[\"Victor Oladipo\"],[\"Victor Oladipo\"],[\"Victor Oladipo\"],[\"Kevin Porter Jr.\"],[\"Norman Powell\"],[\"Norman Powell\"],[\"Josh Richardson\"],[\"Austin Rivers\"],[\"Terrence Ross\"],[\"Terry Rozier\"],[\"Dennis Schröder\"],[\"Collin Sexton\"],[\"Garrett Temple\"],[\"Khyri Thomas\"],[\"Gary Trent Jr.\"],[\"Gary Trent Jr.\"],[\"Gary Trent Jr.\"],[\"Fred VanVleet\"],[\"Lonnie Walker IV\"],[\"Derrick White\"],[\"Delon Wright\"],[\"Delon Wright\"]],\"hovertemplate\":\"position=SG<br>AST=%{x}<br>TOV=%{y}<br>Player=%{customdata[0]}<extra></extra>\",\"legendgroup\":\"SG\",\"marker\":{\"color\":\"#EF553B\",\"symbol\":\"circle\"},\"mode\":\"markers\",\"name\":\"SG\",\"orientation\":\"v\",\"showlegend\":true,\"x\":[2.2,1.3,3.0,4.4,2.4,3.8,3.3,4.3,1.5,3.4,1.4,3.0,2.2,1.9,4.2,2.5,2.7,3.1,1.7,2.9,3.1,5.9,2.6,2.8,1.8,10.4,2.0,1.7,2.3,3.4,3.6,1.7,3.5,2.3,4.9,5.2,6.0,4.9,4.7,1.9,4.6,4.2,5.0,3.5,6.3,1.9,1.8,2.6,2.6,2.3,4.2,5.8,4.4,2.2,5.0,1.4,1.4,1.3,6.3,1.7,3.5,4.4,5.0],\"xaxis\":\"x\",\"y\":[1.0,0.6,1.9,3.1,1.6,1.6,1.2,3.1,1.1,2.7,0.8,4.0,1.0,1.0,2.2,1.7,1.1,1.4,1.5,2.2,1.2,3.0,1.9,1.6,0.9,4.3,0.9,0.7,1.2,1.9,1.8,0.8,1.1,2.3,3.5,2.2,2.2,2.2,1.4,1.3,2.5,2.0,2.6,3.5,3.5,1.7,1.8,1.3,0.9,1.6,1.9,2.7,2.8,1.0,1.2,0.7,0.8,0.7,1.8,1.1,1.3,1.3,1.3],\"yaxis\":\"y\",\"type\":\"scatter\"},{\"customdata\":[[\"Kyle Anderson\"],[\"Giannis Antetokounmpo\"],[\"Carmelo Anthony\"],[\"Marvin Bagley III\"],[\"Harrison Barnes\"],[\"Darius Bazley\"],[\"Dāvis Bertāns\"],[\"Miles Bridges\"],[\"Brandon Clarke\"],[\"John Collins\"],[\"Robert Covington\"],[\"Jae Crowder\"],[\"Anthony Davis\"],[\"DeMar DeRozan\"],[\"Kevin Durant\"],[\"Dorian Finney-Smith\"],[\"Danilo Gallinari\"],[\"Aaron Gordon\"],[\"Aaron Gordon\"],[\"Aaron Gordon\"],[\"Draymond Green\"],[\"Blake Griffin\"],[\"Blake Griffin\"],[\"Rui Hachimura\"],[\"Maurice Harkless\"],[\"Tobias Harris\"],[\"Cameron Johnson\"],[\"James Johnson\"],[\"Maxi Kleber\"],[\"Kevin Love\"],[\"Lauri Markkanen\"],[\"Jaden McDaniels\"],[\"Doug McDermott\"],[\"Marcus Morris\"],[\"Larry Nance Jr.\"],[\"Chuma Okeke\"],[\"Kelly Olynyk\"],[\"Aleksej Pokusevski\"],[\"Julius Randle\"],[\"Domantas Sabonis\"],[\"Pascal Siakam\"],[\"P.J. Tucker\"],[\"P.J. Tucker\"],[\"P.J. Washington\"],[\"Andrew Wiggins\"],[\"Patrick Williams\"],[\"Zion Williamson\"],[\"Thaddeus Young\"]],\"hovertemplate\":\"position=PF<br>AST=%{x}<br>TOV=%{y}<br>Player=%{customdata[0]}<extra></extra>\",\"legendgroup\":\"PF\",\"marker\":{\"color\":\"#00cc96\",\"symbol\":\"circle\"},\"mode\":\"markers\",\"name\":\"PF\",\"orientation\":\"v\",\"showlegend\":true,\"x\":[3.6,5.9,1.5,1.0,3.5,1.8,0.9,2.2,1.6,1.2,1.7,2.1,3.1,6.9,5.6,1.7,1.5,3.2,4.2,2.2,8.9,3.0,3.9,1.4,1.4,3.5,1.4,2.2,1.4,2.5,0.9,1.1,1.3,1.0,3.1,2.2,4.1,2.2,6.0,6.7,4.5,1.2,1.4,2.5,2.4,1.4,3.7,4.3],\"xaxis\":\"x\",\"y\":[1.2,3.4,0.9,1.4,1.6,2.2,0.6,1.6,0.6,1.3,0.9,0.9,2.1,2.0,3.4,0.8,0.8,1.9,2.7,1.2,3.0,1.3,1.6,1.2,0.7,1.7,0.7,1.3,0.6,1.5,1.0,0.7,0.8,1.0,1.6,0.8,2.6,2.2,3.4,3.4,2.3,0.8,1.0,2.0,1.8,1.4,2.7,2.0],\"yaxis\":\"y\",\"type\":\"scatter\"},{\"customdata\":[[\"Cole Anthony\"],[\"LaMelo Ball\"],[\"Lonzo Ball\"],[\"Malcolm Brogdon\"],[\"Jalen Brunson\"],[\"Mike Conley\"],[\"Stephen Curry\"],[\"Luka Dončić\"],[\"Goran Dragić\"],[\"De'Aaron Fox\"],[\"Markelle Fultz\"],[\"Darius Garland\"],[\"Devonte' Graham\"],[\"Tyrese Haliburton\"],[\"James Harden\"],[\"James Harden\"],[\"Killian Hayes\"],[\"George Hill\"],[\"Jrue Holiday\"],[\"Kyrie Irving\"],[\"LeBron James\"],[\"Cory Joseph\"],[\"Damian Lillard\"],[\"Kyle Lowry\"],[\"Théo Maledon\"],[\"T.J. McConnell\"],[\"Patty Mills\"],[\"Donovan Mitchell\"],[\"Ja Morant\"],[\"Monte Morris\"],[\"Dejounte Murray\"],[\"Jamal Murray\"],[\"Kendrick Nunn\"],[\"Chris Paul\"],[\"Derrick Rose\"],[\"Derrick Rose\"],[\"Ricky Rubio\"],[\"D'Angelo Russell\"],[\"Ben Simmons\"],[\"Marcus Smart\"],[\"Kemba Walker\"],[\"John Wall\"],[\"Russell Westbrook\"],[\"Coby White\"],[\"Delon Wright\"],[\"Trae Young\"]],\"hovertemplate\":\"position=PG<br>AST=%{x}<br>TOV=%{y}<br>Player=%{customdata[0]}<extra></extra>\",\"legendgroup\":\"PG\",\"marker\":{\"color\":\"#ab63fa\",\"symbol\":\"circle\"},\"mode\":\"markers\",\"name\":\"PG\",\"orientation\":\"v\",\"showlegend\":true,\"x\":[4.1,6.1,5.7,5.9,3.5,6.0,5.8,8.6,4.4,7.2,5.4,6.1,5.4,5.3,10.8,10.9,5.3,3.1,6.1,6.0,7.8,5.5,7.5,7.3,3.5,6.6,2.4,5.2,7.4,3.2,5.4,4.8,2.6,8.9,4.2,4.2,6.4,5.8,6.9,5.7,4.9,6.9,11.7,4.8,3.6,9.4],\"xaxis\":\"x\",\"y\":[2.3,2.8,2.2,2.1,1.2,1.9,3.4,4.3,2.4,3.0,2.3,3.0,1.5,1.6,4.0,4.0,3.2,0.9,2.2,2.4,3.7,1.8,3.0,2.7,2.2,2.0,1.0,2.8,3.2,0.7,1.7,2.3,1.4,2.2,1.6,1.4,1.6,2.7,3.0,2.0,2.0,3.5,4.8,2.3,1.3,4.1],\"yaxis\":\"y\",\"type\":\"scatter\"},{\"customdata\":[[\"OG Anunoby\"],[\"Trevor Ariza\"],[\"Will Barton\"],[\"Nicolas Batum\"],[\"Saddiq Bey\"],[\"Bojan Bogdanović\"],[\"Ignas Brazdeikis\"],[\"Mikal Bridges\"],[\"Oshae Brissett\"],[\"Dillon Brooks\"],[\"Reggie Bullock\"],[\"Jimmy Butler\"],[\"James Ennis III\"],[\"Evan Fournier\"],[\"Evan Fournier\"],[\"Paul George\"],[\"Jerami Grant\"],[\"Danny Green\"],[\"Joe Harris\"],[\"Josh Hart\"],[\"Gordon Hayward\"],[\"Danuel House Jr.\"],[\"De'Andre Hunter\"],[\"Joe Ingles\"],[\"Brandon Ingram\"],[\"Justin Jackson\"],[\"Keldon Johnson\"],[\"Kyle Kuzma\"],[\"Kawhi Leonard\"],[\"Khris Middleton\"],[\"Royce O'Neale\"],[\"Cedi Osman\"],[\"Kelly Oubre Jr.\"],[\"Michael Porter Jr.\"],[\"Norman Powell\"],[\"Cam Reddish\"],[\"Duncan Robinson\"],[\"Jae'Sean Tate\"],[\"Jayson Tatum\"],[\"T.J. Warren\"]],\"hovertemplate\":\"position=SF<br>AST=%{x}<br>TOV=%{y}<br>Player=%{customdata[0]}<extra></extra>\",\"legendgroup\":\"SF\",\"marker\":{\"color\":\"#FFA15A\",\"symbol\":\"circle\"},\"mode\":\"markers\",\"name\":\"SF\",\"orientation\":\"v\",\"showlegend\":true,\"x\":[2.2,1.8,3.2,2.2,1.4,1.9,2.0,2.1,0.9,2.3,1.5,7.1,1.5,3.4,3.7,5.2,2.8,1.7,1.9,2.3,4.1,1.9,1.9,4.7,4.9,1.0,1.8,1.9,5.2,5.4,2.5,2.9,1.3,1.1,1.9,1.3,1.8,2.5,4.3,1.3],\"xaxis\":\"x\",\"y\":[1.7,0.7,1.7,0.8,0.9,1.8,1.4,0.8,0.5,1.8,0.7,2.1,0.9,1.7,2.1,3.3,2.0,1.0,0.9,1.0,2.1,1.0,1.3,1.7,2.5,1.0,1.1,1.7,2.0,2.6,1.2,1.4,1.3,1.3,1.6,1.3,1.1,1.4,2.7,1.0],\"yaxis\":\"y\",\"type\":\"scatter\"}],                        {\"template\":{\"data\":{\"histogram2dcontour\":[{\"type\":\"histogram2dcontour\",\"colorbar\":{\"outlinewidth\":0,\"ticks\":\"\"},\"colorscale\":[[0.0,\"#0d0887\"],[0.1111111111111111,\"#46039f\"],[0.2222222222222222,\"#7201a8\"],[0.3333333333333333,\"#9c179e\"],[0.4444444444444444,\"#bd3786\"],[0.5555555555555556,\"#d8576b\"],[0.6666666666666666,\"#ed7953\"],[0.7777777777777778,\"#fb9f3a\"],[0.8888888888888888,\"#fdca26\"],[1.0,\"#f0f921\"]]}],\"choropleth\":[{\"type\":\"choropleth\",\"colorbar\":{\"outlinewidth\":0,\"ticks\":\"\"}}],\"histogram2d\":[{\"type\":\"histogram2d\",\"colorbar\":{\"outlinewidth\":0,\"ticks\":\"\"},\"colorscale\":[[0.0,\"#0d0887\"],[0.1111111111111111,\"#46039f\"],[0.2222222222222222,\"#7201a8\"],[0.3333333333333333,\"#9c179e\"],[0.4444444444444444,\"#bd3786\"],[0.5555555555555556,\"#d8576b\"],[0.6666666666666666,\"#ed7953\"],[0.7777777777777778,\"#fb9f3a\"],[0.8888888888888888,\"#fdca26\"],[1.0,\"#f0f921\"]]}],\"heatmap\":[{\"type\":\"heatmap\",\"colorbar\":{\"outlinewidth\":0,\"ticks\":\"\"},\"colorscale\":[[0.0,\"#0d0887\"],[0.1111111111111111,\"#46039f\"],[0.2222222222222222,\"#7201a8\"],[0.3333333333333333,\"#9c179e\"],[0.4444444444444444,\"#bd3786\"],[0.5555555555555556,\"#d8576b\"],[0.6666666666666666,\"#ed7953\"],[0.7777777777777778,\"#fb9f3a\"],[0.8888888888888888,\"#fdca26\"],[1.0,\"#f0f921\"]]}],\"heatmapgl\":[{\"type\":\"heatmapgl\",\"colorbar\":{\"outlinewidth\":0,\"ticks\":\"\"},\"colorscale\":[[0.0,\"#0d0887\"],[0.1111111111111111,\"#46039f\"],[0.2222222222222222,\"#7201a8\"],[0.3333333333333333,\"#9c179e\"],[0.4444444444444444,\"#bd3786\"],[0.5555555555555556,\"#d8576b\"],[0.6666666666666666,\"#ed7953\"],[0.7777777777777778,\"#fb9f3a\"],[0.8888888888888888,\"#fdca26\"],[1.0,\"#f0f921\"]]}],\"contourcarpet\":[{\"type\":\"contourcarpet\",\"colorbar\":{\"outlinewidth\":0,\"ticks\":\"\"}}],\"contour\":[{\"type\":\"contour\",\"colorbar\":{\"outlinewidth\":0,\"ticks\":\"\"},\"colorscale\":[[0.0,\"#0d0887\"],[0.1111111111111111,\"#46039f\"],[0.2222222222222222,\"#7201a8\"],[0.3333333333333333,\"#9c179e\"],[0.4444444444444444,\"#bd3786\"],[0.5555555555555556,\"#d8576b\"],[0.6666666666666666,\"#ed7953\"],[0.7777777777777778,\"#fb9f3a\"],[0.8888888888888888,\"#fdca26\"],[1.0,\"#f0f921\"]]}],\"surface\":[{\"type\":\"surface\",\"colorbar\":{\"outlinewidth\":0,\"ticks\":\"\"},\"colorscale\":[[0.0,\"#0d0887\"],[0.1111111111111111,\"#46039f\"],[0.2222222222222222,\"#7201a8\"],[0.3333333333333333,\"#9c179e\"],[0.4444444444444444,\"#bd3786\"],[0.5555555555555556,\"#d8576b\"],[0.6666666666666666,\"#ed7953\"],[0.7777777777777778,\"#fb9f3a\"],[0.8888888888888888,\"#fdca26\"],[1.0,\"#f0f921\"]]}],\"mesh3d\":[{\"type\":\"mesh3d\",\"colorbar\":{\"outlinewidth\":0,\"ticks\":\"\"}}],\"scatter\":[{\"fillpattern\":{\"fillmode\":\"overlay\",\"size\":10,\"solidity\":0.2},\"type\":\"scatter\"}],\"parcoords\":[{\"type\":\"parcoords\",\"line\":{\"colorbar\":{\"outlinewidth\":0,\"ticks\":\"\"}}}],\"scatterpolargl\":[{\"type\":\"scatterpolargl\",\"marker\":{\"colorbar\":{\"outlinewidth\":0,\"ticks\":\"\"}}}],\"bar\":[{\"error_x\":{\"color\":\"#2a3f5f\"},\"error_y\":{\"color\":\"#2a3f5f\"},\"marker\":{\"line\":{\"color\":\"#E5ECF6\",\"width\":0.5},\"pattern\":{\"fillmode\":\"overlay\",\"size\":10,\"solidity\":0.2}},\"type\":\"bar\"}],\"scattergeo\":[{\"type\":\"scattergeo\",\"marker\":{\"colorbar\":{\"outlinewidth\":0,\"ticks\":\"\"}}}],\"scatterpolar\":[{\"type\":\"scatterpolar\",\"marker\":{\"colorbar\":{\"outlinewidth\":0,\"ticks\":\"\"}}}],\"histogram\":[{\"marker\":{\"pattern\":{\"fillmode\":\"overlay\",\"size\":10,\"solidity\":0.2}},\"type\":\"histogram\"}],\"scattergl\":[{\"type\":\"scattergl\",\"marker\":{\"colorbar\":{\"outlinewidth\":0,\"ticks\":\"\"}}}],\"scatter3d\":[{\"type\":\"scatter3d\",\"line\":{\"colorbar\":{\"outlinewidth\":0,\"ticks\":\"\"}},\"marker\":{\"colorbar\":{\"outlinewidth\":0,\"ticks\":\"\"}}}],\"scattermapbox\":[{\"type\":\"scattermapbox\",\"marker\":{\"colorbar\":{\"outlinewidth\":0,\"ticks\":\"\"}}}],\"scatterternary\":[{\"type\":\"scatterternary\",\"marker\":{\"colorbar\":{\"outlinewidth\":0,\"ticks\":\"\"}}}],\"scattercarpet\":[{\"type\":\"scattercarpet\",\"marker\":{\"colorbar\":{\"outlinewidth\":0,\"ticks\":\"\"}}}],\"carpet\":[{\"aaxis\":{\"endlinecolor\":\"#2a3f5f\",\"gridcolor\":\"white\",\"linecolor\":\"white\",\"minorgridcolor\":\"white\",\"startlinecolor\":\"#2a3f5f\"},\"baxis\":{\"endlinecolor\":\"#2a3f5f\",\"gridcolor\":\"white\",\"linecolor\":\"white\",\"minorgridcolor\":\"white\",\"startlinecolor\":\"#2a3f5f\"},\"type\":\"carpet\"}],\"table\":[{\"cells\":{\"fill\":{\"color\":\"#EBF0F8\"},\"line\":{\"color\":\"white\"}},\"header\":{\"fill\":{\"color\":\"#C8D4E3\"},\"line\":{\"color\":\"white\"}},\"type\":\"table\"}],\"barpolar\":[{\"marker\":{\"line\":{\"color\":\"#E5ECF6\",\"width\":0.5},\"pattern\":{\"fillmode\":\"overlay\",\"size\":10,\"solidity\":0.2}},\"type\":\"barpolar\"}],\"pie\":[{\"automargin\":true,\"type\":\"pie\"}]},\"layout\":{\"autotypenumbers\":\"strict\",\"colorway\":[\"#636efa\",\"#EF553B\",\"#00cc96\",\"#ab63fa\",\"#FFA15A\",\"#19d3f3\",\"#FF6692\",\"#B6E880\",\"#FF97FF\",\"#FECB52\"],\"font\":{\"color\":\"#2a3f5f\"},\"hovermode\":\"closest\",\"hoverlabel\":{\"align\":\"left\"},\"paper_bgcolor\":\"white\",\"plot_bgcolor\":\"#E5ECF6\",\"polar\":{\"bgcolor\":\"#E5ECF6\",\"angularaxis\":{\"gridcolor\":\"white\",\"linecolor\":\"white\",\"ticks\":\"\"},\"radialaxis\":{\"gridcolor\":\"white\",\"linecolor\":\"white\",\"ticks\":\"\"}},\"ternary\":{\"bgcolor\":\"#E5ECF6\",\"aaxis\":{\"gridcolor\":\"white\",\"linecolor\":\"white\",\"ticks\":\"\"},\"baxis\":{\"gridcolor\":\"white\",\"linecolor\":\"white\",\"ticks\":\"\"},\"caxis\":{\"gridcolor\":\"white\",\"linecolor\":\"white\",\"ticks\":\"\"}},\"coloraxis\":{\"colorbar\":{\"outlinewidth\":0,\"ticks\":\"\"}},\"colorscale\":{\"sequential\":[[0.0,\"#0d0887\"],[0.1111111111111111,\"#46039f\"],[0.2222222222222222,\"#7201a8\"],[0.3333333333333333,\"#9c179e\"],[0.4444444444444444,\"#bd3786\"],[0.5555555555555556,\"#d8576b\"],[0.6666666666666666,\"#ed7953\"],[0.7777777777777778,\"#fb9f3a\"],[0.8888888888888888,\"#fdca26\"],[1.0,\"#f0f921\"]],\"sequentialminus\":[[0.0,\"#0d0887\"],[0.1111111111111111,\"#46039f\"],[0.2222222222222222,\"#7201a8\"],[0.3333333333333333,\"#9c179e\"],[0.4444444444444444,\"#bd3786\"],[0.5555555555555556,\"#d8576b\"],[0.6666666666666666,\"#ed7953\"],[0.7777777777777778,\"#fb9f3a\"],[0.8888888888888888,\"#fdca26\"],[1.0,\"#f0f921\"]],\"diverging\":[[0,\"#8e0152\"],[0.1,\"#c51b7d\"],[0.2,\"#de77ae\"],[0.3,\"#f1b6da\"],[0.4,\"#fde0ef\"],[0.5,\"#f7f7f7\"],[0.6,\"#e6f5d0\"],[0.7,\"#b8e186\"],[0.8,\"#7fbc41\"],[0.9,\"#4d9221\"],[1,\"#276419\"]]},\"xaxis\":{\"gridcolor\":\"white\",\"linecolor\":\"white\",\"ticks\":\"\",\"title\":{\"standoff\":15},\"zerolinecolor\":\"white\",\"automargin\":true,\"zerolinewidth\":2},\"yaxis\":{\"gridcolor\":\"white\",\"linecolor\":\"white\",\"ticks\":\"\",\"title\":{\"standoff\":15},\"zerolinecolor\":\"white\",\"automargin\":true,\"zerolinewidth\":2},\"scene\":{\"xaxis\":{\"backgroundcolor\":\"#E5ECF6\",\"gridcolor\":\"white\",\"linecolor\":\"white\",\"showbackground\":true,\"ticks\":\"\",\"zerolinecolor\":\"white\",\"gridwidth\":2},\"yaxis\":{\"backgroundcolor\":\"#E5ECF6\",\"gridcolor\":\"white\",\"linecolor\":\"white\",\"showbackground\":true,\"ticks\":\"\",\"zerolinecolor\":\"white\",\"gridwidth\":2},\"zaxis\":{\"backgroundcolor\":\"#E5ECF6\",\"gridcolor\":\"white\",\"linecolor\":\"white\",\"showbackground\":true,\"ticks\":\"\",\"zerolinecolor\":\"white\",\"gridwidth\":2}},\"shapedefaults\":{\"line\":{\"color\":\"#2a3f5f\"}},\"annotationdefaults\":{\"arrowcolor\":\"#2a3f5f\",\"arrowhead\":0,\"arrowwidth\":1},\"geo\":{\"bgcolor\":\"white\",\"landcolor\":\"#E5ECF6\",\"subunitcolor\":\"white\",\"showland\":true,\"showlakes\":true,\"lakecolor\":\"white\"},\"title\":{\"x\":0.05},\"mapbox\":{\"style\":\"light\"}}},\"xaxis\":{\"anchor\":\"y\",\"domain\":[0.0,1.0],\"title\":{\"text\":\"AST\"}},\"yaxis\":{\"anchor\":\"x\",\"domain\":[0.0,1.0],\"title\":{\"text\":\"TOV\"}},\"legend\":{\"title\":{\"text\":\"position\"},\"tracegroupgap\":0},\"title\":{\"text\":\"AST + TOV w/ 24 + minutes played\"},\"shapes\":[{\"type\":\"line\",\"x0\":0,\"x1\":1,\"xref\":\"x domain\",\"y0\":1.771074380165289,\"y1\":1.771074380165289,\"yref\":\"y\"},{\"type\":\"line\",\"x0\":3.402479338842975,\"x1\":3.402479338842975,\"xref\":\"x\",\"y0\":0,\"y1\":1,\"yref\":\"y domain\"}]},                        {\"responsive\": true}                    ).then(function(){\n",
       "                            \n",
       "var gd = document.getElementById('64c7a64d-b899-4b64-89a1-cc26f773b992');\n",
       "var x = new MutationObserver(function (mutations, observer) {{\n",
       "        var display = window.getComputedStyle(gd).display;\n",
       "        if (!display || display === 'none') {{\n",
       "            console.log([gd, 'removed!']);\n",
       "            Plotly.purge(gd);\n",
       "            observer.disconnect();\n",
       "        }}\n",
       "}});\n",
       "\n",
       "// Listen for the removal of the full notebook cells\n",
       "var notebookContainer = gd.closest('#notebook-container');\n",
       "if (notebookContainer) {{\n",
       "    x.observe(notebookContainer, {childList: true});\n",
       "}}\n",
       "\n",
       "// Listen for the clearing of the current output cell\n",
       "var outputEl = gd.closest('.output');\n",
       "if (outputEl) {{\n",
       "    x.observe(outputEl, {childList: true});\n",
       "}}\n",
       "\n",
       "                        })                };                });            </script>        </div>"
      ]
     },
     "metadata": {},
     "output_type": "display_data"
    }
   ],
   "source": [
    "fig = px.scatter(asts_tos, x = 'AST', y = 'TOV', color = 'position', hover_data = ['Player', 'AST', 'TOV'], title= \"AST + TOV w/ 24 + minutes played\")\n",
    "fig.add_hline(y=asts_tos['TOV'].mean())\n",
    "fig.add_vline(x =asts_tos['AST'].mean())\n",
    "fig.show()"
   ]
  },
  {
   "cell_type": "markdown",
   "id": "647efec0",
   "metadata": {
    "papermill": {
     "duration": 0.011116,
     "end_time": "2022-07-21T02:58:02.261962",
     "exception": false,
     "start_time": "2022-07-21T02:58:02.250846",
     "status": "completed"
    },
    "tags": []
   },
   "source": [
    "Players averaging more turnovers than assists are primarily non PGs and mostly big men. Of particular notice is the Russell Westbrook outlier, averaging both the most assists and most turnovers of players playing more than 24 minutes. Chris Paul and Jimmy Butler both are high assist players, but also low turnover players. Upon deeper inspection, we can also see Nikola Jokic averaging 3+ more assists per game than the next highest center, KAT."
   ]
  },
  {
   "cell_type": "code",
   "execution_count": 10,
   "id": "1b4b03b9",
   "metadata": {
    "execution": {
     "iopub.execute_input": "2022-07-21T02:58:02.287333Z",
     "iopub.status.busy": "2022-07-21T02:58:02.286277Z",
     "iopub.status.idle": "2022-07-21T02:58:02.363786Z",
     "shell.execute_reply": "2022-07-21T02:58:02.362706Z"
    },
    "papermill": {
     "duration": 0.092665,
     "end_time": "2022-07-21T02:58:02.366069",
     "exception": false,
     "start_time": "2022-07-21T02:58:02.273404",
     "status": "completed"
    },
    "tags": []
   },
   "outputs": [
    {
     "data": {
      "text/html": [
       "<div>                            <div id=\"2b27b0e6-28de-4841-ab2a-ac16e677f142\" class=\"plotly-graph-div\" style=\"height:525px; width:100%;\"></div>            <script type=\"text/javascript\">                require([\"plotly\"], function(Plotly) {                    window.PLOTLYENV=window.PLOTLYENV || {};                                    if (document.getElementById(\"2b27b0e6-28de-4841-ab2a-ac16e677f142\")) {                    Plotly.newPlot(                        \"2b27b0e6-28de-4841-ab2a-ac16e677f142\",                        [{\"alignmentgroup\":\"True\",\"hovertemplate\":\"position=C<br>Player=%{x}<br>STOCKS=%{y}<extra></extra>\",\"legendgroup\":\"C\",\"marker\":{\"color\":\"#636efa\",\"pattern\":{\"shape\":\"\"}},\"name\":\"C\",\"offsetgroup\":\"C\",\"orientation\":\"v\",\"showlegend\":true,\"textposition\":\"auto\",\"x\":[\"Myles Turner\",\"Rudy Gobert\",\"Nerlens Noel\",\"LaMarcus Aldridge\",\"Andre Drummond\",\"Clint Capela\",\"Mitchell Robinson\",\"Chris Boucher\",\"Andre Drummond\",\"Jakob Poeltl\"],\"xaxis\":\"x\",\"y\":[4.3,3.3000000000000003,3.3000000000000003,2.8000000000000003,2.8,2.7,2.6,2.5,2.5,2.5],\"yaxis\":\"y\",\"type\":\"bar\"},{\"alignmentgroup\":\"True\",\"hovertemplate\":\"position=SG<br>Player=%{x}<br>STOCKS=%{y}<extra></extra>\",\"legendgroup\":\"SG\",\"marker\":{\"color\":\"#EF553B\",\"pattern\":{\"shape\":\"\"}},\"name\":\"SG\",\"offsetgroup\":\"SG\",\"orientation\":\"v\",\"showlegend\":true,\"textposition\":\"auto\",\"x\":[\"Khyri Thomas\"],\"xaxis\":\"x\",\"y\":[3.0],\"yaxis\":\"y\",\"type\":\"bar\"},{\"alignmentgroup\":\"True\",\"hovertemplate\":\"position=PF<br>Player=%{x}<br>STOCKS=%{y}<extra></extra>\",\"legendgroup\":\"PF\",\"marker\":{\"color\":\"#00cc96\",\"pattern\":{\"shape\":\"\"}},\"name\":\"PF\",\"offsetgroup\":\"PF\",\"orientation\":\"v\",\"showlegend\":true,\"textposition\":\"auto\",\"x\":[\"Anthony Davis\",\"Robert Covington\",\"Draymond Green\",\"Giannis Antetokounmpo\"],\"xaxis\":\"x\",\"y\":[2.9000000000000004,2.5999999999999996,2.5,2.4],\"yaxis\":\"y\",\"type\":\"bar\"}],                        {\"template\":{\"data\":{\"histogram2dcontour\":[{\"type\":\"histogram2dcontour\",\"colorbar\":{\"outlinewidth\":0,\"ticks\":\"\"},\"colorscale\":[[0.0,\"#0d0887\"],[0.1111111111111111,\"#46039f\"],[0.2222222222222222,\"#7201a8\"],[0.3333333333333333,\"#9c179e\"],[0.4444444444444444,\"#bd3786\"],[0.5555555555555556,\"#d8576b\"],[0.6666666666666666,\"#ed7953\"],[0.7777777777777778,\"#fb9f3a\"],[0.8888888888888888,\"#fdca26\"],[1.0,\"#f0f921\"]]}],\"choropleth\":[{\"type\":\"choropleth\",\"colorbar\":{\"outlinewidth\":0,\"ticks\":\"\"}}],\"histogram2d\":[{\"type\":\"histogram2d\",\"colorbar\":{\"outlinewidth\":0,\"ticks\":\"\"},\"colorscale\":[[0.0,\"#0d0887\"],[0.1111111111111111,\"#46039f\"],[0.2222222222222222,\"#7201a8\"],[0.3333333333333333,\"#9c179e\"],[0.4444444444444444,\"#bd3786\"],[0.5555555555555556,\"#d8576b\"],[0.6666666666666666,\"#ed7953\"],[0.7777777777777778,\"#fb9f3a\"],[0.8888888888888888,\"#fdca26\"],[1.0,\"#f0f921\"]]}],\"heatmap\":[{\"type\":\"heatmap\",\"colorbar\":{\"outlinewidth\":0,\"ticks\":\"\"},\"colorscale\":[[0.0,\"#0d0887\"],[0.1111111111111111,\"#46039f\"],[0.2222222222222222,\"#7201a8\"],[0.3333333333333333,\"#9c179e\"],[0.4444444444444444,\"#bd3786\"],[0.5555555555555556,\"#d8576b\"],[0.6666666666666666,\"#ed7953\"],[0.7777777777777778,\"#fb9f3a\"],[0.8888888888888888,\"#fdca26\"],[1.0,\"#f0f921\"]]}],\"heatmapgl\":[{\"type\":\"heatmapgl\",\"colorbar\":{\"outlinewidth\":0,\"ticks\":\"\"},\"colorscale\":[[0.0,\"#0d0887\"],[0.1111111111111111,\"#46039f\"],[0.2222222222222222,\"#7201a8\"],[0.3333333333333333,\"#9c179e\"],[0.4444444444444444,\"#bd3786\"],[0.5555555555555556,\"#d8576b\"],[0.6666666666666666,\"#ed7953\"],[0.7777777777777778,\"#fb9f3a\"],[0.8888888888888888,\"#fdca26\"],[1.0,\"#f0f921\"]]}],\"contourcarpet\":[{\"type\":\"contourcarpet\",\"colorbar\":{\"outlinewidth\":0,\"ticks\":\"\"}}],\"contour\":[{\"type\":\"contour\",\"colorbar\":{\"outlinewidth\":0,\"ticks\":\"\"},\"colorscale\":[[0.0,\"#0d0887\"],[0.1111111111111111,\"#46039f\"],[0.2222222222222222,\"#7201a8\"],[0.3333333333333333,\"#9c179e\"],[0.4444444444444444,\"#bd3786\"],[0.5555555555555556,\"#d8576b\"],[0.6666666666666666,\"#ed7953\"],[0.7777777777777778,\"#fb9f3a\"],[0.8888888888888888,\"#fdca26\"],[1.0,\"#f0f921\"]]}],\"surface\":[{\"type\":\"surface\",\"colorbar\":{\"outlinewidth\":0,\"ticks\":\"\"},\"colorscale\":[[0.0,\"#0d0887\"],[0.1111111111111111,\"#46039f\"],[0.2222222222222222,\"#7201a8\"],[0.3333333333333333,\"#9c179e\"],[0.4444444444444444,\"#bd3786\"],[0.5555555555555556,\"#d8576b\"],[0.6666666666666666,\"#ed7953\"],[0.7777777777777778,\"#fb9f3a\"],[0.8888888888888888,\"#fdca26\"],[1.0,\"#f0f921\"]]}],\"mesh3d\":[{\"type\":\"mesh3d\",\"colorbar\":{\"outlinewidth\":0,\"ticks\":\"\"}}],\"scatter\":[{\"fillpattern\":{\"fillmode\":\"overlay\",\"size\":10,\"solidity\":0.2},\"type\":\"scatter\"}],\"parcoords\":[{\"type\":\"parcoords\",\"line\":{\"colorbar\":{\"outlinewidth\":0,\"ticks\":\"\"}}}],\"scatterpolargl\":[{\"type\":\"scatterpolargl\",\"marker\":{\"colorbar\":{\"outlinewidth\":0,\"ticks\":\"\"}}}],\"bar\":[{\"error_x\":{\"color\":\"#2a3f5f\"},\"error_y\":{\"color\":\"#2a3f5f\"},\"marker\":{\"line\":{\"color\":\"#E5ECF6\",\"width\":0.5},\"pattern\":{\"fillmode\":\"overlay\",\"size\":10,\"solidity\":0.2}},\"type\":\"bar\"}],\"scattergeo\":[{\"type\":\"scattergeo\",\"marker\":{\"colorbar\":{\"outlinewidth\":0,\"ticks\":\"\"}}}],\"scatterpolar\":[{\"type\":\"scatterpolar\",\"marker\":{\"colorbar\":{\"outlinewidth\":0,\"ticks\":\"\"}}}],\"histogram\":[{\"marker\":{\"pattern\":{\"fillmode\":\"overlay\",\"size\":10,\"solidity\":0.2}},\"type\":\"histogram\"}],\"scattergl\":[{\"type\":\"scattergl\",\"marker\":{\"colorbar\":{\"outlinewidth\":0,\"ticks\":\"\"}}}],\"scatter3d\":[{\"type\":\"scatter3d\",\"line\":{\"colorbar\":{\"outlinewidth\":0,\"ticks\":\"\"}},\"marker\":{\"colorbar\":{\"outlinewidth\":0,\"ticks\":\"\"}}}],\"scattermapbox\":[{\"type\":\"scattermapbox\",\"marker\":{\"colorbar\":{\"outlinewidth\":0,\"ticks\":\"\"}}}],\"scatterternary\":[{\"type\":\"scatterternary\",\"marker\":{\"colorbar\":{\"outlinewidth\":0,\"ticks\":\"\"}}}],\"scattercarpet\":[{\"type\":\"scattercarpet\",\"marker\":{\"colorbar\":{\"outlinewidth\":0,\"ticks\":\"\"}}}],\"carpet\":[{\"aaxis\":{\"endlinecolor\":\"#2a3f5f\",\"gridcolor\":\"white\",\"linecolor\":\"white\",\"minorgridcolor\":\"white\",\"startlinecolor\":\"#2a3f5f\"},\"baxis\":{\"endlinecolor\":\"#2a3f5f\",\"gridcolor\":\"white\",\"linecolor\":\"white\",\"minorgridcolor\":\"white\",\"startlinecolor\":\"#2a3f5f\"},\"type\":\"carpet\"}],\"table\":[{\"cells\":{\"fill\":{\"color\":\"#EBF0F8\"},\"line\":{\"color\":\"white\"}},\"header\":{\"fill\":{\"color\":\"#C8D4E3\"},\"line\":{\"color\":\"white\"}},\"type\":\"table\"}],\"barpolar\":[{\"marker\":{\"line\":{\"color\":\"#E5ECF6\",\"width\":0.5},\"pattern\":{\"fillmode\":\"overlay\",\"size\":10,\"solidity\":0.2}},\"type\":\"barpolar\"}],\"pie\":[{\"automargin\":true,\"type\":\"pie\"}]},\"layout\":{\"autotypenumbers\":\"strict\",\"colorway\":[\"#636efa\",\"#EF553B\",\"#00cc96\",\"#ab63fa\",\"#FFA15A\",\"#19d3f3\",\"#FF6692\",\"#B6E880\",\"#FF97FF\",\"#FECB52\"],\"font\":{\"color\":\"#2a3f5f\"},\"hovermode\":\"closest\",\"hoverlabel\":{\"align\":\"left\"},\"paper_bgcolor\":\"white\",\"plot_bgcolor\":\"#E5ECF6\",\"polar\":{\"bgcolor\":\"#E5ECF6\",\"angularaxis\":{\"gridcolor\":\"white\",\"linecolor\":\"white\",\"ticks\":\"\"},\"radialaxis\":{\"gridcolor\":\"white\",\"linecolor\":\"white\",\"ticks\":\"\"}},\"ternary\":{\"bgcolor\":\"#E5ECF6\",\"aaxis\":{\"gridcolor\":\"white\",\"linecolor\":\"white\",\"ticks\":\"\"},\"baxis\":{\"gridcolor\":\"white\",\"linecolor\":\"white\",\"ticks\":\"\"},\"caxis\":{\"gridcolor\":\"white\",\"linecolor\":\"white\",\"ticks\":\"\"}},\"coloraxis\":{\"colorbar\":{\"outlinewidth\":0,\"ticks\":\"\"}},\"colorscale\":{\"sequential\":[[0.0,\"#0d0887\"],[0.1111111111111111,\"#46039f\"],[0.2222222222222222,\"#7201a8\"],[0.3333333333333333,\"#9c179e\"],[0.4444444444444444,\"#bd3786\"],[0.5555555555555556,\"#d8576b\"],[0.6666666666666666,\"#ed7953\"],[0.7777777777777778,\"#fb9f3a\"],[0.8888888888888888,\"#fdca26\"],[1.0,\"#f0f921\"]],\"sequentialminus\":[[0.0,\"#0d0887\"],[0.1111111111111111,\"#46039f\"],[0.2222222222222222,\"#7201a8\"],[0.3333333333333333,\"#9c179e\"],[0.4444444444444444,\"#bd3786\"],[0.5555555555555556,\"#d8576b\"],[0.6666666666666666,\"#ed7953\"],[0.7777777777777778,\"#fb9f3a\"],[0.8888888888888888,\"#fdca26\"],[1.0,\"#f0f921\"]],\"diverging\":[[0,\"#8e0152\"],[0.1,\"#c51b7d\"],[0.2,\"#de77ae\"],[0.3,\"#f1b6da\"],[0.4,\"#fde0ef\"],[0.5,\"#f7f7f7\"],[0.6,\"#e6f5d0\"],[0.7,\"#b8e186\"],[0.8,\"#7fbc41\"],[0.9,\"#4d9221\"],[1,\"#276419\"]]},\"xaxis\":{\"gridcolor\":\"white\",\"linecolor\":\"white\",\"ticks\":\"\",\"title\":{\"standoff\":15},\"zerolinecolor\":\"white\",\"automargin\":true,\"zerolinewidth\":2},\"yaxis\":{\"gridcolor\":\"white\",\"linecolor\":\"white\",\"ticks\":\"\",\"title\":{\"standoff\":15},\"zerolinecolor\":\"white\",\"automargin\":true,\"zerolinewidth\":2},\"scene\":{\"xaxis\":{\"backgroundcolor\":\"#E5ECF6\",\"gridcolor\":\"white\",\"linecolor\":\"white\",\"showbackground\":true,\"ticks\":\"\",\"zerolinecolor\":\"white\",\"gridwidth\":2},\"yaxis\":{\"backgroundcolor\":\"#E5ECF6\",\"gridcolor\":\"white\",\"linecolor\":\"white\",\"showbackground\":true,\"ticks\":\"\",\"zerolinecolor\":\"white\",\"gridwidth\":2},\"zaxis\":{\"backgroundcolor\":\"#E5ECF6\",\"gridcolor\":\"white\",\"linecolor\":\"white\",\"showbackground\":true,\"ticks\":\"\",\"zerolinecolor\":\"white\",\"gridwidth\":2}},\"shapedefaults\":{\"line\":{\"color\":\"#2a3f5f\"}},\"annotationdefaults\":{\"arrowcolor\":\"#2a3f5f\",\"arrowhead\":0,\"arrowwidth\":1},\"geo\":{\"bgcolor\":\"white\",\"landcolor\":\"#E5ECF6\",\"subunitcolor\":\"white\",\"showland\":true,\"showlakes\":true,\"lakecolor\":\"white\"},\"title\":{\"x\":0.05},\"mapbox\":{\"style\":\"light\"}}},\"xaxis\":{\"anchor\":\"y\",\"domain\":[0.0,1.0],\"title\":{\"text\":\"Player\"}},\"yaxis\":{\"anchor\":\"x\",\"domain\":[0.0,1.0],\"title\":{\"text\":\"STOCKS\"}},\"legend\":{\"title\":{\"text\":\"position\"},\"tracegroupgap\":0},\"title\":{\"text\":\"STOCKS Leaders\"},\"barmode\":\"relative\"},                        {\"responsive\": true}                    ).then(function(){\n",
       "                            \n",
       "var gd = document.getElementById('2b27b0e6-28de-4841-ab2a-ac16e677f142');\n",
       "var x = new MutationObserver(function (mutations, observer) {{\n",
       "        var display = window.getComputedStyle(gd).display;\n",
       "        if (!display || display === 'none') {{\n",
       "            console.log([gd, 'removed!']);\n",
       "            Plotly.purge(gd);\n",
       "            observer.disconnect();\n",
       "        }}\n",
       "}});\n",
       "\n",
       "// Listen for the removal of the full notebook cells\n",
       "var notebookContainer = gd.closest('#notebook-container');\n",
       "if (notebookContainer) {{\n",
       "    x.observe(notebookContainer, {childList: true});\n",
       "}}\n",
       "\n",
       "// Listen for the clearing of the current output cell\n",
       "var outputEl = gd.closest('.output');\n",
       "if (outputEl) {{\n",
       "    x.observe(outputEl, {childList: true});\n",
       "}}\n",
       "\n",
       "                        })                };                });            </script>        </div>"
      ]
     },
     "metadata": {},
     "output_type": "display_data"
    }
   ],
   "source": [
    "#3. \n",
    "df['STOCKS'] = df['BLK'] + df['STL']\n",
    "df = df.sort_values(by = 'STOCKS', ascending = False)\n",
    "top_stocks = df[df['MP']>=24][0:15]\n",
    "fig = px.bar(top_stocks, x='Player', y='STOCKS', color=\"position\", title=\"STOCKS Leaders\")\n",
    "fig.show()"
   ]
  },
  {
   "cell_type": "code",
   "execution_count": 11,
   "id": "ee3a1e62",
   "metadata": {
    "execution": {
     "iopub.execute_input": "2022-07-21T02:58:02.391549Z",
     "iopub.status.busy": "2022-07-21T02:58:02.391168Z",
     "iopub.status.idle": "2022-07-21T02:58:02.466583Z",
     "shell.execute_reply": "2022-07-21T02:58:02.465637Z"
    },
    "papermill": {
     "duration": 0.09095,
     "end_time": "2022-07-21T02:58:02.468816",
     "exception": false,
     "start_time": "2022-07-21T02:58:02.377866",
     "status": "completed"
    },
    "tags": []
   },
   "outputs": [
    {
     "data": {
      "text/html": [
       "<div>                            <div id=\"ff9e771e-ab6f-4199-a626-0463c8ac6432\" class=\"plotly-graph-div\" style=\"height:525px; width:100%;\"></div>            <script type=\"text/javascript\">                require([\"plotly\"], function(Plotly) {                    window.PLOTLYENV=window.PLOTLYENV || {};                                    if (document.getElementById(\"ff9e771e-ab6f-4199-a626-0463c8ac6432\")) {                    Plotly.newPlot(                        \"ff9e771e-ab6f-4199-a626-0463c8ac6432\",                        [{\"customdata\":[[\"Myles Turner\"],[\"Rudy Gobert\"],[\"Nerlens Noel\"],[\"Khyri Thomas\"],[\"Anthony Davis\"],[\"LaMarcus Aldridge\"],[\"Andre Drummond\"],[\"Jaren Jackson Jr.\"],[\"Clint Capela\"],[\"Matisse Thybulle\"],[\"Mitchell Robinson\"],[\"Robert Williams\"],[\"Robert Covington\"],[\"Daniel Gafford\"],[\"Chris Boucher\"],[\"Draymond Green\"],[\"Andre Drummond\"],[\"Jakob Poeltl\"],[\"Giannis Antetokounmpo\"],[\"Jimmy Butler\"],[\"Fred VanVleet\"],[\"Joel Embiid\"],[\"P.J. Washington\"],[\"Victor Oladipo\"],[\"Jrue Holiday\"],[\"Ben Simmons\"],[\"OG Anunoby\"],[\"Jarrett Allen\"],[\"Larry Nance Jr.\"],[\"Richaun Holmes\"],[\"Bam Adebayo\"],[\"Caris LeVert\"],[\"T.J. McConnell\"],[\"James Harden\"],[\"Delon Wright\"],[\"Lonzo Ball\"],[\"Brook Lopez\"],[\"Delon Wright\"],[\"Jusuf Nurkić\"],[\"Andre Drummond\"],[\"Danny Green\"],[\"Kyrie Irving\"],[\"Khem Birch\"],[\"Mikal Bridges\"],[\"LaMelo Ball\"],[\"Kawhi Leonard\"],[\"Caris LeVert\"],[\"Christian Wood\"],[\"Yogi Ferrell\"],[\"De'Aaron Fox\"],[\"Marcus Smart\"],[\"Kyle Anderson\"],[\"Delon Wright\"],[\"Kevin Durant\"],[\"Jordan Bell\"],[\"James Harden\"],[\"Justin Patton\"],[\"Nikola Jokić\"],[\"Nic Claxton\"],[\"Kelly Olynyk\"],[\"John Wall\"],[\"Karl-Anthony Towns\"],[\"Isaiah Stewart\"],[\"Oshae Brissett\"],[\"Jarrett Allen\"],[\"Jarrett Allen\"],[\"Brandon Clarke\"],[\"Victor Oladipo\"],[\"Evan Fournier\"],[\"Daniel Gafford\"],[\"Andrew Wiggins\"],[\"Tyrese Haliburton\"],[\"Moses Brown\"],[\"Kelly Oubre Jr.\"],[\"Pascal Siakam\"],[\"Taj Gibson\"],[\"Al Horford\"],[\"Kristaps Porziņģis\"],[\"Victor Oladipo\"],[\"Deandre Ayton\"],[\"Russell Westbrook\"],[\"Jaylen Brown\"],[\"De'Anthony Melton\"],[\"Tobias Harris\"],[\"Mason Plumlee\"],[\"LeBron James\"],[\"Josh Jackson\"],[\"Terry Rozier\"],[\"Kelly Olynyk\"],[\"Maurice Harkless\"],[\"Thaddeus Young\"],[\"James Harden\"],[\"Norman Powell\"],[\"Nikola Vučević\"],[\"Jerami Grant\"],[\"James Johnson\"],[\"Victor Oladipo\"],[\"Jarred Vanderbilt\"],[\"Chris Paul\"],[\"Dennis Smith Jr.\"],[\"David Nwaba\"],[\"Cory Joseph\"],[\"Jae'Sean Tate\"],[\"Freddie Gillespie\"],[\"Domantas Sabonis\"],[\"Isaiah Hartenstein\"],[\"Derrick White\"],[\"Jayson Tatum\"],[\"JaVale McGee\"],[\"Louis King\"],[\"Dejounte Murray\"],[\"James Johnson\"],[\"Mo Bamba\"],[\"Cam Reddish\"],[\"Nicolas Batum\"],[\"James Johnson\"],[\"Steven Adams\"],[\"Jamal Murray\"],[\"Jaden McDaniels\"],[\"Trevor Ariza\"],[\"Wendell Carter Jr.\"],[\"Anthony Edwards\"],[\"Evan Fournier\"],[\"Hassan Whiteside\"],[\"Dennis Smith Jr.\"],[\"Marc Gasol\"],[\"Chuma Okeke\"],[\"Patrick Beverley\"],[\"Dillon Brooks\"],[\"Caris LeVert\"],[\"Naz Reid\"],[\"Justin Holiday\"],[\"Nikola Vučević\"],[\"Bradley Beal\"],[\"Nikola Vučević\"],[\"Daniel Theis\"],[\"JaVale McGee\"],[\"Michael Porter Jr.\"],[\"Kenyon Martin Jr.\"],[\"Mike Conley\"],[\"Derrick Favors\"],[\"Damian Jones\"],[\"Daniel Theis\"],[\"Nickeil Alexander-Walker\"],[\"Derrick Jones Jr.\"],[\"Andre Iguodala\"],[\"Al-Farouq Aminu\"],[\"Norman Powell\"],[\"Kevin Huerter\"],[\"Miles Bridges\"],[\"Isaiah Roby\"],[\"Luke Kornet\"],[\"Jeremy Lamb\"],[\"Daniel Gafford\"],[\"Paul George\"],[\"Goga Bitadze\"],[\"Shai Gilgeous-Alexander\"],[\"Patrick Williams\"],[\"D'Angelo Russell\"],[\"Paul Millsap\"],[\"Kent Bazemore\"],[\"Zion Williamson\"],[\"Ricky Rubio\"],[\"Terrence Ross\"],[\"Derrick Rose\"],[\"Luka Dončić\"],[\"Gordon Hayward\"],[\"DeMarcus Cousins\"],[\"LaMarcus Aldridge\"],[\"Kelly Olynyk\"],[\"Jonas Valančiūnas\"],[\"Cameron Oliver\"],[\"John Collins\"],[\"P.J. Tucker\"],[\"Alex Caruso\"],[\"Bogdan Bogdanović\"],[\"Bismack Biyombo\"],[\"Kemba Walker\"],[\"DeAndre Jordan\"],[\"Josh Okogie\"],[\"DeMarcus Cousins\"],[\"Wendell Carter Jr.\"],[\"Gorgui Dieng\"],[\"Taurean Prince\"],[\"Derrick Rose\"],[\"Khem Birch\"],[\"DeAndre' Bembry\"],[\"Aaron Gordon\"],[\"Aaron Gordon\"],[\"Killian Hayes\"],[\"Josh Richardson\"],[\"Montrezl Harrell\"],[\"Facundo Campazzo\"],[\"Hamidou Diallo\"],[\"Wendell Carter Jr.\"],[\"Norman Powell\"],[\"Luguentz Dort\"],[\"Kentavious Caldwell-Pope\"],[\"Gary Trent Jr.\"],[\"Stephen Curry\"],[\"Austin Rivers\"],[\"Hamidou Diallo\"],[\"Jae Crowder\"],[\"Garrett Temple\"],[\"Jordan Bell\"],[\"Alex Len\"],[\"LaMarcus Aldridge\"],[\"Juan Toscano-Anderson\"],[\"Will Barton\"],[\"Donte DiVincenzo\"],[\"Kyle Lowry\"],[\"Donovan Mitchell\"],[\"Derrick Rose\"],[\"Buddy Hield\"],[\"Otto Porter Jr.\"],[\"Dennis Schröder\"],[\"Darius Garland\"],[\"Michael Carter-Williams\"],[\"Cory Joseph\"],[\"De'Andre Hunter\"],[\"Maurice Harkless\"],[\"Terence Davis\"],[\"Dwight Howard\"],[\"Isaac Okoro\"],[\"Talen Horton-Tucker\"],[\"Dorian Finney-Smith\"],[\"Royce O'Neale\"],[\"Serge Ibaka\"],[\"Bruce Brown\"],[\"JaVale McGee\"],[\"Evan Fournier\"],[\"CJ McCollum\"],[\"Alex Len\"],[\"Aleksej Pokusevski\"],[\"Zach LaVine\"],[\"Markelle Fultz\"],[\"Daniel Theis\"],[\"Carmelo Anthony\"],[\"Rudy Gay\"],[\"Xavier Tillman Sr.\"],[\"Khem Birch\"],[\"Brandon Ingram\"],[\"Taurean Prince\"],[\"Aaron Gordon\"],[\"Khris Middleton\"],[\"Al-Farouq Aminu\"],[\"Isaiah Hartenstein\"],[\"Donta Hall\"],[\"Sindarius Thornwell\"],[\"Tony Bradley\"],[\"Thomas Bryant\"],[\"DeMarcus Cousins\"],[\"Raul Neto\"],[\"P.J. Tucker\"],[\"Tacko Fall\"],[\"Willie Cauley-Stein\"],[\"Bobby Portis\"],[\"Moritz Wagner\"],[\"Stanley Johnson\"],[\"Damian Lillard\"],[\"Julius Randle\"],[\"Onyeka Okongwu\"],[\"Maxi Kleber\"],[\"Kendrick Nunn\"],[\"Taurean Prince\"],[\"Shaquille Harrison\"],[\"Ivica Zubac\"],[\"Enes Freedom\"],[\"Jordan Bell\"],[\"Ed Davis\"],[\"Torrey Craig\"],[\"Gary Trent Jr.\"],[\"Moritz Wagner\"],[\"Malcolm Brogdon\"],[\"Collin Sexton\"],[\"Blake Griffin\"],[\"Drew Eubanks\"],[\"James Wiseman\"],[\"Kenrich Williams\"],[\"Dwight Powell\"],[\"Gorgui Dieng\"],[\"Hamidou Diallo\"],[\"DeMar DeRozan\"],[\"Grayson Allen\"],[\"DaQuan Jeffries\"],[\"Cedi Osman\"],[\"Torrey Craig\"],[\"Ja Morant\"],[\"Jordan McLaughlin\"],[\"Cory Joseph\"],[\"Justise Winslow\"],[\"Furkan Korkmaz\"],[\"Théo Maledon\"],[\"Luke Kornet\"],[\"Tony Bradley\"],[\"Kyle Kuzma\"],[\"Eric Bledsoe\"],[\"Naji Marshall\"],[\"Gary Harris\"],[\"Josh Hart\"],[\"Rajon Rondo\"],[\"Isaiah Hartenstein\"],[\"Jerome Robinson\"],[\"Jay Scrubb\"],[\"Devin Booker\"],[\"Jaxson Hayes\"],[\"Tony Bradley\"],[\"Brad Wanamaker\"],[\"Mfiondu Kabengele\"],[\"Willy Hernangómez\"],[\"Blake Griffin\"],[\"Tyus Jones\"],[\"Svi Mykhailiuk\"],[\"Moritz Wagner\"],[\"Elijah Bryant\"],[\"Reggie Bullock\"],[\"Devin Vassell\"],[\"Damian Jones\"],[\"Gary Harris\"],[\"Damian Jones\"],[\"Jordan Clarkson\"],[\"Jake Layman\"],[\"Saben Lee\"],[\"Svi Mykhailiuk\"],[\"Dylan Windler\"],[\"Wesley Matthews\"],[\"Cody Zeller\"],[\"Jalen McDaniels\"],[\"Gary Harris\"],[\"Trae Young\"],[\"Cole Anthony\"],[\"Darius Miller\"],[\"Marvin Bagley III\"],[\"Pat Connaughton\"],[\"Monte Morris\"],[\"RJ Barrett\"],[\"Darius Bazley\"],[\"Malik Beasley\"],[\"Svi Mykhailiuk\"],[\"Lou Williams\"],[\"Alex Len\"],[\"Gary Trent Jr.\"],[\"Amida Brimah\"],[\"Marquese Chriss\"],[\"Ray Spalding\"],[\"Kris Dunn\"],[\"PJ Dozier\"],[\"Jeff Teague\"],[\"Spencer Dinwiddie\"],[\"Devonte' Graham\"],[\"Kevin Porter Jr.\"],[\"George Hill\"],[\"Dewayne Dedmon\"],[\"Eric Gordon\"],[\"Norvel Pelle\"],[\"Dante Exum\"],[\"James Ennis III\"],[\"George Hill\"],[\"Tristan Thompson\"],[\"Ish Smith\"],[\"Jaylen Hoard\"],[\"Dennis Smith Jr.\"],[\"Yogi Ferrell\"],[\"Danuel House Jr.\"],[\"Rodions Kurucs\"],[\"Avery Bradley\"],[\"Rajon Rondo\"],[\"Grant Williams\"],[\"D.J. Wilson\"],[\"Yuta Watanabe\"],[\"Jeff Green\"],[\"Avery Bradley\"],[\"Rui Hachimura\"],[\"Paul Reed\"],[\"Seth Curry\"],[\"Malachi Flynn\"],[\"Ignas Brazdeikis\"],[\"Chimezie Metu\"],[\"Torrey Craig\"],[\"Austin Rivers\"],[\"Mamadi Diakite\"],[\"Marcus Morris\"],[\"Harrison Barnes\"],[\"Joe Harris\"],[\"Chandler Hutchison\"],[\"Cody Martin\"],[\"Shake Milton\"],[\"Joe Ingles\"],[\"Tomáš Satoranský\"],[\"Duncan Robinson\"],[\"Deni Avdija\"],[\"Caleb Martin\"],[\"Kira Lewis Jr.\"],[\"Keldon Johnson\"],[\"R.J. Hampton\"],[\"Cameron Payne\"],[\"Cameron Johnson\"],[\"George Hill\"],[\"Alec Burks\"],[\"Dean Wade\"],[\"Solomon Hill\"],[\"Sterling Brown\"],[\"Tyler Herro\"],[\"Armoni Brooks\"],[\"Terence Davis\"],[\"Brad Wanamaker\"],[\"Saddiq Bey\"],[\"Brad Wanamaker\"],[\"John Konchar\"],[\"Aaron Holiday\"],[\"Goran Dragić\"],[\"Nemanja Bjelica\"],[\"Javonte Green\"],[\"E'Twaun Moore\"],[\"Andre Roberson\"],[\"Brodric Thomas\"],[\"Brodric Thomas\"],[\"Coby White\"],[\"Abdel Nader\"],[\"Edmond Sumner\"],[\"Mike Scott\"],[\"Jaylen Nowell\"],[\"D.J. Wilson\"],[\"Jeff Teague\"],[\"Lonnie Walker IV\"],[\"Precious Achiuwa\"],[\"JaMychal Green\"],[\"Robert Franks\"],[\"Robin Lopez\"],[\"Gabriel Deck\"],[\"Dāvis Bertāns\"],[\"Jarrett Culver\"],[\"Yogi Ferrell\"],[\"Ty Jerome\"],[\"DaQuan Jeffries\"],[\"Thon Maker\"],[\"Lauri Markkanen\"],[\"Jeremiah Martin\"],[\"Ersan İlyasova\"],[\"Wenyen Gabriel\"],[\"Danilo Gallinari\"],[\"Desmond Bane\"],[\"Norvel Pelle\"],[\"Norvel Pelle\"],[\"Elfrid Payton\"],[\"Lou Williams\"],[\"Rajon Rondo\"],[\"Damion Lee\"],[\"Blake Griffin\"],[\"Javonte Green\"],[\"Javonte Green\"],[\"Avery Bradley\"],[\"Immanuel Quickley\"],[\"Otto Porter Jr.\"],[\"Landry Shamet\"],[\"Trey Burke\"],[\"Chandler Hutchison\"],[\"Sindarius Thornwell\"],[\"Luke Kornet\"],[\"Otto Porter Jr.\"],[\"Jordan Nwora\"],[\"Bojan Bogdanović\"],[\"Gorgui Dieng\"],[\"Jordan Poole\"],[\"Troy Brown Jr.\"],[\"Frank Kaminsky\"],[\"Reggie Jackson\"],[\"Lamar Stevens\"],[\"Gary Payton II\"],[\"Ben McLemore\"],[\"Payton Pritchard\"],[\"Killian Tillie\"],[\"Dwayne Bacon\"],[\"Kevin Love\"],[\"Aron Baynes\"],[\"Didi Louzada\"],[\"Markieff Morris\"],[\"Axel Toupane\"],[\"Kevon Looney\"],[\"Timothé Luwawu-Cabarrot\"],[\"Jevon Carter\"],[\"Dario Šarić\"],[\"Terence Davis\"],[\"Devin Cannady\"],[\"DaQuan Jeffries\"],[\"Tyrese Maxey\"],[\"Sekou Doumbouya\"],[\"Anthony Gill\"],[\"Patrick Patterson\"],[\"Rondae Hollis-Jefferson\"],[\"Charlie Brown Jr.\"],[\"Tim Frazier\"],[\"R.J. Hampton\"],[\"Tim Hardaway Jr.\"],[\"Maurice Harkless\"],[\"Thanasis Antetokounmpo\"],[\"Ben McLemore\"],[\"Jeff Teague\"],[\"Keita Bates-Diop\"],[\"Rodions Kurucs\"],[\"Terance Mann\"],[\"Wayne Ellington\"],[\"Patty Mills\"],[\"Nathan Knight\"],[\"Chris Silva\"],[\"Shaquille Harrison\"],[\"Chris Chiozza\"],[\"Denzel Valentine\"],[\"Rodney McGruder\"],[\"Romeo Langford\"],[\"JaKarr Sampson\"],[\"Jalen Harris\"],[\"Kelan Martin\"],[\"Frank Ntilikina\"],[\"Tremont Waters\"],[\"Rodney Hood\"],[\"Rodions Kurucs\"],[\"Austin Rivers\"],[\"Justin Jackson\"],[\"P.J. Tucker\"],[\"Marques Bolden\"],[\"Alize Johnson\"],[\"Garrison Mathews\"],[\"Malik Monk\"],[\"Mike James\"],[\"Brodric Thomas\"],[\"Chasson Randle\"],[\"KZ Okpala\"],[\"Harry Giles\"],[\"Aaron Nesmith\"],[\"Tyrell Terry\"],[\"Anthony Lamb\"],[\"Anthony Tolliver\"],[\"Dakota Mathias\"],[\"Josh Green\"],[\"Mike Muscala\"],[\"Gary Clark\"],[\"Obi Toppin\"],[\"Juancho Hernangómez\"],[\"Gary Clark\"],[\"Nico Mannion\"],[\"Tony Snell\"],[\"Skylar Mays\"],[\"Gary Clark\"],[\"D.J. Augustin\"],[\"D.J. Augustin\"],[\"Troy Brown Jr.\"],[\"Jabari Parker\"],[\"Quinndary Weatherspoon\"],[\"T.J. Warren\"],[\"Ignas Brazdeikis\"],[\"Isaac Bonga\"],[\"Mfiondu Kabengele\"],[\"Jabari Parker\"],[\"Nemanja Bjelica\"],[\"Alen Smailagić\"],[\"Luke Kennard\"],[\"Justin Jackson\"],[\"Sindarius Thornwell\"],[\"Chris Silva\"],[\"Iman Shumpert\"],[\"Damian Jones\"],[\"Wes Iwundu\"],[\"Wes Iwundu\"],[\"Jalen Brunson\"],[\"Devontae Cacok\"],[\"Rodney Hood\"],[\"Eric Paschall\"],[\"Luka Šamanić\"],[\"Max Strus\"],[\"Trent Forrest\"],[\"Damyean Dotson\"],[\"Tyler Cook\"],[\"Tyler Cook\"],[\"Matthew Dellavedova\"],[\"Anfernee Simons\"],[\"Patrick McCaw\"],[\"Brandon Goodwin\"],[\"Nassir Little\"],[\"Jahlil Okafor\"],[\"Kevin Knox\"],[\"Nemanja Bjelica\"],[\"Georges Niang\"],[\"T.J. Leaf\"],[\"Lou Williams\"],[\"Mychal Mulder\"],[\"Quinn Cook\"],[\"D.J. Wilson\"],[\"Udoka Azubuike\"],[\"D.J. Augustin\"],[\"Nicolò Melli\"],[\"Nicolò Melli\"],[\"Ben McLemore\"],[\"Bol Bol\"],[\"Tyler Johnson\"],[\"Doug McDermott\"],[\"Jahmi'us Ramsey\"],[\"Vernon Carey Jr.\"],[\"Anderson Varejão\"],[\"Gabe Vincent\"],[\"J.J. Redick\"],[\"J.J. Redick\"],[\"Nate Hinton\"],[\"Rodney Hood\"],[\"Isaiah Joe\"],[\"Wes Iwundu\"],[\"Frank Jackson\"],[\"Jontay Porter\"],[\"Devon Dotson\"],[\"Reggie Perry\"],[\"Jarrell Brantley\"],[\"Kostas Antetokounmpo\"],[\"Paul Watson\"],[\"Troy Brown Jr.\"],[\"R.J. Hampton\"],[\"Zeke Nnaji\"],[\"J.J. Redick\"],[\"CJ Elleby\"],[\"Sean McDermott\"],[\"Glenn Robinson III\"],[\"Justin James\"],[\"Nicolò Melli\"],[\"Boban Marjanović\"],[\"Daniel Oturu\"],[\"Miye Oni\"],[\"Bruno Caboclo\"],[\"Justin Robinson\"],[\"Jabari Parker\"],[\"Chris Silva\"],[\"Semi Ojeleye\"],[\"Vincent Poirier\"],[\"Bryn Forbes\"],[\"Isaiah Thomas\"],[\"Al-Farouq Aminu\"],[\"Sam Merrill\"],[\"Trey Lyles\"],[\"Vlatko Čančar\"],[\"Tre Jones\"],[\"Mason Jones\"],[\"Mason Jones\"],[\"Karim Mané\"],[\"Adam Mokoka\"],[\"Robert Woodard II\"],[\"Mfiondu Kabengele\"],[\"Alfonzo McKinnie\"],[\"Ryan Arcidiacono\"],[\"Carsen Edwards\"],[\"Elijah Hughes\"],[\"Jared Dudley\"],[\"Kyle Guy\"],[\"Amir Coffey\"],[\"Cristiano Felício\"],[\"Jalen Smith\"],[\"Bruno Fernando\"],[\"Langston Galloway\"],[\"Josh Hall\"],[\"Quinn Cook\"],[\"Quinn Cook\"],[\"Mason Jones\"],[\"Chandler Hutchison\"],[\"Matt Thomas\"],[\"Juwan Morgan\"],[\"Keljin Blevins\"],[\"Deividas Sirvydis\"],[\"Terrance Ferguson\"],[\"Matt Thomas\"],[\"Jordan Bone\"],[\"Cassius Winston\"],[\"Matt Thomas\"],[\"Shaquille Harrison\"],[\"Tyler Bey\"],[\"Markus Howard\"],[\"Grant Riller\"],[\"Rayjon Tucker\"],[\"Nate Darling\"],[\"Cassius Stanley\"],[\"Ty-Shon Alexander\"],[\"Moritz Wagner\"],[\"Udonis Haslem\"],[\"Cameron Reynolds\"],[\"Frank Mason III\"],[\"Will Magnay\"],[\"Henry Ellenson\"],[\"Nick Richards\"],[\"Malik Fitts\"],[\"Meyers Leonard\"],[\"James Nunnally\"],[\"Jalen Lecque\"],[\"Tyler Cook\"],[\"Justin Jackson\"],[\"Theo Pinson\"],[\"Norvel Pelle\"],[\"Ignas Brazdeikis\"],[\"Ignas Brazdeikis\"],[\"Gary Clark\"],[\"Anžejs Pasečņiks\"],[\"Brian Bowen\"],[\"Ashton Hagans\"],[\"Jaylen Adams\"],[\"Cameron Reynolds\"],[\"Noah Vonleh\"],[\"Greg Whittington\"],[\"Jared Harper\"],[\"Rodions Kurucs\"],[\"Cameron Reynolds\"]],\"hovertemplate\":\"Age=%{x}<br>PTS=%{y}<br>Player=%{customdata[0]}<extra></extra>\",\"legendgroup\":\"\",\"marker\":{\"color\":\"#636efa\",\"symbol\":\"circle\"},\"mode\":\"markers\",\"name\":\"\",\"orientation\":\"v\",\"showlegend\":false,\"x\":[24.0,28.0,26.0,24.0,27.0,35.0,27.0,21.0,26.0,23.0,22.0,23.0,30.0,22.0,28.0,30.0,27.0,25.0,26.0,31.0,26.0,26.0,22.0,28.0,30.0,24.0,23.0,22.0,28.0,27.0,23.0,26.0,28.0,31.0,28.0,23.0,32.0,28.0,26.0,27.0,33.0,28.0,28.0,24.0,19.0,29.0,26.0,25.0,27.0,23.0,26.0,27.0,28.0,32.0,26.0,31.0,23.0,25.0,21.0,29.0,30.0,25.0,19.0,22.0,22.0,22.0,24.0,28.0,28.0,22.0,25.0,20.0,21.0,25.0,26.0,35.0,34.0,25.0,28.0,22.0,32.0,24.0,22.0,28.0,30.0,36.0,23.0,26.0,29.0,27.0,32.0,31.0,27.0,30.0,26.0,33.0,28.0,21.0,35.0,23.0,28.0,29.0,25.0,23.0,24.0,22.0,26.0,22.0,33.0,21.0,24.0,33.0,22.0,21.0,32.0,33.0,27.0,23.0,20.0,35.0,21.0,19.0,28.0,31.0,23.0,36.0,22.0,32.0,25.0,26.0,21.0,31.0,30.0,27.0,30.0,28.0,33.0,22.0,20.0,33.0,29.0,25.0,28.0,22.0,23.0,37.0,30.0,27.0,22.0,22.0,22.0,25.0,28.0,22.0,30.0,21.0,22.0,19.0,24.0,35.0,31.0,20.0,30.0,29.0,32.0,21.0,30.0,30.0,35.0,29.0,28.0,24.0,23.0,35.0,26.0,28.0,28.0,30.0,32.0,22.0,30.0,21.0,31.0,26.0,32.0,28.0,26.0,25.0,25.0,19.0,27.0,27.0,29.0,22.0,21.0,27.0,21.0,27.0,22.0,32.0,28.0,22.0,30.0,34.0,26.0,27.0,35.0,27.0,30.0,24.0,34.0,24.0,32.0,28.0,27.0,27.0,21.0,29.0,29.0,23.0,27.0,23.0,35.0,20.0,20.0,27.0,27.0,31.0,24.0,33.0,28.0,29.0,27.0,19.0,25.0,22.0,28.0,36.0,34.0,22.0,28.0,23.0,26.0,25.0,29.0,30.0,22.0,23.0,26.0,23.0,23.0,30.0,28.0,35.0,25.0,27.0,25.0,23.0,24.0,30.0,26.0,20.0,29.0,25.0,26.0,27.0,23.0,28.0,26.0,31.0,30.0,22.0,23.0,28.0,22.0,31.0,23.0,19.0,26.0,29.0,31.0,22.0,31.0,25.0,23.0,25.0,30.0,21.0,24.0,29.0,24.0,23.0,19.0,25.0,23.0,25.0,31.0,23.0,26.0,25.0,34.0,22.0,23.0,20.0,24.0,20.0,23.0,31.0,23.0,26.0,31.0,24.0,23.0,23.0,25.0,29.0,20.0,25.0,26.0,25.0,28.0,26.0,21.0,23.0,24.0,34.0,28.0,23.0,26.0,22.0,20.0,30.0,21.0,28.0,25.0,20.0,20.0,24.0,23.0,34.0,27.0,22.0,26.0,23.0,23.0,26.0,24.0,32.0,27.0,25.0,20.0,34.0,31.0,32.0,27.0,25.0,30.0,34.0,29.0,32.0,21.0,23.0,27.0,27.0,22.0,30.0,34.0,22.0,24.0,26.0,34.0,30.0,22.0,21.0,30.0,22.0,22.0,23.0,30.0,28.0,24.0,31.0,28.0,29.0,24.0,25.0,24.0,33.0,29.0,26.0,20.0,25.0,19.0,21.0,19.0,26.0,24.0,34.0,29.0,24.0,29.0,25.0,21.0,22.0,23.0,31.0,21.0,31.0,24.0,24.0,34.0,32.0,27.0,31.0,29.0,24.0,24.0,20.0,27.0,25.0,32.0,21.0,24.0,32.0,22.0,21.0,30.0,24.0,32.0,25.0,28.0,21.0,27.0,23.0,23.0,23.0,23.0,24.0,33.0,23.0,32.0,22.0,27.0,27.0,26.0,34.0,34.0,28.0,31.0,27.0,27.0,30.0,21.0,27.0,23.0,28.0,24.0,26.0,25.0,27.0,22.0,31.0,31.0,21.0,21.0,27.0,30.0,23.0,28.0,27.0,23.0,22.0,25.0,32.0,34.0,21.0,31.0,28.0,24.0,25.0,25.0,26.0,23.0,24.0,23.0,20.0,20.0,28.0,31.0,26.0,23.0,30.0,19.0,28.0,27.0,28.0,27.0,32.0,25.0,22.0,24.0,33.0,32.0,23.0,24.0,27.0,25.0,27.0,29.0,21.0,27.0,22.0,25.0,22.0,23.0,28.0,22.0,28.0,25.0,35.0,22.0,24.0,24.0,22.0,30.0,24.0,27.0,21.0,22.0,21.0,20.0,23.0,35.0,25.0,20.0,29.0,26.0,22.0,25.0,26.0,19.0,29.0,23.0,26.0,33.0,33.0,21.0,25.0,24.0,27.0,22.0,21.0,23.0,25.0,32.0,20.0,24.0,25.0,26.0,24.0,30.0,25.0,26.0,26.0,24.0,24.0,28.0,24.0,21.0,24.0,22.0,26.0,23.0,23.0,30.0,21.0,25.0,25.0,20.0,25.0,21.0,32.0,27.0,23.0,34.0,26.0,27.0,24.0,21.0,33.0,30.0,30.0,27.0,21.0,28.0,29.0,19.0,19.0,38.0,24.0,36.0,36.0,21.0,28.0,21.0,26.0,22.0,21.0,21.0,20.0,24.0,23.0,26.0,21.0,19.0,20.0,36.0,20.0,24.0,27.0,24.0,30.0,32.0,21.0,23.0,25.0,23.0,25.0,24.0,26.0,27.0,27.0,31.0,30.0,24.0,25.0,23.0,21.0,22.0,22.0,20.0,22.0,21.0,23.0,28.0,26.0,22.0,22.0,35.0,23.0,23.0,28.0,20.0,22.0,29.0,20.0,27.0,27.0,22.0,24.0,26.0,23.0,25.0,20.0,22.0,26.0,23.0,22.0,26.0,27.0,22.0,21.0,23.0,23.0,22.0,21.0,22.0,23.0,40.0,25.0,26.0,22.0,24.0,23.0,23.0,28.0,30.0,20.0,23.0,25.0,25.0,27.0,22.0,22.0,26.0,25.0,22.0,21.0,24.0,25.0,25.0,27.0,23.0,22.0,25.0],\"xaxis\":\"x\",\"y\":[12.6,14.3,5.1,16.4,21.8,12.8,17.5,14.4,15.2,3.9,8.3,8.0,8.5,10.1,13.6,7.0,14.9,8.6,28.1,21.5,19.6,28.5,12.9,12.0,17.7,14.3,15.9,11.2,9.3,14.2,18.7,20.7,8.6,24.6,10.4,14.6,12.3,10.2,11.5,11.9,9.5,26.9,11.9,13.5,15.7,24.8,20.2,21.0,9.5,25.2,13.1,12.4,10.0,26.9,1.0,24.6,5.4,26.4,6.6,19.0,20.6,24.8,7.9,10.9,13.2,12.8,10.3,20.0,13.0,7.0,18.6,13.0,8.6,15.4,21.4,5.4,14.2,20.1,19.8,14.4,22.2,24.7,9.1,19.5,10.4,25.0,13.4,20.4,13.5,6.9,12.1,24.8,17.0,21.5,22.3,9.2,21.2,5.4,16.4,7.3,9.2,12.0,11.3,5.6,20.3,8.3,15.4,26.4,8.0,7.3,15.7,5.7,8.0,11.2,8.1,7.2,7.6,21.2,6.8,9.4,11.7,19.3,17.1,8.1,6.7,5.0,7.8,7.5,17.2,18.5,11.2,10.5,24.5,31.3,23.4,9.5,7.3,19.0,9.3,16.2,5.4,6.9,9.6,11.0,6.8,4.4,5.5,18.6,11.9,12.7,8.7,4.4,10.1,4.7,23.3,5.1,23.7,9.2,19.0,9.0,7.2,27.0,8.6,15.6,14.2,27.7,19.6,9.6,13.5,10.0,17.1,10.8,17.6,4.4,6.4,16.4,5.0,19.3,7.5,5.4,8.9,11.2,7.9,8.1,14.7,7.2,5.7,12.4,14.6,6.8,12.1,13.5,6.1,11.9,10.9,19.6,14.0,9.7,16.2,32.0,8.7,11.6,10.1,7.6,2.5,7.1,13.7,5.7,12.7,10.4,17.2,26.4,14.9,16.6,8.0,15.4,17.4,8.8,8.2,15.0,5.2,11.1,7.0,9.6,9.0,9.8,7.0,11.1,8.8,5.5,19.7,23.1,6.6,8.2,27.4,12.9,10.0,13.4,11.4,6.6,5.3,23.8,9.5,10.2,20.4,4.4,5.1,5.6,3.4,8.7,14.3,7.8,8.7,3.7,2.5,5.3,11.4,11.0,4.4,28.8,24.1,4.6,7.1,14.6,10.1,3.3,9.0,11.2,2.8,2.1,7.2,15.3,7.1,21.2,24.3,10.0,5.8,11.5,8.0,5.9,6.8,11.2,21.6,10.6,4.9,10.4,5.5,19.1,5.0,6.6,6.8,9.1,10.1,3.4,7.1,12.9,12.2,7.7,9.7,9.2,7.6,3.5,4.9,8.8,25.6,7.5,5.5,6.9,4.3,7.8,11.0,6.3,10.3,6.9,16.0,10.9,5.5,5.4,10.2,4.7,18.4,5.1,5.6,6.9,5.2,4.8,9.4,7.4,9.9,25.3,12.9,4.1,14.1,6.8,10.2,17.6,13.7,19.6,8.5,12.1,2.3,15.0,2.6,6.5,2.0,1.3,7.7,6.9,6.7,14.8,16.6,8.7,7.1,17.8,2.0,3.8,8.4,11.8,7.6,6.7,6.1,3.0,5.6,8.8,1.2,5.2,5.4,4.7,6.1,4.4,11.0,6.4,13.8,3.4,12.5,7.5,11.1,6.3,2.5,7.9,3.1,13.4,16.1,14.1,5.2,4.0,13.0,12.1,7.7,13.1,6.3,5.0,6.4,12.8,11.2,8.4,9.6,6.0,12.7,6.0,4.5,8.2,15.1,11.2,8.7,5.5,12.2,4.7,4.3,7.2,13.4,5.0,2.6,4.9,1.2,4.1,3.9,15.1,6.7,7.5,4.2,9.0,5.2,6.7,11.2,5.0,8.1,6.1,9.0,8.4,11.5,5.3,4.6,10.7,4.1,3.8,13.6,2.4,3.8,3.4,13.3,9.2,1.2,1.5,10.1,11.3,3.9,6.5,12.3,4.2,3.6,8.5,11.4,9.7,9.3,6.6,4.3,2.0,2.0,9.9,5.7,17.0,5.3,12.0,5.5,6.6,10.7,4.1,2.5,7.4,7.7,3.2,10.9,12.2,6.1,2.7,6.7,1.8,4.1,6.4,4.1,8.7,6.9,4.3,3.5,8.0,5.1,3.1,5.2,2.5,4.4,1.6,6.9,16.6,1.4,2.9,7.7,6.6,2.6,1.5,7.0,9.6,10.8,3.8,2.7,2.1,4.0,6.5,5.7,3.1,4.6,7.4,4.5,2.7,3.8,4.7,3.0,7.3,7.2,2.6,1.2,5.2,5.5,11.7,7.7,2.5,6.5,2.5,2.8,4.7,1.0,5.5,1.5,6.0,2.6,9.7,0.0,4.1,7.2,3.1,4.1,5.3,3.8,3.4,6.1,7.7,4.7,6.4,2.3,15.5,7.0,2.0,2.4,5.5,6.5,1.9,8.3,7.2,1.2,2.1,1.0,1.6,2.1,2.4,12.6,2.0,4.5,9.5,3.7,6.1,2.9,6.7,5.5,4.9,2.8,7.8,1.0,4.9,4.6,5.4,3.9,7.2,6.9,1.7,10.0,5.6,6.1,3.6,1.1,10.6,2.0,3.0,8.0,2.2,5.4,13.6,3.1,2.4,2.6,4.8,8.7,7.4,2.0,3.9,3.7,2.8,9.8,2.0,2.1,3.0,2.3,0.8,4.1,4.3,2.6,3.2,4.4,2.3,2.2,5.3,3.9,4.0,4.7,1.8,1.9,2.8,2.3,2.7,0.5,4.6,0.8,10.0,7.7,1.5,3.0,5.0,2.1,2.5,5.8,5.3,1.1,1.1,1.5,1.2,3.1,3.1,4.0,1.7,0.5,2.8,3.2,1.3,2.0,1.5,4.8,4.1,2.1,3.3,2.7,1.9,3.1,1.2,0.7,2.1,0.2,3.6,4.0,1.9,2.7,1.0,1.0,2.8,2.6,2.4,1.3,1.5,0.6,1.2,4.0,3.0,6.3,0.0,7.5,0.8,1.0,3.3,1.7,1.3,0.5,9.0,0.1,3.0,0.0,0.5,0.0,0.0,0.5,0.0,0.3,0.7,0.0,0.0,0.4,0.6,6.5],\"yaxis\":\"y\",\"type\":\"scatter\"}],                        {\"template\":{\"data\":{\"histogram2dcontour\":[{\"type\":\"histogram2dcontour\",\"colorbar\":{\"outlinewidth\":0,\"ticks\":\"\"},\"colorscale\":[[0.0,\"#0d0887\"],[0.1111111111111111,\"#46039f\"],[0.2222222222222222,\"#7201a8\"],[0.3333333333333333,\"#9c179e\"],[0.4444444444444444,\"#bd3786\"],[0.5555555555555556,\"#d8576b\"],[0.6666666666666666,\"#ed7953\"],[0.7777777777777778,\"#fb9f3a\"],[0.8888888888888888,\"#fdca26\"],[1.0,\"#f0f921\"]]}],\"choropleth\":[{\"type\":\"choropleth\",\"colorbar\":{\"outlinewidth\":0,\"ticks\":\"\"}}],\"histogram2d\":[{\"type\":\"histogram2d\",\"colorbar\":{\"outlinewidth\":0,\"ticks\":\"\"},\"colorscale\":[[0.0,\"#0d0887\"],[0.1111111111111111,\"#46039f\"],[0.2222222222222222,\"#7201a8\"],[0.3333333333333333,\"#9c179e\"],[0.4444444444444444,\"#bd3786\"],[0.5555555555555556,\"#d8576b\"],[0.6666666666666666,\"#ed7953\"],[0.7777777777777778,\"#fb9f3a\"],[0.8888888888888888,\"#fdca26\"],[1.0,\"#f0f921\"]]}],\"heatmap\":[{\"type\":\"heatmap\",\"colorbar\":{\"outlinewidth\":0,\"ticks\":\"\"},\"colorscale\":[[0.0,\"#0d0887\"],[0.1111111111111111,\"#46039f\"],[0.2222222222222222,\"#7201a8\"],[0.3333333333333333,\"#9c179e\"],[0.4444444444444444,\"#bd3786\"],[0.5555555555555556,\"#d8576b\"],[0.6666666666666666,\"#ed7953\"],[0.7777777777777778,\"#fb9f3a\"],[0.8888888888888888,\"#fdca26\"],[1.0,\"#f0f921\"]]}],\"heatmapgl\":[{\"type\":\"heatmapgl\",\"colorbar\":{\"outlinewidth\":0,\"ticks\":\"\"},\"colorscale\":[[0.0,\"#0d0887\"],[0.1111111111111111,\"#46039f\"],[0.2222222222222222,\"#7201a8\"],[0.3333333333333333,\"#9c179e\"],[0.4444444444444444,\"#bd3786\"],[0.5555555555555556,\"#d8576b\"],[0.6666666666666666,\"#ed7953\"],[0.7777777777777778,\"#fb9f3a\"],[0.8888888888888888,\"#fdca26\"],[1.0,\"#f0f921\"]]}],\"contourcarpet\":[{\"type\":\"contourcarpet\",\"colorbar\":{\"outlinewidth\":0,\"ticks\":\"\"}}],\"contour\":[{\"type\":\"contour\",\"colorbar\":{\"outlinewidth\":0,\"ticks\":\"\"},\"colorscale\":[[0.0,\"#0d0887\"],[0.1111111111111111,\"#46039f\"],[0.2222222222222222,\"#7201a8\"],[0.3333333333333333,\"#9c179e\"],[0.4444444444444444,\"#bd3786\"],[0.5555555555555556,\"#d8576b\"],[0.6666666666666666,\"#ed7953\"],[0.7777777777777778,\"#fb9f3a\"],[0.8888888888888888,\"#fdca26\"],[1.0,\"#f0f921\"]]}],\"surface\":[{\"type\":\"surface\",\"colorbar\":{\"outlinewidth\":0,\"ticks\":\"\"},\"colorscale\":[[0.0,\"#0d0887\"],[0.1111111111111111,\"#46039f\"],[0.2222222222222222,\"#7201a8\"],[0.3333333333333333,\"#9c179e\"],[0.4444444444444444,\"#bd3786\"],[0.5555555555555556,\"#d8576b\"],[0.6666666666666666,\"#ed7953\"],[0.7777777777777778,\"#fb9f3a\"],[0.8888888888888888,\"#fdca26\"],[1.0,\"#f0f921\"]]}],\"mesh3d\":[{\"type\":\"mesh3d\",\"colorbar\":{\"outlinewidth\":0,\"ticks\":\"\"}}],\"scatter\":[{\"fillpattern\":{\"fillmode\":\"overlay\",\"size\":10,\"solidity\":0.2},\"type\":\"scatter\"}],\"parcoords\":[{\"type\":\"parcoords\",\"line\":{\"colorbar\":{\"outlinewidth\":0,\"ticks\":\"\"}}}],\"scatterpolargl\":[{\"type\":\"scatterpolargl\",\"marker\":{\"colorbar\":{\"outlinewidth\":0,\"ticks\":\"\"}}}],\"bar\":[{\"error_x\":{\"color\":\"#2a3f5f\"},\"error_y\":{\"color\":\"#2a3f5f\"},\"marker\":{\"line\":{\"color\":\"#E5ECF6\",\"width\":0.5},\"pattern\":{\"fillmode\":\"overlay\",\"size\":10,\"solidity\":0.2}},\"type\":\"bar\"}],\"scattergeo\":[{\"type\":\"scattergeo\",\"marker\":{\"colorbar\":{\"outlinewidth\":0,\"ticks\":\"\"}}}],\"scatterpolar\":[{\"type\":\"scatterpolar\",\"marker\":{\"colorbar\":{\"outlinewidth\":0,\"ticks\":\"\"}}}],\"histogram\":[{\"marker\":{\"pattern\":{\"fillmode\":\"overlay\",\"size\":10,\"solidity\":0.2}},\"type\":\"histogram\"}],\"scattergl\":[{\"type\":\"scattergl\",\"marker\":{\"colorbar\":{\"outlinewidth\":0,\"ticks\":\"\"}}}],\"scatter3d\":[{\"type\":\"scatter3d\",\"line\":{\"colorbar\":{\"outlinewidth\":0,\"ticks\":\"\"}},\"marker\":{\"colorbar\":{\"outlinewidth\":0,\"ticks\":\"\"}}}],\"scattermapbox\":[{\"type\":\"scattermapbox\",\"marker\":{\"colorbar\":{\"outlinewidth\":0,\"ticks\":\"\"}}}],\"scatterternary\":[{\"type\":\"scatterternary\",\"marker\":{\"colorbar\":{\"outlinewidth\":0,\"ticks\":\"\"}}}],\"scattercarpet\":[{\"type\":\"scattercarpet\",\"marker\":{\"colorbar\":{\"outlinewidth\":0,\"ticks\":\"\"}}}],\"carpet\":[{\"aaxis\":{\"endlinecolor\":\"#2a3f5f\",\"gridcolor\":\"white\",\"linecolor\":\"white\",\"minorgridcolor\":\"white\",\"startlinecolor\":\"#2a3f5f\"},\"baxis\":{\"endlinecolor\":\"#2a3f5f\",\"gridcolor\":\"white\",\"linecolor\":\"white\",\"minorgridcolor\":\"white\",\"startlinecolor\":\"#2a3f5f\"},\"type\":\"carpet\"}],\"table\":[{\"cells\":{\"fill\":{\"color\":\"#EBF0F8\"},\"line\":{\"color\":\"white\"}},\"header\":{\"fill\":{\"color\":\"#C8D4E3\"},\"line\":{\"color\":\"white\"}},\"type\":\"table\"}],\"barpolar\":[{\"marker\":{\"line\":{\"color\":\"#E5ECF6\",\"width\":0.5},\"pattern\":{\"fillmode\":\"overlay\",\"size\":10,\"solidity\":0.2}},\"type\":\"barpolar\"}],\"pie\":[{\"automargin\":true,\"type\":\"pie\"}]},\"layout\":{\"autotypenumbers\":\"strict\",\"colorway\":[\"#636efa\",\"#EF553B\",\"#00cc96\",\"#ab63fa\",\"#FFA15A\",\"#19d3f3\",\"#FF6692\",\"#B6E880\",\"#FF97FF\",\"#FECB52\"],\"font\":{\"color\":\"#2a3f5f\"},\"hovermode\":\"closest\",\"hoverlabel\":{\"align\":\"left\"},\"paper_bgcolor\":\"white\",\"plot_bgcolor\":\"#E5ECF6\",\"polar\":{\"bgcolor\":\"#E5ECF6\",\"angularaxis\":{\"gridcolor\":\"white\",\"linecolor\":\"white\",\"ticks\":\"\"},\"radialaxis\":{\"gridcolor\":\"white\",\"linecolor\":\"white\",\"ticks\":\"\"}},\"ternary\":{\"bgcolor\":\"#E5ECF6\",\"aaxis\":{\"gridcolor\":\"white\",\"linecolor\":\"white\",\"ticks\":\"\"},\"baxis\":{\"gridcolor\":\"white\",\"linecolor\":\"white\",\"ticks\":\"\"},\"caxis\":{\"gridcolor\":\"white\",\"linecolor\":\"white\",\"ticks\":\"\"}},\"coloraxis\":{\"colorbar\":{\"outlinewidth\":0,\"ticks\":\"\"}},\"colorscale\":{\"sequential\":[[0.0,\"#0d0887\"],[0.1111111111111111,\"#46039f\"],[0.2222222222222222,\"#7201a8\"],[0.3333333333333333,\"#9c179e\"],[0.4444444444444444,\"#bd3786\"],[0.5555555555555556,\"#d8576b\"],[0.6666666666666666,\"#ed7953\"],[0.7777777777777778,\"#fb9f3a\"],[0.8888888888888888,\"#fdca26\"],[1.0,\"#f0f921\"]],\"sequentialminus\":[[0.0,\"#0d0887\"],[0.1111111111111111,\"#46039f\"],[0.2222222222222222,\"#7201a8\"],[0.3333333333333333,\"#9c179e\"],[0.4444444444444444,\"#bd3786\"],[0.5555555555555556,\"#d8576b\"],[0.6666666666666666,\"#ed7953\"],[0.7777777777777778,\"#fb9f3a\"],[0.8888888888888888,\"#fdca26\"],[1.0,\"#f0f921\"]],\"diverging\":[[0,\"#8e0152\"],[0.1,\"#c51b7d\"],[0.2,\"#de77ae\"],[0.3,\"#f1b6da\"],[0.4,\"#fde0ef\"],[0.5,\"#f7f7f7\"],[0.6,\"#e6f5d0\"],[0.7,\"#b8e186\"],[0.8,\"#7fbc41\"],[0.9,\"#4d9221\"],[1,\"#276419\"]]},\"xaxis\":{\"gridcolor\":\"white\",\"linecolor\":\"white\",\"ticks\":\"\",\"title\":{\"standoff\":15},\"zerolinecolor\":\"white\",\"automargin\":true,\"zerolinewidth\":2},\"yaxis\":{\"gridcolor\":\"white\",\"linecolor\":\"white\",\"ticks\":\"\",\"title\":{\"standoff\":15},\"zerolinecolor\":\"white\",\"automargin\":true,\"zerolinewidth\":2},\"scene\":{\"xaxis\":{\"backgroundcolor\":\"#E5ECF6\",\"gridcolor\":\"white\",\"linecolor\":\"white\",\"showbackground\":true,\"ticks\":\"\",\"zerolinecolor\":\"white\",\"gridwidth\":2},\"yaxis\":{\"backgroundcolor\":\"#E5ECF6\",\"gridcolor\":\"white\",\"linecolor\":\"white\",\"showbackground\":true,\"ticks\":\"\",\"zerolinecolor\":\"white\",\"gridwidth\":2},\"zaxis\":{\"backgroundcolor\":\"#E5ECF6\",\"gridcolor\":\"white\",\"linecolor\":\"white\",\"showbackground\":true,\"ticks\":\"\",\"zerolinecolor\":\"white\",\"gridwidth\":2}},\"shapedefaults\":{\"line\":{\"color\":\"#2a3f5f\"}},\"annotationdefaults\":{\"arrowcolor\":\"#2a3f5f\",\"arrowhead\":0,\"arrowwidth\":1},\"geo\":{\"bgcolor\":\"white\",\"landcolor\":\"#E5ECF6\",\"subunitcolor\":\"white\",\"showland\":true,\"showlakes\":true,\"lakecolor\":\"white\"},\"title\":{\"x\":0.05},\"mapbox\":{\"style\":\"light\"}}},\"xaxis\":{\"anchor\":\"y\",\"domain\":[0.0,1.0],\"title\":{\"text\":\"Age\"}},\"yaxis\":{\"anchor\":\"x\",\"domain\":[0.0,1.0],\"title\":{\"text\":\"PTS\"}},\"legend\":{\"tracegroupgap\":0},\"margin\":{\"t\":60}},                        {\"responsive\": true}                    ).then(function(){\n",
       "                            \n",
       "var gd = document.getElementById('ff9e771e-ab6f-4199-a626-0463c8ac6432');\n",
       "var x = new MutationObserver(function (mutations, observer) {{\n",
       "        var display = window.getComputedStyle(gd).display;\n",
       "        if (!display || display === 'none') {{\n",
       "            console.log([gd, 'removed!']);\n",
       "            Plotly.purge(gd);\n",
       "            observer.disconnect();\n",
       "        }}\n",
       "}});\n",
       "\n",
       "// Listen for the removal of the full notebook cells\n",
       "var notebookContainer = gd.closest('#notebook-container');\n",
       "if (notebookContainer) {{\n",
       "    x.observe(notebookContainer, {childList: true});\n",
       "}}\n",
       "\n",
       "// Listen for the clearing of the current output cell\n",
       "var outputEl = gd.closest('.output');\n",
       "if (outputEl) {{\n",
       "    x.observe(outputEl, {childList: true});\n",
       "}}\n",
       "\n",
       "                        })                };                });            </script>        </div>"
      ]
     },
     "metadata": {},
     "output_type": "display_data"
    }
   ],
   "source": [
    "fig = px.scatter(df, y = 'PTS', x = 'Age', hover_data = [\"Player\"])\n",
    "fig.show()"
   ]
  },
  {
   "cell_type": "markdown",
   "id": "75da8084",
   "metadata": {
    "papermill": {
     "duration": 0.012462,
     "end_time": "2022-07-21T02:58:02.493703",
     "exception": false,
     "start_time": "2022-07-21T02:58:02.481241",
     "status": "completed"
    },
    "tags": []
   },
   "source": [
    "There is little pattern or symmetry in this distribution. We can see Zion Williamson and Luka Doncic as significant outliers in the 21 and under players, while Lebron James is the only player averaging over 17 ppg at age 35 or older. He is averaging a whopping 25 PPG."
   ]
  },
  {
   "cell_type": "code",
   "execution_count": 12,
   "id": "c723952c",
   "metadata": {
    "execution": {
     "iopub.execute_input": "2022-07-21T02:58:02.519785Z",
     "iopub.status.busy": "2022-07-21T02:58:02.519346Z",
     "iopub.status.idle": "2022-07-21T02:58:02.608248Z",
     "shell.execute_reply": "2022-07-21T02:58:02.607264Z"
    },
    "papermill": {
     "duration": 0.104497,
     "end_time": "2022-07-21T02:58:02.610462",
     "exception": false,
     "start_time": "2022-07-21T02:58:02.505965",
     "status": "completed"
    },
    "tags": []
   },
   "outputs": [
    {
     "data": {
      "text/html": [
       "<div>                            <div id=\"563abe35-0710-423a-8a03-5f43fd0d7c1b\" class=\"plotly-graph-div\" style=\"height:525px; width:100%;\"></div>            <script type=\"text/javascript\">                require([\"plotly\"], function(Plotly) {                    window.PLOTLYENV=window.PLOTLYENV || {};                                    if (document.getElementById(\"563abe35-0710-423a-8a03-5f43fd0d7c1b\")) {                    Plotly.newPlot(                        \"563abe35-0710-423a-8a03-5f43fd0d7c1b\",                        [{\"alignmentgroup\":\"True\",\"hovertemplate\":\"position=C<br>Player=%{x}<br>shots_created=%{y}<extra></extra>\",\"legendgroup\":\"C\",\"marker\":{\"color\":\"#636efa\",\"pattern\":{\"shape\":\"\"}},\"name\":\"C\",\"offsetgroup\":\"C\",\"orientation\":\"v\",\"showlegend\":true,\"textposition\":\"auto\",\"x\":[\"Joel Embiid\",\"Andre Drummond\",\"Karl-Anthony Towns\",\"Rudy Gobert\",\"Clint Capela\"],\"xaxis\":\"x\",\"y\":[12.899999999999999,9.2,8.9,8.7,8.3],\"yaxis\":\"y\",\"type\":\"bar\"},{\"alignmentgroup\":\"True\",\"hovertemplate\":\"position=PF<br>Player=%{x}<br>shots_created=%{y}<extra></extra>\",\"legendgroup\":\"PF\",\"marker\":{\"color\":\"#EF553B\",\"pattern\":{\"shape\":\"\"}},\"name\":\"PF\",\"offsetgroup\":\"PF\",\"orientation\":\"v\",\"showlegend\":true,\"textposition\":\"auto\",\"x\":[\"Zion Williamson\",\"Giannis Antetokounmpo\"],\"xaxis\":\"x\",\"y\":[11.399999999999999,11.1],\"yaxis\":\"y\",\"type\":\"bar\"},{\"alignmentgroup\":\"True\",\"hovertemplate\":\"position=SF<br>Player=%{x}<br>shots_created=%{y}<extra></extra>\",\"legendgroup\":\"SF\",\"marker\":{\"color\":\"#00cc96\",\"pattern\":{\"shape\":\"\"}},\"name\":\"SF\",\"offsetgroup\":\"SF\",\"orientation\":\"v\",\"showlegend\":true,\"textposition\":\"auto\",\"x\":[\"Jimmy Butler\"],\"xaxis\":\"x\",\"y\":[9.8],\"yaxis\":\"y\",\"type\":\"bar\"},{\"alignmentgroup\":\"True\",\"hovertemplate\":\"position=PG<br>Player=%{x}<br>shots_created=%{y}<extra></extra>\",\"legendgroup\":\"PG\",\"marker\":{\"color\":\"#ab63fa\",\"pattern\":{\"shape\":\"\"}},\"name\":\"PG\",\"offsetgroup\":\"PG\",\"orientation\":\"v\",\"showlegend\":true,\"textposition\":\"auto\",\"x\":[\"Trae Young\"],\"xaxis\":\"x\",\"y\":[9.299999999999999],\"yaxis\":\"y\",\"type\":\"bar\"},{\"alignmentgroup\":\"True\",\"hovertemplate\":\"position=SG<br>Player=%{x}<br>shots_created=%{y}<extra></extra>\",\"legendgroup\":\"SG\",\"marker\":{\"color\":\"#FFA15A\",\"pattern\":{\"shape\":\"\"}},\"name\":\"SG\",\"offsetgroup\":\"SG\",\"orientation\":\"v\",\"showlegend\":true,\"textposition\":\"auto\",\"x\":[\"Bradley Beal\"],\"xaxis\":\"x\",\"y\":[8.9],\"yaxis\":\"y\",\"type\":\"bar\"}],                        {\"template\":{\"data\":{\"histogram2dcontour\":[{\"type\":\"histogram2dcontour\",\"colorbar\":{\"outlinewidth\":0,\"ticks\":\"\"},\"colorscale\":[[0.0,\"#0d0887\"],[0.1111111111111111,\"#46039f\"],[0.2222222222222222,\"#7201a8\"],[0.3333333333333333,\"#9c179e\"],[0.4444444444444444,\"#bd3786\"],[0.5555555555555556,\"#d8576b\"],[0.6666666666666666,\"#ed7953\"],[0.7777777777777778,\"#fb9f3a\"],[0.8888888888888888,\"#fdca26\"],[1.0,\"#f0f921\"]]}],\"choropleth\":[{\"type\":\"choropleth\",\"colorbar\":{\"outlinewidth\":0,\"ticks\":\"\"}}],\"histogram2d\":[{\"type\":\"histogram2d\",\"colorbar\":{\"outlinewidth\":0,\"ticks\":\"\"},\"colorscale\":[[0.0,\"#0d0887\"],[0.1111111111111111,\"#46039f\"],[0.2222222222222222,\"#7201a8\"],[0.3333333333333333,\"#9c179e\"],[0.4444444444444444,\"#bd3786\"],[0.5555555555555556,\"#d8576b\"],[0.6666666666666666,\"#ed7953\"],[0.7777777777777778,\"#fb9f3a\"],[0.8888888888888888,\"#fdca26\"],[1.0,\"#f0f921\"]]}],\"heatmap\":[{\"type\":\"heatmap\",\"colorbar\":{\"outlinewidth\":0,\"ticks\":\"\"},\"colorscale\":[[0.0,\"#0d0887\"],[0.1111111111111111,\"#46039f\"],[0.2222222222222222,\"#7201a8\"],[0.3333333333333333,\"#9c179e\"],[0.4444444444444444,\"#bd3786\"],[0.5555555555555556,\"#d8576b\"],[0.6666666666666666,\"#ed7953\"],[0.7777777777777778,\"#fb9f3a\"],[0.8888888888888888,\"#fdca26\"],[1.0,\"#f0f921\"]]}],\"heatmapgl\":[{\"type\":\"heatmapgl\",\"colorbar\":{\"outlinewidth\":0,\"ticks\":\"\"},\"colorscale\":[[0.0,\"#0d0887\"],[0.1111111111111111,\"#46039f\"],[0.2222222222222222,\"#7201a8\"],[0.3333333333333333,\"#9c179e\"],[0.4444444444444444,\"#bd3786\"],[0.5555555555555556,\"#d8576b\"],[0.6666666666666666,\"#ed7953\"],[0.7777777777777778,\"#fb9f3a\"],[0.8888888888888888,\"#fdca26\"],[1.0,\"#f0f921\"]]}],\"contourcarpet\":[{\"type\":\"contourcarpet\",\"colorbar\":{\"outlinewidth\":0,\"ticks\":\"\"}}],\"contour\":[{\"type\":\"contour\",\"colorbar\":{\"outlinewidth\":0,\"ticks\":\"\"},\"colorscale\":[[0.0,\"#0d0887\"],[0.1111111111111111,\"#46039f\"],[0.2222222222222222,\"#7201a8\"],[0.3333333333333333,\"#9c179e\"],[0.4444444444444444,\"#bd3786\"],[0.5555555555555556,\"#d8576b\"],[0.6666666666666666,\"#ed7953\"],[0.7777777777777778,\"#fb9f3a\"],[0.8888888888888888,\"#fdca26\"],[1.0,\"#f0f921\"]]}],\"surface\":[{\"type\":\"surface\",\"colorbar\":{\"outlinewidth\":0,\"ticks\":\"\"},\"colorscale\":[[0.0,\"#0d0887\"],[0.1111111111111111,\"#46039f\"],[0.2222222222222222,\"#7201a8\"],[0.3333333333333333,\"#9c179e\"],[0.4444444444444444,\"#bd3786\"],[0.5555555555555556,\"#d8576b\"],[0.6666666666666666,\"#ed7953\"],[0.7777777777777778,\"#fb9f3a\"],[0.8888888888888888,\"#fdca26\"],[1.0,\"#f0f921\"]]}],\"mesh3d\":[{\"type\":\"mesh3d\",\"colorbar\":{\"outlinewidth\":0,\"ticks\":\"\"}}],\"scatter\":[{\"fillpattern\":{\"fillmode\":\"overlay\",\"size\":10,\"solidity\":0.2},\"type\":\"scatter\"}],\"parcoords\":[{\"type\":\"parcoords\",\"line\":{\"colorbar\":{\"outlinewidth\":0,\"ticks\":\"\"}}}],\"scatterpolargl\":[{\"type\":\"scatterpolargl\",\"marker\":{\"colorbar\":{\"outlinewidth\":0,\"ticks\":\"\"}}}],\"bar\":[{\"error_x\":{\"color\":\"#2a3f5f\"},\"error_y\":{\"color\":\"#2a3f5f\"},\"marker\":{\"line\":{\"color\":\"#E5ECF6\",\"width\":0.5},\"pattern\":{\"fillmode\":\"overlay\",\"size\":10,\"solidity\":0.2}},\"type\":\"bar\"}],\"scattergeo\":[{\"type\":\"scattergeo\",\"marker\":{\"colorbar\":{\"outlinewidth\":0,\"ticks\":\"\"}}}],\"scatterpolar\":[{\"type\":\"scatterpolar\",\"marker\":{\"colorbar\":{\"outlinewidth\":0,\"ticks\":\"\"}}}],\"histogram\":[{\"marker\":{\"pattern\":{\"fillmode\":\"overlay\",\"size\":10,\"solidity\":0.2}},\"type\":\"histogram\"}],\"scattergl\":[{\"type\":\"scattergl\",\"marker\":{\"colorbar\":{\"outlinewidth\":0,\"ticks\":\"\"}}}],\"scatter3d\":[{\"type\":\"scatter3d\",\"line\":{\"colorbar\":{\"outlinewidth\":0,\"ticks\":\"\"}},\"marker\":{\"colorbar\":{\"outlinewidth\":0,\"ticks\":\"\"}}}],\"scattermapbox\":[{\"type\":\"scattermapbox\",\"marker\":{\"colorbar\":{\"outlinewidth\":0,\"ticks\":\"\"}}}],\"scatterternary\":[{\"type\":\"scatterternary\",\"marker\":{\"colorbar\":{\"outlinewidth\":0,\"ticks\":\"\"}}}],\"scattercarpet\":[{\"type\":\"scattercarpet\",\"marker\":{\"colorbar\":{\"outlinewidth\":0,\"ticks\":\"\"}}}],\"carpet\":[{\"aaxis\":{\"endlinecolor\":\"#2a3f5f\",\"gridcolor\":\"white\",\"linecolor\":\"white\",\"minorgridcolor\":\"white\",\"startlinecolor\":\"#2a3f5f\"},\"baxis\":{\"endlinecolor\":\"#2a3f5f\",\"gridcolor\":\"white\",\"linecolor\":\"white\",\"minorgridcolor\":\"white\",\"startlinecolor\":\"#2a3f5f\"},\"type\":\"carpet\"}],\"table\":[{\"cells\":{\"fill\":{\"color\":\"#EBF0F8\"},\"line\":{\"color\":\"white\"}},\"header\":{\"fill\":{\"color\":\"#C8D4E3\"},\"line\":{\"color\":\"white\"}},\"type\":\"table\"}],\"barpolar\":[{\"marker\":{\"line\":{\"color\":\"#E5ECF6\",\"width\":0.5},\"pattern\":{\"fillmode\":\"overlay\",\"size\":10,\"solidity\":0.2}},\"type\":\"barpolar\"}],\"pie\":[{\"automargin\":true,\"type\":\"pie\"}]},\"layout\":{\"autotypenumbers\":\"strict\",\"colorway\":[\"#636efa\",\"#EF553B\",\"#00cc96\",\"#ab63fa\",\"#FFA15A\",\"#19d3f3\",\"#FF6692\",\"#B6E880\",\"#FF97FF\",\"#FECB52\"],\"font\":{\"color\":\"#2a3f5f\"},\"hovermode\":\"closest\",\"hoverlabel\":{\"align\":\"left\"},\"paper_bgcolor\":\"white\",\"plot_bgcolor\":\"#E5ECF6\",\"polar\":{\"bgcolor\":\"#E5ECF6\",\"angularaxis\":{\"gridcolor\":\"white\",\"linecolor\":\"white\",\"ticks\":\"\"},\"radialaxis\":{\"gridcolor\":\"white\",\"linecolor\":\"white\",\"ticks\":\"\"}},\"ternary\":{\"bgcolor\":\"#E5ECF6\",\"aaxis\":{\"gridcolor\":\"white\",\"linecolor\":\"white\",\"ticks\":\"\"},\"baxis\":{\"gridcolor\":\"white\",\"linecolor\":\"white\",\"ticks\":\"\"},\"caxis\":{\"gridcolor\":\"white\",\"linecolor\":\"white\",\"ticks\":\"\"}},\"coloraxis\":{\"colorbar\":{\"outlinewidth\":0,\"ticks\":\"\"}},\"colorscale\":{\"sequential\":[[0.0,\"#0d0887\"],[0.1111111111111111,\"#46039f\"],[0.2222222222222222,\"#7201a8\"],[0.3333333333333333,\"#9c179e\"],[0.4444444444444444,\"#bd3786\"],[0.5555555555555556,\"#d8576b\"],[0.6666666666666666,\"#ed7953\"],[0.7777777777777778,\"#fb9f3a\"],[0.8888888888888888,\"#fdca26\"],[1.0,\"#f0f921\"]],\"sequentialminus\":[[0.0,\"#0d0887\"],[0.1111111111111111,\"#46039f\"],[0.2222222222222222,\"#7201a8\"],[0.3333333333333333,\"#9c179e\"],[0.4444444444444444,\"#bd3786\"],[0.5555555555555556,\"#d8576b\"],[0.6666666666666666,\"#ed7953\"],[0.7777777777777778,\"#fb9f3a\"],[0.8888888888888888,\"#fdca26\"],[1.0,\"#f0f921\"]],\"diverging\":[[0,\"#8e0152\"],[0.1,\"#c51b7d\"],[0.2,\"#de77ae\"],[0.3,\"#f1b6da\"],[0.4,\"#fde0ef\"],[0.5,\"#f7f7f7\"],[0.6,\"#e6f5d0\"],[0.7,\"#b8e186\"],[0.8,\"#7fbc41\"],[0.9,\"#4d9221\"],[1,\"#276419\"]]},\"xaxis\":{\"gridcolor\":\"white\",\"linecolor\":\"white\",\"ticks\":\"\",\"title\":{\"standoff\":15},\"zerolinecolor\":\"white\",\"automargin\":true,\"zerolinewidth\":2},\"yaxis\":{\"gridcolor\":\"white\",\"linecolor\":\"white\",\"ticks\":\"\",\"title\":{\"standoff\":15},\"zerolinecolor\":\"white\",\"automargin\":true,\"zerolinewidth\":2},\"scene\":{\"xaxis\":{\"backgroundcolor\":\"#E5ECF6\",\"gridcolor\":\"white\",\"linecolor\":\"white\",\"showbackground\":true,\"ticks\":\"\",\"zerolinecolor\":\"white\",\"gridwidth\":2},\"yaxis\":{\"backgroundcolor\":\"#E5ECF6\",\"gridcolor\":\"white\",\"linecolor\":\"white\",\"showbackground\":true,\"ticks\":\"\",\"zerolinecolor\":\"white\",\"gridwidth\":2},\"zaxis\":{\"backgroundcolor\":\"#E5ECF6\",\"gridcolor\":\"white\",\"linecolor\":\"white\",\"showbackground\":true,\"ticks\":\"\",\"zerolinecolor\":\"white\",\"gridwidth\":2}},\"shapedefaults\":{\"line\":{\"color\":\"#2a3f5f\"}},\"annotationdefaults\":{\"arrowcolor\":\"#2a3f5f\",\"arrowhead\":0,\"arrowwidth\":1},\"geo\":{\"bgcolor\":\"white\",\"landcolor\":\"#E5ECF6\",\"subunitcolor\":\"white\",\"showland\":true,\"showlakes\":true,\"lakecolor\":\"white\"},\"title\":{\"x\":0.05},\"mapbox\":{\"style\":\"light\"}}},\"xaxis\":{\"anchor\":\"y\",\"domain\":[0.0,1.0],\"title\":{\"text\":\"Player\"}},\"yaxis\":{\"anchor\":\"x\",\"domain\":[0.0,1.0],\"title\":{\"text\":\"shots_created\"}},\"legend\":{\"title\":{\"text\":\"position\"},\"tracegroupgap\":0},\"title\":{\"text\":\"Shots Created Leaders\"},\"barmode\":\"relative\"},                        {\"responsive\": true}                    ).then(function(){\n",
       "                            \n",
       "var gd = document.getElementById('563abe35-0710-423a-8a03-5f43fd0d7c1b');\n",
       "var x = new MutationObserver(function (mutations, observer) {{\n",
       "        var display = window.getComputedStyle(gd).display;\n",
       "        if (!display || display === 'none') {{\n",
       "            console.log([gd, 'removed!']);\n",
       "            Plotly.purge(gd);\n",
       "            observer.disconnect();\n",
       "        }}\n",
       "}});\n",
       "\n",
       "// Listen for the removal of the full notebook cells\n",
       "var notebookContainer = gd.closest('#notebook-container');\n",
       "if (notebookContainer) {{\n",
       "    x.observe(notebookContainer, {childList: true});\n",
       "}}\n",
       "\n",
       "// Listen for the clearing of the current output cell\n",
       "var outputEl = gd.closest('.output');\n",
       "if (outputEl) {{\n",
       "    x.observe(outputEl, {childList: true});\n",
       "}}\n",
       "\n",
       "                        })                };                });            </script>        </div>"
      ]
     },
     "metadata": {},
     "output_type": "display_data"
    }
   ],
   "source": [
    "df['shots_created'] = df['FTA'] + df['ORB']\n",
    "df = df.sort_values(by = 'shots_created', ascending = False)\n",
    "top_stocks = df[0:10]\n",
    "fig = px.bar(top_stocks, x='Player', y='shots_created', color=\"position\", title=\"Shots Created Leaders\")\n",
    "fig.show()"
   ]
  },
  {
   "cell_type": "code",
   "execution_count": 13,
   "id": "f841a889",
   "metadata": {
    "execution": {
     "iopub.execute_input": "2022-07-21T02:58:02.637114Z",
     "iopub.status.busy": "2022-07-21T02:58:02.636679Z",
     "iopub.status.idle": "2022-07-21T02:58:02.660272Z",
     "shell.execute_reply": "2022-07-21T02:58:02.659132Z"
    },
    "papermill": {
     "duration": 0.039832,
     "end_time": "2022-07-21T02:58:02.662832",
     "exception": false,
     "start_time": "2022-07-21T02:58:02.623000",
     "status": "completed"
    },
    "tags": []
   },
   "outputs": [],
   "source": [
    "#constructing team stats array\n",
    "team_stats = []\n",
    "for team in df['Tm'].unique():\n",
    "    if team != 'TOT':\n",
    "        team_stats.append(df[df['Tm'] == team])"
   ]
  },
  {
   "cell_type": "markdown",
   "id": "3fb19805",
   "metadata": {
    "papermill": {
     "duration": 0.012208,
     "end_time": "2022-07-21T02:58:02.687607",
     "exception": false,
     "start_time": "2022-07-21T02:58:02.675399",
     "status": "completed"
    },
    "tags": []
   },
   "source": [
    "What is the average age for each team of the players playing 20+ minutes per game?"
   ]
  },
  {
   "cell_type": "code",
   "execution_count": 14,
   "id": "1f35e73c",
   "metadata": {
    "execution": {
     "iopub.execute_input": "2022-07-21T02:58:02.714458Z",
     "iopub.status.busy": "2022-07-21T02:58:02.714063Z",
     "iopub.status.idle": "2022-07-21T02:58:03.973086Z",
     "shell.execute_reply": "2022-07-21T02:58:03.971730Z"
    },
    "papermill": {
     "duration": 1.275288,
     "end_time": "2022-07-21T02:58:03.975439",
     "exception": false,
     "start_time": "2022-07-21T02:58:02.700151",
     "status": "completed"
    },
    "tags": []
   },
   "outputs": [
    {
     "name": "stdout",
     "output_type": "stream",
     "text": [
      "25.6\n"
     ]
    },
    {
     "data": {
      "text/html": [
       "<div>                            <div id=\"f8678e09-9973-437c-a153-5566f5f3df5e\" class=\"plotly-graph-div\" style=\"height:525px; width:100%;\"></div>            <script type=\"text/javascript\">                require([\"plotly\"], function(Plotly) {                    window.PLOTLYENV=window.PLOTLYENV || {};                                    if (document.getElementById(\"f8678e09-9973-437c-a153-5566f5f3df5e\")) {                    Plotly.newPlot(                        \"f8678e09-9973-437c-a153-5566f5f3df5e\",                        [{\"alignmentgroup\":\"True\",\"bingroup\":\"x\",\"hovertemplate\":\"Age=%{x}<br>count=%{y}<extra></extra>\",\"legendgroup\":\"\",\"marker\":{\"color\":\"#636efa\",\"pattern\":{\"shape\":\"\"}},\"name\":\"\",\"offsetgroup\":\"\",\"orientation\":\"v\",\"showlegend\":false,\"x\":[26.0,20.0,26.0,31.0,22.0,27.0,25.0,27.0,28.0,26.0,25.0,22.0,32.0,31.0,31.0,21.0,23.0,23.0,30.0,24.0,27.0,22.0,28.0,26.0,32.0,26.0,22.0,26.0,24.0,29.0,21.0,32.0,25.0,29.0,21.0,24.0,24.0,36.0,28.0,22.0,27.0,27.0,21.0,25.0,23.0,22.0,35.0,30.0,25.0,21.0,30.0,24.0,26.0,29.0,22.0,21.0,22.0,28.0,28.0,28.0,27.0,28.0,23.0,25.0,22.0,27.0,30.0,25.0,23.0,30.0,28.0,25.0,28.0,26.0,27.0,28.0,25.0,20.0,25.0,19.0,32.0,22.0,26.0,27.0,30.0,23.0,19.0,20.0,23.0,23.0,29.0,34.0,24.0,28.0,31.0,26.0,23.0,26.0,28.0,32.0,20.0,23.0,21.0,23.0,25.0,23.0,25.0,21.0,23.0,21.0,29.0,31.0,30.0,32.0,24.0,25.0,22.0,22.0,23.0,32.0,23.0,28.0,22.0,25.0,19.0,32.0,22.0,32.0,19.0,26.0,28.0,28.0,20.0,21.0,30.0,26.0,23.0,31.0,29.0,24.0,20.0,24.0,31.0,24.0,20.0,32.0,27.0,30.0,28.0,33.0,19.0,35.0,21.0,23.0,22.0,29.0,26.0,21.0,20.0,29.0,24.0,27.0,25.0,21.0,33.0,25.0,31.0,24.0,38.0,33.0,35.0,29.0,34.0,21.0,31.0,30.0,31.0,22.0,24.0,25.0,25.0,22.0,35.0,25.0,24.0,26.0,27.0,21.0,23.0,33.0,30.0,22.0,24.0,34.0,24.0,26.0,22.0,34.0,28.0,23.0,25.0,25.0,24.0,21.0,28.0,22.0,28.0,26.0,28.0,29.0,32.0,27.0,26.0,19.0,24.0,21.0,21.0,27.0,21.0,36.0,29.0,24.0,30.0,27.0,26.0,35.0,21.0,32.0,31.0,27.0,26.0,32.0,20.0,19.0,30.0,23.0,23.0,31.0,26.0,34.0,22.0,23.0,35.0,34.0,29.0,21.0,23.0,20.0,20.0,30.0,32.0,20.0,24.0,34.0,27.0,30.0,28.0,27.0,21.0,22.0,26.0,22.0,23.0,24.0,25.0,24.0,25.0,24.0,31.0,25.0,22.0,30.0,27.0,23.0,27.0,24.0,23.0,27.0,22.0,27.0,23.0,23.0,30.0,32.0,24.0,27.0,24.0,24.0,25.0,29.0,26.0,28.0,27.0,23.0,23.0,22.0,20.0,26.0,30.0,25.0,27.0,21.0,25.0,23.0,34.0,20.0,22.0,25.0,30.0,24.0,28.0,21.0,27.0,23.0,29.0,23.0,25.0,33.0,28.0,29.0,20.0,22.0,36.0,24.0,35.0,24.0,24.0,36.0,31.0,32.0,29.0,34.0,31.0,19.0,25.0,22.0,24.0,22.0,30.0,31.0,20.0,23.0,30.0,30.0,28.0,20.0,20.0,23.0,27.0,29.0,25.0,28.0,22.0,24.0,24.0,24.0,23.0,29.0,22.0,28.0,21.0,28.0,23.0,32.0,23.0,25.0,24.0,27.0,33.0,21.0,22.0,21.0,22.0,26.0,34.0,23.0,27.0,28.0,20.0,32.0,24.0,20.0,23.0,25.0,26.0,20.0,20.0,28.0,20.0,23.0,21.0,21.0,26.0,24.0,26.0,23.0,24.0,29.0,22.0,22.0,27.0,26.0,26.0,23.0,37.0,25.0,30.0,28.0,28.0,23.0,25.0,19.0,28.0,23.0,27.0,21.0,21.0,26.0,27.0,27.0,19.0,22.0,26.0,33.0,30.0,28.0,22.0,22.0,29.0,26.0,26.0,21.0,31.0,31.0,24.0,25.0,25.0,25.0,21.0,34.0,22.0,29.0,24.0,25.0,26.0,28.0,31.0,21.0,20.0,23.0,25.0,24.0,23.0,21.0,22.0,19.0,22.0,24.0,19.0,25.0,25.0,23.0,30.0,20.0,22.0,24.0,23.0,29.0,23.0,25.0,35.0,25.0,30.0,22.0,21.0,21.0,21.0,23.0,28.0,22.0,27.0,33.0,24.0,24.0,28.0,27.0,21.0,24.0,20.0,21.0,27.0,24.0,28.0,26.0,29.0,19.0,23.0,20.0,20.0,25.0,26.0,23.0,22.0,30.0,26.0,21.0,23.0,21.0,23.0,22.0,30.0,25.0,24.0,26.0,32.0,24.0,22.0,22.0,35.0,23.0,20.0,21.0,23.0,20.0,22.0,25.0,21.0,21.0,22.0,22.0,27.0,25.0,24.0,21.0,23.0,23.0,22.0,25.0,40.0,22.0],\"xaxis\":\"x\",\"yaxis\":\"y\",\"type\":\"histogram\"}],                        {\"template\":{\"data\":{\"histogram2dcontour\":[{\"type\":\"histogram2dcontour\",\"colorbar\":{\"outlinewidth\":0,\"ticks\":\"\"},\"colorscale\":[[0.0,\"#0d0887\"],[0.1111111111111111,\"#46039f\"],[0.2222222222222222,\"#7201a8\"],[0.3333333333333333,\"#9c179e\"],[0.4444444444444444,\"#bd3786\"],[0.5555555555555556,\"#d8576b\"],[0.6666666666666666,\"#ed7953\"],[0.7777777777777778,\"#fb9f3a\"],[0.8888888888888888,\"#fdca26\"],[1.0,\"#f0f921\"]]}],\"choropleth\":[{\"type\":\"choropleth\",\"colorbar\":{\"outlinewidth\":0,\"ticks\":\"\"}}],\"histogram2d\":[{\"type\":\"histogram2d\",\"colorbar\":{\"outlinewidth\":0,\"ticks\":\"\"},\"colorscale\":[[0.0,\"#0d0887\"],[0.1111111111111111,\"#46039f\"],[0.2222222222222222,\"#7201a8\"],[0.3333333333333333,\"#9c179e\"],[0.4444444444444444,\"#bd3786\"],[0.5555555555555556,\"#d8576b\"],[0.6666666666666666,\"#ed7953\"],[0.7777777777777778,\"#fb9f3a\"],[0.8888888888888888,\"#fdca26\"],[1.0,\"#f0f921\"]]}],\"heatmap\":[{\"type\":\"heatmap\",\"colorbar\":{\"outlinewidth\":0,\"ticks\":\"\"},\"colorscale\":[[0.0,\"#0d0887\"],[0.1111111111111111,\"#46039f\"],[0.2222222222222222,\"#7201a8\"],[0.3333333333333333,\"#9c179e\"],[0.4444444444444444,\"#bd3786\"],[0.5555555555555556,\"#d8576b\"],[0.6666666666666666,\"#ed7953\"],[0.7777777777777778,\"#fb9f3a\"],[0.8888888888888888,\"#fdca26\"],[1.0,\"#f0f921\"]]}],\"heatmapgl\":[{\"type\":\"heatmapgl\",\"colorbar\":{\"outlinewidth\":0,\"ticks\":\"\"},\"colorscale\":[[0.0,\"#0d0887\"],[0.1111111111111111,\"#46039f\"],[0.2222222222222222,\"#7201a8\"],[0.3333333333333333,\"#9c179e\"],[0.4444444444444444,\"#bd3786\"],[0.5555555555555556,\"#d8576b\"],[0.6666666666666666,\"#ed7953\"],[0.7777777777777778,\"#fb9f3a\"],[0.8888888888888888,\"#fdca26\"],[1.0,\"#f0f921\"]]}],\"contourcarpet\":[{\"type\":\"contourcarpet\",\"colorbar\":{\"outlinewidth\":0,\"ticks\":\"\"}}],\"contour\":[{\"type\":\"contour\",\"colorbar\":{\"outlinewidth\":0,\"ticks\":\"\"},\"colorscale\":[[0.0,\"#0d0887\"],[0.1111111111111111,\"#46039f\"],[0.2222222222222222,\"#7201a8\"],[0.3333333333333333,\"#9c179e\"],[0.4444444444444444,\"#bd3786\"],[0.5555555555555556,\"#d8576b\"],[0.6666666666666666,\"#ed7953\"],[0.7777777777777778,\"#fb9f3a\"],[0.8888888888888888,\"#fdca26\"],[1.0,\"#f0f921\"]]}],\"surface\":[{\"type\":\"surface\",\"colorbar\":{\"outlinewidth\":0,\"ticks\":\"\"},\"colorscale\":[[0.0,\"#0d0887\"],[0.1111111111111111,\"#46039f\"],[0.2222222222222222,\"#7201a8\"],[0.3333333333333333,\"#9c179e\"],[0.4444444444444444,\"#bd3786\"],[0.5555555555555556,\"#d8576b\"],[0.6666666666666666,\"#ed7953\"],[0.7777777777777778,\"#fb9f3a\"],[0.8888888888888888,\"#fdca26\"],[1.0,\"#f0f921\"]]}],\"mesh3d\":[{\"type\":\"mesh3d\",\"colorbar\":{\"outlinewidth\":0,\"ticks\":\"\"}}],\"scatter\":[{\"fillpattern\":{\"fillmode\":\"overlay\",\"size\":10,\"solidity\":0.2},\"type\":\"scatter\"}],\"parcoords\":[{\"type\":\"parcoords\",\"line\":{\"colorbar\":{\"outlinewidth\":0,\"ticks\":\"\"}}}],\"scatterpolargl\":[{\"type\":\"scatterpolargl\",\"marker\":{\"colorbar\":{\"outlinewidth\":0,\"ticks\":\"\"}}}],\"bar\":[{\"error_x\":{\"color\":\"#2a3f5f\"},\"error_y\":{\"color\":\"#2a3f5f\"},\"marker\":{\"line\":{\"color\":\"#E5ECF6\",\"width\":0.5},\"pattern\":{\"fillmode\":\"overlay\",\"size\":10,\"solidity\":0.2}},\"type\":\"bar\"}],\"scattergeo\":[{\"type\":\"scattergeo\",\"marker\":{\"colorbar\":{\"outlinewidth\":0,\"ticks\":\"\"}}}],\"scatterpolar\":[{\"type\":\"scatterpolar\",\"marker\":{\"colorbar\":{\"outlinewidth\":0,\"ticks\":\"\"}}}],\"histogram\":[{\"marker\":{\"pattern\":{\"fillmode\":\"overlay\",\"size\":10,\"solidity\":0.2}},\"type\":\"histogram\"}],\"scattergl\":[{\"type\":\"scattergl\",\"marker\":{\"colorbar\":{\"outlinewidth\":0,\"ticks\":\"\"}}}],\"scatter3d\":[{\"type\":\"scatter3d\",\"line\":{\"colorbar\":{\"outlinewidth\":0,\"ticks\":\"\"}},\"marker\":{\"colorbar\":{\"outlinewidth\":0,\"ticks\":\"\"}}}],\"scattermapbox\":[{\"type\":\"scattermapbox\",\"marker\":{\"colorbar\":{\"outlinewidth\":0,\"ticks\":\"\"}}}],\"scatterternary\":[{\"type\":\"scatterternary\",\"marker\":{\"colorbar\":{\"outlinewidth\":0,\"ticks\":\"\"}}}],\"scattercarpet\":[{\"type\":\"scattercarpet\",\"marker\":{\"colorbar\":{\"outlinewidth\":0,\"ticks\":\"\"}}}],\"carpet\":[{\"aaxis\":{\"endlinecolor\":\"#2a3f5f\",\"gridcolor\":\"white\",\"linecolor\":\"white\",\"minorgridcolor\":\"white\",\"startlinecolor\":\"#2a3f5f\"},\"baxis\":{\"endlinecolor\":\"#2a3f5f\",\"gridcolor\":\"white\",\"linecolor\":\"white\",\"minorgridcolor\":\"white\",\"startlinecolor\":\"#2a3f5f\"},\"type\":\"carpet\"}],\"table\":[{\"cells\":{\"fill\":{\"color\":\"#EBF0F8\"},\"line\":{\"color\":\"white\"}},\"header\":{\"fill\":{\"color\":\"#C8D4E3\"},\"line\":{\"color\":\"white\"}},\"type\":\"table\"}],\"barpolar\":[{\"marker\":{\"line\":{\"color\":\"#E5ECF6\",\"width\":0.5},\"pattern\":{\"fillmode\":\"overlay\",\"size\":10,\"solidity\":0.2}},\"type\":\"barpolar\"}],\"pie\":[{\"automargin\":true,\"type\":\"pie\"}]},\"layout\":{\"autotypenumbers\":\"strict\",\"colorway\":[\"#636efa\",\"#EF553B\",\"#00cc96\",\"#ab63fa\",\"#FFA15A\",\"#19d3f3\",\"#FF6692\",\"#B6E880\",\"#FF97FF\",\"#FECB52\"],\"font\":{\"color\":\"#2a3f5f\"},\"hovermode\":\"closest\",\"hoverlabel\":{\"align\":\"left\"},\"paper_bgcolor\":\"white\",\"plot_bgcolor\":\"#E5ECF6\",\"polar\":{\"bgcolor\":\"#E5ECF6\",\"angularaxis\":{\"gridcolor\":\"white\",\"linecolor\":\"white\",\"ticks\":\"\"},\"radialaxis\":{\"gridcolor\":\"white\",\"linecolor\":\"white\",\"ticks\":\"\"}},\"ternary\":{\"bgcolor\":\"#E5ECF6\",\"aaxis\":{\"gridcolor\":\"white\",\"linecolor\":\"white\",\"ticks\":\"\"},\"baxis\":{\"gridcolor\":\"white\",\"linecolor\":\"white\",\"ticks\":\"\"},\"caxis\":{\"gridcolor\":\"white\",\"linecolor\":\"white\",\"ticks\":\"\"}},\"coloraxis\":{\"colorbar\":{\"outlinewidth\":0,\"ticks\":\"\"}},\"colorscale\":{\"sequential\":[[0.0,\"#0d0887\"],[0.1111111111111111,\"#46039f\"],[0.2222222222222222,\"#7201a8\"],[0.3333333333333333,\"#9c179e\"],[0.4444444444444444,\"#bd3786\"],[0.5555555555555556,\"#d8576b\"],[0.6666666666666666,\"#ed7953\"],[0.7777777777777778,\"#fb9f3a\"],[0.8888888888888888,\"#fdca26\"],[1.0,\"#f0f921\"]],\"sequentialminus\":[[0.0,\"#0d0887\"],[0.1111111111111111,\"#46039f\"],[0.2222222222222222,\"#7201a8\"],[0.3333333333333333,\"#9c179e\"],[0.4444444444444444,\"#bd3786\"],[0.5555555555555556,\"#d8576b\"],[0.6666666666666666,\"#ed7953\"],[0.7777777777777778,\"#fb9f3a\"],[0.8888888888888888,\"#fdca26\"],[1.0,\"#f0f921\"]],\"diverging\":[[0,\"#8e0152\"],[0.1,\"#c51b7d\"],[0.2,\"#de77ae\"],[0.3,\"#f1b6da\"],[0.4,\"#fde0ef\"],[0.5,\"#f7f7f7\"],[0.6,\"#e6f5d0\"],[0.7,\"#b8e186\"],[0.8,\"#7fbc41\"],[0.9,\"#4d9221\"],[1,\"#276419\"]]},\"xaxis\":{\"gridcolor\":\"white\",\"linecolor\":\"white\",\"ticks\":\"\",\"title\":{\"standoff\":15},\"zerolinecolor\":\"white\",\"automargin\":true,\"zerolinewidth\":2},\"yaxis\":{\"gridcolor\":\"white\",\"linecolor\":\"white\",\"ticks\":\"\",\"title\":{\"standoff\":15},\"zerolinecolor\":\"white\",\"automargin\":true,\"zerolinewidth\":2},\"scene\":{\"xaxis\":{\"backgroundcolor\":\"#E5ECF6\",\"gridcolor\":\"white\",\"linecolor\":\"white\",\"showbackground\":true,\"ticks\":\"\",\"zerolinecolor\":\"white\",\"gridwidth\":2},\"yaxis\":{\"backgroundcolor\":\"#E5ECF6\",\"gridcolor\":\"white\",\"linecolor\":\"white\",\"showbackground\":true,\"ticks\":\"\",\"zerolinecolor\":\"white\",\"gridwidth\":2},\"zaxis\":{\"backgroundcolor\":\"#E5ECF6\",\"gridcolor\":\"white\",\"linecolor\":\"white\",\"showbackground\":true,\"ticks\":\"\",\"zerolinecolor\":\"white\",\"gridwidth\":2}},\"shapedefaults\":{\"line\":{\"color\":\"#2a3f5f\"}},\"annotationdefaults\":{\"arrowcolor\":\"#2a3f5f\",\"arrowhead\":0,\"arrowwidth\":1},\"geo\":{\"bgcolor\":\"white\",\"landcolor\":\"#E5ECF6\",\"subunitcolor\":\"white\",\"showland\":true,\"showlakes\":true,\"lakecolor\":\"white\"},\"title\":{\"x\":0.05},\"mapbox\":{\"style\":\"light\"}}},\"xaxis\":{\"anchor\":\"y\",\"domain\":[0.0,1.0],\"title\":{\"text\":\"Age\"}},\"yaxis\":{\"anchor\":\"x\",\"domain\":[0.0,1.0],\"title\":{\"text\":\"count\"}},\"legend\":{\"tracegroupgap\":0},\"title\":{\"text\":\"Player Age Distribution of NBA 2020-2021 season\"},\"barmode\":\"relative\"},                        {\"responsive\": true}                    ).then(function(){\n",
       "                            \n",
       "var gd = document.getElementById('f8678e09-9973-437c-a153-5566f5f3df5e');\n",
       "var x = new MutationObserver(function (mutations, observer) {{\n",
       "        var display = window.getComputedStyle(gd).display;\n",
       "        if (!display || display === 'none') {{\n",
       "            console.log([gd, 'removed!']);\n",
       "            Plotly.purge(gd);\n",
       "            observer.disconnect();\n",
       "        }}\n",
       "}});\n",
       "\n",
       "// Listen for the removal of the full notebook cells\n",
       "var notebookContainer = gd.closest('#notebook-container');\n",
       "if (notebookContainer) {{\n",
       "    x.observe(notebookContainer, {childList: true});\n",
       "}}\n",
       "\n",
       "// Listen for the clearing of the current output cell\n",
       "var outputEl = gd.closest('.output');\n",
       "if (outputEl) {{\n",
       "    x.observe(outputEl, {childList: true});\n",
       "}}\n",
       "\n",
       "                        })                };                });            </script>        </div>"
      ]
     },
     "metadata": {},
     "output_type": "display_data"
    }
   ],
   "source": [
    "players = df['Player'].unique()\n",
    "age = 0\n",
    "age_distribution = pd.DataFrame(columns = ['Age'])\n",
    "for player in players:\n",
    "    newage = df[df['Player'] == player].iloc[0]['Age']\n",
    "    age_distribution = age_distribution.append({'Age': newage}, ignore_index = True)\n",
    "    age +=newage    \n",
    "age = age/len(players)\n",
    "print(age.round(1))\n",
    "fig = px.histogram(age_distribution, x = 'Age', title='Player Age Distribution of NBA 2020-2021 season')\n",
    "fig.show()"
   ]
  },
  {
   "cell_type": "markdown",
   "id": "c0a69ce1",
   "metadata": {
    "papermill": {
     "duration": 0.012393,
     "end_time": "2022-07-21T02:58:04.001696",
     "exception": false,
     "start_time": "2022-07-21T02:58:03.989303",
     "status": "completed"
    },
    "tags": []
   },
   "source": [
    "It would be interesting to see this distribution over the years of the league. It does appear that this is a younger league with the average age being 25.6."
   ]
  },
  {
   "cell_type": "code",
   "execution_count": 15,
   "id": "93550d1a",
   "metadata": {
    "execution": {
     "iopub.execute_input": "2022-07-21T02:58:04.028724Z",
     "iopub.status.busy": "2022-07-21T02:58:04.028308Z",
     "iopub.status.idle": "2022-07-21T02:58:04.193648Z",
     "shell.execute_reply": "2022-07-21T02:58:04.192741Z"
    },
    "papermill": {
     "duration": 0.181128,
     "end_time": "2022-07-21T02:58:04.195700",
     "exception": false,
     "start_time": "2022-07-21T02:58:04.014572",
     "status": "completed"
    },
    "tags": []
   },
   "outputs": [
    {
     "data": {
      "text/html": [
       "<div>                            <div id=\"8fe48655-fe3b-4849-858b-6edc7d4d70cd\" class=\"plotly-graph-div\" style=\"height:525px; width:100%;\"></div>            <script type=\"text/javascript\">                require([\"plotly\"], function(Plotly) {                    window.PLOTLYENV=window.PLOTLYENV || {};                                    if (document.getElementById(\"8fe48655-fe3b-4849-858b-6edc7d4d70cd\")) {                    Plotly.newPlot(                        \"8fe48655-fe3b-4849-858b-6edc7d4d70cd\",                        [{\"alignmentgroup\":\"True\",\"hovertemplate\":\"Tm=%{x}<br>Age=%{y}<extra></extra>\",\"legendgroup\":\"\",\"marker\":{\"color\":\"#636efa\",\"pattern\":{\"shape\":\"\"}},\"name\":\"\",\"offsetgroup\":\"\",\"orientation\":\"v\",\"showlegend\":false,\"textposition\":\"auto\",\"x\":[\"MIN\",\"OKC\",\"MEM\",\"CHO\",\"CLE\",\"NOP\",\"ORL\",\"SAC\",\"DAL\",\"DET\",\"CHI\",\"ATL\",\"GSW\",\"DEN\",\"PHO\",\"WAS\",\"BOS\",\"IND\",\"TOR\",\"PHI\",\"LAL\",\"HOU\",\"MIL\",\"NYK\",\"SAS\",\"POR\",\"BRK\",\"MIA\",\"UTA\",\"LAC\"],\"xaxis\":\"x\",\"y\":[23.4,23.6,23.9,24.7,25.0,25.2,25.3,25.4,25.9,26.1,26.2,26.3,26.3,26.5,26.5,26.5,26.7,26.8,26.8,26.9,26.9,27.0,27.1,27.3,27.8,27.9,28.8,29.0,29.1,29.6],\"yaxis\":\"y\",\"type\":\"bar\"}],                        {\"template\":{\"data\":{\"histogram2dcontour\":[{\"type\":\"histogram2dcontour\",\"colorbar\":{\"outlinewidth\":0,\"ticks\":\"\"},\"colorscale\":[[0.0,\"#0d0887\"],[0.1111111111111111,\"#46039f\"],[0.2222222222222222,\"#7201a8\"],[0.3333333333333333,\"#9c179e\"],[0.4444444444444444,\"#bd3786\"],[0.5555555555555556,\"#d8576b\"],[0.6666666666666666,\"#ed7953\"],[0.7777777777777778,\"#fb9f3a\"],[0.8888888888888888,\"#fdca26\"],[1.0,\"#f0f921\"]]}],\"choropleth\":[{\"type\":\"choropleth\",\"colorbar\":{\"outlinewidth\":0,\"ticks\":\"\"}}],\"histogram2d\":[{\"type\":\"histogram2d\",\"colorbar\":{\"outlinewidth\":0,\"ticks\":\"\"},\"colorscale\":[[0.0,\"#0d0887\"],[0.1111111111111111,\"#46039f\"],[0.2222222222222222,\"#7201a8\"],[0.3333333333333333,\"#9c179e\"],[0.4444444444444444,\"#bd3786\"],[0.5555555555555556,\"#d8576b\"],[0.6666666666666666,\"#ed7953\"],[0.7777777777777778,\"#fb9f3a\"],[0.8888888888888888,\"#fdca26\"],[1.0,\"#f0f921\"]]}],\"heatmap\":[{\"type\":\"heatmap\",\"colorbar\":{\"outlinewidth\":0,\"ticks\":\"\"},\"colorscale\":[[0.0,\"#0d0887\"],[0.1111111111111111,\"#46039f\"],[0.2222222222222222,\"#7201a8\"],[0.3333333333333333,\"#9c179e\"],[0.4444444444444444,\"#bd3786\"],[0.5555555555555556,\"#d8576b\"],[0.6666666666666666,\"#ed7953\"],[0.7777777777777778,\"#fb9f3a\"],[0.8888888888888888,\"#fdca26\"],[1.0,\"#f0f921\"]]}],\"heatmapgl\":[{\"type\":\"heatmapgl\",\"colorbar\":{\"outlinewidth\":0,\"ticks\":\"\"},\"colorscale\":[[0.0,\"#0d0887\"],[0.1111111111111111,\"#46039f\"],[0.2222222222222222,\"#7201a8\"],[0.3333333333333333,\"#9c179e\"],[0.4444444444444444,\"#bd3786\"],[0.5555555555555556,\"#d8576b\"],[0.6666666666666666,\"#ed7953\"],[0.7777777777777778,\"#fb9f3a\"],[0.8888888888888888,\"#fdca26\"],[1.0,\"#f0f921\"]]}],\"contourcarpet\":[{\"type\":\"contourcarpet\",\"colorbar\":{\"outlinewidth\":0,\"ticks\":\"\"}}],\"contour\":[{\"type\":\"contour\",\"colorbar\":{\"outlinewidth\":0,\"ticks\":\"\"},\"colorscale\":[[0.0,\"#0d0887\"],[0.1111111111111111,\"#46039f\"],[0.2222222222222222,\"#7201a8\"],[0.3333333333333333,\"#9c179e\"],[0.4444444444444444,\"#bd3786\"],[0.5555555555555556,\"#d8576b\"],[0.6666666666666666,\"#ed7953\"],[0.7777777777777778,\"#fb9f3a\"],[0.8888888888888888,\"#fdca26\"],[1.0,\"#f0f921\"]]}],\"surface\":[{\"type\":\"surface\",\"colorbar\":{\"outlinewidth\":0,\"ticks\":\"\"},\"colorscale\":[[0.0,\"#0d0887\"],[0.1111111111111111,\"#46039f\"],[0.2222222222222222,\"#7201a8\"],[0.3333333333333333,\"#9c179e\"],[0.4444444444444444,\"#bd3786\"],[0.5555555555555556,\"#d8576b\"],[0.6666666666666666,\"#ed7953\"],[0.7777777777777778,\"#fb9f3a\"],[0.8888888888888888,\"#fdca26\"],[1.0,\"#f0f921\"]]}],\"mesh3d\":[{\"type\":\"mesh3d\",\"colorbar\":{\"outlinewidth\":0,\"ticks\":\"\"}}],\"scatter\":[{\"fillpattern\":{\"fillmode\":\"overlay\",\"size\":10,\"solidity\":0.2},\"type\":\"scatter\"}],\"parcoords\":[{\"type\":\"parcoords\",\"line\":{\"colorbar\":{\"outlinewidth\":0,\"ticks\":\"\"}}}],\"scatterpolargl\":[{\"type\":\"scatterpolargl\",\"marker\":{\"colorbar\":{\"outlinewidth\":0,\"ticks\":\"\"}}}],\"bar\":[{\"error_x\":{\"color\":\"#2a3f5f\"},\"error_y\":{\"color\":\"#2a3f5f\"},\"marker\":{\"line\":{\"color\":\"#E5ECF6\",\"width\":0.5},\"pattern\":{\"fillmode\":\"overlay\",\"size\":10,\"solidity\":0.2}},\"type\":\"bar\"}],\"scattergeo\":[{\"type\":\"scattergeo\",\"marker\":{\"colorbar\":{\"outlinewidth\":0,\"ticks\":\"\"}}}],\"scatterpolar\":[{\"type\":\"scatterpolar\",\"marker\":{\"colorbar\":{\"outlinewidth\":0,\"ticks\":\"\"}}}],\"histogram\":[{\"marker\":{\"pattern\":{\"fillmode\":\"overlay\",\"size\":10,\"solidity\":0.2}},\"type\":\"histogram\"}],\"scattergl\":[{\"type\":\"scattergl\",\"marker\":{\"colorbar\":{\"outlinewidth\":0,\"ticks\":\"\"}}}],\"scatter3d\":[{\"type\":\"scatter3d\",\"line\":{\"colorbar\":{\"outlinewidth\":0,\"ticks\":\"\"}},\"marker\":{\"colorbar\":{\"outlinewidth\":0,\"ticks\":\"\"}}}],\"scattermapbox\":[{\"type\":\"scattermapbox\",\"marker\":{\"colorbar\":{\"outlinewidth\":0,\"ticks\":\"\"}}}],\"scatterternary\":[{\"type\":\"scatterternary\",\"marker\":{\"colorbar\":{\"outlinewidth\":0,\"ticks\":\"\"}}}],\"scattercarpet\":[{\"type\":\"scattercarpet\",\"marker\":{\"colorbar\":{\"outlinewidth\":0,\"ticks\":\"\"}}}],\"carpet\":[{\"aaxis\":{\"endlinecolor\":\"#2a3f5f\",\"gridcolor\":\"white\",\"linecolor\":\"white\",\"minorgridcolor\":\"white\",\"startlinecolor\":\"#2a3f5f\"},\"baxis\":{\"endlinecolor\":\"#2a3f5f\",\"gridcolor\":\"white\",\"linecolor\":\"white\",\"minorgridcolor\":\"white\",\"startlinecolor\":\"#2a3f5f\"},\"type\":\"carpet\"}],\"table\":[{\"cells\":{\"fill\":{\"color\":\"#EBF0F8\"},\"line\":{\"color\":\"white\"}},\"header\":{\"fill\":{\"color\":\"#C8D4E3\"},\"line\":{\"color\":\"white\"}},\"type\":\"table\"}],\"barpolar\":[{\"marker\":{\"line\":{\"color\":\"#E5ECF6\",\"width\":0.5},\"pattern\":{\"fillmode\":\"overlay\",\"size\":10,\"solidity\":0.2}},\"type\":\"barpolar\"}],\"pie\":[{\"automargin\":true,\"type\":\"pie\"}]},\"layout\":{\"autotypenumbers\":\"strict\",\"colorway\":[\"#636efa\",\"#EF553B\",\"#00cc96\",\"#ab63fa\",\"#FFA15A\",\"#19d3f3\",\"#FF6692\",\"#B6E880\",\"#FF97FF\",\"#FECB52\"],\"font\":{\"color\":\"#2a3f5f\"},\"hovermode\":\"closest\",\"hoverlabel\":{\"align\":\"left\"},\"paper_bgcolor\":\"white\",\"plot_bgcolor\":\"#E5ECF6\",\"polar\":{\"bgcolor\":\"#E5ECF6\",\"angularaxis\":{\"gridcolor\":\"white\",\"linecolor\":\"white\",\"ticks\":\"\"},\"radialaxis\":{\"gridcolor\":\"white\",\"linecolor\":\"white\",\"ticks\":\"\"}},\"ternary\":{\"bgcolor\":\"#E5ECF6\",\"aaxis\":{\"gridcolor\":\"white\",\"linecolor\":\"white\",\"ticks\":\"\"},\"baxis\":{\"gridcolor\":\"white\",\"linecolor\":\"white\",\"ticks\":\"\"},\"caxis\":{\"gridcolor\":\"white\",\"linecolor\":\"white\",\"ticks\":\"\"}},\"coloraxis\":{\"colorbar\":{\"outlinewidth\":0,\"ticks\":\"\"}},\"colorscale\":{\"sequential\":[[0.0,\"#0d0887\"],[0.1111111111111111,\"#46039f\"],[0.2222222222222222,\"#7201a8\"],[0.3333333333333333,\"#9c179e\"],[0.4444444444444444,\"#bd3786\"],[0.5555555555555556,\"#d8576b\"],[0.6666666666666666,\"#ed7953\"],[0.7777777777777778,\"#fb9f3a\"],[0.8888888888888888,\"#fdca26\"],[1.0,\"#f0f921\"]],\"sequentialminus\":[[0.0,\"#0d0887\"],[0.1111111111111111,\"#46039f\"],[0.2222222222222222,\"#7201a8\"],[0.3333333333333333,\"#9c179e\"],[0.4444444444444444,\"#bd3786\"],[0.5555555555555556,\"#d8576b\"],[0.6666666666666666,\"#ed7953\"],[0.7777777777777778,\"#fb9f3a\"],[0.8888888888888888,\"#fdca26\"],[1.0,\"#f0f921\"]],\"diverging\":[[0,\"#8e0152\"],[0.1,\"#c51b7d\"],[0.2,\"#de77ae\"],[0.3,\"#f1b6da\"],[0.4,\"#fde0ef\"],[0.5,\"#f7f7f7\"],[0.6,\"#e6f5d0\"],[0.7,\"#b8e186\"],[0.8,\"#7fbc41\"],[0.9,\"#4d9221\"],[1,\"#276419\"]]},\"xaxis\":{\"gridcolor\":\"white\",\"linecolor\":\"white\",\"ticks\":\"\",\"title\":{\"standoff\":15},\"zerolinecolor\":\"white\",\"automargin\":true,\"zerolinewidth\":2},\"yaxis\":{\"gridcolor\":\"white\",\"linecolor\":\"white\",\"ticks\":\"\",\"title\":{\"standoff\":15},\"zerolinecolor\":\"white\",\"automargin\":true,\"zerolinewidth\":2},\"scene\":{\"xaxis\":{\"backgroundcolor\":\"#E5ECF6\",\"gridcolor\":\"white\",\"linecolor\":\"white\",\"showbackground\":true,\"ticks\":\"\",\"zerolinecolor\":\"white\",\"gridwidth\":2},\"yaxis\":{\"backgroundcolor\":\"#E5ECF6\",\"gridcolor\":\"white\",\"linecolor\":\"white\",\"showbackground\":true,\"ticks\":\"\",\"zerolinecolor\":\"white\",\"gridwidth\":2},\"zaxis\":{\"backgroundcolor\":\"#E5ECF6\",\"gridcolor\":\"white\",\"linecolor\":\"white\",\"showbackground\":true,\"ticks\":\"\",\"zerolinecolor\":\"white\",\"gridwidth\":2}},\"shapedefaults\":{\"line\":{\"color\":\"#2a3f5f\"}},\"annotationdefaults\":{\"arrowcolor\":\"#2a3f5f\",\"arrowhead\":0,\"arrowwidth\":1},\"geo\":{\"bgcolor\":\"white\",\"landcolor\":\"#E5ECF6\",\"subunitcolor\":\"white\",\"showland\":true,\"showlakes\":true,\"lakecolor\":\"white\"},\"title\":{\"x\":0.05},\"mapbox\":{\"style\":\"light\"}}},\"xaxis\":{\"anchor\":\"y\",\"domain\":[0.0,1.0],\"title\":{\"text\":\"Tm\"}},\"yaxis\":{\"anchor\":\"x\",\"domain\":[0.0,1.0],\"title\":{\"text\":\"Age\"}},\"legend\":{\"tracegroupgap\":0},\"title\":{\"text\":\"avg Age of Players having 20+ mins per game\"},\"barmode\":\"relative\"},                        {\"responsive\": true}                    ).then(function(){\n",
       "                            \n",
       "var gd = document.getElementById('8fe48655-fe3b-4849-858b-6edc7d4d70cd');\n",
       "var x = new MutationObserver(function (mutations, observer) {{\n",
       "        var display = window.getComputedStyle(gd).display;\n",
       "        if (!display || display === 'none') {{\n",
       "            console.log([gd, 'removed!']);\n",
       "            Plotly.purge(gd);\n",
       "            observer.disconnect();\n",
       "        }}\n",
       "}});\n",
       "\n",
       "// Listen for the removal of the full notebook cells\n",
       "var notebookContainer = gd.closest('#notebook-container');\n",
       "if (notebookContainer) {{\n",
       "    x.observe(notebookContainer, {childList: true});\n",
       "}}\n",
       "\n",
       "// Listen for the clearing of the current output cell\n",
       "var outputEl = gd.closest('.output');\n",
       "if (outputEl) {{\n",
       "    x.observe(outputEl, {childList: true});\n",
       "}}\n",
       "\n",
       "                        })                };                });            </script>        </div>"
      ]
     },
     "metadata": {},
     "output_type": "display_data"
    }
   ],
   "source": [
    "q1_team = pd.DataFrame(columns = ['Tm', 'Age'])\n",
    "for team in team_stats:\n",
    "    new_row = {\n",
    "        'Tm': team['Tm'].iloc[0],\n",
    "        'Age': team[team['MP'] >= 20]['Age'].mean().round(1)\n",
    "    }\n",
    "    q1_team = q1_team.append(new_row, ignore_index = True)\n",
    "\n",
    "q1_team = q1_team.sort_values(by='Age', ascending = True)\n",
    "fig = px.bar(q1_team, x = 'Tm', y='Age', title='avg Age of Players having 20+ mins per game')\n",
    "fig.show()   \n",
    "    "
   ]
  },
  {
   "cell_type": "markdown",
   "id": "6a5e33ca",
   "metadata": {
    "papermill": {
     "duration": 0.012573,
     "end_time": "2022-07-21T02:58:04.221233",
     "exception": false,
     "start_time": "2022-07-21T02:58:04.208660",
     "status": "completed"
    },
    "tags": []
   },
   "source": [
    "2. Which teams had the most players average over 20 minutes per game?"
   ]
  },
  {
   "cell_type": "code",
   "execution_count": 16,
   "id": "7f44b09c",
   "metadata": {
    "execution": {
     "iopub.execute_input": "2022-07-21T02:58:04.248797Z",
     "iopub.status.busy": "2022-07-21T02:58:04.248418Z",
     "iopub.status.idle": "2022-07-21T02:58:04.398732Z",
     "shell.execute_reply": "2022-07-21T02:58:04.397521Z"
    },
    "papermill": {
     "duration": 0.16644,
     "end_time": "2022-07-21T02:58:04.400737",
     "exception": false,
     "start_time": "2022-07-21T02:58:04.234297",
     "status": "completed"
    },
    "tags": []
   },
   "outputs": [
    {
     "data": {
      "text/html": [
       "<div>                            <div id=\"b6fd7204-17ab-4916-b1e3-3e56cd368d06\" class=\"plotly-graph-div\" style=\"height:525px; width:100%;\"></div>            <script type=\"text/javascript\">                require([\"plotly\"], function(Plotly) {                    window.PLOTLYENV=window.PLOTLYENV || {};                                    if (document.getElementById(\"b6fd7204-17ab-4916-b1e3-3e56cd368d06\")) {                    Plotly.newPlot(                        \"b6fd7204-17ab-4916-b1e3-3e56cd368d06\",                        [{\"alignmentgroup\":\"True\",\"hovertemplate\":\"Tm=%{x}<br>num_Players=%{y}<extra></extra>\",\"legendgroup\":\"\",\"marker\":{\"color\":\"#636efa\",\"pattern\":{\"shape\":\"\"}},\"name\":\"\",\"offsetgroup\":\"\",\"orientation\":\"v\",\"showlegend\":false,\"textposition\":\"auto\",\"x\":[\"HOU\",\"ORL\",\"OKC\",\"BRK\",\"DET\",\"DEN\",\"SAC\",\"IND\",\"LAC\",\"ATL\",\"MIA\",\"CHI\",\"CLE\",\"NYK\",\"LAL\",\"MEM\",\"POR\",\"CHO\",\"NOP\",\"SAS\",\"MIL\",\"TOR\",\"WAS\",\"DAL\",\"UTA\",\"BOS\",\"MIN\",\"PHI\",\"GSW\",\"PHO\"],\"xaxis\":\"x\",\"y\":[20,19,14,13,12,11,11,11,11,11,11,11,10,10,9,9,9,9,9,9,9,8,8,7,7,7,7,7,6,6],\"yaxis\":\"y\",\"type\":\"bar\"}],                        {\"template\":{\"data\":{\"histogram2dcontour\":[{\"type\":\"histogram2dcontour\",\"colorbar\":{\"outlinewidth\":0,\"ticks\":\"\"},\"colorscale\":[[0.0,\"#0d0887\"],[0.1111111111111111,\"#46039f\"],[0.2222222222222222,\"#7201a8\"],[0.3333333333333333,\"#9c179e\"],[0.4444444444444444,\"#bd3786\"],[0.5555555555555556,\"#d8576b\"],[0.6666666666666666,\"#ed7953\"],[0.7777777777777778,\"#fb9f3a\"],[0.8888888888888888,\"#fdca26\"],[1.0,\"#f0f921\"]]}],\"choropleth\":[{\"type\":\"choropleth\",\"colorbar\":{\"outlinewidth\":0,\"ticks\":\"\"}}],\"histogram2d\":[{\"type\":\"histogram2d\",\"colorbar\":{\"outlinewidth\":0,\"ticks\":\"\"},\"colorscale\":[[0.0,\"#0d0887\"],[0.1111111111111111,\"#46039f\"],[0.2222222222222222,\"#7201a8\"],[0.3333333333333333,\"#9c179e\"],[0.4444444444444444,\"#bd3786\"],[0.5555555555555556,\"#d8576b\"],[0.6666666666666666,\"#ed7953\"],[0.7777777777777778,\"#fb9f3a\"],[0.8888888888888888,\"#fdca26\"],[1.0,\"#f0f921\"]]}],\"heatmap\":[{\"type\":\"heatmap\",\"colorbar\":{\"outlinewidth\":0,\"ticks\":\"\"},\"colorscale\":[[0.0,\"#0d0887\"],[0.1111111111111111,\"#46039f\"],[0.2222222222222222,\"#7201a8\"],[0.3333333333333333,\"#9c179e\"],[0.4444444444444444,\"#bd3786\"],[0.5555555555555556,\"#d8576b\"],[0.6666666666666666,\"#ed7953\"],[0.7777777777777778,\"#fb9f3a\"],[0.8888888888888888,\"#fdca26\"],[1.0,\"#f0f921\"]]}],\"heatmapgl\":[{\"type\":\"heatmapgl\",\"colorbar\":{\"outlinewidth\":0,\"ticks\":\"\"},\"colorscale\":[[0.0,\"#0d0887\"],[0.1111111111111111,\"#46039f\"],[0.2222222222222222,\"#7201a8\"],[0.3333333333333333,\"#9c179e\"],[0.4444444444444444,\"#bd3786\"],[0.5555555555555556,\"#d8576b\"],[0.6666666666666666,\"#ed7953\"],[0.7777777777777778,\"#fb9f3a\"],[0.8888888888888888,\"#fdca26\"],[1.0,\"#f0f921\"]]}],\"contourcarpet\":[{\"type\":\"contourcarpet\",\"colorbar\":{\"outlinewidth\":0,\"ticks\":\"\"}}],\"contour\":[{\"type\":\"contour\",\"colorbar\":{\"outlinewidth\":0,\"ticks\":\"\"},\"colorscale\":[[0.0,\"#0d0887\"],[0.1111111111111111,\"#46039f\"],[0.2222222222222222,\"#7201a8\"],[0.3333333333333333,\"#9c179e\"],[0.4444444444444444,\"#bd3786\"],[0.5555555555555556,\"#d8576b\"],[0.6666666666666666,\"#ed7953\"],[0.7777777777777778,\"#fb9f3a\"],[0.8888888888888888,\"#fdca26\"],[1.0,\"#f0f921\"]]}],\"surface\":[{\"type\":\"surface\",\"colorbar\":{\"outlinewidth\":0,\"ticks\":\"\"},\"colorscale\":[[0.0,\"#0d0887\"],[0.1111111111111111,\"#46039f\"],[0.2222222222222222,\"#7201a8\"],[0.3333333333333333,\"#9c179e\"],[0.4444444444444444,\"#bd3786\"],[0.5555555555555556,\"#d8576b\"],[0.6666666666666666,\"#ed7953\"],[0.7777777777777778,\"#fb9f3a\"],[0.8888888888888888,\"#fdca26\"],[1.0,\"#f0f921\"]]}],\"mesh3d\":[{\"type\":\"mesh3d\",\"colorbar\":{\"outlinewidth\":0,\"ticks\":\"\"}}],\"scatter\":[{\"fillpattern\":{\"fillmode\":\"overlay\",\"size\":10,\"solidity\":0.2},\"type\":\"scatter\"}],\"parcoords\":[{\"type\":\"parcoords\",\"line\":{\"colorbar\":{\"outlinewidth\":0,\"ticks\":\"\"}}}],\"scatterpolargl\":[{\"type\":\"scatterpolargl\",\"marker\":{\"colorbar\":{\"outlinewidth\":0,\"ticks\":\"\"}}}],\"bar\":[{\"error_x\":{\"color\":\"#2a3f5f\"},\"error_y\":{\"color\":\"#2a3f5f\"},\"marker\":{\"line\":{\"color\":\"#E5ECF6\",\"width\":0.5},\"pattern\":{\"fillmode\":\"overlay\",\"size\":10,\"solidity\":0.2}},\"type\":\"bar\"}],\"scattergeo\":[{\"type\":\"scattergeo\",\"marker\":{\"colorbar\":{\"outlinewidth\":0,\"ticks\":\"\"}}}],\"scatterpolar\":[{\"type\":\"scatterpolar\",\"marker\":{\"colorbar\":{\"outlinewidth\":0,\"ticks\":\"\"}}}],\"histogram\":[{\"marker\":{\"pattern\":{\"fillmode\":\"overlay\",\"size\":10,\"solidity\":0.2}},\"type\":\"histogram\"}],\"scattergl\":[{\"type\":\"scattergl\",\"marker\":{\"colorbar\":{\"outlinewidth\":0,\"ticks\":\"\"}}}],\"scatter3d\":[{\"type\":\"scatter3d\",\"line\":{\"colorbar\":{\"outlinewidth\":0,\"ticks\":\"\"}},\"marker\":{\"colorbar\":{\"outlinewidth\":0,\"ticks\":\"\"}}}],\"scattermapbox\":[{\"type\":\"scattermapbox\",\"marker\":{\"colorbar\":{\"outlinewidth\":0,\"ticks\":\"\"}}}],\"scatterternary\":[{\"type\":\"scatterternary\",\"marker\":{\"colorbar\":{\"outlinewidth\":0,\"ticks\":\"\"}}}],\"scattercarpet\":[{\"type\":\"scattercarpet\",\"marker\":{\"colorbar\":{\"outlinewidth\":0,\"ticks\":\"\"}}}],\"carpet\":[{\"aaxis\":{\"endlinecolor\":\"#2a3f5f\",\"gridcolor\":\"white\",\"linecolor\":\"white\",\"minorgridcolor\":\"white\",\"startlinecolor\":\"#2a3f5f\"},\"baxis\":{\"endlinecolor\":\"#2a3f5f\",\"gridcolor\":\"white\",\"linecolor\":\"white\",\"minorgridcolor\":\"white\",\"startlinecolor\":\"#2a3f5f\"},\"type\":\"carpet\"}],\"table\":[{\"cells\":{\"fill\":{\"color\":\"#EBF0F8\"},\"line\":{\"color\":\"white\"}},\"header\":{\"fill\":{\"color\":\"#C8D4E3\"},\"line\":{\"color\":\"white\"}},\"type\":\"table\"}],\"barpolar\":[{\"marker\":{\"line\":{\"color\":\"#E5ECF6\",\"width\":0.5},\"pattern\":{\"fillmode\":\"overlay\",\"size\":10,\"solidity\":0.2}},\"type\":\"barpolar\"}],\"pie\":[{\"automargin\":true,\"type\":\"pie\"}]},\"layout\":{\"autotypenumbers\":\"strict\",\"colorway\":[\"#636efa\",\"#EF553B\",\"#00cc96\",\"#ab63fa\",\"#FFA15A\",\"#19d3f3\",\"#FF6692\",\"#B6E880\",\"#FF97FF\",\"#FECB52\"],\"font\":{\"color\":\"#2a3f5f\"},\"hovermode\":\"closest\",\"hoverlabel\":{\"align\":\"left\"},\"paper_bgcolor\":\"white\",\"plot_bgcolor\":\"#E5ECF6\",\"polar\":{\"bgcolor\":\"#E5ECF6\",\"angularaxis\":{\"gridcolor\":\"white\",\"linecolor\":\"white\",\"ticks\":\"\"},\"radialaxis\":{\"gridcolor\":\"white\",\"linecolor\":\"white\",\"ticks\":\"\"}},\"ternary\":{\"bgcolor\":\"#E5ECF6\",\"aaxis\":{\"gridcolor\":\"white\",\"linecolor\":\"white\",\"ticks\":\"\"},\"baxis\":{\"gridcolor\":\"white\",\"linecolor\":\"white\",\"ticks\":\"\"},\"caxis\":{\"gridcolor\":\"white\",\"linecolor\":\"white\",\"ticks\":\"\"}},\"coloraxis\":{\"colorbar\":{\"outlinewidth\":0,\"ticks\":\"\"}},\"colorscale\":{\"sequential\":[[0.0,\"#0d0887\"],[0.1111111111111111,\"#46039f\"],[0.2222222222222222,\"#7201a8\"],[0.3333333333333333,\"#9c179e\"],[0.4444444444444444,\"#bd3786\"],[0.5555555555555556,\"#d8576b\"],[0.6666666666666666,\"#ed7953\"],[0.7777777777777778,\"#fb9f3a\"],[0.8888888888888888,\"#fdca26\"],[1.0,\"#f0f921\"]],\"sequentialminus\":[[0.0,\"#0d0887\"],[0.1111111111111111,\"#46039f\"],[0.2222222222222222,\"#7201a8\"],[0.3333333333333333,\"#9c179e\"],[0.4444444444444444,\"#bd3786\"],[0.5555555555555556,\"#d8576b\"],[0.6666666666666666,\"#ed7953\"],[0.7777777777777778,\"#fb9f3a\"],[0.8888888888888888,\"#fdca26\"],[1.0,\"#f0f921\"]],\"diverging\":[[0,\"#8e0152\"],[0.1,\"#c51b7d\"],[0.2,\"#de77ae\"],[0.3,\"#f1b6da\"],[0.4,\"#fde0ef\"],[0.5,\"#f7f7f7\"],[0.6,\"#e6f5d0\"],[0.7,\"#b8e186\"],[0.8,\"#7fbc41\"],[0.9,\"#4d9221\"],[1,\"#276419\"]]},\"xaxis\":{\"gridcolor\":\"white\",\"linecolor\":\"white\",\"ticks\":\"\",\"title\":{\"standoff\":15},\"zerolinecolor\":\"white\",\"automargin\":true,\"zerolinewidth\":2},\"yaxis\":{\"gridcolor\":\"white\",\"linecolor\":\"white\",\"ticks\":\"\",\"title\":{\"standoff\":15},\"zerolinecolor\":\"white\",\"automargin\":true,\"zerolinewidth\":2},\"scene\":{\"xaxis\":{\"backgroundcolor\":\"#E5ECF6\",\"gridcolor\":\"white\",\"linecolor\":\"white\",\"showbackground\":true,\"ticks\":\"\",\"zerolinecolor\":\"white\",\"gridwidth\":2},\"yaxis\":{\"backgroundcolor\":\"#E5ECF6\",\"gridcolor\":\"white\",\"linecolor\":\"white\",\"showbackground\":true,\"ticks\":\"\",\"zerolinecolor\":\"white\",\"gridwidth\":2},\"zaxis\":{\"backgroundcolor\":\"#E5ECF6\",\"gridcolor\":\"white\",\"linecolor\":\"white\",\"showbackground\":true,\"ticks\":\"\",\"zerolinecolor\":\"white\",\"gridwidth\":2}},\"shapedefaults\":{\"line\":{\"color\":\"#2a3f5f\"}},\"annotationdefaults\":{\"arrowcolor\":\"#2a3f5f\",\"arrowhead\":0,\"arrowwidth\":1},\"geo\":{\"bgcolor\":\"white\",\"landcolor\":\"#E5ECF6\",\"subunitcolor\":\"white\",\"showland\":true,\"showlakes\":true,\"lakecolor\":\"white\"},\"title\":{\"x\":0.05},\"mapbox\":{\"style\":\"light\"}}},\"xaxis\":{\"anchor\":\"y\",\"domain\":[0.0,1.0],\"title\":{\"text\":\"Tm\"}},\"yaxis\":{\"anchor\":\"x\",\"domain\":[0.0,1.0],\"title\":{\"text\":\"num_Players\"}},\"legend\":{\"tracegroupgap\":0},\"title\":{\"text\":\"# of Players that Avg 20+ mins/game\"},\"barmode\":\"relative\"},                        {\"responsive\": true}                    ).then(function(){\n",
       "                            \n",
       "var gd = document.getElementById('b6fd7204-17ab-4916-b1e3-3e56cd368d06');\n",
       "var x = new MutationObserver(function (mutations, observer) {{\n",
       "        var display = window.getComputedStyle(gd).display;\n",
       "        if (!display || display === 'none') {{\n",
       "            console.log([gd, 'removed!']);\n",
       "            Plotly.purge(gd);\n",
       "            observer.disconnect();\n",
       "        }}\n",
       "}});\n",
       "\n",
       "// Listen for the removal of the full notebook cells\n",
       "var notebookContainer = gd.closest('#notebook-container');\n",
       "if (notebookContainer) {{\n",
       "    x.observe(notebookContainer, {childList: true});\n",
       "}}\n",
       "\n",
       "// Listen for the clearing of the current output cell\n",
       "var outputEl = gd.closest('.output');\n",
       "if (outputEl) {{\n",
       "    x.observe(outputEl, {childList: true});\n",
       "}}\n",
       "\n",
       "                        })                };                });            </script>        </div>"
      ]
     },
     "metadata": {},
     "output_type": "display_data"
    }
   ],
   "source": [
    "q2_team = pd.DataFrame(columns = ['Tm', 'num_Players'])\n",
    "for team in team_stats:\n",
    "    players_playing_over = team[team['MP'] >= 20].shape[0]\n",
    "    new_row = {\n",
    "                'Tm': team['Tm'].iat[0],\n",
    "                'num_Players': players_playing_over\n",
    "        }\n",
    "    q2_team = q2_team.append(new_row, ignore_index = True)\n",
    "\n",
    "q2_team = q2_team.sort_values(by='num_Players', ascending = False)\n",
    "fig = px.bar(q2_team, x = 'Tm', y='num_Players', title=\"# of Players that Avg 20+ mins/game\")\n",
    "fig.show()\n",
    "    "
   ]
  },
  {
   "cell_type": "code",
   "execution_count": 17,
   "id": "bf2c9b4a",
   "metadata": {
    "execution": {
     "iopub.execute_input": "2022-07-21T02:58:04.429609Z",
     "iopub.status.busy": "2022-07-21T02:58:04.429204Z",
     "iopub.status.idle": "2022-07-21T02:58:04.585998Z",
     "shell.execute_reply": "2022-07-21T02:58:04.584904Z"
    },
    "papermill": {
     "duration": 0.173426,
     "end_time": "2022-07-21T02:58:04.588153",
     "exception": false,
     "start_time": "2022-07-21T02:58:04.414727",
     "status": "completed"
    },
    "tags": []
   },
   "outputs": [
    {
     "data": {
      "text/html": [
       "<div>                            <div id=\"d0e75dbb-401f-42c3-9fb7-49b0afb688e9\" class=\"plotly-graph-div\" style=\"height:525px; width:100%;\"></div>            <script type=\"text/javascript\">                require([\"plotly\"], function(Plotly) {                    window.PLOTLYENV=window.PLOTLYENV || {};                                    if (document.getElementById(\"d0e75dbb-401f-42c3-9fb7-49b0afb688e9\")) {                    Plotly.newPlot(                        \"d0e75dbb-401f-42c3-9fb7-49b0afb688e9\",                        [{\"alignmentgroup\":\"True\",\"hovertemplate\":\"Tm=%{x}<br>num_Players=%{y}<extra></extra>\",\"legendgroup\":\"\",\"marker\":{\"color\":\"#636efa\",\"pattern\":{\"shape\":\"\"}},\"name\":\"\",\"offsetgroup\":\"\",\"orientation\":\"v\",\"showlegend\":false,\"textposition\":\"auto\",\"x\":[\"HOU\",\"TOR\",\"IND\",\"POR\",\"MIL\",\"CLE\",\"DEN\",\"DAL\",\"BOS\",\"PHO\",\"GSW\",\"SAC\",\"CHO\",\"UTA\",\"BRK\",\"MIA\",\"PHI\",\"ATL\",\"NOP\",\"LAL\",\"CHI\",\"NYK\",\"WAS\",\"MIN\",\"ORL\",\"SAS\",\"LAC\",\"DET\",\"OKC\",\"MEM\"],\"xaxis\":\"x\",\"y\":[8,7,6,5,5,5,5,4,4,4,4,4,4,4,4,4,3,3,3,3,3,3,3,3,2,2,2,2,2,1],\"yaxis\":\"y\",\"type\":\"bar\"}],                        {\"template\":{\"data\":{\"histogram2dcontour\":[{\"type\":\"histogram2dcontour\",\"colorbar\":{\"outlinewidth\":0,\"ticks\":\"\"},\"colorscale\":[[0.0,\"#0d0887\"],[0.1111111111111111,\"#46039f\"],[0.2222222222222222,\"#7201a8\"],[0.3333333333333333,\"#9c179e\"],[0.4444444444444444,\"#bd3786\"],[0.5555555555555556,\"#d8576b\"],[0.6666666666666666,\"#ed7953\"],[0.7777777777777778,\"#fb9f3a\"],[0.8888888888888888,\"#fdca26\"],[1.0,\"#f0f921\"]]}],\"choropleth\":[{\"type\":\"choropleth\",\"colorbar\":{\"outlinewidth\":0,\"ticks\":\"\"}}],\"histogram2d\":[{\"type\":\"histogram2d\",\"colorbar\":{\"outlinewidth\":0,\"ticks\":\"\"},\"colorscale\":[[0.0,\"#0d0887\"],[0.1111111111111111,\"#46039f\"],[0.2222222222222222,\"#7201a8\"],[0.3333333333333333,\"#9c179e\"],[0.4444444444444444,\"#bd3786\"],[0.5555555555555556,\"#d8576b\"],[0.6666666666666666,\"#ed7953\"],[0.7777777777777778,\"#fb9f3a\"],[0.8888888888888888,\"#fdca26\"],[1.0,\"#f0f921\"]]}],\"heatmap\":[{\"type\":\"heatmap\",\"colorbar\":{\"outlinewidth\":0,\"ticks\":\"\"},\"colorscale\":[[0.0,\"#0d0887\"],[0.1111111111111111,\"#46039f\"],[0.2222222222222222,\"#7201a8\"],[0.3333333333333333,\"#9c179e\"],[0.4444444444444444,\"#bd3786\"],[0.5555555555555556,\"#d8576b\"],[0.6666666666666666,\"#ed7953\"],[0.7777777777777778,\"#fb9f3a\"],[0.8888888888888888,\"#fdca26\"],[1.0,\"#f0f921\"]]}],\"heatmapgl\":[{\"type\":\"heatmapgl\",\"colorbar\":{\"outlinewidth\":0,\"ticks\":\"\"},\"colorscale\":[[0.0,\"#0d0887\"],[0.1111111111111111,\"#46039f\"],[0.2222222222222222,\"#7201a8\"],[0.3333333333333333,\"#9c179e\"],[0.4444444444444444,\"#bd3786\"],[0.5555555555555556,\"#d8576b\"],[0.6666666666666666,\"#ed7953\"],[0.7777777777777778,\"#fb9f3a\"],[0.8888888888888888,\"#fdca26\"],[1.0,\"#f0f921\"]]}],\"contourcarpet\":[{\"type\":\"contourcarpet\",\"colorbar\":{\"outlinewidth\":0,\"ticks\":\"\"}}],\"contour\":[{\"type\":\"contour\",\"colorbar\":{\"outlinewidth\":0,\"ticks\":\"\"},\"colorscale\":[[0.0,\"#0d0887\"],[0.1111111111111111,\"#46039f\"],[0.2222222222222222,\"#7201a8\"],[0.3333333333333333,\"#9c179e\"],[0.4444444444444444,\"#bd3786\"],[0.5555555555555556,\"#d8576b\"],[0.6666666666666666,\"#ed7953\"],[0.7777777777777778,\"#fb9f3a\"],[0.8888888888888888,\"#fdca26\"],[1.0,\"#f0f921\"]]}],\"surface\":[{\"type\":\"surface\",\"colorbar\":{\"outlinewidth\":0,\"ticks\":\"\"},\"colorscale\":[[0.0,\"#0d0887\"],[0.1111111111111111,\"#46039f\"],[0.2222222222222222,\"#7201a8\"],[0.3333333333333333,\"#9c179e\"],[0.4444444444444444,\"#bd3786\"],[0.5555555555555556,\"#d8576b\"],[0.6666666666666666,\"#ed7953\"],[0.7777777777777778,\"#fb9f3a\"],[0.8888888888888888,\"#fdca26\"],[1.0,\"#f0f921\"]]}],\"mesh3d\":[{\"type\":\"mesh3d\",\"colorbar\":{\"outlinewidth\":0,\"ticks\":\"\"}}],\"scatter\":[{\"fillpattern\":{\"fillmode\":\"overlay\",\"size\":10,\"solidity\":0.2},\"type\":\"scatter\"}],\"parcoords\":[{\"type\":\"parcoords\",\"line\":{\"colorbar\":{\"outlinewidth\":0,\"ticks\":\"\"}}}],\"scatterpolargl\":[{\"type\":\"scatterpolargl\",\"marker\":{\"colorbar\":{\"outlinewidth\":0,\"ticks\":\"\"}}}],\"bar\":[{\"error_x\":{\"color\":\"#2a3f5f\"},\"error_y\":{\"color\":\"#2a3f5f\"},\"marker\":{\"line\":{\"color\":\"#E5ECF6\",\"width\":0.5},\"pattern\":{\"fillmode\":\"overlay\",\"size\":10,\"solidity\":0.2}},\"type\":\"bar\"}],\"scattergeo\":[{\"type\":\"scattergeo\",\"marker\":{\"colorbar\":{\"outlinewidth\":0,\"ticks\":\"\"}}}],\"scatterpolar\":[{\"type\":\"scatterpolar\",\"marker\":{\"colorbar\":{\"outlinewidth\":0,\"ticks\":\"\"}}}],\"histogram\":[{\"marker\":{\"pattern\":{\"fillmode\":\"overlay\",\"size\":10,\"solidity\":0.2}},\"type\":\"histogram\"}],\"scattergl\":[{\"type\":\"scattergl\",\"marker\":{\"colorbar\":{\"outlinewidth\":0,\"ticks\":\"\"}}}],\"scatter3d\":[{\"type\":\"scatter3d\",\"line\":{\"colorbar\":{\"outlinewidth\":0,\"ticks\":\"\"}},\"marker\":{\"colorbar\":{\"outlinewidth\":0,\"ticks\":\"\"}}}],\"scattermapbox\":[{\"type\":\"scattermapbox\",\"marker\":{\"colorbar\":{\"outlinewidth\":0,\"ticks\":\"\"}}}],\"scatterternary\":[{\"type\":\"scatterternary\",\"marker\":{\"colorbar\":{\"outlinewidth\":0,\"ticks\":\"\"}}}],\"scattercarpet\":[{\"type\":\"scattercarpet\",\"marker\":{\"colorbar\":{\"outlinewidth\":0,\"ticks\":\"\"}}}],\"carpet\":[{\"aaxis\":{\"endlinecolor\":\"#2a3f5f\",\"gridcolor\":\"white\",\"linecolor\":\"white\",\"minorgridcolor\":\"white\",\"startlinecolor\":\"#2a3f5f\"},\"baxis\":{\"endlinecolor\":\"#2a3f5f\",\"gridcolor\":\"white\",\"linecolor\":\"white\",\"minorgridcolor\":\"white\",\"startlinecolor\":\"#2a3f5f\"},\"type\":\"carpet\"}],\"table\":[{\"cells\":{\"fill\":{\"color\":\"#EBF0F8\"},\"line\":{\"color\":\"white\"}},\"header\":{\"fill\":{\"color\":\"#C8D4E3\"},\"line\":{\"color\":\"white\"}},\"type\":\"table\"}],\"barpolar\":[{\"marker\":{\"line\":{\"color\":\"#E5ECF6\",\"width\":0.5},\"pattern\":{\"fillmode\":\"overlay\",\"size\":10,\"solidity\":0.2}},\"type\":\"barpolar\"}],\"pie\":[{\"automargin\":true,\"type\":\"pie\"}]},\"layout\":{\"autotypenumbers\":\"strict\",\"colorway\":[\"#636efa\",\"#EF553B\",\"#00cc96\",\"#ab63fa\",\"#FFA15A\",\"#19d3f3\",\"#FF6692\",\"#B6E880\",\"#FF97FF\",\"#FECB52\"],\"font\":{\"color\":\"#2a3f5f\"},\"hovermode\":\"closest\",\"hoverlabel\":{\"align\":\"left\"},\"paper_bgcolor\":\"white\",\"plot_bgcolor\":\"#E5ECF6\",\"polar\":{\"bgcolor\":\"#E5ECF6\",\"angularaxis\":{\"gridcolor\":\"white\",\"linecolor\":\"white\",\"ticks\":\"\"},\"radialaxis\":{\"gridcolor\":\"white\",\"linecolor\":\"white\",\"ticks\":\"\"}},\"ternary\":{\"bgcolor\":\"#E5ECF6\",\"aaxis\":{\"gridcolor\":\"white\",\"linecolor\":\"white\",\"ticks\":\"\"},\"baxis\":{\"gridcolor\":\"white\",\"linecolor\":\"white\",\"ticks\":\"\"},\"caxis\":{\"gridcolor\":\"white\",\"linecolor\":\"white\",\"ticks\":\"\"}},\"coloraxis\":{\"colorbar\":{\"outlinewidth\":0,\"ticks\":\"\"}},\"colorscale\":{\"sequential\":[[0.0,\"#0d0887\"],[0.1111111111111111,\"#46039f\"],[0.2222222222222222,\"#7201a8\"],[0.3333333333333333,\"#9c179e\"],[0.4444444444444444,\"#bd3786\"],[0.5555555555555556,\"#d8576b\"],[0.6666666666666666,\"#ed7953\"],[0.7777777777777778,\"#fb9f3a\"],[0.8888888888888888,\"#fdca26\"],[1.0,\"#f0f921\"]],\"sequentialminus\":[[0.0,\"#0d0887\"],[0.1111111111111111,\"#46039f\"],[0.2222222222222222,\"#7201a8\"],[0.3333333333333333,\"#9c179e\"],[0.4444444444444444,\"#bd3786\"],[0.5555555555555556,\"#d8576b\"],[0.6666666666666666,\"#ed7953\"],[0.7777777777777778,\"#fb9f3a\"],[0.8888888888888888,\"#fdca26\"],[1.0,\"#f0f921\"]],\"diverging\":[[0,\"#8e0152\"],[0.1,\"#c51b7d\"],[0.2,\"#de77ae\"],[0.3,\"#f1b6da\"],[0.4,\"#fde0ef\"],[0.5,\"#f7f7f7\"],[0.6,\"#e6f5d0\"],[0.7,\"#b8e186\"],[0.8,\"#7fbc41\"],[0.9,\"#4d9221\"],[1,\"#276419\"]]},\"xaxis\":{\"gridcolor\":\"white\",\"linecolor\":\"white\",\"ticks\":\"\",\"title\":{\"standoff\":15},\"zerolinecolor\":\"white\",\"automargin\":true,\"zerolinewidth\":2},\"yaxis\":{\"gridcolor\":\"white\",\"linecolor\":\"white\",\"ticks\":\"\",\"title\":{\"standoff\":15},\"zerolinecolor\":\"white\",\"automargin\":true,\"zerolinewidth\":2},\"scene\":{\"xaxis\":{\"backgroundcolor\":\"#E5ECF6\",\"gridcolor\":\"white\",\"linecolor\":\"white\",\"showbackground\":true,\"ticks\":\"\",\"zerolinecolor\":\"white\",\"gridwidth\":2},\"yaxis\":{\"backgroundcolor\":\"#E5ECF6\",\"gridcolor\":\"white\",\"linecolor\":\"white\",\"showbackground\":true,\"ticks\":\"\",\"zerolinecolor\":\"white\",\"gridwidth\":2},\"zaxis\":{\"backgroundcolor\":\"#E5ECF6\",\"gridcolor\":\"white\",\"linecolor\":\"white\",\"showbackground\":true,\"ticks\":\"\",\"zerolinecolor\":\"white\",\"gridwidth\":2}},\"shapedefaults\":{\"line\":{\"color\":\"#2a3f5f\"}},\"annotationdefaults\":{\"arrowcolor\":\"#2a3f5f\",\"arrowhead\":0,\"arrowwidth\":1},\"geo\":{\"bgcolor\":\"white\",\"landcolor\":\"#E5ECF6\",\"subunitcolor\":\"white\",\"showland\":true,\"showlakes\":true,\"lakecolor\":\"white\"},\"title\":{\"x\":0.05},\"mapbox\":{\"style\":\"light\"}}},\"xaxis\":{\"anchor\":\"y\",\"domain\":[0.0,1.0],\"title\":{\"text\":\"Tm\"}},\"yaxis\":{\"anchor\":\"x\",\"domain\":[0.0,1.0],\"title\":{\"text\":\"num_Players\"}},\"legend\":{\"tracegroupgap\":0},\"title\":{\"text\":\"# of Players that Avg 30+ mins/game\"},\"barmode\":\"relative\"},                        {\"responsive\": true}                    ).then(function(){\n",
       "                            \n",
       "var gd = document.getElementById('d0e75dbb-401f-42c3-9fb7-49b0afb688e9');\n",
       "var x = new MutationObserver(function (mutations, observer) {{\n",
       "        var display = window.getComputedStyle(gd).display;\n",
       "        if (!display || display === 'none') {{\n",
       "            console.log([gd, 'removed!']);\n",
       "            Plotly.purge(gd);\n",
       "            observer.disconnect();\n",
       "        }}\n",
       "}});\n",
       "\n",
       "// Listen for the removal of the full notebook cells\n",
       "var notebookContainer = gd.closest('#notebook-container');\n",
       "if (notebookContainer) {{\n",
       "    x.observe(notebookContainer, {childList: true});\n",
       "}}\n",
       "\n",
       "// Listen for the clearing of the current output cell\n",
       "var outputEl = gd.closest('.output');\n",
       "if (outputEl) {{\n",
       "    x.observe(outputEl, {childList: true});\n",
       "}}\n",
       "\n",
       "                        })                };                });            </script>        </div>"
      ]
     },
     "metadata": {},
     "output_type": "display_data"
    }
   ],
   "source": [
    "q2_team1 = pd.DataFrame(columns = ['Tm', 'num_Players'])\n",
    "for team in team_stats:\n",
    "    players_playing_over = team[team['MP'] >= 30].shape[0]\n",
    "    new_row = {\n",
    "                'Tm': team['Tm'].iat[0],\n",
    "                'num_Players': players_playing_over\n",
    "        }\n",
    "    q2_team1 = q2_team1.append(new_row, ignore_index = True)\n",
    "\n",
    "q2_team1 = q2_team1.sort_values(by='num_Players', ascending = False)\n",
    "fig = px.bar(q2_team1, x = 'Tm', y='num_Players', title=\"# of Players that Avg 30+ mins/game\")\n",
    "fig.show()"
   ]
  },
  {
   "cell_type": "markdown",
   "id": "df47dddf",
   "metadata": {
    "papermill": {
     "duration": 0.013648,
     "end_time": "2022-07-21T02:58:04.616156",
     "exception": false,
     "start_time": "2022-07-21T02:58:04.602508",
     "status": "completed"
    },
    "tags": []
   },
   "source": [
    "5. Of the top 3 scorers (total points) on each team, what percentage of team PPG did they contribute?"
   ]
  },
  {
   "cell_type": "code",
   "execution_count": 18,
   "id": "37ca1bdd",
   "metadata": {
    "execution": {
     "iopub.execute_input": "2022-07-21T02:58:04.644987Z",
     "iopub.status.busy": "2022-07-21T02:58:04.644596Z",
     "iopub.status.idle": "2022-07-21T02:58:04.891596Z",
     "shell.execute_reply": "2022-07-21T02:58:04.890621Z"
    },
    "papermill": {
     "duration": 0.263775,
     "end_time": "2022-07-21T02:58:04.893812",
     "exception": false,
     "start_time": "2022-07-21T02:58:04.630037",
     "status": "completed"
    },
    "tags": []
   },
   "outputs": [
    {
     "data": {
      "text/html": [
       "<div>                            <div id=\"9a626f75-9ead-4256-9133-992d04572ae0\" class=\"plotly-graph-div\" style=\"height:525px; width:100%;\"></div>            <script type=\"text/javascript\">                require([\"plotly\"], function(Plotly) {                    window.PLOTLYENV=window.PLOTLYENV || {};                                    if (document.getElementById(\"9a626f75-9ead-4256-9133-992d04572ae0\")) {                    Plotly.newPlot(                        \"9a626f75-9ead-4256-9133-992d04572ae0\",                        [{\"alignmentgroup\":\"True\",\"customdata\":[[\"Luguentz Dort\"],[\"Jae'Sean Tate\"],[\"Terrence Ross\"],[\"Norman Powell\"],[\"Josh Jackson\"],[\"Montrezl Harrell\"],[\"Kevin Durant\"],[\"Miles Bridges\"],[\"Marcus Morris\"],[\"Keldon Johnson\"],[\"Doug McDermott\"],[\"Duncan Robinson\"],[\"Jarrett Allen\"],[\"D'Angelo Russell\"],[\"Jonas Valančiūnas\"],[\"Ben Simmons\"],[\"Harrison Barnes\"],[\"Thaddeus Young\"],[\"Clint Capela\"],[\"Immanuel Quickley\"],[\"Carmelo Anthony\"],[\"Deandre Ayton\"],[\"Bojan Bogdanović\"],[\"Rui Hachimura\"],[\"Kristaps Porziņģis\"],[\"Eric Bledsoe\"],[\"Jrue Holiday\"],[\"Kemba Walker\"],[\"Jamal Murray\"],[\"Kelly Oubre Jr.\"]],\"hovertemplate\":\"rank=3<br>Tm=%{x}<br>percent_total=%{y}<br>Player=%{customdata[0]}<extra></extra>\",\"legendgroup\":\"3\",\"marker\":{\"color\":\"#636efa\",\"pattern\":{\"shape\":\"\"}},\"name\":\"3\",\"offsetgroup\":\"3\",\"orientation\":\"v\",\"showlegend\":true,\"textposition\":\"auto\",\"x\":[\"OKC\",\"HOU\",\"ORL\",\"TOR\",\"DET\",\"LAL\",\"BRK\",\"CHO\",\"LAC\",\"SAS\",\"IND\",\"MIA\",\"CLE\",\"MIN\",\"MEM\",\"PHI\",\"SAC\",\"CHI\",\"ATL\",\"NYK\",\"POR\",\"PHO\",\"UTA\",\"WAS\",\"DAL\",\"NOP\",\"MIL\",\"BOS\",\"DEN\",\"GSW\"],\"xaxis\":\"x\",\"y\":[0.1,0.1,0.1,0.1,0.11,0.12,0.11,0.11,0.09,0.11,0.11,0.12,0.09,0.1,0.13,0.1,0.11,0.1,0.12,0.09,0.11,0.12,0.15,0.09,0.11,0.1,0.12,0.1,0.12,0.1],\"yaxis\":\"y\",\"type\":\"bar\"},{\"alignmentgroup\":\"True\",\"customdata\":[[\"Darius Bazley\"],[\"John Wall\"],[\"Dwayne Bacon\"],[\"Saddiq Bey\"],[\"Dennis Schröder\"],[\"Fred VanVleet\"],[\"Joe Harris\"],[\"Gordon Hayward\"],[\"Dejounte Murray\"],[\"Malcolm Brogdon\"],[\"Paul George\"],[\"Jimmy Butler\"],[\"Darius Garland\"],[\"Dillon Brooks\"],[\"Karl-Anthony Towns\"],[\"Tobias Harris\"],[\"Buddy Hield\"],[\"Coby White\"],[\"John Collins\"],[\"CJ McCollum\"],[\"Chris Paul\"],[\"Jordan Clarkson\"],[\"RJ Barrett\"],[\"Tim Hardaway Jr.\"],[\"Khris Middleton\"],[\"Russell Westbrook\"],[\"Brandon Ingram\"],[\"Michael Porter Jr.\"],[\"Jaylen Brown\"],[\"Andrew Wiggins\"]],\"hovertemplate\":\"rank=2<br>Tm=%{x}<br>percent_total=%{y}<br>Player=%{customdata[0]}<extra></extra>\",\"legendgroup\":\"2\",\"marker\":{\"color\":\"#EF553B\",\"pattern\":{\"shape\":\"\"}},\"name\":\"2\",\"offsetgroup\":\"2\",\"orientation\":\"v\",\"showlegend\":true,\"textposition\":\"auto\",\"x\":[\"OKC\",\"HOU\",\"ORL\",\"DET\",\"LAL\",\"TOR\",\"BRK\",\"CHO\",\"SAS\",\"IND\",\"LAC\",\"MIA\",\"CLE\",\"MEM\",\"MIN\",\"PHI\",\"SAC\",\"CHI\",\"ATL\",\"POR\",\"PHO\",\"UTA\",\"NYK\",\"DAL\",\"MIL\",\"WAS\",\"NOP\",\"DEN\",\"BOS\",\"GSW\"],\"xaxis\":\"x\",\"y\":[0.1,0.11,0.1,0.11,0.12,0.13,0.11,0.11,0.13,0.14,0.15,0.14,0.13,0.14,0.15,0.15,0.14,0.13,0.14,0.13,0.14,0.15,0.16,0.14,0.16,0.17,0.18,0.14,0.18,0.16],\"yaxis\":\"y\",\"type\":\"bar\"},{\"alignmentgroup\":\"True\",\"customdata\":[[\"Shai Gilgeous-Alexander\"],[\"Christian Wood\"],[\"Nikola Vučević\"],[\"LeBron James\"],[\"Pascal Siakam\"],[\"Jerami Grant\"],[\"Kyrie Irving\"],[\"Terry Rozier\"],[\"Domantas Sabonis\"],[\"Kawhi Leonard\"],[\"DeMar DeRozan\"],[\"Bam Adebayo\"],[\"Ja Morant\"],[\"Anthony Edwards\"],[\"Collin Sexton\"],[\"Joel Embiid\"],[\"De'Aaron Fox\"],[\"Zach LaVine\"],[\"Trae Young\"],[\"Donovan Mitchell\"],[\"Julius Randle\"],[\"Devin Booker\"],[\"Damian Lillard\"],[\"Zion Williamson\"],[\"Giannis Antetokounmpo\"],[\"Luka Dončić\"],[\"Bradley Beal\"],[\"Jayson Tatum\"],[\"Nikola Jokić\"],[\"Stephen Curry\"]],\"hovertemplate\":\"rank=1<br>Tm=%{x}<br>percent_total=%{y}<br>Player=%{customdata[0]}<extra></extra>\",\"legendgroup\":\"1\",\"marker\":{\"color\":\"#00cc96\",\"pattern\":{\"shape\":\"\"}},\"name\":\"1\",\"offsetgroup\":\"1\",\"orientation\":\"v\",\"showlegend\":true,\"textposition\":\"auto\",\"x\":[\"OKC\",\"HOU\",\"ORL\",\"LAL\",\"TOR\",\"DET\",\"BRK\",\"CHO\",\"IND\",\"LAC\",\"SAS\",\"MIA\",\"MEM\",\"MIN\",\"CLE\",\"PHI\",\"SAC\",\"CHI\",\"ATL\",\"UTA\",\"NYK\",\"PHO\",\"POR\",\"NOP\",\"MIL\",\"DAL\",\"WAS\",\"BOS\",\"DEN\",\"GSW\"],\"xaxis\":\"x\",\"y\":[0.11,0.11,0.14,0.14,0.15,0.16,0.17,0.18,0.15,0.16,0.16,0.15,0.15,0.17,0.2,0.18,0.18,0.2,0.19,0.17,0.22,0.21,0.23,0.2,0.2,0.23,0.22,0.21,0.23,0.25],\"yaxis\":\"y\",\"type\":\"bar\"}],                        {\"template\":{\"data\":{\"histogram2dcontour\":[{\"type\":\"histogram2dcontour\",\"colorbar\":{\"outlinewidth\":0,\"ticks\":\"\"},\"colorscale\":[[0.0,\"#0d0887\"],[0.1111111111111111,\"#46039f\"],[0.2222222222222222,\"#7201a8\"],[0.3333333333333333,\"#9c179e\"],[0.4444444444444444,\"#bd3786\"],[0.5555555555555556,\"#d8576b\"],[0.6666666666666666,\"#ed7953\"],[0.7777777777777778,\"#fb9f3a\"],[0.8888888888888888,\"#fdca26\"],[1.0,\"#f0f921\"]]}],\"choropleth\":[{\"type\":\"choropleth\",\"colorbar\":{\"outlinewidth\":0,\"ticks\":\"\"}}],\"histogram2d\":[{\"type\":\"histogram2d\",\"colorbar\":{\"outlinewidth\":0,\"ticks\":\"\"},\"colorscale\":[[0.0,\"#0d0887\"],[0.1111111111111111,\"#46039f\"],[0.2222222222222222,\"#7201a8\"],[0.3333333333333333,\"#9c179e\"],[0.4444444444444444,\"#bd3786\"],[0.5555555555555556,\"#d8576b\"],[0.6666666666666666,\"#ed7953\"],[0.7777777777777778,\"#fb9f3a\"],[0.8888888888888888,\"#fdca26\"],[1.0,\"#f0f921\"]]}],\"heatmap\":[{\"type\":\"heatmap\",\"colorbar\":{\"outlinewidth\":0,\"ticks\":\"\"},\"colorscale\":[[0.0,\"#0d0887\"],[0.1111111111111111,\"#46039f\"],[0.2222222222222222,\"#7201a8\"],[0.3333333333333333,\"#9c179e\"],[0.4444444444444444,\"#bd3786\"],[0.5555555555555556,\"#d8576b\"],[0.6666666666666666,\"#ed7953\"],[0.7777777777777778,\"#fb9f3a\"],[0.8888888888888888,\"#fdca26\"],[1.0,\"#f0f921\"]]}],\"heatmapgl\":[{\"type\":\"heatmapgl\",\"colorbar\":{\"outlinewidth\":0,\"ticks\":\"\"},\"colorscale\":[[0.0,\"#0d0887\"],[0.1111111111111111,\"#46039f\"],[0.2222222222222222,\"#7201a8\"],[0.3333333333333333,\"#9c179e\"],[0.4444444444444444,\"#bd3786\"],[0.5555555555555556,\"#d8576b\"],[0.6666666666666666,\"#ed7953\"],[0.7777777777777778,\"#fb9f3a\"],[0.8888888888888888,\"#fdca26\"],[1.0,\"#f0f921\"]]}],\"contourcarpet\":[{\"type\":\"contourcarpet\",\"colorbar\":{\"outlinewidth\":0,\"ticks\":\"\"}}],\"contour\":[{\"type\":\"contour\",\"colorbar\":{\"outlinewidth\":0,\"ticks\":\"\"},\"colorscale\":[[0.0,\"#0d0887\"],[0.1111111111111111,\"#46039f\"],[0.2222222222222222,\"#7201a8\"],[0.3333333333333333,\"#9c179e\"],[0.4444444444444444,\"#bd3786\"],[0.5555555555555556,\"#d8576b\"],[0.6666666666666666,\"#ed7953\"],[0.7777777777777778,\"#fb9f3a\"],[0.8888888888888888,\"#fdca26\"],[1.0,\"#f0f921\"]]}],\"surface\":[{\"type\":\"surface\",\"colorbar\":{\"outlinewidth\":0,\"ticks\":\"\"},\"colorscale\":[[0.0,\"#0d0887\"],[0.1111111111111111,\"#46039f\"],[0.2222222222222222,\"#7201a8\"],[0.3333333333333333,\"#9c179e\"],[0.4444444444444444,\"#bd3786\"],[0.5555555555555556,\"#d8576b\"],[0.6666666666666666,\"#ed7953\"],[0.7777777777777778,\"#fb9f3a\"],[0.8888888888888888,\"#fdca26\"],[1.0,\"#f0f921\"]]}],\"mesh3d\":[{\"type\":\"mesh3d\",\"colorbar\":{\"outlinewidth\":0,\"ticks\":\"\"}}],\"scatter\":[{\"fillpattern\":{\"fillmode\":\"overlay\",\"size\":10,\"solidity\":0.2},\"type\":\"scatter\"}],\"parcoords\":[{\"type\":\"parcoords\",\"line\":{\"colorbar\":{\"outlinewidth\":0,\"ticks\":\"\"}}}],\"scatterpolargl\":[{\"type\":\"scatterpolargl\",\"marker\":{\"colorbar\":{\"outlinewidth\":0,\"ticks\":\"\"}}}],\"bar\":[{\"error_x\":{\"color\":\"#2a3f5f\"},\"error_y\":{\"color\":\"#2a3f5f\"},\"marker\":{\"line\":{\"color\":\"#E5ECF6\",\"width\":0.5},\"pattern\":{\"fillmode\":\"overlay\",\"size\":10,\"solidity\":0.2}},\"type\":\"bar\"}],\"scattergeo\":[{\"type\":\"scattergeo\",\"marker\":{\"colorbar\":{\"outlinewidth\":0,\"ticks\":\"\"}}}],\"scatterpolar\":[{\"type\":\"scatterpolar\",\"marker\":{\"colorbar\":{\"outlinewidth\":0,\"ticks\":\"\"}}}],\"histogram\":[{\"marker\":{\"pattern\":{\"fillmode\":\"overlay\",\"size\":10,\"solidity\":0.2}},\"type\":\"histogram\"}],\"scattergl\":[{\"type\":\"scattergl\",\"marker\":{\"colorbar\":{\"outlinewidth\":0,\"ticks\":\"\"}}}],\"scatter3d\":[{\"type\":\"scatter3d\",\"line\":{\"colorbar\":{\"outlinewidth\":0,\"ticks\":\"\"}},\"marker\":{\"colorbar\":{\"outlinewidth\":0,\"ticks\":\"\"}}}],\"scattermapbox\":[{\"type\":\"scattermapbox\",\"marker\":{\"colorbar\":{\"outlinewidth\":0,\"ticks\":\"\"}}}],\"scatterternary\":[{\"type\":\"scatterternary\",\"marker\":{\"colorbar\":{\"outlinewidth\":0,\"ticks\":\"\"}}}],\"scattercarpet\":[{\"type\":\"scattercarpet\",\"marker\":{\"colorbar\":{\"outlinewidth\":0,\"ticks\":\"\"}}}],\"carpet\":[{\"aaxis\":{\"endlinecolor\":\"#2a3f5f\",\"gridcolor\":\"white\",\"linecolor\":\"white\",\"minorgridcolor\":\"white\",\"startlinecolor\":\"#2a3f5f\"},\"baxis\":{\"endlinecolor\":\"#2a3f5f\",\"gridcolor\":\"white\",\"linecolor\":\"white\",\"minorgridcolor\":\"white\",\"startlinecolor\":\"#2a3f5f\"},\"type\":\"carpet\"}],\"table\":[{\"cells\":{\"fill\":{\"color\":\"#EBF0F8\"},\"line\":{\"color\":\"white\"}},\"header\":{\"fill\":{\"color\":\"#C8D4E3\"},\"line\":{\"color\":\"white\"}},\"type\":\"table\"}],\"barpolar\":[{\"marker\":{\"line\":{\"color\":\"#E5ECF6\",\"width\":0.5},\"pattern\":{\"fillmode\":\"overlay\",\"size\":10,\"solidity\":0.2}},\"type\":\"barpolar\"}],\"pie\":[{\"automargin\":true,\"type\":\"pie\"}]},\"layout\":{\"autotypenumbers\":\"strict\",\"colorway\":[\"#636efa\",\"#EF553B\",\"#00cc96\",\"#ab63fa\",\"#FFA15A\",\"#19d3f3\",\"#FF6692\",\"#B6E880\",\"#FF97FF\",\"#FECB52\"],\"font\":{\"color\":\"#2a3f5f\"},\"hovermode\":\"closest\",\"hoverlabel\":{\"align\":\"left\"},\"paper_bgcolor\":\"white\",\"plot_bgcolor\":\"#E5ECF6\",\"polar\":{\"bgcolor\":\"#E5ECF6\",\"angularaxis\":{\"gridcolor\":\"white\",\"linecolor\":\"white\",\"ticks\":\"\"},\"radialaxis\":{\"gridcolor\":\"white\",\"linecolor\":\"white\",\"ticks\":\"\"}},\"ternary\":{\"bgcolor\":\"#E5ECF6\",\"aaxis\":{\"gridcolor\":\"white\",\"linecolor\":\"white\",\"ticks\":\"\"},\"baxis\":{\"gridcolor\":\"white\",\"linecolor\":\"white\",\"ticks\":\"\"},\"caxis\":{\"gridcolor\":\"white\",\"linecolor\":\"white\",\"ticks\":\"\"}},\"coloraxis\":{\"colorbar\":{\"outlinewidth\":0,\"ticks\":\"\"}},\"colorscale\":{\"sequential\":[[0.0,\"#0d0887\"],[0.1111111111111111,\"#46039f\"],[0.2222222222222222,\"#7201a8\"],[0.3333333333333333,\"#9c179e\"],[0.4444444444444444,\"#bd3786\"],[0.5555555555555556,\"#d8576b\"],[0.6666666666666666,\"#ed7953\"],[0.7777777777777778,\"#fb9f3a\"],[0.8888888888888888,\"#fdca26\"],[1.0,\"#f0f921\"]],\"sequentialminus\":[[0.0,\"#0d0887\"],[0.1111111111111111,\"#46039f\"],[0.2222222222222222,\"#7201a8\"],[0.3333333333333333,\"#9c179e\"],[0.4444444444444444,\"#bd3786\"],[0.5555555555555556,\"#d8576b\"],[0.6666666666666666,\"#ed7953\"],[0.7777777777777778,\"#fb9f3a\"],[0.8888888888888888,\"#fdca26\"],[1.0,\"#f0f921\"]],\"diverging\":[[0,\"#8e0152\"],[0.1,\"#c51b7d\"],[0.2,\"#de77ae\"],[0.3,\"#f1b6da\"],[0.4,\"#fde0ef\"],[0.5,\"#f7f7f7\"],[0.6,\"#e6f5d0\"],[0.7,\"#b8e186\"],[0.8,\"#7fbc41\"],[0.9,\"#4d9221\"],[1,\"#276419\"]]},\"xaxis\":{\"gridcolor\":\"white\",\"linecolor\":\"white\",\"ticks\":\"\",\"title\":{\"standoff\":15},\"zerolinecolor\":\"white\",\"automargin\":true,\"zerolinewidth\":2},\"yaxis\":{\"gridcolor\":\"white\",\"linecolor\":\"white\",\"ticks\":\"\",\"title\":{\"standoff\":15},\"zerolinecolor\":\"white\",\"automargin\":true,\"zerolinewidth\":2},\"scene\":{\"xaxis\":{\"backgroundcolor\":\"#E5ECF6\",\"gridcolor\":\"white\",\"linecolor\":\"white\",\"showbackground\":true,\"ticks\":\"\",\"zerolinecolor\":\"white\",\"gridwidth\":2},\"yaxis\":{\"backgroundcolor\":\"#E5ECF6\",\"gridcolor\":\"white\",\"linecolor\":\"white\",\"showbackground\":true,\"ticks\":\"\",\"zerolinecolor\":\"white\",\"gridwidth\":2},\"zaxis\":{\"backgroundcolor\":\"#E5ECF6\",\"gridcolor\":\"white\",\"linecolor\":\"white\",\"showbackground\":true,\"ticks\":\"\",\"zerolinecolor\":\"white\",\"gridwidth\":2}},\"shapedefaults\":{\"line\":{\"color\":\"#2a3f5f\"}},\"annotationdefaults\":{\"arrowcolor\":\"#2a3f5f\",\"arrowhead\":0,\"arrowwidth\":1},\"geo\":{\"bgcolor\":\"white\",\"landcolor\":\"#E5ECF6\",\"subunitcolor\":\"white\",\"showland\":true,\"showlakes\":true,\"lakecolor\":\"white\"},\"title\":{\"x\":0.05},\"mapbox\":{\"style\":\"light\"}}},\"xaxis\":{\"anchor\":\"y\",\"domain\":[0.0,1.0],\"title\":{\"text\":\"Tm\"}},\"yaxis\":{\"anchor\":\"x\",\"domain\":[0.0,1.0],\"title\":{\"text\":\"percent_total\"}},\"legend\":{\"title\":{\"text\":\"rank\"},\"tracegroupgap\":0},\"margin\":{\"t\":60},\"barmode\":\"relative\"},                        {\"responsive\": true}                    ).then(function(){\n",
       "                            \n",
       "var gd = document.getElementById('9a626f75-9ead-4256-9133-992d04572ae0');\n",
       "var x = new MutationObserver(function (mutations, observer) {{\n",
       "        var display = window.getComputedStyle(gd).display;\n",
       "        if (!display || display === 'none') {{\n",
       "            console.log([gd, 'removed!']);\n",
       "            Plotly.purge(gd);\n",
       "            observer.disconnect();\n",
       "        }}\n",
       "}});\n",
       "\n",
       "// Listen for the removal of the full notebook cells\n",
       "var notebookContainer = gd.closest('#notebook-container');\n",
       "if (notebookContainer) {{\n",
       "    x.observe(notebookContainer, {childList: true});\n",
       "}}\n",
       "\n",
       "// Listen for the clearing of the current output cell\n",
       "var outputEl = gd.closest('.output');\n",
       "if (outputEl) {{\n",
       "    x.observe(outputEl, {childList: true});\n",
       "}}\n",
       "\n",
       "                        })                };                });            </script>        </div>"
      ]
     },
     "metadata": {},
     "output_type": "display_data"
    }
   ],
   "source": [
    "q5_team = pd.DataFrame()\n",
    "for i in range(len(team_stats)):\n",
    "    teamcopy = team_stats[i].copy()\n",
    "    teamcopy['tot_pts'] = teamcopy['PTS'] * teamcopy['G']\n",
    "    tot_pts_team = teamcopy['tot_pts'].sum()\n",
    "    top3 = teamcopy.sort_values(by ='tot_pts', ascending = False)[:3]\n",
    "    top3['percent_total'] = (top3['tot_pts']/tot_pts_team).round(2)\n",
    "    top3 = top3[['Player', 'percent_total', 'tot_pts', 'Tm']] \n",
    "    top3 = top3.reset_index()\n",
    "    top3['rank'] = (top3.index.values + 1).astype(str)\n",
    "    top3['top_total'] = top3['percent_total'].sum()\n",
    "    q5_team = q5_team.append(top3)\n",
    "    \n",
    "    \n",
    "q5_team = q5_team.sort_values(['top_total', 'tot_pts'])\n",
    "fig = px.bar(q5_team, x = 'Tm', y = 'percent_total', color = 'rank', hover_data = ['Player'])\n",
    "fig.show()\n",
    "\n",
    "\n",
    "    \n",
    "    \n",
    "    \n",
    "    "
   ]
  },
  {
   "cell_type": "code",
   "execution_count": 19,
   "id": "d9328836",
   "metadata": {
    "execution": {
     "iopub.execute_input": "2022-07-21T02:58:04.924267Z",
     "iopub.status.busy": "2022-07-21T02:58:04.923874Z",
     "iopub.status.idle": "2022-07-21T02:58:04.932008Z",
     "shell.execute_reply": "2022-07-21T02:58:04.930966Z"
    },
    "papermill": {
     "duration": 0.025617,
     "end_time": "2022-07-21T02:58:04.934191",
     "exception": false,
     "start_time": "2022-07-21T02:58:04.908574",
     "status": "completed"
    },
    "tags": []
   },
   "outputs": [],
   "source": [
    "def astpergame():\n",
    "    ast_game = pd.DataFrame(columns = ['Tm', 'AST'])\n",
    "    for i in range(len(team_stats)):\n",
    "        teamcopy = team_stats[i].copy()\n",
    "        teamcopy['player_tot_ast'] = teamcopy['AST']*teamcopy['G']\n",
    "        teamcopy['tm_tot_ast'] = (teamcopy['player_tot_ast']).sum()\n",
    "        new_row = {\n",
    "                'Tm': teamcopy['Tm'].iat[0],\n",
    "                'AST': (teamcopy['tm_tot_ast'].iat[0]/72).round(2)\n",
    "        }\n",
    "        team_stats[i] = teamcopy\n",
    "        ast_game = ast_game.append(new_row, ignore_index = True)\n",
    "    ast_game = ast_game.sort_values(by='AST', ascending = False)\n",
    "    return ast_game\n",
    "    "
   ]
  },
  {
   "cell_type": "code",
   "execution_count": 20,
   "id": "521a7b47",
   "metadata": {
    "execution": {
     "iopub.execute_input": "2022-07-21T02:58:04.963661Z",
     "iopub.status.busy": "2022-07-21T02:58:04.963273Z",
     "iopub.status.idle": "2022-07-21T02:58:05.125775Z",
     "shell.execute_reply": "2022-07-21T02:58:05.124808Z"
    },
    "papermill": {
     "duration": 0.179497,
     "end_time": "2022-07-21T02:58:05.127730",
     "exception": false,
     "start_time": "2022-07-21T02:58:04.948233",
     "status": "completed"
    },
    "tags": []
   },
   "outputs": [
    {
     "data": {
      "text/html": [
       "<div>                            <div id=\"38df3184-b854-4087-aa7d-18197776d4e2\" class=\"plotly-graph-div\" style=\"height:525px; width:100%;\"></div>            <script type=\"text/javascript\">                require([\"plotly\"], function(Plotly) {                    window.PLOTLYENV=window.PLOTLYENV || {};                                    if (document.getElementById(\"38df3184-b854-4087-aa7d-18197776d4e2\")) {                    Plotly.newPlot(                        \"38df3184-b854-4087-aa7d-18197776d4e2\",                        [{\"alignmentgroup\":\"True\",\"hovertemplate\":\"Tm=%{x}<br>AST=%{y}<extra></extra>\",\"legendgroup\":\"\",\"marker\":{\"color\":\"#636efa\",\"pattern\":{\"shape\":\"\"}},\"name\":\"\",\"offsetgroup\":\"\",\"orientation\":\"v\",\"showlegend\":false,\"textposition\":\"auto\",\"x\":[\"GSW\",\"IND\",\"CHI\",\"PHO\",\"BRK\",\"MEM\",\"CHO\",\"DEN\",\"MIA\",\"NOP\",\"MIN\",\"SAC\",\"MIL\",\"WAS\",\"LAL\",\"LAC\",\"SAS\",\"DET\",\"TOR\",\"ATL\",\"CLE\",\"PHI\",\"HOU\",\"UTA\",\"BOS\",\"DAL\",\"OKC\",\"ORL\",\"NYK\",\"POR\"],\"xaxis\":\"x\",\"y\":[27.72,27.45,26.92,26.87,26.83,26.82,26.78,26.74,26.32,26.03,25.65,25.58,25.54,25.48,24.85,24.58,24.48,24.24,24.16,24.12,23.91,23.75,23.57,23.51,23.44,22.91,22.11,21.84,21.41,21.24],\"yaxis\":\"y\",\"type\":\"bar\"}],                        {\"template\":{\"data\":{\"histogram2dcontour\":[{\"type\":\"histogram2dcontour\",\"colorbar\":{\"outlinewidth\":0,\"ticks\":\"\"},\"colorscale\":[[0.0,\"#0d0887\"],[0.1111111111111111,\"#46039f\"],[0.2222222222222222,\"#7201a8\"],[0.3333333333333333,\"#9c179e\"],[0.4444444444444444,\"#bd3786\"],[0.5555555555555556,\"#d8576b\"],[0.6666666666666666,\"#ed7953\"],[0.7777777777777778,\"#fb9f3a\"],[0.8888888888888888,\"#fdca26\"],[1.0,\"#f0f921\"]]}],\"choropleth\":[{\"type\":\"choropleth\",\"colorbar\":{\"outlinewidth\":0,\"ticks\":\"\"}}],\"histogram2d\":[{\"type\":\"histogram2d\",\"colorbar\":{\"outlinewidth\":0,\"ticks\":\"\"},\"colorscale\":[[0.0,\"#0d0887\"],[0.1111111111111111,\"#46039f\"],[0.2222222222222222,\"#7201a8\"],[0.3333333333333333,\"#9c179e\"],[0.4444444444444444,\"#bd3786\"],[0.5555555555555556,\"#d8576b\"],[0.6666666666666666,\"#ed7953\"],[0.7777777777777778,\"#fb9f3a\"],[0.8888888888888888,\"#fdca26\"],[1.0,\"#f0f921\"]]}],\"heatmap\":[{\"type\":\"heatmap\",\"colorbar\":{\"outlinewidth\":0,\"ticks\":\"\"},\"colorscale\":[[0.0,\"#0d0887\"],[0.1111111111111111,\"#46039f\"],[0.2222222222222222,\"#7201a8\"],[0.3333333333333333,\"#9c179e\"],[0.4444444444444444,\"#bd3786\"],[0.5555555555555556,\"#d8576b\"],[0.6666666666666666,\"#ed7953\"],[0.7777777777777778,\"#fb9f3a\"],[0.8888888888888888,\"#fdca26\"],[1.0,\"#f0f921\"]]}],\"heatmapgl\":[{\"type\":\"heatmapgl\",\"colorbar\":{\"outlinewidth\":0,\"ticks\":\"\"},\"colorscale\":[[0.0,\"#0d0887\"],[0.1111111111111111,\"#46039f\"],[0.2222222222222222,\"#7201a8\"],[0.3333333333333333,\"#9c179e\"],[0.4444444444444444,\"#bd3786\"],[0.5555555555555556,\"#d8576b\"],[0.6666666666666666,\"#ed7953\"],[0.7777777777777778,\"#fb9f3a\"],[0.8888888888888888,\"#fdca26\"],[1.0,\"#f0f921\"]]}],\"contourcarpet\":[{\"type\":\"contourcarpet\",\"colorbar\":{\"outlinewidth\":0,\"ticks\":\"\"}}],\"contour\":[{\"type\":\"contour\",\"colorbar\":{\"outlinewidth\":0,\"ticks\":\"\"},\"colorscale\":[[0.0,\"#0d0887\"],[0.1111111111111111,\"#46039f\"],[0.2222222222222222,\"#7201a8\"],[0.3333333333333333,\"#9c179e\"],[0.4444444444444444,\"#bd3786\"],[0.5555555555555556,\"#d8576b\"],[0.6666666666666666,\"#ed7953\"],[0.7777777777777778,\"#fb9f3a\"],[0.8888888888888888,\"#fdca26\"],[1.0,\"#f0f921\"]]}],\"surface\":[{\"type\":\"surface\",\"colorbar\":{\"outlinewidth\":0,\"ticks\":\"\"},\"colorscale\":[[0.0,\"#0d0887\"],[0.1111111111111111,\"#46039f\"],[0.2222222222222222,\"#7201a8\"],[0.3333333333333333,\"#9c179e\"],[0.4444444444444444,\"#bd3786\"],[0.5555555555555556,\"#d8576b\"],[0.6666666666666666,\"#ed7953\"],[0.7777777777777778,\"#fb9f3a\"],[0.8888888888888888,\"#fdca26\"],[1.0,\"#f0f921\"]]}],\"mesh3d\":[{\"type\":\"mesh3d\",\"colorbar\":{\"outlinewidth\":0,\"ticks\":\"\"}}],\"scatter\":[{\"fillpattern\":{\"fillmode\":\"overlay\",\"size\":10,\"solidity\":0.2},\"type\":\"scatter\"}],\"parcoords\":[{\"type\":\"parcoords\",\"line\":{\"colorbar\":{\"outlinewidth\":0,\"ticks\":\"\"}}}],\"scatterpolargl\":[{\"type\":\"scatterpolargl\",\"marker\":{\"colorbar\":{\"outlinewidth\":0,\"ticks\":\"\"}}}],\"bar\":[{\"error_x\":{\"color\":\"#2a3f5f\"},\"error_y\":{\"color\":\"#2a3f5f\"},\"marker\":{\"line\":{\"color\":\"#E5ECF6\",\"width\":0.5},\"pattern\":{\"fillmode\":\"overlay\",\"size\":10,\"solidity\":0.2}},\"type\":\"bar\"}],\"scattergeo\":[{\"type\":\"scattergeo\",\"marker\":{\"colorbar\":{\"outlinewidth\":0,\"ticks\":\"\"}}}],\"scatterpolar\":[{\"type\":\"scatterpolar\",\"marker\":{\"colorbar\":{\"outlinewidth\":0,\"ticks\":\"\"}}}],\"histogram\":[{\"marker\":{\"pattern\":{\"fillmode\":\"overlay\",\"size\":10,\"solidity\":0.2}},\"type\":\"histogram\"}],\"scattergl\":[{\"type\":\"scattergl\",\"marker\":{\"colorbar\":{\"outlinewidth\":0,\"ticks\":\"\"}}}],\"scatter3d\":[{\"type\":\"scatter3d\",\"line\":{\"colorbar\":{\"outlinewidth\":0,\"ticks\":\"\"}},\"marker\":{\"colorbar\":{\"outlinewidth\":0,\"ticks\":\"\"}}}],\"scattermapbox\":[{\"type\":\"scattermapbox\",\"marker\":{\"colorbar\":{\"outlinewidth\":0,\"ticks\":\"\"}}}],\"scatterternary\":[{\"type\":\"scatterternary\",\"marker\":{\"colorbar\":{\"outlinewidth\":0,\"ticks\":\"\"}}}],\"scattercarpet\":[{\"type\":\"scattercarpet\",\"marker\":{\"colorbar\":{\"outlinewidth\":0,\"ticks\":\"\"}}}],\"carpet\":[{\"aaxis\":{\"endlinecolor\":\"#2a3f5f\",\"gridcolor\":\"white\",\"linecolor\":\"white\",\"minorgridcolor\":\"white\",\"startlinecolor\":\"#2a3f5f\"},\"baxis\":{\"endlinecolor\":\"#2a3f5f\",\"gridcolor\":\"white\",\"linecolor\":\"white\",\"minorgridcolor\":\"white\",\"startlinecolor\":\"#2a3f5f\"},\"type\":\"carpet\"}],\"table\":[{\"cells\":{\"fill\":{\"color\":\"#EBF0F8\"},\"line\":{\"color\":\"white\"}},\"header\":{\"fill\":{\"color\":\"#C8D4E3\"},\"line\":{\"color\":\"white\"}},\"type\":\"table\"}],\"barpolar\":[{\"marker\":{\"line\":{\"color\":\"#E5ECF6\",\"width\":0.5},\"pattern\":{\"fillmode\":\"overlay\",\"size\":10,\"solidity\":0.2}},\"type\":\"barpolar\"}],\"pie\":[{\"automargin\":true,\"type\":\"pie\"}]},\"layout\":{\"autotypenumbers\":\"strict\",\"colorway\":[\"#636efa\",\"#EF553B\",\"#00cc96\",\"#ab63fa\",\"#FFA15A\",\"#19d3f3\",\"#FF6692\",\"#B6E880\",\"#FF97FF\",\"#FECB52\"],\"font\":{\"color\":\"#2a3f5f\"},\"hovermode\":\"closest\",\"hoverlabel\":{\"align\":\"left\"},\"paper_bgcolor\":\"white\",\"plot_bgcolor\":\"#E5ECF6\",\"polar\":{\"bgcolor\":\"#E5ECF6\",\"angularaxis\":{\"gridcolor\":\"white\",\"linecolor\":\"white\",\"ticks\":\"\"},\"radialaxis\":{\"gridcolor\":\"white\",\"linecolor\":\"white\",\"ticks\":\"\"}},\"ternary\":{\"bgcolor\":\"#E5ECF6\",\"aaxis\":{\"gridcolor\":\"white\",\"linecolor\":\"white\",\"ticks\":\"\"},\"baxis\":{\"gridcolor\":\"white\",\"linecolor\":\"white\",\"ticks\":\"\"},\"caxis\":{\"gridcolor\":\"white\",\"linecolor\":\"white\",\"ticks\":\"\"}},\"coloraxis\":{\"colorbar\":{\"outlinewidth\":0,\"ticks\":\"\"}},\"colorscale\":{\"sequential\":[[0.0,\"#0d0887\"],[0.1111111111111111,\"#46039f\"],[0.2222222222222222,\"#7201a8\"],[0.3333333333333333,\"#9c179e\"],[0.4444444444444444,\"#bd3786\"],[0.5555555555555556,\"#d8576b\"],[0.6666666666666666,\"#ed7953\"],[0.7777777777777778,\"#fb9f3a\"],[0.8888888888888888,\"#fdca26\"],[1.0,\"#f0f921\"]],\"sequentialminus\":[[0.0,\"#0d0887\"],[0.1111111111111111,\"#46039f\"],[0.2222222222222222,\"#7201a8\"],[0.3333333333333333,\"#9c179e\"],[0.4444444444444444,\"#bd3786\"],[0.5555555555555556,\"#d8576b\"],[0.6666666666666666,\"#ed7953\"],[0.7777777777777778,\"#fb9f3a\"],[0.8888888888888888,\"#fdca26\"],[1.0,\"#f0f921\"]],\"diverging\":[[0,\"#8e0152\"],[0.1,\"#c51b7d\"],[0.2,\"#de77ae\"],[0.3,\"#f1b6da\"],[0.4,\"#fde0ef\"],[0.5,\"#f7f7f7\"],[0.6,\"#e6f5d0\"],[0.7,\"#b8e186\"],[0.8,\"#7fbc41\"],[0.9,\"#4d9221\"],[1,\"#276419\"]]},\"xaxis\":{\"gridcolor\":\"white\",\"linecolor\":\"white\",\"ticks\":\"\",\"title\":{\"standoff\":15},\"zerolinecolor\":\"white\",\"automargin\":true,\"zerolinewidth\":2},\"yaxis\":{\"gridcolor\":\"white\",\"linecolor\":\"white\",\"ticks\":\"\",\"title\":{\"standoff\":15},\"zerolinecolor\":\"white\",\"automargin\":true,\"zerolinewidth\":2},\"scene\":{\"xaxis\":{\"backgroundcolor\":\"#E5ECF6\",\"gridcolor\":\"white\",\"linecolor\":\"white\",\"showbackground\":true,\"ticks\":\"\",\"zerolinecolor\":\"white\",\"gridwidth\":2},\"yaxis\":{\"backgroundcolor\":\"#E5ECF6\",\"gridcolor\":\"white\",\"linecolor\":\"white\",\"showbackground\":true,\"ticks\":\"\",\"zerolinecolor\":\"white\",\"gridwidth\":2},\"zaxis\":{\"backgroundcolor\":\"#E5ECF6\",\"gridcolor\":\"white\",\"linecolor\":\"white\",\"showbackground\":true,\"ticks\":\"\",\"zerolinecolor\":\"white\",\"gridwidth\":2}},\"shapedefaults\":{\"line\":{\"color\":\"#2a3f5f\"}},\"annotationdefaults\":{\"arrowcolor\":\"#2a3f5f\",\"arrowhead\":0,\"arrowwidth\":1},\"geo\":{\"bgcolor\":\"white\",\"landcolor\":\"#E5ECF6\",\"subunitcolor\":\"white\",\"showland\":true,\"showlakes\":true,\"lakecolor\":\"white\"},\"title\":{\"x\":0.05},\"mapbox\":{\"style\":\"light\"}}},\"xaxis\":{\"anchor\":\"y\",\"domain\":[0.0,1.0],\"title\":{\"text\":\"Tm\"}},\"yaxis\":{\"anchor\":\"x\",\"domain\":[0.0,1.0],\"title\":{\"text\":\"AST\"}},\"legend\":{\"tracegroupgap\":0},\"title\":{\"text\":\"AST/game\"},\"barmode\":\"relative\"},                        {\"responsive\": true}                    ).then(function(){\n",
       "                            \n",
       "var gd = document.getElementById('38df3184-b854-4087-aa7d-18197776d4e2');\n",
       "var x = new MutationObserver(function (mutations, observer) {{\n",
       "        var display = window.getComputedStyle(gd).display;\n",
       "        if (!display || display === 'none') {{\n",
       "            console.log([gd, 'removed!']);\n",
       "            Plotly.purge(gd);\n",
       "            observer.disconnect();\n",
       "        }}\n",
       "}});\n",
       "\n",
       "// Listen for the removal of the full notebook cells\n",
       "var notebookContainer = gd.closest('#notebook-container');\n",
       "if (notebookContainer) {{\n",
       "    x.observe(notebookContainer, {childList: true});\n",
       "}}\n",
       "\n",
       "// Listen for the clearing of the current output cell\n",
       "var outputEl = gd.closest('.output');\n",
       "if (outputEl) {{\n",
       "    x.observe(outputEl, {childList: true});\n",
       "}}\n",
       "\n",
       "                        })                };                });            </script>        </div>"
      ]
     },
     "metadata": {},
     "output_type": "display_data"
    }
   ],
   "source": [
    "ast_game = astpergame()\n",
    "fig = px.bar(ast_game, x = 'Tm', y = 'AST', title = \"AST/game\")\n",
    "fig.show()"
   ]
  },
  {
   "cell_type": "code",
   "execution_count": 21,
   "id": "b0289438",
   "metadata": {
    "execution": {
     "iopub.execute_input": "2022-07-21T02:58:05.157557Z",
     "iopub.status.busy": "2022-07-21T02:58:05.157158Z",
     "iopub.status.idle": "2022-07-21T02:58:05.164903Z",
     "shell.execute_reply": "2022-07-21T02:58:05.163846Z"
    },
    "papermill": {
     "duration": 0.025101,
     "end_time": "2022-07-21T02:58:05.167130",
     "exception": false,
     "start_time": "2022-07-21T02:58:05.142029",
     "status": "completed"
    },
    "tags": []
   },
   "outputs": [],
   "source": [
    "def construct_h_indices():\n",
    "    herf_ind = pd.DataFrame(columns = ['Tm', 'HI'])\n",
    "    for i  in range(len(team_stats)):\n",
    "        ts = team_stats[i].copy()\n",
    "        ts['ast_percentage'] = ts['player_tot_ast']/ts['tm_tot_ast']\n",
    "        index = (ts['ast_percentage'] ** 2).sum()\n",
    "        team_stats[i] = ts\n",
    "        new_row = {\n",
    "            'Tm': ts['Tm'].iat[0],\n",
    "            'HI': index\n",
    "        }\n",
    "        herf_ind = herf_ind.append(new_row, ignore_index = True)\n",
    "    herf_ind = herf_ind.sort_values(by='HI', ascending = False)\n",
    "    return herf_ind"
   ]
  },
  {
   "cell_type": "code",
   "execution_count": 22,
   "id": "a11fd29d",
   "metadata": {
    "execution": {
     "iopub.execute_input": "2022-07-21T02:58:05.197239Z",
     "iopub.status.busy": "2022-07-21T02:58:05.196464Z",
     "iopub.status.idle": "2022-07-21T02:58:05.362338Z",
     "shell.execute_reply": "2022-07-21T02:58:05.361643Z"
    },
    "papermill": {
     "duration": 0.183019,
     "end_time": "2022-07-21T02:58:05.364334",
     "exception": false,
     "start_time": "2022-07-21T02:58:05.181315",
     "status": "completed"
    },
    "tags": []
   },
   "outputs": [
    {
     "name": "stdout",
     "output_type": "stream",
     "text": [
      "     Tm        HI\n",
      "7   WAS  0.214437\n",
      "13  DAL  0.166945\n",
      "4   ATL  0.160178\n",
      "25  PHO  0.158364\n",
      "15  POR  0.157997\n"
     ]
    },
    {
     "data": {
      "text/html": [
       "<div>                            <div id=\"f1bbb7ec-5caf-439c-9823-615d8b837a4d\" class=\"plotly-graph-div\" style=\"height:525px; width:100%;\"></div>            <script type=\"text/javascript\">                require([\"plotly\"], function(Plotly) {                    window.PLOTLYENV=window.PLOTLYENV || {};                                    if (document.getElementById(\"f1bbb7ec-5caf-439c-9823-615d8b837a4d\")) {                    Plotly.newPlot(                        \"f1bbb7ec-5caf-439c-9823-615d8b837a4d\",                        [{\"alignmentgroup\":\"True\",\"hovertemplate\":\"Tm=%{x}<br>HI=%{y}<extra></extra>\",\"legendgroup\":\"\",\"marker\":{\"color\":\"#636efa\",\"pattern\":{\"shape\":\"\"}},\"name\":\"\",\"offsetgroup\":\"\",\"orientation\":\"v\",\"showlegend\":false,\"textposition\":\"auto\",\"x\":[\"WAS\",\"DAL\",\"ATL\",\"PHO\",\"POR\",\"DEN\",\"IND\",\"GSW\",\"NYK\",\"MIL\",\"SAS\",\"UTA\",\"SAC\",\"MIN\",\"MEM\",\"LAL\",\"MIA\",\"TOR\",\"PHI\",\"CHI\",\"NOP\",\"CHO\",\"BRK\",\"BOS\",\"LAC\",\"CLE\",\"OKC\",\"DET\",\"HOU\",\"ORL\"],\"xaxis\":\"x\",\"y\":[0.21443652221184006,0.16694451791866974,0.1601783453558138,0.15836390814753695,0.15799747407648884,0.14892978223824266,0.14527776526990308,0.14149219086160048,0.14096631688169833,0.13932362913067936,0.13211591575827308,0.12720613596376304,0.12357380867381632,0.12170689303353674,0.11942589841659566,0.11870340257029935,0.11556303283881343,0.11533188068064348,0.11515405765876682,0.1096448549401351,0.10747038438488904,0.10503748353207067,0.10197897454554178,0.09970585619624324,0.0946923011036636,0.09421777397704488,0.07777703515380208,0.07138354435843304,0.0707696165799471,0.06435339916742702],\"yaxis\":\"y\",\"type\":\"bar\"}],                        {\"template\":{\"data\":{\"histogram2dcontour\":[{\"type\":\"histogram2dcontour\",\"colorbar\":{\"outlinewidth\":0,\"ticks\":\"\"},\"colorscale\":[[0.0,\"#0d0887\"],[0.1111111111111111,\"#46039f\"],[0.2222222222222222,\"#7201a8\"],[0.3333333333333333,\"#9c179e\"],[0.4444444444444444,\"#bd3786\"],[0.5555555555555556,\"#d8576b\"],[0.6666666666666666,\"#ed7953\"],[0.7777777777777778,\"#fb9f3a\"],[0.8888888888888888,\"#fdca26\"],[1.0,\"#f0f921\"]]}],\"choropleth\":[{\"type\":\"choropleth\",\"colorbar\":{\"outlinewidth\":0,\"ticks\":\"\"}}],\"histogram2d\":[{\"type\":\"histogram2d\",\"colorbar\":{\"outlinewidth\":0,\"ticks\":\"\"},\"colorscale\":[[0.0,\"#0d0887\"],[0.1111111111111111,\"#46039f\"],[0.2222222222222222,\"#7201a8\"],[0.3333333333333333,\"#9c179e\"],[0.4444444444444444,\"#bd3786\"],[0.5555555555555556,\"#d8576b\"],[0.6666666666666666,\"#ed7953\"],[0.7777777777777778,\"#fb9f3a\"],[0.8888888888888888,\"#fdca26\"],[1.0,\"#f0f921\"]]}],\"heatmap\":[{\"type\":\"heatmap\",\"colorbar\":{\"outlinewidth\":0,\"ticks\":\"\"},\"colorscale\":[[0.0,\"#0d0887\"],[0.1111111111111111,\"#46039f\"],[0.2222222222222222,\"#7201a8\"],[0.3333333333333333,\"#9c179e\"],[0.4444444444444444,\"#bd3786\"],[0.5555555555555556,\"#d8576b\"],[0.6666666666666666,\"#ed7953\"],[0.7777777777777778,\"#fb9f3a\"],[0.8888888888888888,\"#fdca26\"],[1.0,\"#f0f921\"]]}],\"heatmapgl\":[{\"type\":\"heatmapgl\",\"colorbar\":{\"outlinewidth\":0,\"ticks\":\"\"},\"colorscale\":[[0.0,\"#0d0887\"],[0.1111111111111111,\"#46039f\"],[0.2222222222222222,\"#7201a8\"],[0.3333333333333333,\"#9c179e\"],[0.4444444444444444,\"#bd3786\"],[0.5555555555555556,\"#d8576b\"],[0.6666666666666666,\"#ed7953\"],[0.7777777777777778,\"#fb9f3a\"],[0.8888888888888888,\"#fdca26\"],[1.0,\"#f0f921\"]]}],\"contourcarpet\":[{\"type\":\"contourcarpet\",\"colorbar\":{\"outlinewidth\":0,\"ticks\":\"\"}}],\"contour\":[{\"type\":\"contour\",\"colorbar\":{\"outlinewidth\":0,\"ticks\":\"\"},\"colorscale\":[[0.0,\"#0d0887\"],[0.1111111111111111,\"#46039f\"],[0.2222222222222222,\"#7201a8\"],[0.3333333333333333,\"#9c179e\"],[0.4444444444444444,\"#bd3786\"],[0.5555555555555556,\"#d8576b\"],[0.6666666666666666,\"#ed7953\"],[0.7777777777777778,\"#fb9f3a\"],[0.8888888888888888,\"#fdca26\"],[1.0,\"#f0f921\"]]}],\"surface\":[{\"type\":\"surface\",\"colorbar\":{\"outlinewidth\":0,\"ticks\":\"\"},\"colorscale\":[[0.0,\"#0d0887\"],[0.1111111111111111,\"#46039f\"],[0.2222222222222222,\"#7201a8\"],[0.3333333333333333,\"#9c179e\"],[0.4444444444444444,\"#bd3786\"],[0.5555555555555556,\"#d8576b\"],[0.6666666666666666,\"#ed7953\"],[0.7777777777777778,\"#fb9f3a\"],[0.8888888888888888,\"#fdca26\"],[1.0,\"#f0f921\"]]}],\"mesh3d\":[{\"type\":\"mesh3d\",\"colorbar\":{\"outlinewidth\":0,\"ticks\":\"\"}}],\"scatter\":[{\"fillpattern\":{\"fillmode\":\"overlay\",\"size\":10,\"solidity\":0.2},\"type\":\"scatter\"}],\"parcoords\":[{\"type\":\"parcoords\",\"line\":{\"colorbar\":{\"outlinewidth\":0,\"ticks\":\"\"}}}],\"scatterpolargl\":[{\"type\":\"scatterpolargl\",\"marker\":{\"colorbar\":{\"outlinewidth\":0,\"ticks\":\"\"}}}],\"bar\":[{\"error_x\":{\"color\":\"#2a3f5f\"},\"error_y\":{\"color\":\"#2a3f5f\"},\"marker\":{\"line\":{\"color\":\"#E5ECF6\",\"width\":0.5},\"pattern\":{\"fillmode\":\"overlay\",\"size\":10,\"solidity\":0.2}},\"type\":\"bar\"}],\"scattergeo\":[{\"type\":\"scattergeo\",\"marker\":{\"colorbar\":{\"outlinewidth\":0,\"ticks\":\"\"}}}],\"scatterpolar\":[{\"type\":\"scatterpolar\",\"marker\":{\"colorbar\":{\"outlinewidth\":0,\"ticks\":\"\"}}}],\"histogram\":[{\"marker\":{\"pattern\":{\"fillmode\":\"overlay\",\"size\":10,\"solidity\":0.2}},\"type\":\"histogram\"}],\"scattergl\":[{\"type\":\"scattergl\",\"marker\":{\"colorbar\":{\"outlinewidth\":0,\"ticks\":\"\"}}}],\"scatter3d\":[{\"type\":\"scatter3d\",\"line\":{\"colorbar\":{\"outlinewidth\":0,\"ticks\":\"\"}},\"marker\":{\"colorbar\":{\"outlinewidth\":0,\"ticks\":\"\"}}}],\"scattermapbox\":[{\"type\":\"scattermapbox\",\"marker\":{\"colorbar\":{\"outlinewidth\":0,\"ticks\":\"\"}}}],\"scatterternary\":[{\"type\":\"scatterternary\",\"marker\":{\"colorbar\":{\"outlinewidth\":0,\"ticks\":\"\"}}}],\"scattercarpet\":[{\"type\":\"scattercarpet\",\"marker\":{\"colorbar\":{\"outlinewidth\":0,\"ticks\":\"\"}}}],\"carpet\":[{\"aaxis\":{\"endlinecolor\":\"#2a3f5f\",\"gridcolor\":\"white\",\"linecolor\":\"white\",\"minorgridcolor\":\"white\",\"startlinecolor\":\"#2a3f5f\"},\"baxis\":{\"endlinecolor\":\"#2a3f5f\",\"gridcolor\":\"white\",\"linecolor\":\"white\",\"minorgridcolor\":\"white\",\"startlinecolor\":\"#2a3f5f\"},\"type\":\"carpet\"}],\"table\":[{\"cells\":{\"fill\":{\"color\":\"#EBF0F8\"},\"line\":{\"color\":\"white\"}},\"header\":{\"fill\":{\"color\":\"#C8D4E3\"},\"line\":{\"color\":\"white\"}},\"type\":\"table\"}],\"barpolar\":[{\"marker\":{\"line\":{\"color\":\"#E5ECF6\",\"width\":0.5},\"pattern\":{\"fillmode\":\"overlay\",\"size\":10,\"solidity\":0.2}},\"type\":\"barpolar\"}],\"pie\":[{\"automargin\":true,\"type\":\"pie\"}]},\"layout\":{\"autotypenumbers\":\"strict\",\"colorway\":[\"#636efa\",\"#EF553B\",\"#00cc96\",\"#ab63fa\",\"#FFA15A\",\"#19d3f3\",\"#FF6692\",\"#B6E880\",\"#FF97FF\",\"#FECB52\"],\"font\":{\"color\":\"#2a3f5f\"},\"hovermode\":\"closest\",\"hoverlabel\":{\"align\":\"left\"},\"paper_bgcolor\":\"white\",\"plot_bgcolor\":\"#E5ECF6\",\"polar\":{\"bgcolor\":\"#E5ECF6\",\"angularaxis\":{\"gridcolor\":\"white\",\"linecolor\":\"white\",\"ticks\":\"\"},\"radialaxis\":{\"gridcolor\":\"white\",\"linecolor\":\"white\",\"ticks\":\"\"}},\"ternary\":{\"bgcolor\":\"#E5ECF6\",\"aaxis\":{\"gridcolor\":\"white\",\"linecolor\":\"white\",\"ticks\":\"\"},\"baxis\":{\"gridcolor\":\"white\",\"linecolor\":\"white\",\"ticks\":\"\"},\"caxis\":{\"gridcolor\":\"white\",\"linecolor\":\"white\",\"ticks\":\"\"}},\"coloraxis\":{\"colorbar\":{\"outlinewidth\":0,\"ticks\":\"\"}},\"colorscale\":{\"sequential\":[[0.0,\"#0d0887\"],[0.1111111111111111,\"#46039f\"],[0.2222222222222222,\"#7201a8\"],[0.3333333333333333,\"#9c179e\"],[0.4444444444444444,\"#bd3786\"],[0.5555555555555556,\"#d8576b\"],[0.6666666666666666,\"#ed7953\"],[0.7777777777777778,\"#fb9f3a\"],[0.8888888888888888,\"#fdca26\"],[1.0,\"#f0f921\"]],\"sequentialminus\":[[0.0,\"#0d0887\"],[0.1111111111111111,\"#46039f\"],[0.2222222222222222,\"#7201a8\"],[0.3333333333333333,\"#9c179e\"],[0.4444444444444444,\"#bd3786\"],[0.5555555555555556,\"#d8576b\"],[0.6666666666666666,\"#ed7953\"],[0.7777777777777778,\"#fb9f3a\"],[0.8888888888888888,\"#fdca26\"],[1.0,\"#f0f921\"]],\"diverging\":[[0,\"#8e0152\"],[0.1,\"#c51b7d\"],[0.2,\"#de77ae\"],[0.3,\"#f1b6da\"],[0.4,\"#fde0ef\"],[0.5,\"#f7f7f7\"],[0.6,\"#e6f5d0\"],[0.7,\"#b8e186\"],[0.8,\"#7fbc41\"],[0.9,\"#4d9221\"],[1,\"#276419\"]]},\"xaxis\":{\"gridcolor\":\"white\",\"linecolor\":\"white\",\"ticks\":\"\",\"title\":{\"standoff\":15},\"zerolinecolor\":\"white\",\"automargin\":true,\"zerolinewidth\":2},\"yaxis\":{\"gridcolor\":\"white\",\"linecolor\":\"white\",\"ticks\":\"\",\"title\":{\"standoff\":15},\"zerolinecolor\":\"white\",\"automargin\":true,\"zerolinewidth\":2},\"scene\":{\"xaxis\":{\"backgroundcolor\":\"#E5ECF6\",\"gridcolor\":\"white\",\"linecolor\":\"white\",\"showbackground\":true,\"ticks\":\"\",\"zerolinecolor\":\"white\",\"gridwidth\":2},\"yaxis\":{\"backgroundcolor\":\"#E5ECF6\",\"gridcolor\":\"white\",\"linecolor\":\"white\",\"showbackground\":true,\"ticks\":\"\",\"zerolinecolor\":\"white\",\"gridwidth\":2},\"zaxis\":{\"backgroundcolor\":\"#E5ECF6\",\"gridcolor\":\"white\",\"linecolor\":\"white\",\"showbackground\":true,\"ticks\":\"\",\"zerolinecolor\":\"white\",\"gridwidth\":2}},\"shapedefaults\":{\"line\":{\"color\":\"#2a3f5f\"}},\"annotationdefaults\":{\"arrowcolor\":\"#2a3f5f\",\"arrowhead\":0,\"arrowwidth\":1},\"geo\":{\"bgcolor\":\"white\",\"landcolor\":\"#E5ECF6\",\"subunitcolor\":\"white\",\"showland\":true,\"showlakes\":true,\"lakecolor\":\"white\"},\"title\":{\"x\":0.05},\"mapbox\":{\"style\":\"light\"}}},\"xaxis\":{\"anchor\":\"y\",\"domain\":[0.0,1.0],\"title\":{\"text\":\"Tm\"}},\"yaxis\":{\"anchor\":\"x\",\"domain\":[0.0,1.0],\"title\":{\"text\":\"HI\"}},\"legend\":{\"tracegroupgap\":0},\"title\":{\"text\":\"AST concentration\"},\"barmode\":\"relative\"},                        {\"responsive\": true}                    ).then(function(){\n",
       "                            \n",
       "var gd = document.getElementById('f1bbb7ec-5caf-439c-9823-615d8b837a4d');\n",
       "var x = new MutationObserver(function (mutations, observer) {{\n",
       "        var display = window.getComputedStyle(gd).display;\n",
       "        if (!display || display === 'none') {{\n",
       "            console.log([gd, 'removed!']);\n",
       "            Plotly.purge(gd);\n",
       "            observer.disconnect();\n",
       "        }}\n",
       "}});\n",
       "\n",
       "// Listen for the removal of the full notebook cells\n",
       "var notebookContainer = gd.closest('#notebook-container');\n",
       "if (notebookContainer) {{\n",
       "    x.observe(notebookContainer, {childList: true});\n",
       "}}\n",
       "\n",
       "// Listen for the clearing of the current output cell\n",
       "var outputEl = gd.closest('.output');\n",
       "if (outputEl) {{\n",
       "    x.observe(outputEl, {childList: true});\n",
       "}}\n",
       "\n",
       "                        })                };                });            </script>        </div>"
      ]
     },
     "metadata": {},
     "output_type": "display_data"
    }
   ],
   "source": [
    "hi = construct_h_indices()\n",
    "print(hi.head(5))\n",
    "fig = px.bar(hi, x = 'Tm', y='HI', title=\"AST concentration\")\n",
    "fig.show()"
   ]
  },
  {
   "cell_type": "markdown",
   "id": "48e92b57",
   "metadata": {
    "papermill": {
     "duration": 0.014518,
     "end_time": "2022-07-21T02:58:05.393397",
     "exception": false,
     "start_time": "2022-07-21T02:58:05.378879",
     "status": "completed"
    },
    "tags": []
   },
   "source": [
    "High usage players like Westbrook, Doncic, Trae Young, CP3 and Lillard round out the top of the list."
   ]
  },
  {
   "cell_type": "markdown",
   "id": "8f9cb60a",
   "metadata": {
    "papermill": {
     "duration": 0.014261,
     "end_time": "2022-07-21T02:58:05.422290",
     "exception": false,
     "start_time": "2022-07-21T02:58:05.408029",
     "status": "completed"
    },
    "tags": []
   },
   "source": [
    "Are FT% and 3P% related to each other?"
   ]
  },
  {
   "cell_type": "code",
   "execution_count": 23,
   "id": "39bcb2bb",
   "metadata": {
    "execution": {
     "iopub.execute_input": "2022-07-21T02:58:05.453367Z",
     "iopub.status.busy": "2022-07-21T02:58:05.452744Z",
     "iopub.status.idle": "2022-07-21T02:58:05.522479Z",
     "shell.execute_reply": "2022-07-21T02:58:05.521764Z"
    },
    "papermill": {
     "duration": 0.087644,
     "end_time": "2022-07-21T02:58:05.524442",
     "exception": false,
     "start_time": "2022-07-21T02:58:05.436798",
     "status": "completed"
    },
    "tags": []
   },
   "outputs": [
    {
     "data": {
      "text/html": [
       "<div>                            <div id=\"0ae8513a-9890-4782-b813-033568642b3a\" class=\"plotly-graph-div\" style=\"height:525px; width:100%;\"></div>            <script type=\"text/javascript\">                require([\"plotly\"], function(Plotly) {                    window.PLOTLYENV=window.PLOTLYENV || {};                                    if (document.getElementById(\"0ae8513a-9890-4782-b813-033568642b3a\")) {                    Plotly.newPlot(                        \"0ae8513a-9890-4782-b813-033568642b3a\",                        [{\"hovertemplate\":\"FT%=%{x}<br>3P%=%{y}<extra></extra>\",\"legendgroup\":\"\",\"marker\":{\"color\":\"#636efa\",\"symbol\":\"circle\"},\"mode\":\"markers\",\"name\":\"\",\"orientation\":\"v\",\"showlegend\":false,\"x\":[0.859,0.698,0.685,0.863,0.886,0.597,0.859,0.889,0.623,0.573,0.868,0.754,0.656,0.856,0.883,0.6,0.861,0.88,0.73,0.719,0.799,0.928,0.703,0.732,0.738,0.69,0.815,0.773,0.811,0.882,0.827,0.808,0.845,0.845,0.885,0.728,0.916,0.605,0.631,0.844,0.619,0.613,0.867,0.698,0.774,0.868,0.707,0.444,0.721,0.629,0.878,0.769,0.576,0.739,0.749,0.732,0.849,0.575,0.669,0.764,0.619,0.592,0.629,0.833,0.491,0.667,0.636,0.788,0.794,0.83,0.833,0.855,0.672,0.75,0.843,0.508,0.789,0.868,0.922,1.0,0.714,0.64,0.822,0.88,0.797,0.695,0.746,0.754,0.783,0.714,0.776,0.662,0.651,0.871,0.825,0.769,0.667,0.848,0.705,0.827,0.811,0.865,0.729,0.758,0.734,0.859,0.676,0.84,0.898,0.875,0.782,0.892,0.879,0.885,0.741,0.667,0.79,0.864,0.628,0.73,0.702,0.705,0.87,0.74,0.616,0.694,0.869,0.5,0.817,0.879,0.744,0.613,0.519,0.899,0.723,0.765,0.818,0.686,0.745,0.697,0.829,0.5,0.784,0.448,0.791,0.667,0.815,0.696,0.925,0.77,0.84,0.628,0.851,0.651,0.691,0.832,0.765,0.693,0.746,0.817,0.5,0.71,0.782,0.75,0.775,0.735,0.741,0.69,0.714,0.788,0.845,0.783,0.787,0.789,0.852,0.657,0.727,0.559,0.726,0.744,0.812,0.714,0.683,0.726,0.87,0.83,0.705,0.636,0.842,0.484,0.655,0.744,0.714,0.691,0.884,0.728,1.0,0.782,0.556,0.907,0.724,0.657,0.738,0.866,0.891,0.687,0.805,0.811,0.682,0.713,0.673,0.74,0.775,0.802,0.895,0.934,0.691,0.629,0.85,0.5,0.8,0.509,0.648,0.866,0.596,0.785,0.769,0.687,0.84,0.648,0.776,0.791,0.848,0.866,0.867,0.867,0.828,0.612,0.707,0.824,0.619,0.682,0.923,0.848,0.896,0.667,0.816,0.875,0.947,0.856,0.824,0.917,0.682,0.728,0.646,0.803,0.738,0.628,0.844,0.667,0.659,0.89,0.878,0.795,0.867,0.838,0.883,0.714,0.788,0.838,0.636,0.882,0.816,0.87,0.889,0.816,0.917,0.821,0.0,0.563,0.857,0.762,0.611,0.901,0.748,0.807,0.872,0.8,0.826,0.833,0.889,0.707,0.614,0.909,0.773,0.84,0.724,0.816,0.604,0.703,0.5,1.0,0.775,0.855,0.778,0.864,0.632,0.837,0.833,0.718,0.804,0.833,0.651,0.795,0.87,0.756,0.685,0.773,0.733,0.571,0.813,0.783,0.486,0.25,0.671,0.806,0.8,0.868,1.0,0.8,0.625,0.83,0.82,0.725,0.769,0.642,0.824,0.848,0.836,0.617,0.592,0.721,0.866,0.76,0.714,0.0,0.805,0.819,0.486,0.667,0.833,0.818,0.857,0.904,0.818,0.8,0.8,0.733,0.891,1.0,0.571,0.636,0.714,0.819,0.848,0.775,0.682,0.846,0.655,0.725,0.647,0.75,0.703,0.645,0.76,0.581,0.757,0.818,0.769,0.795,0.732,0.818,1.0,0.625,0.708,0.806,0.884,0.51,1.0,0.848,0.784,0.5,0.781,0.641,0.766,0.844,0.882,0.879,0.857,0.727,0.72,0.674,0.696,0.667,0.714,0.783,1.0,0.786,0.767,0.847,0.957,0.7,0.72,0.828,0.919,0.838,1.0,0.731,0.788,0.738,0.75,0.333,0.804,0.826,0.588,0.817,0.692,0.8,0.786,0.893,0.896,0.857,0.722,0.775,0.6,0.769,0.846,0.913,0.5,0.586,0.917,0.933,0.733,0.688,0.781,0.778,0.75,0.833,0.819,0.737,0.778,0.773,0.593,0.909,0.5,0.563,0.9,0.91,0.9,0.75,0.652,0.8,0.792,0.775,0.552,0.814,0.75,0.804,0.824,0.778,0.8,0.8,0.719,0.736,0.556,0.706,1.0,0.545,0.576,0.583,0.871,0.765,0.942,0.68,0.806,0.828,0.565,0.843,0.839,0.909,0.644,0.76,0.714,0.786,0.8,0.6,null,0.455,0.893,0.714,0.462,0.769,0.761,0.818,0.682,1.0,0.816,0.333,0.75,0.84,0.667,0.833,0.667,0.889,0.658,0.814,0.762,0.333,0.76,0.938,0.813,0.711,0.651,0.8,0.7,0.821,0.556,0.88,0.8,0.77,0.75,0.807,0.703,0.8,0.813,0.71,0.843,0.583,0.827,0.71,0.8,0.778,0.895,0.76,null,1.0,0.909,1.0,0.75,0.8,0.667,1.0,0.857,1.0,0.767,null,0.667,null,0.533,0.854,1.0,0.75,0.813,0.333,0.667,0.714,0.765,0.6,0.75,0.5,0.733,0.857,0.765,0.857,1.0,0.857,0.941,0.375,0.818,0.818,0.875,0.8,0.714,0.857,0.778,0.911,0.824,1.0,0.5,1.0,0.636,1.0,0.333,0.75,0.833,0.731,0.941,0.2,0.818,0.8,0.957,0.444,0.8,0.889,0.857,0.9,0.833,0.5,0.5,1.0,0.444,0.895,0.75,0.778,0.6,0.857,0.6,1.0,1.0,0.839,0.667,0.5,0.957,0.8,0.87,0.8,0.625,0.941,0.5,1.0,0.833,0.75,0.857,1.0,1.0,0.769,0.714,0.8,0.5,0.65,0.429,0.846,null,0.636,0.7,0.5,0.75,0.667,0.833,0.5,0.857,0.8,0.5,1.0,0.5,0.857,null,1.0,0.5,0.875,0.5,0.75,0.0,0.571,1.0,0.5,0.625,0.667,1.0,0.75,0.833,null,0.833,1.0,null,0.5,null,null,null,0.333,0.8,1.0,null,null,0.0,0.778,0.0,0.5,0.5,null,null,null,null,null,null,null,null,null,null,null,null,null,null,null,null],\"xaxis\":\"x\",\"y\":[0.377,0.294,0.303,0.245,0.343,0.0,0.387,0.349,0.0,null,0.388,null,0.315,0.366,0.347,0.0,0.362,0.257,0.35,0.322,0.25,0.391,0.316,0.321,0.26,0.316,0.371,0.368,0.411,0.45,0.297,0.418,0.35,0.386,0.398,0.303,0.421,null,0.374,0.392,null,0.3,0.34,0.365,0.25,0.386,0.0,0.0,0.241,0.375,0.381,0.2,0.25,0.364,0.317,0.294,0.419,0.343,0.0,0.397,0.4,0.0,0.293,0.283,null,0.235,0.29,0.383,0.182,0.391,0.399,0.376,null,null,0.415,null,0.25,0.411,0.402,0.2,0.143,0.341,0.318,0.361,0.388,0.316,0.401,0.326,0.32,0.38,0.329,0.39,0.335,0.411,0.329,0.423,0.1,0.335,0.25,0.406,0.326,0.439,0.3,0.352,0.311,0.326,null,0.4,0.414,0.396,0.335,0.394,0.39,0.366,0.19,0.429,0.33,0.388,0.267,0.362,0.29,0.0,0.388,0.331,0.0,0.308,0.408,0.333,0.262,0.372,0.343,0.246,0.0,0.36,0.278,0.387,0.133,0.333,0.386,null,0.342,0.0,0.398,0.0,0.445,null,0.344,0.333,0.406,0.328,0.333,0.316,0.346,0.281,0.27,0.337,0.349,0.351,0.336,0.389,0.2,0.315,0.238,0.222,0.429,0.288,0.2,0.26,0.365,0.413,0.338,0.36,0.392,0.348,0.412,0.319,0.2,0.2,1.0,0.294,0.402,0.0,0.0,0.29,0.337,0.35,0.266,0.263,0.375,0.2,0.25,0.341,0.25,0.0,0.479,0.348,0.333,0.383,0.0,0.386,0.343,0.208,0.0,0.378,0.389,0.341,0.433,0.339,0.322,0.333,0.322,0.471,0.326,0.372,0.25,0.395,0.361,0.32,0.399,null,0.0,0.0,0.316,0.429,0.267,0.381,0.269,0.347,0.425,0.333,0.412,0.317,0.348,0.388,0.399,0.4,0.373,0.36,0.349,0.285,0.327,0.421,0.333,0.395,0.347,0.407,0.391,0.364,0.406,0.415,0.365,0.33,0.286,0.391,0.235,0.36,0.253,0.091,0.38,0.0,null,0.409,0.368,0.405,0.308,0.4,0.411,0.4,0.31,0.36,0.0,0.351,0.125,0.444,0.125,0.341,null,0.34,0.333,0.0,0.375,0.293,null,0.359,0.335,0.399,0.388,0.182,0.402,null,0.351,0.262,0.359,0.0,0.35,0.386,0.2,0.388,0.245,0.333,0.108,0.8,0.282,0.4,0.355,0.385,0.0,0.415,0.398,0.379,0.381,0.318,0.346,0.27,0.395,0.394,0.348,0.397,0.32,0.444,0.407,0.385,0.5,0.308,0.31,0.355,0.388,0.391,0.167,0.306,0.364,0.418,0.473,0.318,0.2,0.338,0.226,0.439,0.464,0.365,0.258,0.351,0.41,0.391,0.167,0.0,0.247,0.401,0.5,0.318,0.0,0.216,0.324,0.382,0.341,0.369,0.397,1.0,0.188,0.286,0.185,0.315,0.393,0.398,0.356,0.317,0.264,0.391,0.2,0.16,0.406,0.348,0.226,0.401,0.389,0.276,0.419,0.333,0.182,0.381,0.375,0.368,0.222,null,0.222,0.379,0.384,0.241,0.364,0.385,0.372,0.125,0.378,0.248,0.33,0.451,0.39,0.352,0.409,0.347,0.41,0.271,0.339,0.283,0.5,0.314,0.111,0.125,0.274,0.349,0.364,0.352,0.311,0.404,0.41,0.308,0.432,0.328,0.382,0.28,0.333,null,0.412,0.368,0.372,0.433,0.408,0.35,0.281,0.213,0.45,0.306,0.333,0.371,0.364,0.19,0.387,0.364,0.0,0.25,0.37,0.381,1.0,0.313,0.363,0.338,0.336,0.375,0.368,0.286,0.475,0.368,0.348,0.438,0.0,0.0,0.238,0.375,0.38,0.265,0.35,0.328,0.338,0.405,0.279,0.355,0.278,0.321,0.111,0.321,0.335,0.262,0.331,0.346,0.37,0.375,0.0,0.0,0.367,0.368,0.301,0.423,0.371,0.345,0.423,0.4,0.16,0.347,0.122,0.397,0.315,0.334,0.314,0.37,0.287,0.394,0.0,null,0.44,0.463,null,0.366,0.321,0.367,0.0,0.316,0.432,0.0,0.367,0.364,0.304,0.333,0.286,0.411,0.33,0.314,0.368,0.0,0.271,0.31,0.292,0.411,0.311,0.287,0.336,0.367,0.41,0.35,0.167,0.452,0.2,0.426,0.295,0.333,0.214,0.402,0.333,0.382,0.408,0.369,0.422,0.421,0.354,0.452,null,0.192,0.41,null,0.0,null,null,0.25,0.314,0.375,0.359,0.0,0.294,0.25,0.24,0.335,0.75,0.458,0.167,0.308,0.289,0.5,0.357,0.375,0.278,0.5,0.206,0.321,0.31,0.301,0.282,0.375,0.395,0.167,0.303,0.143,0.299,0.327,0.364,0.13,0.472,0.321,0.278,null,0.0,null,0.0,0.16,0.4,0.298,0.27,0.306,0.404,0.25,0.188,0.283,0.424,0.301,0.26,0.361,0.189,0.4,0.286,0.364,0.25,0.405,0.479,0.6,0.368,0.231,0.286,0.364,0.25,0.462,0.439,0.446,0.338,0.429,0.425,0.393,0.309,0.407,0.277,0.331,0.254,0.227,0.0,0.5,0.256,0.569,0.263,0.273,0.235,0.5,0.182,0.373,0.308,0.286,0.0,0.397,0.211,0.357,0.0,0.375,0.341,0.333,0.338,0.395,0.304,0.286,0.333,0.415,0.25,0.333,null,0.423,0.133,0.286,0.455,0.371,0.429,0.261,0.469,0.342,0.447,0.348,0.471,0.333,0.222,null,0.0,0.357,0.25,null,0.313,0.0,0.385,0.0,0.25,0.143,0.333,0.277,0.1,0.378,0.222,0.5,0.0,0.0,null,0.0,null,0.5,0.5,0.0,null,0.0,0.0,null,null,0.0,null],\"yaxis\":\"y\",\"type\":\"scatter\"}],                        {\"template\":{\"data\":{\"histogram2dcontour\":[{\"type\":\"histogram2dcontour\",\"colorbar\":{\"outlinewidth\":0,\"ticks\":\"\"},\"colorscale\":[[0.0,\"#0d0887\"],[0.1111111111111111,\"#46039f\"],[0.2222222222222222,\"#7201a8\"],[0.3333333333333333,\"#9c179e\"],[0.4444444444444444,\"#bd3786\"],[0.5555555555555556,\"#d8576b\"],[0.6666666666666666,\"#ed7953\"],[0.7777777777777778,\"#fb9f3a\"],[0.8888888888888888,\"#fdca26\"],[1.0,\"#f0f921\"]]}],\"choropleth\":[{\"type\":\"choropleth\",\"colorbar\":{\"outlinewidth\":0,\"ticks\":\"\"}}],\"histogram2d\":[{\"type\":\"histogram2d\",\"colorbar\":{\"outlinewidth\":0,\"ticks\":\"\"},\"colorscale\":[[0.0,\"#0d0887\"],[0.1111111111111111,\"#46039f\"],[0.2222222222222222,\"#7201a8\"],[0.3333333333333333,\"#9c179e\"],[0.4444444444444444,\"#bd3786\"],[0.5555555555555556,\"#d8576b\"],[0.6666666666666666,\"#ed7953\"],[0.7777777777777778,\"#fb9f3a\"],[0.8888888888888888,\"#fdca26\"],[1.0,\"#f0f921\"]]}],\"heatmap\":[{\"type\":\"heatmap\",\"colorbar\":{\"outlinewidth\":0,\"ticks\":\"\"},\"colorscale\":[[0.0,\"#0d0887\"],[0.1111111111111111,\"#46039f\"],[0.2222222222222222,\"#7201a8\"],[0.3333333333333333,\"#9c179e\"],[0.4444444444444444,\"#bd3786\"],[0.5555555555555556,\"#d8576b\"],[0.6666666666666666,\"#ed7953\"],[0.7777777777777778,\"#fb9f3a\"],[0.8888888888888888,\"#fdca26\"],[1.0,\"#f0f921\"]]}],\"heatmapgl\":[{\"type\":\"heatmapgl\",\"colorbar\":{\"outlinewidth\":0,\"ticks\":\"\"},\"colorscale\":[[0.0,\"#0d0887\"],[0.1111111111111111,\"#46039f\"],[0.2222222222222222,\"#7201a8\"],[0.3333333333333333,\"#9c179e\"],[0.4444444444444444,\"#bd3786\"],[0.5555555555555556,\"#d8576b\"],[0.6666666666666666,\"#ed7953\"],[0.7777777777777778,\"#fb9f3a\"],[0.8888888888888888,\"#fdca26\"],[1.0,\"#f0f921\"]]}],\"contourcarpet\":[{\"type\":\"contourcarpet\",\"colorbar\":{\"outlinewidth\":0,\"ticks\":\"\"}}],\"contour\":[{\"type\":\"contour\",\"colorbar\":{\"outlinewidth\":0,\"ticks\":\"\"},\"colorscale\":[[0.0,\"#0d0887\"],[0.1111111111111111,\"#46039f\"],[0.2222222222222222,\"#7201a8\"],[0.3333333333333333,\"#9c179e\"],[0.4444444444444444,\"#bd3786\"],[0.5555555555555556,\"#d8576b\"],[0.6666666666666666,\"#ed7953\"],[0.7777777777777778,\"#fb9f3a\"],[0.8888888888888888,\"#fdca26\"],[1.0,\"#f0f921\"]]}],\"surface\":[{\"type\":\"surface\",\"colorbar\":{\"outlinewidth\":0,\"ticks\":\"\"},\"colorscale\":[[0.0,\"#0d0887\"],[0.1111111111111111,\"#46039f\"],[0.2222222222222222,\"#7201a8\"],[0.3333333333333333,\"#9c179e\"],[0.4444444444444444,\"#bd3786\"],[0.5555555555555556,\"#d8576b\"],[0.6666666666666666,\"#ed7953\"],[0.7777777777777778,\"#fb9f3a\"],[0.8888888888888888,\"#fdca26\"],[1.0,\"#f0f921\"]]}],\"mesh3d\":[{\"type\":\"mesh3d\",\"colorbar\":{\"outlinewidth\":0,\"ticks\":\"\"}}],\"scatter\":[{\"fillpattern\":{\"fillmode\":\"overlay\",\"size\":10,\"solidity\":0.2},\"type\":\"scatter\"}],\"parcoords\":[{\"type\":\"parcoords\",\"line\":{\"colorbar\":{\"outlinewidth\":0,\"ticks\":\"\"}}}],\"scatterpolargl\":[{\"type\":\"scatterpolargl\",\"marker\":{\"colorbar\":{\"outlinewidth\":0,\"ticks\":\"\"}}}],\"bar\":[{\"error_x\":{\"color\":\"#2a3f5f\"},\"error_y\":{\"color\":\"#2a3f5f\"},\"marker\":{\"line\":{\"color\":\"#E5ECF6\",\"width\":0.5},\"pattern\":{\"fillmode\":\"overlay\",\"size\":10,\"solidity\":0.2}},\"type\":\"bar\"}],\"scattergeo\":[{\"type\":\"scattergeo\",\"marker\":{\"colorbar\":{\"outlinewidth\":0,\"ticks\":\"\"}}}],\"scatterpolar\":[{\"type\":\"scatterpolar\",\"marker\":{\"colorbar\":{\"outlinewidth\":0,\"ticks\":\"\"}}}],\"histogram\":[{\"marker\":{\"pattern\":{\"fillmode\":\"overlay\",\"size\":10,\"solidity\":0.2}},\"type\":\"histogram\"}],\"scattergl\":[{\"type\":\"scattergl\",\"marker\":{\"colorbar\":{\"outlinewidth\":0,\"ticks\":\"\"}}}],\"scatter3d\":[{\"type\":\"scatter3d\",\"line\":{\"colorbar\":{\"outlinewidth\":0,\"ticks\":\"\"}},\"marker\":{\"colorbar\":{\"outlinewidth\":0,\"ticks\":\"\"}}}],\"scattermapbox\":[{\"type\":\"scattermapbox\",\"marker\":{\"colorbar\":{\"outlinewidth\":0,\"ticks\":\"\"}}}],\"scatterternary\":[{\"type\":\"scatterternary\",\"marker\":{\"colorbar\":{\"outlinewidth\":0,\"ticks\":\"\"}}}],\"scattercarpet\":[{\"type\":\"scattercarpet\",\"marker\":{\"colorbar\":{\"outlinewidth\":0,\"ticks\":\"\"}}}],\"carpet\":[{\"aaxis\":{\"endlinecolor\":\"#2a3f5f\",\"gridcolor\":\"white\",\"linecolor\":\"white\",\"minorgridcolor\":\"white\",\"startlinecolor\":\"#2a3f5f\"},\"baxis\":{\"endlinecolor\":\"#2a3f5f\",\"gridcolor\":\"white\",\"linecolor\":\"white\",\"minorgridcolor\":\"white\",\"startlinecolor\":\"#2a3f5f\"},\"type\":\"carpet\"}],\"table\":[{\"cells\":{\"fill\":{\"color\":\"#EBF0F8\"},\"line\":{\"color\":\"white\"}},\"header\":{\"fill\":{\"color\":\"#C8D4E3\"},\"line\":{\"color\":\"white\"}},\"type\":\"table\"}],\"barpolar\":[{\"marker\":{\"line\":{\"color\":\"#E5ECF6\",\"width\":0.5},\"pattern\":{\"fillmode\":\"overlay\",\"size\":10,\"solidity\":0.2}},\"type\":\"barpolar\"}],\"pie\":[{\"automargin\":true,\"type\":\"pie\"}]},\"layout\":{\"autotypenumbers\":\"strict\",\"colorway\":[\"#636efa\",\"#EF553B\",\"#00cc96\",\"#ab63fa\",\"#FFA15A\",\"#19d3f3\",\"#FF6692\",\"#B6E880\",\"#FF97FF\",\"#FECB52\"],\"font\":{\"color\":\"#2a3f5f\"},\"hovermode\":\"closest\",\"hoverlabel\":{\"align\":\"left\"},\"paper_bgcolor\":\"white\",\"plot_bgcolor\":\"#E5ECF6\",\"polar\":{\"bgcolor\":\"#E5ECF6\",\"angularaxis\":{\"gridcolor\":\"white\",\"linecolor\":\"white\",\"ticks\":\"\"},\"radialaxis\":{\"gridcolor\":\"white\",\"linecolor\":\"white\",\"ticks\":\"\"}},\"ternary\":{\"bgcolor\":\"#E5ECF6\",\"aaxis\":{\"gridcolor\":\"white\",\"linecolor\":\"white\",\"ticks\":\"\"},\"baxis\":{\"gridcolor\":\"white\",\"linecolor\":\"white\",\"ticks\":\"\"},\"caxis\":{\"gridcolor\":\"white\",\"linecolor\":\"white\",\"ticks\":\"\"}},\"coloraxis\":{\"colorbar\":{\"outlinewidth\":0,\"ticks\":\"\"}},\"colorscale\":{\"sequential\":[[0.0,\"#0d0887\"],[0.1111111111111111,\"#46039f\"],[0.2222222222222222,\"#7201a8\"],[0.3333333333333333,\"#9c179e\"],[0.4444444444444444,\"#bd3786\"],[0.5555555555555556,\"#d8576b\"],[0.6666666666666666,\"#ed7953\"],[0.7777777777777778,\"#fb9f3a\"],[0.8888888888888888,\"#fdca26\"],[1.0,\"#f0f921\"]],\"sequentialminus\":[[0.0,\"#0d0887\"],[0.1111111111111111,\"#46039f\"],[0.2222222222222222,\"#7201a8\"],[0.3333333333333333,\"#9c179e\"],[0.4444444444444444,\"#bd3786\"],[0.5555555555555556,\"#d8576b\"],[0.6666666666666666,\"#ed7953\"],[0.7777777777777778,\"#fb9f3a\"],[0.8888888888888888,\"#fdca26\"],[1.0,\"#f0f921\"]],\"diverging\":[[0,\"#8e0152\"],[0.1,\"#c51b7d\"],[0.2,\"#de77ae\"],[0.3,\"#f1b6da\"],[0.4,\"#fde0ef\"],[0.5,\"#f7f7f7\"],[0.6,\"#e6f5d0\"],[0.7,\"#b8e186\"],[0.8,\"#7fbc41\"],[0.9,\"#4d9221\"],[1,\"#276419\"]]},\"xaxis\":{\"gridcolor\":\"white\",\"linecolor\":\"white\",\"ticks\":\"\",\"title\":{\"standoff\":15},\"zerolinecolor\":\"white\",\"automargin\":true,\"zerolinewidth\":2},\"yaxis\":{\"gridcolor\":\"white\",\"linecolor\":\"white\",\"ticks\":\"\",\"title\":{\"standoff\":15},\"zerolinecolor\":\"white\",\"automargin\":true,\"zerolinewidth\":2},\"scene\":{\"xaxis\":{\"backgroundcolor\":\"#E5ECF6\",\"gridcolor\":\"white\",\"linecolor\":\"white\",\"showbackground\":true,\"ticks\":\"\",\"zerolinecolor\":\"white\",\"gridwidth\":2},\"yaxis\":{\"backgroundcolor\":\"#E5ECF6\",\"gridcolor\":\"white\",\"linecolor\":\"white\",\"showbackground\":true,\"ticks\":\"\",\"zerolinecolor\":\"white\",\"gridwidth\":2},\"zaxis\":{\"backgroundcolor\":\"#E5ECF6\",\"gridcolor\":\"white\",\"linecolor\":\"white\",\"showbackground\":true,\"ticks\":\"\",\"zerolinecolor\":\"white\",\"gridwidth\":2}},\"shapedefaults\":{\"line\":{\"color\":\"#2a3f5f\"}},\"annotationdefaults\":{\"arrowcolor\":\"#2a3f5f\",\"arrowhead\":0,\"arrowwidth\":1},\"geo\":{\"bgcolor\":\"white\",\"landcolor\":\"#E5ECF6\",\"subunitcolor\":\"white\",\"showland\":true,\"showlakes\":true,\"lakecolor\":\"white\"},\"title\":{\"x\":0.05},\"mapbox\":{\"style\":\"light\"}}},\"xaxis\":{\"anchor\":\"y\",\"domain\":[0.0,1.0],\"title\":{\"text\":\"FT%\"}},\"yaxis\":{\"anchor\":\"x\",\"domain\":[0.0,1.0],\"title\":{\"text\":\"3P%\"}},\"legend\":{\"tracegroupgap\":0},\"margin\":{\"t\":60}},                        {\"responsive\": true}                    ).then(function(){\n",
       "                            \n",
       "var gd = document.getElementById('0ae8513a-9890-4782-b813-033568642b3a');\n",
       "var x = new MutationObserver(function (mutations, observer) {{\n",
       "        var display = window.getComputedStyle(gd).display;\n",
       "        if (!display || display === 'none') {{\n",
       "            console.log([gd, 'removed!']);\n",
       "            Plotly.purge(gd);\n",
       "            observer.disconnect();\n",
       "        }}\n",
       "}});\n",
       "\n",
       "// Listen for the removal of the full notebook cells\n",
       "var notebookContainer = gd.closest('#notebook-container');\n",
       "if (notebookContainer) {{\n",
       "    x.observe(notebookContainer, {childList: true});\n",
       "}}\n",
       "\n",
       "// Listen for the clearing of the current output cell\n",
       "var outputEl = gd.closest('.output');\n",
       "if (outputEl) {{\n",
       "    x.observe(outputEl, {childList: true});\n",
       "}}\n",
       "\n",
       "                        })                };                });            </script>        </div>"
      ]
     },
     "metadata": {},
     "output_type": "display_data"
    }
   ],
   "source": [
    "df = convert_to_numeric(df, \"FT%\")\n",
    "df = convert_to_numeric(df, \"3P%\")\n",
    "fig = px.scatter(df, x = 'FT%', y = '3P%')\n",
    "fig.show()\n"
   ]
  },
  {
   "cell_type": "markdown",
   "id": "f11767da",
   "metadata": {
    "papermill": {
     "duration": 0.014336,
     "end_time": "2022-07-21T02:58:05.553640",
     "exception": false,
     "start_time": "2022-07-21T02:58:05.539304",
     "status": "completed"
    },
    "tags": []
   },
   "source": [
    "Use K-Means to Find Clusters of players with Similar Playing Styles"
   ]
  },
  {
   "cell_type": "code",
   "execution_count": 24,
   "id": "85686fc4",
   "metadata": {
    "execution": {
     "iopub.execute_input": "2022-07-21T02:58:05.586893Z",
     "iopub.status.busy": "2022-07-21T02:58:05.586285Z",
     "iopub.status.idle": "2022-07-21T02:58:05.594635Z",
     "shell.execute_reply": "2022-07-21T02:58:05.593940Z"
    },
    "papermill": {
     "duration": 0.026712,
     "end_time": "2022-07-21T02:58:05.596778",
     "exception": false,
     "start_time": "2022-07-21T02:58:05.570066",
     "status": "completed"
    },
    "tags": []
   },
   "outputs": [],
   "source": [
    "#player classification\n",
    "\n",
    "#ppg, rbpg, stl, blk, ast/tov ratio, fg%\n",
    "# df['AST_TOV'] = df['AST']/( df['TOV'] + 0.0001)\n",
    "\n",
    "df = df[df['MP'] >= 24]\n",
    "q1_dd = df[['position', 'Player', 'AST', 'FG%', 'TRB', 'PTS', 'STL', 'BLK']].dropna()"
   ]
  },
  {
   "cell_type": "code",
   "execution_count": 25,
   "id": "385eed3e",
   "metadata": {
    "execution": {
     "iopub.execute_input": "2022-07-21T02:58:05.628614Z",
     "iopub.status.busy": "2022-07-21T02:58:05.627997Z",
     "iopub.status.idle": "2022-07-21T02:58:05.653699Z",
     "shell.execute_reply": "2022-07-21T02:58:05.652571Z"
    },
    "papermill": {
     "duration": 0.044229,
     "end_time": "2022-07-21T02:58:05.656064",
     "exception": false,
     "start_time": "2022-07-21T02:58:05.611835",
     "status": "completed"
    },
    "tags": []
   },
   "outputs": [
    {
     "data": {
      "text/html": [
       "<div>\n",
       "<style scoped>\n",
       "    .dataframe tbody tr th:only-of-type {\n",
       "        vertical-align: middle;\n",
       "    }\n",
       "\n",
       "    .dataframe tbody tr th {\n",
       "        vertical-align: top;\n",
       "    }\n",
       "\n",
       "    .dataframe thead th {\n",
       "        text-align: right;\n",
       "    }\n",
       "</style>\n",
       "<table border=\"1\" class=\"dataframe\">\n",
       "  <thead>\n",
       "    <tr style=\"text-align: right;\">\n",
       "      <th></th>\n",
       "      <th>position</th>\n",
       "      <th>AST</th>\n",
       "      <th>FG%</th>\n",
       "      <th>TRB</th>\n",
       "      <th>PTS</th>\n",
       "      <th>STL</th>\n",
       "      <th>BLK</th>\n",
       "    </tr>\n",
       "  </thead>\n",
       "  <tbody>\n",
       "    <tr>\n",
       "      <th>0</th>\n",
       "      <td>C</td>\n",
       "      <td>2.18</td>\n",
       "      <td>0.54</td>\n",
       "      <td>8.60</td>\n",
       "      <td>14.31</td>\n",
       "      <td>0.77</td>\n",
       "      <td>1.20</td>\n",
       "    </tr>\n",
       "    <tr>\n",
       "      <th>1</th>\n",
       "      <td>PF</td>\n",
       "      <td>2.81</td>\n",
       "      <td>0.46</td>\n",
       "      <td>5.83</td>\n",
       "      <td>13.61</td>\n",
       "      <td>0.85</td>\n",
       "      <td>0.62</td>\n",
       "    </tr>\n",
       "    <tr>\n",
       "      <th>2</th>\n",
       "      <td>PG</td>\n",
       "      <td>5.96</td>\n",
       "      <td>0.45</td>\n",
       "      <td>4.36</td>\n",
       "      <td>17.29</td>\n",
       "      <td>1.13</td>\n",
       "      <td>0.35</td>\n",
       "    </tr>\n",
       "    <tr>\n",
       "      <th>3</th>\n",
       "      <td>SF</td>\n",
       "      <td>2.62</td>\n",
       "      <td>0.45</td>\n",
       "      <td>4.90</td>\n",
       "      <td>14.74</td>\n",
       "      <td>0.92</td>\n",
       "      <td>0.43</td>\n",
       "    </tr>\n",
       "    <tr>\n",
       "      <th>4</th>\n",
       "      <td>SG</td>\n",
       "      <td>3.35</td>\n",
       "      <td>0.43</td>\n",
       "      <td>3.85</td>\n",
       "      <td>15.80</td>\n",
       "      <td>0.98</td>\n",
       "      <td>0.40</td>\n",
       "    </tr>\n",
       "  </tbody>\n",
       "</table>\n",
       "</div>"
      ],
      "text/plain": [
       "  position   AST   FG%   TRB    PTS   STL   BLK\n",
       "0        C  2.18  0.54  8.60  14.31  0.77  1.20\n",
       "1       PF  2.81  0.46  5.83  13.61  0.85  0.62\n",
       "2       PG  5.96  0.45  4.36  17.29  1.13  0.35\n",
       "3       SF  2.62  0.45  4.90  14.74  0.92  0.43\n",
       "4       SG  3.35  0.43  3.85  15.80  0.98  0.40"
      ]
     },
     "execution_count": 25,
     "metadata": {},
     "output_type": "execute_result"
    }
   ],
   "source": [
    "sub = q1_dd.groupby('position').mean().round(2).reset_index()\n",
    "sub.head()"
   ]
  },
  {
   "cell_type": "code",
   "execution_count": 26,
   "id": "c447a9d1",
   "metadata": {
    "execution": {
     "iopub.execute_input": "2022-07-21T02:58:05.688113Z",
     "iopub.status.busy": "2022-07-21T02:58:05.687693Z",
     "iopub.status.idle": "2022-07-21T02:58:05.916023Z",
     "shell.execute_reply": "2022-07-21T02:58:05.915101Z"
    },
    "papermill": {
     "duration": 0.247138,
     "end_time": "2022-07-21T02:58:05.918302",
     "exception": false,
     "start_time": "2022-07-21T02:58:05.671164",
     "status": "completed"
    },
    "tags": []
   },
   "outputs": [
    {
     "data": {
      "text/html": [
       "<div>                            <div id=\"406b33f7-eaca-40a7-b2da-524c8382fa07\" class=\"plotly-graph-div\" style=\"height:525px; width:100%;\"></div>            <script type=\"text/javascript\">                require([\"plotly\"], function(Plotly) {                    window.PLOTLYENV=window.PLOTLYENV || {};                                    if (document.getElementById(\"406b33f7-eaca-40a7-b2da-524c8382fa07\")) {                    Plotly.newPlot(                        \"406b33f7-eaca-40a7-b2da-524c8382fa07\",                        [{\"name\":\"PTS\",\"x\":[\"C\",\"PF\",\"PG\",\"SF\",\"SG\"],\"y\":[14.31,13.61,17.29,14.74,15.8],\"type\":\"bar\",\"xaxis\":\"x\",\"yaxis\":\"y\"},{\"name\":\"BLK\",\"x\":[\"C\",\"PF\",\"PG\",\"SF\",\"SG\"],\"y\":[1.2,0.62,0.35,0.43,0.4],\"type\":\"bar\",\"xaxis\":\"x6\",\"yaxis\":\"y6\"},{\"name\":\"STL\",\"x\":[\"C\",\"PF\",\"PG\",\"SF\",\"SG\"],\"y\":[0.77,0.85,1.13,0.92,0.98],\"type\":\"bar\",\"xaxis\":\"x5\",\"yaxis\":\"y5\"},{\"name\":\"AST\",\"x\":[\"C\",\"PF\",\"PG\",\"SF\",\"SG\"],\"y\":[2.18,2.81,5.96,2.62,3.35],\"type\":\"bar\",\"xaxis\":\"x2\",\"yaxis\":\"y2\"},{\"name\":\"REBS\",\"x\":[\"C\",\"PF\",\"PG\",\"SF\",\"SG\"],\"y\":[8.6,5.83,4.36,4.9,3.85],\"type\":\"bar\",\"xaxis\":\"x3\",\"yaxis\":\"y3\"},{\"name\":\"FG%\",\"x\":[\"C\",\"PF\",\"PG\",\"SF\",\"SG\"],\"y\":[0.54,0.46,0.45,0.45,0.43],\"type\":\"bar\",\"xaxis\":\"x4\",\"yaxis\":\"y4\"}],                        {\"template\":{\"data\":{\"histogram2dcontour\":[{\"type\":\"histogram2dcontour\",\"colorbar\":{\"outlinewidth\":0,\"ticks\":\"\"},\"colorscale\":[[0.0,\"#0d0887\"],[0.1111111111111111,\"#46039f\"],[0.2222222222222222,\"#7201a8\"],[0.3333333333333333,\"#9c179e\"],[0.4444444444444444,\"#bd3786\"],[0.5555555555555556,\"#d8576b\"],[0.6666666666666666,\"#ed7953\"],[0.7777777777777778,\"#fb9f3a\"],[0.8888888888888888,\"#fdca26\"],[1.0,\"#f0f921\"]]}],\"choropleth\":[{\"type\":\"choropleth\",\"colorbar\":{\"outlinewidth\":0,\"ticks\":\"\"}}],\"histogram2d\":[{\"type\":\"histogram2d\",\"colorbar\":{\"outlinewidth\":0,\"ticks\":\"\"},\"colorscale\":[[0.0,\"#0d0887\"],[0.1111111111111111,\"#46039f\"],[0.2222222222222222,\"#7201a8\"],[0.3333333333333333,\"#9c179e\"],[0.4444444444444444,\"#bd3786\"],[0.5555555555555556,\"#d8576b\"],[0.6666666666666666,\"#ed7953\"],[0.7777777777777778,\"#fb9f3a\"],[0.8888888888888888,\"#fdca26\"],[1.0,\"#f0f921\"]]}],\"heatmap\":[{\"type\":\"heatmap\",\"colorbar\":{\"outlinewidth\":0,\"ticks\":\"\"},\"colorscale\":[[0.0,\"#0d0887\"],[0.1111111111111111,\"#46039f\"],[0.2222222222222222,\"#7201a8\"],[0.3333333333333333,\"#9c179e\"],[0.4444444444444444,\"#bd3786\"],[0.5555555555555556,\"#d8576b\"],[0.6666666666666666,\"#ed7953\"],[0.7777777777777778,\"#fb9f3a\"],[0.8888888888888888,\"#fdca26\"],[1.0,\"#f0f921\"]]}],\"heatmapgl\":[{\"type\":\"heatmapgl\",\"colorbar\":{\"outlinewidth\":0,\"ticks\":\"\"},\"colorscale\":[[0.0,\"#0d0887\"],[0.1111111111111111,\"#46039f\"],[0.2222222222222222,\"#7201a8\"],[0.3333333333333333,\"#9c179e\"],[0.4444444444444444,\"#bd3786\"],[0.5555555555555556,\"#d8576b\"],[0.6666666666666666,\"#ed7953\"],[0.7777777777777778,\"#fb9f3a\"],[0.8888888888888888,\"#fdca26\"],[1.0,\"#f0f921\"]]}],\"contourcarpet\":[{\"type\":\"contourcarpet\",\"colorbar\":{\"outlinewidth\":0,\"ticks\":\"\"}}],\"contour\":[{\"type\":\"contour\",\"colorbar\":{\"outlinewidth\":0,\"ticks\":\"\"},\"colorscale\":[[0.0,\"#0d0887\"],[0.1111111111111111,\"#46039f\"],[0.2222222222222222,\"#7201a8\"],[0.3333333333333333,\"#9c179e\"],[0.4444444444444444,\"#bd3786\"],[0.5555555555555556,\"#d8576b\"],[0.6666666666666666,\"#ed7953\"],[0.7777777777777778,\"#fb9f3a\"],[0.8888888888888888,\"#fdca26\"],[1.0,\"#f0f921\"]]}],\"surface\":[{\"type\":\"surface\",\"colorbar\":{\"outlinewidth\":0,\"ticks\":\"\"},\"colorscale\":[[0.0,\"#0d0887\"],[0.1111111111111111,\"#46039f\"],[0.2222222222222222,\"#7201a8\"],[0.3333333333333333,\"#9c179e\"],[0.4444444444444444,\"#bd3786\"],[0.5555555555555556,\"#d8576b\"],[0.6666666666666666,\"#ed7953\"],[0.7777777777777778,\"#fb9f3a\"],[0.8888888888888888,\"#fdca26\"],[1.0,\"#f0f921\"]]}],\"mesh3d\":[{\"type\":\"mesh3d\",\"colorbar\":{\"outlinewidth\":0,\"ticks\":\"\"}}],\"scatter\":[{\"fillpattern\":{\"fillmode\":\"overlay\",\"size\":10,\"solidity\":0.2},\"type\":\"scatter\"}],\"parcoords\":[{\"type\":\"parcoords\",\"line\":{\"colorbar\":{\"outlinewidth\":0,\"ticks\":\"\"}}}],\"scatterpolargl\":[{\"type\":\"scatterpolargl\",\"marker\":{\"colorbar\":{\"outlinewidth\":0,\"ticks\":\"\"}}}],\"bar\":[{\"error_x\":{\"color\":\"#2a3f5f\"},\"error_y\":{\"color\":\"#2a3f5f\"},\"marker\":{\"line\":{\"color\":\"#E5ECF6\",\"width\":0.5},\"pattern\":{\"fillmode\":\"overlay\",\"size\":10,\"solidity\":0.2}},\"type\":\"bar\"}],\"scattergeo\":[{\"type\":\"scattergeo\",\"marker\":{\"colorbar\":{\"outlinewidth\":0,\"ticks\":\"\"}}}],\"scatterpolar\":[{\"type\":\"scatterpolar\",\"marker\":{\"colorbar\":{\"outlinewidth\":0,\"ticks\":\"\"}}}],\"histogram\":[{\"marker\":{\"pattern\":{\"fillmode\":\"overlay\",\"size\":10,\"solidity\":0.2}},\"type\":\"histogram\"}],\"scattergl\":[{\"type\":\"scattergl\",\"marker\":{\"colorbar\":{\"outlinewidth\":0,\"ticks\":\"\"}}}],\"scatter3d\":[{\"type\":\"scatter3d\",\"line\":{\"colorbar\":{\"outlinewidth\":0,\"ticks\":\"\"}},\"marker\":{\"colorbar\":{\"outlinewidth\":0,\"ticks\":\"\"}}}],\"scattermapbox\":[{\"type\":\"scattermapbox\",\"marker\":{\"colorbar\":{\"outlinewidth\":0,\"ticks\":\"\"}}}],\"scatterternary\":[{\"type\":\"scatterternary\",\"marker\":{\"colorbar\":{\"outlinewidth\":0,\"ticks\":\"\"}}}],\"scattercarpet\":[{\"type\":\"scattercarpet\",\"marker\":{\"colorbar\":{\"outlinewidth\":0,\"ticks\":\"\"}}}],\"carpet\":[{\"aaxis\":{\"endlinecolor\":\"#2a3f5f\",\"gridcolor\":\"white\",\"linecolor\":\"white\",\"minorgridcolor\":\"white\",\"startlinecolor\":\"#2a3f5f\"},\"baxis\":{\"endlinecolor\":\"#2a3f5f\",\"gridcolor\":\"white\",\"linecolor\":\"white\",\"minorgridcolor\":\"white\",\"startlinecolor\":\"#2a3f5f\"},\"type\":\"carpet\"}],\"table\":[{\"cells\":{\"fill\":{\"color\":\"#EBF0F8\"},\"line\":{\"color\":\"white\"}},\"header\":{\"fill\":{\"color\":\"#C8D4E3\"},\"line\":{\"color\":\"white\"}},\"type\":\"table\"}],\"barpolar\":[{\"marker\":{\"line\":{\"color\":\"#E5ECF6\",\"width\":0.5},\"pattern\":{\"fillmode\":\"overlay\",\"size\":10,\"solidity\":0.2}},\"type\":\"barpolar\"}],\"pie\":[{\"automargin\":true,\"type\":\"pie\"}]},\"layout\":{\"autotypenumbers\":\"strict\",\"colorway\":[\"#636efa\",\"#EF553B\",\"#00cc96\",\"#ab63fa\",\"#FFA15A\",\"#19d3f3\",\"#FF6692\",\"#B6E880\",\"#FF97FF\",\"#FECB52\"],\"font\":{\"color\":\"#2a3f5f\"},\"hovermode\":\"closest\",\"hoverlabel\":{\"align\":\"left\"},\"paper_bgcolor\":\"white\",\"plot_bgcolor\":\"#E5ECF6\",\"polar\":{\"bgcolor\":\"#E5ECF6\",\"angularaxis\":{\"gridcolor\":\"white\",\"linecolor\":\"white\",\"ticks\":\"\"},\"radialaxis\":{\"gridcolor\":\"white\",\"linecolor\":\"white\",\"ticks\":\"\"}},\"ternary\":{\"bgcolor\":\"#E5ECF6\",\"aaxis\":{\"gridcolor\":\"white\",\"linecolor\":\"white\",\"ticks\":\"\"},\"baxis\":{\"gridcolor\":\"white\",\"linecolor\":\"white\",\"ticks\":\"\"},\"caxis\":{\"gridcolor\":\"white\",\"linecolor\":\"white\",\"ticks\":\"\"}},\"coloraxis\":{\"colorbar\":{\"outlinewidth\":0,\"ticks\":\"\"}},\"colorscale\":{\"sequential\":[[0.0,\"#0d0887\"],[0.1111111111111111,\"#46039f\"],[0.2222222222222222,\"#7201a8\"],[0.3333333333333333,\"#9c179e\"],[0.4444444444444444,\"#bd3786\"],[0.5555555555555556,\"#d8576b\"],[0.6666666666666666,\"#ed7953\"],[0.7777777777777778,\"#fb9f3a\"],[0.8888888888888888,\"#fdca26\"],[1.0,\"#f0f921\"]],\"sequentialminus\":[[0.0,\"#0d0887\"],[0.1111111111111111,\"#46039f\"],[0.2222222222222222,\"#7201a8\"],[0.3333333333333333,\"#9c179e\"],[0.4444444444444444,\"#bd3786\"],[0.5555555555555556,\"#d8576b\"],[0.6666666666666666,\"#ed7953\"],[0.7777777777777778,\"#fb9f3a\"],[0.8888888888888888,\"#fdca26\"],[1.0,\"#f0f921\"]],\"diverging\":[[0,\"#8e0152\"],[0.1,\"#c51b7d\"],[0.2,\"#de77ae\"],[0.3,\"#f1b6da\"],[0.4,\"#fde0ef\"],[0.5,\"#f7f7f7\"],[0.6,\"#e6f5d0\"],[0.7,\"#b8e186\"],[0.8,\"#7fbc41\"],[0.9,\"#4d9221\"],[1,\"#276419\"]]},\"xaxis\":{\"gridcolor\":\"white\",\"linecolor\":\"white\",\"ticks\":\"\",\"title\":{\"standoff\":15},\"zerolinecolor\":\"white\",\"automargin\":true,\"zerolinewidth\":2},\"yaxis\":{\"gridcolor\":\"white\",\"linecolor\":\"white\",\"ticks\":\"\",\"title\":{\"standoff\":15},\"zerolinecolor\":\"white\",\"automargin\":true,\"zerolinewidth\":2},\"scene\":{\"xaxis\":{\"backgroundcolor\":\"#E5ECF6\",\"gridcolor\":\"white\",\"linecolor\":\"white\",\"showbackground\":true,\"ticks\":\"\",\"zerolinecolor\":\"white\",\"gridwidth\":2},\"yaxis\":{\"backgroundcolor\":\"#E5ECF6\",\"gridcolor\":\"white\",\"linecolor\":\"white\",\"showbackground\":true,\"ticks\":\"\",\"zerolinecolor\":\"white\",\"gridwidth\":2},\"zaxis\":{\"backgroundcolor\":\"#E5ECF6\",\"gridcolor\":\"white\",\"linecolor\":\"white\",\"showbackground\":true,\"ticks\":\"\",\"zerolinecolor\":\"white\",\"gridwidth\":2}},\"shapedefaults\":{\"line\":{\"color\":\"#2a3f5f\"}},\"annotationdefaults\":{\"arrowcolor\":\"#2a3f5f\",\"arrowhead\":0,\"arrowwidth\":1},\"geo\":{\"bgcolor\":\"white\",\"landcolor\":\"#E5ECF6\",\"subunitcolor\":\"white\",\"showland\":true,\"showlakes\":true,\"lakecolor\":\"white\"},\"title\":{\"x\":0.05},\"mapbox\":{\"style\":\"light\"}}},\"xaxis\":{\"anchor\":\"y\",\"domain\":[0.0,0.45]},\"yaxis\":{\"anchor\":\"x\",\"domain\":[0.7333333333333333,1.0]},\"xaxis2\":{\"anchor\":\"y2\",\"domain\":[0.55,1.0]},\"yaxis2\":{\"anchor\":\"x2\",\"domain\":[0.7333333333333333,1.0]},\"xaxis3\":{\"anchor\":\"y3\",\"domain\":[0.0,0.45]},\"yaxis3\":{\"anchor\":\"x3\",\"domain\":[0.36666666666666664,0.6333333333333333]},\"xaxis4\":{\"anchor\":\"y4\",\"domain\":[0.55,1.0]},\"yaxis4\":{\"anchor\":\"x4\",\"domain\":[0.36666666666666664,0.6333333333333333]},\"xaxis5\":{\"anchor\":\"y5\",\"domain\":[0.0,0.45]},\"yaxis5\":{\"anchor\":\"x5\",\"domain\":[0.0,0.26666666666666666]},\"xaxis6\":{\"anchor\":\"y6\",\"domain\":[0.55,1.0]},\"yaxis6\":{\"anchor\":\"x6\",\"domain\":[0.0,0.26666666666666666]},\"legend\":{\"title\":{\"text\":\"Per Game\"}}},                        {\"responsive\": true}                    ).then(function(){\n",
       "                            \n",
       "var gd = document.getElementById('406b33f7-eaca-40a7-b2da-524c8382fa07');\n",
       "var x = new MutationObserver(function (mutations, observer) {{\n",
       "        var display = window.getComputedStyle(gd).display;\n",
       "        if (!display || display === 'none') {{\n",
       "            console.log([gd, 'removed!']);\n",
       "            Plotly.purge(gd);\n",
       "            observer.disconnect();\n",
       "        }}\n",
       "}});\n",
       "\n",
       "// Listen for the removal of the full notebook cells\n",
       "var notebookContainer = gd.closest('#notebook-container');\n",
       "if (notebookContainer) {{\n",
       "    x.observe(notebookContainer, {childList: true});\n",
       "}}\n",
       "\n",
       "// Listen for the clearing of the current output cell\n",
       "var outputEl = gd.closest('.output');\n",
       "if (outputEl) {{\n",
       "    x.observe(outputEl, {childList: true});\n",
       "}}\n",
       "\n",
       "                        })                };                });            </script>        </div>"
      ]
     },
     "metadata": {},
     "output_type": "display_data"
    }
   ],
   "source": [
    "from plotly.subplots import make_subplots\n",
    "import plotly.graph_objects as go\n",
    "fig = make_subplots(rows=3, cols=2)\n",
    "fig.add_trace(\n",
    "    go.Bar(x=sub['position'], y= sub['PTS'], name = 'PTS'),\n",
    "    row=1, col=1\n",
    ")\n",
    "\n",
    "fig.add_trace(\n",
    "    go.Bar(x=sub['position'], y= sub['BLK'], name = 'BLK'),\n",
    "    row=3, col=2\n",
    ")\n",
    "\n",
    "fig.add_trace(\n",
    "    go.Bar(x=sub['position'], y=sub['STL'], name = 'STL'),\n",
    "    row=3, col=1\n",
    ")\n",
    "\n",
    "fig.add_trace(\n",
    "    go.Bar(x=sub['position'], y=sub['AST'], name = 'AST'),\n",
    "    row=1, col=2\n",
    ")\n",
    "\n",
    "fig.add_trace(\n",
    "    go.Bar(x= sub['position'], y= sub['TRB'], name = 'REBS'),\n",
    "    row=2, col=1\n",
    ")\n",
    "\n",
    "fig.add_trace(\n",
    "    go.Bar(x=sub['position'], y=sub['FG%'], name = 'FG%'),\n",
    "    row=2, col=2\n",
    ")\n",
    "\n",
    "fig.update_layout(legend_title_text = \"Per Game\")\n",
    "\n",
    "fig.show()"
   ]
  },
  {
   "cell_type": "code",
   "execution_count": 27,
   "id": "685e60d1",
   "metadata": {
    "execution": {
     "iopub.execute_input": "2022-07-21T02:58:05.951373Z",
     "iopub.status.busy": "2022-07-21T02:58:05.950955Z",
     "iopub.status.idle": "2022-07-21T02:58:05.958257Z",
     "shell.execute_reply": "2022-07-21T02:58:05.957316Z"
    },
    "papermill": {
     "duration": 0.026272,
     "end_time": "2022-07-21T02:58:05.960257",
     "exception": false,
     "start_time": "2022-07-21T02:58:05.933985",
     "status": "completed"
    },
    "tags": []
   },
   "outputs": [],
   "source": [
    "km = q1_dd[['AST', 'FG%', 'TRB', 'PTS', 'STL', 'BLK']].dropna()"
   ]
  },
  {
   "cell_type": "code",
   "execution_count": 28,
   "id": "aa50b2ec",
   "metadata": {
    "execution": {
     "iopub.execute_input": "2022-07-21T02:58:05.996452Z",
     "iopub.status.busy": "2022-07-21T02:58:05.995874Z",
     "iopub.status.idle": "2022-07-21T02:58:07.097658Z",
     "shell.execute_reply": "2022-07-21T02:58:07.096606Z"
    },
    "papermill": {
     "duration": 1.123161,
     "end_time": "2022-07-21T02:58:07.099903",
     "exception": false,
     "start_time": "2022-07-21T02:58:05.976742",
     "status": "completed"
    },
    "tags": []
   },
   "outputs": [
    {
     "data": {
      "text/plain": [
       "array([[ 2.61144578,  0.46239759,  4.96024096, 11.99457831,  0.86566265,\n",
       "         0.59578313],\n",
       "       [ 5.13026316,  0.47710526,  6.35131579, 22.18947368,  1.09078947,\n",
       "         0.57631579]])"
      ]
     },
     "execution_count": 28,
     "metadata": {},
     "output_type": "execute_result"
    }
   ],
   "source": [
    "from sklearn.cluster import KMeans\n",
    "Kmean = KMeans(n_clusters=2)\n",
    "Kmean.fit(km)\n",
    "\n",
    "Kmean.cluster_centers_"
   ]
  },
  {
   "cell_type": "markdown",
   "id": "dc4aa89d",
   "metadata": {
    "papermill": {
     "duration": 0.015519,
     "end_time": "2022-07-21T02:58:07.133690",
     "exception": false,
     "start_time": "2022-07-21T02:58:07.118171",
     "status": "completed"
    },
    "tags": []
   },
   "source": [
    "The above output is the 2-centroid 2-means method on the above 6 quantitative stats. There is little difference in blocks, steals and FG% between the centroid means. Points and assists carry the most difference between centroid means. This k-means output is a simplistic way of demonstrating that players who average more points and assists are meaningfully separated from those that do not. The variability in this categorical statistics necessitates the separation into these distinct centroids. "
   ]
  }
 ],
 "metadata": {
  "kernelspec": {
   "display_name": "Python 3",
   "language": "python",
   "name": "python3"
  },
  "language_info": {
   "codemirror_mode": {
    "name": "ipython",
    "version": 3
   },
   "file_extension": ".py",
   "mimetype": "text/x-python",
   "name": "python",
   "nbconvert_exporter": "python",
   "pygments_lexer": "ipython3",
   "version": "3.7.12"
  },
  "papermill": {
   "default_parameters": {},
   "duration": 19.489993,
   "end_time": "2022-07-21T02:58:08.075148",
   "environment_variables": {},
   "exception": null,
   "input_path": "__notebook__.ipynb",
   "output_path": "__notebook__.ipynb",
   "parameters": {},
   "start_time": "2022-07-21T02:57:48.585155",
   "version": "2.3.4"
  }
 },
 "nbformat": 4,
 "nbformat_minor": 5
}
